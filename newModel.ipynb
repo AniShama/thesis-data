{
 "cells": [
  {
   "cell_type": "code",
   "execution_count": 1,
   "id": "6bc0c7d3",
   "metadata": {},
   "outputs": [],
   "source": [
    "#import packages\n",
    "import warnings\n",
    "warnings.filterwarnings(\"ignore\")\n",
    "\n",
    "import pandas as pd\n",
    "import numpy as np\n",
    "%matplotlib inline\n",
    "import matplotlib.pyplot as plt\n",
    "import seaborn as sns"
   ]
  },
  {
   "cell_type": "code",
   "execution_count": 2,
   "id": "be299c45",
   "metadata": {},
   "outputs": [],
   "source": [
    "def parse_row(row):\n",
    "    row = row.split(\".\")[0]\n",
    "    return row\n",
    "\n",
    "def to_hyperthyroid(row):\n",
    "    if row != \"negative\":\n",
    "        row = \"hyperthyroid\"\n",
    "    return row\n",
    "\n",
    "def to_hypothyroid(row):\n",
    "    if row != \"negative\":\n",
    "        row = \"hypothyroid\"\n",
    "    return row\n",
    "\n"
   ]
  },
  {
   "cell_type": "code",
   "execution_count": 3,
   "id": "96c03941",
   "metadata": {},
   "outputs": [],
   "source": [
    "columns = ['age', 'sex', 'on thyroxine', 'query on thyroxine',\n",
    "       'on antithyroid medication', 'sick', 'pregnant', 'thyroid surgery',\n",
    "       'I131 treatment', 'query hypothyroid', 'query hyperthyroid', 'lithium',\n",
    "       'goitre', 'tumor', 'hypopituitary', 'psych', 'TSH measured', 'TSH',\n",
    "       'T3 measured', 'T3', 'TT4 measured', 'TT4', 'T4U measured', 'T4U',\n",
    "       'FTI measured', 'FTI', 'TBG measured', 'TBG', 'referral source',\n",
    "       'category']"
   ]
  },
  {
   "cell_type": "code",
   "execution_count": 4,
   "id": "faa360e0",
   "metadata": {},
   "outputs": [],
   "source": [
    "hyper_data = pd.read_csv(\"allhyper.csv\", names=columns)\n",
    "hypo_data = pd.read_csv(\"allhypo.csv\", names=columns)\n",
    "sick_data = pd.read_csv(\"sick.csv\", names=columns)"
   ]
  },
  {
   "cell_type": "code",
   "execution_count": 5,
   "id": "c6127dc0",
   "metadata": {},
   "outputs": [
    {
     "data": {
      "text/plain": [
       "Index(['age', 'sex', 'on thyroxine', 'query on thyroxine',\n",
       "       'on antithyroid medication', 'sick', 'pregnant', 'thyroid surgery',\n",
       "       'I131 treatment', 'query hypothyroid', 'query hyperthyroid', 'lithium',\n",
       "       'goitre', 'tumor', 'hypopituitary', 'psych', 'TSH measured', 'TSH',\n",
       "       'T3 measured', 'T3', 'TT4 measured', 'TT4', 'T4U measured', 'T4U',\n",
       "       'FTI measured', 'FTI', 'TBG measured', 'TBG', 'referral source',\n",
       "       'category'],\n",
       "      dtype='object')"
      ]
     },
     "execution_count": 5,
     "metadata": {},
     "output_type": "execute_result"
    }
   ],
   "source": [
    "hyper_data.columns"
   ]
  },
  {
   "cell_type": "code",
   "execution_count": 6,
   "id": "354e15df",
   "metadata": {},
   "outputs": [],
   "source": [
    "hyper_data['category'] = hyper_data['category'] \\\n",
    "                            .apply(parse_row) \\\n",
    "                            .apply(to_hyperthyroid)\n",
    "\n",
    "hypo_data['category'] = hypo_data['category'] \\\n",
    "                            .apply(parse_row) \\\n",
    "                            .apply(to_hypothyroid)\n",
    "\n",
    "sick_data['category'] = sick_data['category'] \\\n",
    "                            .apply(parse_row)"
   ]
  },
  {
   "cell_type": "code",
   "execution_count": 7,
   "id": "18f6a772",
   "metadata": {},
   "outputs": [],
   "source": [
    "thyroid_frames = [hyper_data, hypo_data, sick_data]\n",
    "thyroid_data = pd.concat(thyroid_frames) \\\n",
    "                 .drop_duplicates() \\\n",
    "                 .drop(['TBG', 'TBG measured'], axis=1)"
   ]
  },
  {
   "cell_type": "code",
   "execution_count": 8,
   "id": "24d4908d",
   "metadata": {},
   "outputs": [],
   "source": [
    "classes = thyroid_data['category'].unique()"
   ]
  },
  {
   "cell_type": "code",
   "execution_count": 9,
   "id": "0fa63995",
   "metadata": {},
   "outputs": [
    {
     "data": {
      "text/plain": [
       "(3221, 28)"
      ]
     },
     "execution_count": 9,
     "metadata": {},
     "output_type": "execute_result"
    }
   ],
   "source": [
    "thyroid_data.shape"
   ]
  },
  {
   "cell_type": "code",
   "execution_count": 10,
   "id": "f63fd37b",
   "metadata": {},
   "outputs": [
    {
     "data": {
      "text/plain": [
       "age                          0\n",
       "sex                          0\n",
       "on thyroxine                 0\n",
       "query on thyroxine           0\n",
       "on antithyroid medication    0\n",
       "sick                         0\n",
       "pregnant                     0\n",
       "thyroid surgery              0\n",
       "I131 treatment               0\n",
       "query hypothyroid            0\n",
       "query hyperthyroid           0\n",
       "lithium                      0\n",
       "goitre                       0\n",
       "tumor                        0\n",
       "hypopituitary                0\n",
       "psych                        0\n",
       "TSH measured                 0\n",
       "TSH                          0\n",
       "T3 measured                  0\n",
       "T3                           0\n",
       "TT4 measured                 0\n",
       "TT4                          0\n",
       "T4U measured                 0\n",
       "T4U                          0\n",
       "FTI measured                 0\n",
       "FTI                          0\n",
       "referral source              0\n",
       "category                     0\n",
       "dtype: int64"
      ]
     },
     "execution_count": 10,
     "metadata": {},
     "output_type": "execute_result"
    }
   ],
   "source": [
    "thyroid_data.isnull().sum()"
   ]
  },
  {
   "cell_type": "code",
   "execution_count": 11,
   "id": "c6db0252",
   "metadata": {},
   "outputs": [
    {
     "data": {
      "text/plain": [
       "<AxesSubplot:>"
      ]
     },
     "execution_count": 11,
     "metadata": {},
     "output_type": "execute_result"
    },
    {
     "data": {
      "image/png": "[encoded data removed]",
      "text/plain": [
       "<Figure size 432x288 with 2 Axes>"
      ]
     },
     "metadata": {
      "needs_background": "light"
     },
     "output_type": "display_data"
    }
   ],
   "source": [
    "sns.heatmap(thyroid_data.isnull())"
   ]
  },
  {
   "cell_type": "code",
   "execution_count": 12,
   "id": "d0ab1441",
   "metadata": {},
   "outputs": [
    {
     "name": "stdout",
     "output_type": "stream",
     "text": [
      "Number of samples: 3221\n"
     ]
    }
   ],
   "source": [
    "print(\"Number of samples:\", len(thyroid_data))"
   ]
  },
  {
   "cell_type": "code",
   "execution_count": 13,
   "id": "f91648cb",
   "metadata": {},
   "outputs": [
    {
     "data": {
      "text/html": [
       "<div>\n",
       "<style scoped>\n",
       "    .dataframe tbody tr th:only-of-type {\n",
       "        vertical-align: middle;\n",
       "    }\n",
       "\n",
       "    .dataframe tbody tr th {\n",
       "        vertical-align: top;\n",
       "    }\n",
       "\n",
       "    .dataframe thead th {\n",
       "        text-align: right;\n",
       "    }\n",
       "</style>\n",
       "<table border=\"1\" class=\"dataframe\">\n",
       "  <thead>\n",
       "    <tr style=\"text-align: right;\">\n",
       "      <th></th>\n",
       "      <th>age</th>\n",
       "      <th>sex</th>\n",
       "      <th>on thyroxine</th>\n",
       "      <th>query on thyroxine</th>\n",
       "      <th>on antithyroid medication</th>\n",
       "      <th>sick</th>\n",
       "      <th>pregnant</th>\n",
       "      <th>thyroid surgery</th>\n",
       "      <th>I131 treatment</th>\n",
       "      <th>query hypothyroid</th>\n",
       "      <th>...</th>\n",
       "      <th>T3 measured</th>\n",
       "      <th>T3</th>\n",
       "      <th>TT4 measured</th>\n",
       "      <th>TT4</th>\n",
       "      <th>T4U measured</th>\n",
       "      <th>T4U</th>\n",
       "      <th>FTI measured</th>\n",
       "      <th>FTI</th>\n",
       "      <th>referral source</th>\n",
       "      <th>category</th>\n",
       "    </tr>\n",
       "  </thead>\n",
       "  <tbody>\n",
       "    <tr>\n",
       "      <th>0</th>\n",
       "      <td>41</td>\n",
       "      <td>F</td>\n",
       "      <td>f</td>\n",
       "      <td>f</td>\n",
       "      <td>f</td>\n",
       "      <td>f</td>\n",
       "      <td>f</td>\n",
       "      <td>f</td>\n",
       "      <td>f</td>\n",
       "      <td>f</td>\n",
       "      <td>...</td>\n",
       "      <td>t</td>\n",
       "      <td>2.5</td>\n",
       "      <td>t</td>\n",
       "      <td>125</td>\n",
       "      <td>t</td>\n",
       "      <td>1.14</td>\n",
       "      <td>t</td>\n",
       "      <td>109</td>\n",
       "      <td>SVHC</td>\n",
       "      <td>negative</td>\n",
       "    </tr>\n",
       "    <tr>\n",
       "      <th>1</th>\n",
       "      <td>23</td>\n",
       "      <td>F</td>\n",
       "      <td>f</td>\n",
       "      <td>f</td>\n",
       "      <td>f</td>\n",
       "      <td>f</td>\n",
       "      <td>f</td>\n",
       "      <td>f</td>\n",
       "      <td>f</td>\n",
       "      <td>f</td>\n",
       "      <td>...</td>\n",
       "      <td>t</td>\n",
       "      <td>2</td>\n",
       "      <td>t</td>\n",
       "      <td>102</td>\n",
       "      <td>f</td>\n",
       "      <td>?</td>\n",
       "      <td>f</td>\n",
       "      <td>?</td>\n",
       "      <td>other</td>\n",
       "      <td>negative</td>\n",
       "    </tr>\n",
       "    <tr>\n",
       "      <th>2</th>\n",
       "      <td>46</td>\n",
       "      <td>M</td>\n",
       "      <td>f</td>\n",
       "      <td>f</td>\n",
       "      <td>f</td>\n",
       "      <td>f</td>\n",
       "      <td>f</td>\n",
       "      <td>f</td>\n",
       "      <td>f</td>\n",
       "      <td>f</td>\n",
       "      <td>...</td>\n",
       "      <td>f</td>\n",
       "      <td>?</td>\n",
       "      <td>t</td>\n",
       "      <td>109</td>\n",
       "      <td>t</td>\n",
       "      <td>0.91</td>\n",
       "      <td>t</td>\n",
       "      <td>120</td>\n",
       "      <td>other</td>\n",
       "      <td>negative</td>\n",
       "    </tr>\n",
       "    <tr>\n",
       "      <th>3</th>\n",
       "      <td>70</td>\n",
       "      <td>F</td>\n",
       "      <td>t</td>\n",
       "      <td>f</td>\n",
       "      <td>f</td>\n",
       "      <td>f</td>\n",
       "      <td>f</td>\n",
       "      <td>f</td>\n",
       "      <td>f</td>\n",
       "      <td>f</td>\n",
       "      <td>...</td>\n",
       "      <td>t</td>\n",
       "      <td>1.9</td>\n",
       "      <td>t</td>\n",
       "      <td>175</td>\n",
       "      <td>f</td>\n",
       "      <td>?</td>\n",
       "      <td>f</td>\n",
       "      <td>?</td>\n",
       "      <td>other</td>\n",
       "      <td>negative</td>\n",
       "    </tr>\n",
       "    <tr>\n",
       "      <th>4</th>\n",
       "      <td>70</td>\n",
       "      <td>F</td>\n",
       "      <td>f</td>\n",
       "      <td>f</td>\n",
       "      <td>f</td>\n",
       "      <td>f</td>\n",
       "      <td>f</td>\n",
       "      <td>f</td>\n",
       "      <td>f</td>\n",
       "      <td>f</td>\n",
       "      <td>...</td>\n",
       "      <td>t</td>\n",
       "      <td>1.2</td>\n",
       "      <td>t</td>\n",
       "      <td>61</td>\n",
       "      <td>t</td>\n",
       "      <td>0.87</td>\n",
       "      <td>t</td>\n",
       "      <td>70</td>\n",
       "      <td>SVI</td>\n",
       "      <td>negative</td>\n",
       "    </tr>\n",
       "  </tbody>\n",
       "</table>\n",
       "<p>5 rows × 28 columns</p>\n",
       "</div>"
      ],
      "text/plain": [
       "  age sex on thyroxine query on thyroxine on antithyroid medication sick  \\\n",
       "0  41   F            f                  f                         f    f   \n",
       "1  23   F            f                  f                         f    f   \n",
       "2  46   M            f                  f                         f    f   \n",
       "3  70   F            t                  f                         f    f   \n",
       "4  70   F            f                  f                         f    f   \n",
       "\n",
       "  pregnant thyroid surgery I131 treatment query hypothyroid  ... T3 measured  \\\n",
       "0        f               f              f                 f  ...           t   \n",
       "1        f               f              f                 f  ...           t   \n",
       "2        f               f              f                 f  ...           f   \n",
       "3        f               f              f                 f  ...           t   \n",
       "4        f               f              f                 f  ...           t   \n",
       "\n",
       "    T3 TT4 measured  TT4 T4U measured   T4U FTI measured  FTI referral source  \\\n",
       "0  2.5            t  125            t  1.14            t  109            SVHC   \n",
       "1    2            t  102            f     ?            f    ?           other   \n",
       "2    ?            t  109            t  0.91            t  120           other   \n",
       "3  1.9            t  175            f     ?            f    ?           other   \n",
       "4  1.2            t   61            t  0.87            t   70             SVI   \n",
       "\n",
       "   category  \n",
       "0  negative  \n",
       "1  negative  \n",
       "2  negative  \n",
       "3  negative  \n",
       "4  negative  \n",
       "\n",
       "[5 rows x 28 columns]"
      ]
     },
     "execution_count": 13,
     "metadata": {},
     "output_type": "execute_result"
    }
   ],
   "source": [
    "thyroid_data.head(5)"
   ]
  },
  {
   "cell_type": "code",
   "execution_count": 14,
   "id": "86ab9b41",
   "metadata": {},
   "outputs": [
    {
     "data": {
      "text/plain": [
       "other    1795\n",
       "SVI       994\n",
       "SVHC      289\n",
       "STMW      106\n",
       "SVHD       37\n",
       "Name: referral source, dtype: int64"
      ]
     },
     "execution_count": 14,
     "metadata": {},
     "output_type": "execute_result"
    }
   ],
   "source": [
    "thyroid_data['referral source'].value_counts()"
   ]
  },
  {
   "cell_type": "code",
   "execution_count": 15,
   "id": "0bd5a16b",
   "metadata": {},
   "outputs": [
    {
     "data": {
      "text/plain": [
       "negative        2753\n",
       "hypothyroid      220\n",
       "sick             171\n",
       "hyperthyroid      77\n",
       "Name: category, dtype: int64"
      ]
     },
     "execution_count": 15,
     "metadata": {},
     "output_type": "execute_result"
    }
   ],
   "source": [
    "thyroid_data['category'].value_counts()"
   ]
  },
  {
   "cell_type": "code",
   "execution_count": 16,
   "id": "f45c51a4",
   "metadata": {},
   "outputs": [
    {
     "data": {
      "text/html": [
       "<div>\n",
       "<style scoped>\n",
       "    .dataframe tbody tr th:only-of-type {\n",
       "        vertical-align: middle;\n",
       "    }\n",
       "\n",
       "    .dataframe tbody tr th {\n",
       "        vertical-align: top;\n",
       "    }\n",
       "\n",
       "    .dataframe thead th {\n",
       "        text-align: right;\n",
       "    }\n",
       "</style>\n",
       "<table border=\"1\" class=\"dataframe\">\n",
       "  <thead>\n",
       "    <tr style=\"text-align: right;\">\n",
       "      <th></th>\n",
       "      <th>age</th>\n",
       "      <th>sex</th>\n",
       "      <th>on thyroxine</th>\n",
       "      <th>query on thyroxine</th>\n",
       "      <th>on antithyroid medication</th>\n",
       "      <th>sick</th>\n",
       "      <th>pregnant</th>\n",
       "      <th>thyroid surgery</th>\n",
       "      <th>I131 treatment</th>\n",
       "      <th>query hypothyroid</th>\n",
       "      <th>...</th>\n",
       "      <th>T3 measured</th>\n",
       "      <th>T3</th>\n",
       "      <th>TT4 measured</th>\n",
       "      <th>TT4</th>\n",
       "      <th>T4U measured</th>\n",
       "      <th>T4U</th>\n",
       "      <th>FTI measured</th>\n",
       "      <th>FTI</th>\n",
       "      <th>referral source</th>\n",
       "      <th>category</th>\n",
       "    </tr>\n",
       "  </thead>\n",
       "  <tbody>\n",
       "    <tr>\n",
       "      <th>count</th>\n",
       "      <td>3221</td>\n",
       "      <td>3221</td>\n",
       "      <td>3221</td>\n",
       "      <td>3221</td>\n",
       "      <td>3221</td>\n",
       "      <td>3221</td>\n",
       "      <td>3221</td>\n",
       "      <td>3221</td>\n",
       "      <td>3221</td>\n",
       "      <td>3221</td>\n",
       "      <td>...</td>\n",
       "      <td>3221</td>\n",
       "      <td>3221</td>\n",
       "      <td>3221</td>\n",
       "      <td>3221</td>\n",
       "      <td>3221</td>\n",
       "      <td>3221</td>\n",
       "      <td>3221</td>\n",
       "      <td>3221</td>\n",
       "      <td>3221</td>\n",
       "      <td>3221</td>\n",
       "    </tr>\n",
       "    <tr>\n",
       "      <th>unique</th>\n",
       "      <td>94</td>\n",
       "      <td>3</td>\n",
       "      <td>2</td>\n",
       "      <td>2</td>\n",
       "      <td>2</td>\n",
       "      <td>2</td>\n",
       "      <td>2</td>\n",
       "      <td>2</td>\n",
       "      <td>2</td>\n",
       "      <td>2</td>\n",
       "      <td>...</td>\n",
       "      <td>2</td>\n",
       "      <td>65</td>\n",
       "      <td>2</td>\n",
       "      <td>218</td>\n",
       "      <td>2</td>\n",
       "      <td>139</td>\n",
       "      <td>2</td>\n",
       "      <td>210</td>\n",
       "      <td>5</td>\n",
       "      <td>4</td>\n",
       "    </tr>\n",
       "    <tr>\n",
       "      <th>top</th>\n",
       "      <td>59</td>\n",
       "      <td>F</td>\n",
       "      <td>f</td>\n",
       "      <td>f</td>\n",
       "      <td>f</td>\n",
       "      <td>f</td>\n",
       "      <td>f</td>\n",
       "      <td>f</td>\n",
       "      <td>f</td>\n",
       "      <td>f</td>\n",
       "      <td>...</td>\n",
       "      <td>t</td>\n",
       "      <td>?</td>\n",
       "      <td>t</td>\n",
       "      <td>?</td>\n",
       "      <td>t</td>\n",
       "      <td>?</td>\n",
       "      <td>t</td>\n",
       "      <td>?</td>\n",
       "      <td>other</td>\n",
       "      <td>negative</td>\n",
       "    </tr>\n",
       "    <tr>\n",
       "      <th>freq</th>\n",
       "      <td>91</td>\n",
       "      <td>2108</td>\n",
       "      <td>2878</td>\n",
       "      <td>3173</td>\n",
       "      <td>3186</td>\n",
       "      <td>3080</td>\n",
       "      <td>3175</td>\n",
       "      <td>3180</td>\n",
       "      <td>3165</td>\n",
       "      <td>3010</td>\n",
       "      <td>...</td>\n",
       "      <td>2632</td>\n",
       "      <td>589</td>\n",
       "      <td>3079</td>\n",
       "      <td>142</td>\n",
       "      <td>2945</td>\n",
       "      <td>276</td>\n",
       "      <td>2947</td>\n",
       "      <td>274</td>\n",
       "      <td>1795</td>\n",
       "      <td>2753</td>\n",
       "    </tr>\n",
       "  </tbody>\n",
       "</table>\n",
       "<p>4 rows × 28 columns</p>\n",
       "</div>"
      ],
      "text/plain": [
       "         age   sex on thyroxine query on thyroxine on antithyroid medication  \\\n",
       "count   3221  3221         3221               3221                      3221   \n",
       "unique    94     3            2                  2                         2   \n",
       "top       59     F            f                  f                         f   \n",
       "freq      91  2108         2878               3173                      3186   \n",
       "\n",
       "        sick pregnant thyroid surgery I131 treatment query hypothyroid  ...  \\\n",
       "count   3221     3221            3221           3221              3221  ...   \n",
       "unique     2        2               2              2                 2  ...   \n",
       "top        f        f               f              f                 f  ...   \n",
       "freq    3080     3175            3180           3165              3010  ...   \n",
       "\n",
       "       T3 measured    T3 TT4 measured   TT4 T4U measured   T4U FTI measured  \\\n",
       "count         3221  3221         3221  3221         3221  3221         3221   \n",
       "unique           2    65            2   218            2   139            2   \n",
       "top              t     ?            t     ?            t     ?            t   \n",
       "freq          2632   589         3079   142         2945   276         2947   \n",
       "\n",
       "         FTI referral source  category  \n",
       "count   3221            3221      3221  \n",
       "unique   210               5         4  \n",
       "top        ?           other  negative  \n",
       "freq     274            1795      2753  \n",
       "\n",
       "[4 rows x 28 columns]"
      ]
     },
     "execution_count": 16,
     "metadata": {},
     "output_type": "execute_result"
    }
   ],
   "source": [
    "thyroid_data.describe()"
   ]
  },
  {
   "cell_type": "markdown",
   "id": "0329290e",
   "metadata": {},
   "source": [
    "#binary_cols=['age', 'sex', 'on thyroxine', 'query on thyroxine',\n",
    "       'on antithyroid medication', 'sick', 'pregnant', 'thyroid surgery',\n",
    "       'I131 treatment', 'query hypothyroid', 'query hyperthyroid', 'lithium',\n",
    "       'goitre', 'tumor', 'hypopituitary', 'psych', 'TSH measured', 'TSH',\n",
    "       'T3 measured', 'T3', 'TT4 measured', 'TT4', 'T4U measured', 'T4U',\n",
    "       'FTI measured', 'FTI', 'category']\n",
    "#for col in binary_cols: convert_category(thyroid_data, col)"
   ]
  },
  {
   "cell_type": "code",
   "execution_count": 17,
   "id": "8d8563ff",
   "metadata": {},
   "outputs": [
    {
     "data": {
      "text/plain": [
       "age                          object\n",
       "sex                          object\n",
       "on thyroxine                 object\n",
       "query on thyroxine           object\n",
       "on antithyroid medication    object\n",
       "sick                         object\n",
       "pregnant                     object\n",
       "thyroid surgery              object\n",
       "I131 treatment               object\n",
       "query hypothyroid            object\n",
       "query hyperthyroid           object\n",
       "lithium                      object\n",
       "goitre                       object\n",
       "tumor                        object\n",
       "hypopituitary                object\n",
       "psych                        object\n",
       "TSH measured                 object\n",
       "TSH                          object\n",
       "T3 measured                  object\n",
       "T3                           object\n",
       "TT4 measured                 object\n",
       "TT4                          object\n",
       "T4U measured                 object\n",
       "T4U                          object\n",
       "FTI measured                 object\n",
       "FTI                          object\n",
       "referral source              object\n",
       "category                     object\n",
       "dtype: object"
      ]
     },
     "execution_count": 17,
     "metadata": {},
     "output_type": "execute_result"
    }
   ],
   "source": [
    "thyroid_data.dtypes"
   ]
  },
  {
   "cell_type": "code",
   "execution_count": 18,
   "id": "8ec3e314",
   "metadata": {},
   "outputs": [
    {
     "name": "stdout",
     "output_type": "stream",
     "text": [
      "age 1\n",
      "sex 127\n",
      "TSH 247\n",
      "T3 589\n",
      "TT4 142\n",
      "T4U 276\n",
      "FTI 274\n"
     ]
    }
   ],
   "source": [
    "#replace the '?' values with numpy nan\n",
    "for column in thyroid_data.columns:\n",
    "    count=thyroid_data[column][thyroid_data[column]=='?'].count()\n",
    "    if count != 0:\n",
    "        print(column,thyroid_data[column][thyroid_data[column]=='?'].count())"
   ]
  },
  {
   "cell_type": "code",
   "execution_count": 19,
   "id": "b9ed3f9b",
   "metadata": {},
   "outputs": [],
   "source": [
    "for column in thyroid_data.columns:\n",
    "    count=thyroid_data[column][thyroid_data[column]== '?'].count()\n",
    "    if count!=0:\n",
    "        thyroid_data[column]=thyroid_data[column].replace('?',np.nan)"
   ]
  },
  {
   "cell_type": "code",
   "execution_count": 20,
   "id": "dc670082",
   "metadata": {},
   "outputs": [
    {
     "name": "stdout",
     "output_type": "stream",
     "text": [
      "age 0\n",
      "sex 0\n",
      "on thyroxine 0\n",
      "query on thyroxine 0\n",
      "on antithyroid medication 0\n",
      "sick 0\n",
      "pregnant 0\n",
      "thyroid surgery 0\n",
      "I131 treatment 0\n",
      "query hypothyroid 0\n",
      "query hyperthyroid 0\n",
      "lithium 0\n",
      "goitre 0\n",
      "tumor 0\n",
      "hypopituitary 0\n",
      "psych 0\n",
      "TSH measured 0\n",
      "TSH 0\n",
      "T3 measured 0\n",
      "T3 0\n",
      "TT4 measured 0\n",
      "TT4 0\n",
      "T4U measured 0\n",
      "T4U 0\n",
      "FTI measured 0\n",
      "FTI 0\n",
      "referral source 0\n",
      "category 0\n"
     ]
    }
   ],
   "source": [
    "for column in thyroid_data.columns:\n",
    "    count=thyroid_data[column][thyroid_data[column]=='?'].count()\n",
    "    if count == 0:\n",
    "        print(column,thyroid_data[column][thyroid_data[column]=='?'].count())"
   ]
  },
  {
   "cell_type": "code",
   "execution_count": 21,
   "id": "caea0cc6",
   "metadata": {},
   "outputs": [
    {
     "name": "stdout",
     "output_type": "stream",
     "text": [
      "age ['41' '23' '46' '70' '18' '59' '80' '66' '68' '84' '67' '71' '28' '65'\n",
      " '42' '63' '51' '81' '54' '55' '60' '25' '73' '34' '78' '37' '85' '26'\n",
      " '58' '64' '44' '48' '61' '35' '83' '21' '87' '53' '77' '27' '69' '74'\n",
      " '38' '76' '45' '36' '22' '43' '72' '82' '31' '39' '49' '62' '57' '1' '50'\n",
      " '30' '29' '75' '19' '7' '79' '17' '24' '15' '32' '47' '16' '52' '33' '13'\n",
      " '10' '89' '56' '20' '90' '40' '88' '14' '86' '94' '12' '4' '11' '8' '5'\n",
      " '455' '2' '91' '6' nan '93' '92']\n",
      "sex ['F' 'M' nan]\n",
      "on thyroxine ['f' 't']\n",
      "query on thyroxine ['f' 't']\n",
      "on antithyroid medication ['f' 't']\n",
      "sick ['f' 't']\n",
      "pregnant ['f' 't']\n",
      "thyroid surgery ['f' 't']\n",
      "I131 treatment ['f' 't']\n",
      "query hypothyroid ['f' 't']\n",
      "query hyperthyroid ['f' 't']\n",
      "lithium ['f' 't']\n",
      "goitre ['f' 't']\n",
      "tumor ['f' 't']\n",
      "hypopituitary ['f' 't']\n",
      "psych ['f' 't']\n",
      "TSH measured ['t' 'f']\n",
      "TSH ['1.3' '4.1' '0.98' '0.16' '0.72' '0.03' nan '2.2' '0.6' '2.4' '1.1' '2.8'\n",
      " '3.3' '12' '1.2' '1.5' '6' '2.1' '0.1' '0.8' '1.9' '3.1' '0.2' '13' '0.3'\n",
      " '0.035' '2.5' '0.5' '1.7' '7.3' '1.8' '0.26' '45' '5.4' '0.99' '0.25'\n",
      " '0.92' '0.15' '0.64' '1' '0.4' '2' '2.6' '14.8' '15' '19' '0.02' '3'\n",
      " '2.9' '3.2' '9' '1.6' '4.3' '0.005' '0.31' '0.61' '0.05' '7.8' '160'\n",
      " '0.025' '1.4' '0.01' '8.8' '151' '0.04' '3.9' '9.4' '2.7' '2.3' '0.94'\n",
      " '0.045' '3.5' '0.88' '0.08' '4.5' '0.68' '0.7' '0.67' '27' '6.1' '0.75'\n",
      " '0.55' '26' '5.2' '0.77' '0.07' '0.9' '11.4' '143' '0.45' '0.57' '0.65'\n",
      " '0.015' '16' '108' '0.83' '9.2' '86' '0.62' '0.59' '9.1' '5.9' '52'\n",
      " '0.33' '31' '5.8' '0.28' '51' '6.3' '4.4' '9.6' '3.4' '0.09' '24' '0.76'\n",
      " '42' '25' '10' '4.6' '8.6' '0.66' '6.2' '0.79' '28' '0.86' '9.7' '0.84'\n",
      " '17' '18' '55' '14' '3.7' '0.87' '6.7' '0.74' '7.6' '0.065' '0.29' '0.37'\n",
      " '8' '11' '0.48' '44' '7.9' '5' '7.2' '0.89' '0.93' '0.97' '0.12' '6.4'\n",
      " '33' '0.85' '7.1' '0.73' '199' '8.2' '188' '0.22' '98' '22' '6.6' '5.1'\n",
      " '0.06' '0.42' '3.8' '35' '4' '0.78' '0.63' '0.52' '60' '0.43' '5.6' '6.9'\n",
      " '3.6' '29' '0.38' '4.9' '0.41' '9.9' '7.5' '34' '6.5' '4.7' '103' '0.95'\n",
      " '0.14' '0.35' '4.2' '0.81' '0.54' '0.58' '8.9' '5.5' '0.34' '9.3' '0.13'\n",
      " '54' '0.39' '8.3' '478' '21' '6.8' '0.32' '0.23' '0.24' '8.1' '0.91'\n",
      " '5.3' '100' '0.27' '1.01' '58' '41' '183' '18.4' '0.47' '0.17' '12.1'\n",
      " '0.19' '0.82' '43' '0.44' '70' '7.7' '8.4' '0.69' '8.5' '0.21' '82'\n",
      " '0.055' '0.96' '0.71' '38' '0.36' '9.8' '7' '0.46' '11.1' '39' '76' '5.7'\n",
      " '32' '126' '26.4' '0.53' '0.49' '36' '178' '145' '47' '4.8' '10.3' '89'\n",
      " '7.4' '472' '0.51' '116' '61' '99' '46' '78' '468']\n",
      "T3 measured ['t' 'f']\n",
      "T3 ['2.5' '2' nan '1.9' '1.2' '0.6' '2.2' '1.6' '3.8' '1.7' '1.8' '2.6' '2.1'\n",
      " '0.3' '5.5' '1.4' '3.1' '1.5' '2.3' '2.4' '2.7' '0.9' '1' '2.8' '2.9'\n",
      " '0.8' '1.3' '0.4' '3.3' '3.5' '3.4' '1.1' '4.2' '3.7' '3' '0.7' '4.8'\n",
      " '4.3' '0.05' '3.2' '5.4' '4' '0.5' '0.2' '3.6' '5.2' '5' '6' '5.3' '3.9'\n",
      " '4.6' '4.5' '7.3' '4.7' '6.7' '4.1' '6.1' '0.1' '4.9' '10.6' '5.1' '7'\n",
      " '6.2' '4.4' '7.1']\n",
      "TT4 measured ['t' 'f']\n",
      "TT4 ['125' '102' '109' '175' '61' '183' '72' '80' '123' '83' '115' '152' '171'\n",
      " '97' '99' '70' '117' '121' '130' '108' '104' '134' '199' '57' '129' '113'\n",
      " '119' '84' '81' '95' '66' '101' '147' '120' '69' nan '39' '87' '63' '133'\n",
      " '86' '163' '162' '103' '96' '151' '112' '82' '138' '71' '77' '93' '107'\n",
      " '237' '110' '67' '88' '160' '118' '136' '114' '116' '94' '161' '11' '32'\n",
      " '124' '137' '92' '135' '105' '150' '126' '146' '91' '217' '141' '159'\n",
      " '122' '100' '111' '140' '205' '225' '85' '90' '74' '219' '127' '132'\n",
      " '128' '106' '144' '131' '56' '79' '142' '98' '177' '139' '78' '189' '180'\n",
      " '73' '145' '184' '38' '156' '75' '148' '14' '76' '54' '58' '27' '65'\n",
      " '193' '13' '143' '12' '64' '257' '164' '59' '167' '18' '41' '176' '37'\n",
      " '33' '44' '45' '154' '174' '203' '244' '62' '158' '60' '187' '250' '181'\n",
      " '157' '223' '272' '166' '213' '235' '10' '68' '231' '191' '48' '5.8'\n",
      " '169' '149' '210' '40' '155' '232' '42' '204' '430' '198' '230' '15'\n",
      " '170' '165' '47' '168' '194' '89' '52' '179' '192' '172' '4.8' '50' '182'\n",
      " '197' '214' '246' '196' '207' '19' '153' '22' '46' '200' '35' '226' '201'\n",
      " '233' '206' '31' '255' '178' '239' '195' '6' '36' '2' '3' '289' '240'\n",
      " '209' '43' '34' '252' '29' '263' '301' '23' '188' '211' '253' '21' '173']\n",
      "T4U measured ['t' 'f']\n",
      "T4U ['1.14' nan '0.91' '0.87' '1.3' '0.92' '0.7' '0.93' '0.89' '0.95' '0.99'\n",
      " '1.13' '0.86' '0.96' '0.94' '0.9' '1.02' '1.05' '0.62' '1.06' '1.55'\n",
      " '0.83' '1.09' '1.07' '1.27' '0.76' '1.16' '1' '0.56' '0.81' '0.68' '0.78'\n",
      " '0.85' '1.35' '1.15' '0.82' '1.03' '1.58' '0.79' '1.17' '0.71' '0.72'\n",
      " '0.88' '1.11' '1.2' '1.1' '1.33' '0.77' '1.24' '0.53' '1.44' '1.63'\n",
      " '1.51' '1.42' '1.23' '1.01' '0.98' '0.61' '1.12' '1.43' '1.25' '1.41'\n",
      " '1.68' '0.97' '0.84' '0.8' '1.04' '0.73' '1.08' '1.26' '1.46' '1.29'\n",
      " '1.34' '1.66' '1.21' '1.19' '0.75' '0.52' '1.83' '1.39' '1.5' '1.93'\n",
      " '1.18' '0.74' '0.58' '1.82' '0.6' '1.67' '1.22' '0.66' '0.67' '1.31'\n",
      " '0.54' '1.77' '1.59' '1.97' '1.69' '1.38' '1.28' '1.4' '0.69' '0.65'\n",
      " '1.74' '2.03' '1.73' '1.65' '1.36' '1.52' '0.57' '1.53' '1.84' '1.57'\n",
      " '1.75' '1.32' '1.37' '0.64' '1.79' '1.8' '0.48' '1.71' '1.62' '1.76'\n",
      " '1.56' '1.48' '0.59' '0.31' '1.94' '2.12' '1.47' '0.63' '0.944' '0.49'\n",
      " '1.88' '0.5' '0.38' '1.49' '0.41' '1.61' '1.7']\n",
      "FTI measured ['t' 'f']\n",
      "FTI ['109' nan '120' '70' '141' '78' '115' '132' '93' '121' '153' '151' '107'\n",
      " '119' '87' '81' '104' '130' '106' '116' '131' '190' '92' '102' '76' '98'\n",
      " '90' '61' '94' '129' '95' '91' '33' '113' '148' '140' '171' '155' '186'\n",
      " '122' '136' '110' '111' '97' '72' '100' '88' '67' '84' '103' '135' '203'\n",
      " '112' '117' '180' '142' '145' '156' '96' '134' '8.9' '60' '139' '41' '99'\n",
      " '89' '146' '124' '105' '85' '157' '143' '71' '221' '28' '108' '137' '83'\n",
      " '74' '170' '65' '101' '127' '274' '154' '114' '62' '86' '126' '125' '64'\n",
      " '172' '162' '79' '118' '73' '152' '163' '149' '14' '51' '165' '77' '32'\n",
      " '69' '80' '11' '54' '164' '123' '144' '10' '214' '200' '160' '53' '16'\n",
      " '138' '169' '56' '47' '133' '43' '68' '179' '224' '220' '82' '362' '182'\n",
      " '75' '66' '161' '57' '58' '312' '63' '128' '147' '158' '281' '207' '216'\n",
      " '251' '194' '46' '7' '42' '174' '395' '185' '13' '201' '48' '173' '167'\n",
      " '188' '150' '235' '175' '159' '5.4' '189' '59' '166' '34' '228' '232'\n",
      " '217' '177' '176' '195' '219' '17' '210' '168' '205' '39' '187' '50'\n",
      " '349' '52' '206' '253' '242' '244' '213' '178' '247' '215' '198' '19'\n",
      " '237' '37' '7.6' '24' '2' '3' '191' '223' '9' '29' '222' '204' '26' '218'\n",
      " '197' '49' '209' '183']\n",
      "referral source ['SVHC' 'other' 'SVI' 'STMW' 'SVHD']\n",
      "category ['negative' 'hyperthyroid' 'hypothyroid' 'sick']\n"
     ]
    }
   ],
   "source": [
    "##  Unique Values\n",
    "for column in thyroid_data.columns:\n",
    "    print(column,(thyroid_data[column].unique()))"
   ]
  },
  {
   "cell_type": "code",
   "execution_count": 22,
   "id": "993471d3",
   "metadata": {},
   "outputs": [],
   "source": [
    "thyroid_data['age'].fillna((thyroid_data['age'].median()), inplace = True)\n",
    "thyroid_data['TSH'].fillna((thyroid_data['TSH'].median()), inplace = True)\n",
    "thyroid_data['T3'].fillna((thyroid_data['T3'].median()), inplace = True)\n",
    "thyroid_data['TT4'].fillna((thyroid_data['TT4'].median()), inplace = True)\n",
    "thyroid_data['T4U'].fillna((thyroid_data['T4U'].median()), inplace = True)\n",
    "thyroid_data['FTI'].fillna((thyroid_data['FTI'].median()), inplace = True)"
   ]
  },
  {
   "cell_type": "code",
   "execution_count": 23,
   "id": "790d378e",
   "metadata": {},
   "outputs": [],
   "source": [
    "## Impute nan value of sex column\n",
    "thyroid_data['sex_Var']=np.where(thyroid_data['sex'].isnull(),1,0)\n",
    "frequent=thyroid_data['sex'].mode()[0]\n",
    "thyroid_data['sex'].fillna(frequent,inplace=True)"
   ]
  },
  {
   "cell_type": "code",
   "execution_count": 24,
   "id": "be32134d",
   "metadata": {},
   "outputs": [
    {
     "name": "stdout",
     "output_type": "stream",
     "text": [
      "age ['41' '23' '46' '70' '18' '59' '80' '66' '68' '84' '67' '71' '28' '65'\n",
      " '42' '63' '51' '81' '54' '55' '60' '25' '73' '34' '78' '37' '85' '26'\n",
      " '58' '64' '44' '48' '61' '35' '83' '21' '87' '53' '77' '27' '69' '74'\n",
      " '38' '76' '45' '36' '22' '43' '72' '82' '31' '39' '49' '62' '57' '1' '50'\n",
      " '30' '29' '75' '19' '7' '79' '17' '24' '15' '32' '47' '16' '52' '33' '13'\n",
      " '10' '89' '56' '20' '90' '40' '88' '14' '86' '94' '12' '4' '11' '8' '5'\n",
      " '455' '2' '91' '6' 55.0 '93' '92']\n",
      "sex ['F' 'M']\n",
      "on thyroxine ['f' 't']\n",
      "query on thyroxine ['f' 't']\n",
      "on antithyroid medication ['f' 't']\n",
      "sick ['f' 't']\n",
      "pregnant ['f' 't']\n",
      "thyroid surgery ['f' 't']\n",
      "I131 treatment ['f' 't']\n",
      "query hypothyroid ['f' 't']\n",
      "query hyperthyroid ['f' 't']\n",
      "lithium ['f' 't']\n",
      "goitre ['f' 't']\n",
      "tumor ['f' 't']\n",
      "hypopituitary ['f' 't']\n",
      "psych ['f' 't']\n",
      "TSH measured ['t' 'f']\n",
      "TSH ['1.3' '4.1' '0.98' '0.16' '0.72' '0.03' 1.5 '2.2' '0.6' '2.4' '1.1' '2.8'\n",
      " '3.3' '12' '1.2' '1.5' '6' '2.1' '0.1' '0.8' '1.9' '3.1' '0.2' '13' '0.3'\n",
      " '0.035' '2.5' '0.5' '1.7' '7.3' '1.8' '0.26' '45' '5.4' '0.99' '0.25'\n",
      " '0.92' '0.15' '0.64' '1' '0.4' '2' '2.6' '14.8' '15' '19' '0.02' '3'\n",
      " '2.9' '3.2' '9' '1.6' '4.3' '0.005' '0.31' '0.61' '0.05' '7.8' '160'\n",
      " '0.025' '1.4' '0.01' '8.8' '151' '0.04' '3.9' '9.4' '2.7' '2.3' '0.94'\n",
      " '0.045' '3.5' '0.88' '0.08' '4.5' '0.68' '0.7' '0.67' '27' '6.1' '0.75'\n",
      " '0.55' '26' '5.2' '0.77' '0.07' '0.9' '11.4' '143' '0.45' '0.57' '0.65'\n",
      " '0.015' '16' '108' '0.83' '9.2' '86' '0.62' '0.59' '9.1' '5.9' '52'\n",
      " '0.33' '31' '5.8' '0.28' '51' '6.3' '4.4' '9.6' '3.4' '0.09' '24' '0.76'\n",
      " '42' '25' '10' '4.6' '8.6' '0.66' '6.2' '0.79' '28' '0.86' '9.7' '0.84'\n",
      " '17' '18' '55' '14' '3.7' '0.87' '6.7' '0.74' '7.6' '0.065' '0.29' '0.37'\n",
      " '8' '11' '0.48' '44' '7.9' '5' '7.2' '0.89' '0.93' '0.97' '0.12' '6.4'\n",
      " '33' '0.85' '7.1' '0.73' '199' '8.2' '188' '0.22' '98' '22' '6.6' '5.1'\n",
      " '0.06' '0.42' '3.8' '35' '4' '0.78' '0.63' '0.52' '60' '0.43' '5.6' '6.9'\n",
      " '3.6' '29' '0.38' '4.9' '0.41' '9.9' '7.5' '34' '6.5' '4.7' '103' '0.95'\n",
      " '0.14' '0.35' '4.2' '0.81' '0.54' '0.58' '8.9' '5.5' '0.34' '9.3' '0.13'\n",
      " '54' '0.39' '8.3' '478' '21' '6.8' '0.32' '0.23' '0.24' '8.1' '0.91'\n",
      " '5.3' '100' '0.27' '1.01' '58' '41' '183' '18.4' '0.47' '0.17' '12.1'\n",
      " '0.19' '0.82' '43' '0.44' '70' '7.7' '8.4' '0.69' '8.5' '0.21' '82'\n",
      " '0.055' '0.96' '0.71' '38' '0.36' '9.8' '7' '0.46' '11.1' '39' '76' '5.7'\n",
      " '32' '126' '26.4' '0.53' '0.49' '36' '178' '145' '47' '4.8' '10.3' '89'\n",
      " '7.4' '472' '0.51' '116' '61' '99' '46' '78' '468']\n",
      "T3 measured ['t' 'f']\n",
      "T3 ['2.5' '2' 1.9 '1.9' '1.2' '0.6' '2.2' '1.6' '3.8' '1.7' '1.8' '2.6' '2.1'\n",
      " '0.3' '5.5' '1.4' '3.1' '1.5' '2.3' '2.4' '2.7' '0.9' '1' '2.8' '2.9'\n",
      " '0.8' '1.3' '0.4' '3.3' '3.5' '3.4' '1.1' '4.2' '3.7' '3' '0.7' '4.8'\n",
      " '4.3' '0.05' '3.2' '5.4' '4' '0.5' '0.2' '3.6' '5.2' '5' '6' '5.3' '3.9'\n",
      " '4.6' '4.5' '7.3' '4.7' '6.7' '4.1' '6.1' '0.1' '4.9' '10.6' '5.1' '7'\n",
      " '6.2' '4.4' '7.1']\n",
      "TT4 measured ['t' 'f']\n",
      "TT4 ['125' '102' '109' '175' '61' '183' '72' '80' '123' '83' '115' '152' '171'\n",
      " '97' '99' '70' '117' '121' '130' '108' '104' '134' '199' '57' '129' '113'\n",
      " '119' '84' '81' '95' '66' '101' '147' '120' '69' 102.0 '39' '87' '63'\n",
      " '133' '86' '163' '162' '103' '96' '151' '112' '82' '138' '71' '77' '93'\n",
      " '107' '237' '110' '67' '88' '160' '118' '136' '114' '116' '94' '161' '11'\n",
      " '32' '124' '137' '92' '135' '105' '150' '126' '146' '91' '217' '141'\n",
      " '159' '122' '100' '111' '140' '205' '225' '85' '90' '74' '219' '127'\n",
      " '132' '128' '106' '144' '131' '56' '79' '142' '98' '177' '139' '78' '189'\n",
      " '180' '73' '145' '184' '38' '156' '75' '148' '14' '76' '54' '58' '27'\n",
      " '65' '193' '13' '143' '12' '64' '257' '164' '59' '167' '18' '41' '176'\n",
      " '37' '33' '44' '45' '154' '174' '203' '244' '62' '158' '60' '187' '250'\n",
      " '181' '157' '223' '272' '166' '213' '235' '10' '68' '231' '191' '48'\n",
      " '5.8' '169' '149' '210' '40' '155' '232' '42' '204' '430' '198' '230'\n",
      " '15' '170' '165' '47' '168' '194' '89' '52' '179' '192' '172' '4.8' '50'\n",
      " '182' '197' '214' '246' '196' '207' '19' '153' '22' '46' '200' '35' '226'\n",
      " '201' '233' '206' '31' '255' '178' '239' '195' '6' '36' '2' '3' '289'\n",
      " '240' '209' '43' '34' '252' '29' '263' '301' '23' '188' '211' '253' '21'\n",
      " '173']\n",
      "T4U measured ['t' 'f']\n",
      "T4U ['1.14' 0.97 '0.91' '0.87' '1.3' '0.92' '0.7' '0.93' '0.89' '0.95' '0.99'\n",
      " '1.13' '0.86' '0.96' '0.94' '0.9' '1.02' '1.05' '0.62' '1.06' '1.55'\n",
      " '0.83' '1.09' '1.07' '1.27' '0.76' '1.16' '1' '0.56' '0.81' '0.68' '0.78'\n",
      " '0.85' '1.35' '1.15' '0.82' '1.03' '1.58' '0.79' '1.17' '0.71' '0.72'\n",
      " '0.88' '1.11' '1.2' '1.1' '1.33' '0.77' '1.24' '0.53' '1.44' '1.63'\n",
      " '1.51' '1.42' '1.23' '1.01' '0.98' '0.61' '1.12' '1.43' '1.25' '1.41'\n",
      " '1.68' '0.97' '0.84' '0.8' '1.04' '0.73' '1.08' '1.26' '1.46' '1.29'\n",
      " '1.34' '1.66' '1.21' '1.19' '0.75' '0.52' '1.83' '1.39' '1.5' '1.93'\n",
      " '1.18' '0.74' '0.58' '1.82' '0.6' '1.67' '1.22' '0.66' '0.67' '1.31'\n",
      " '0.54' '1.77' '1.59' '1.97' '1.69' '1.38' '1.28' '1.4' '0.69' '0.65'\n",
      " '1.74' '2.03' '1.73' '1.65' '1.36' '1.52' '0.57' '1.53' '1.84' '1.57'\n",
      " '1.75' '1.32' '1.37' '0.64' '1.79' '1.8' '0.48' '1.71' '1.62' '1.76'\n",
      " '1.56' '1.48' '0.59' '0.31' '1.94' '2.12' '1.47' '0.63' '0.944' '0.49'\n",
      " '1.88' '0.5' '0.38' '1.49' '0.41' '1.61' '1.7']\n",
      "FTI measured ['t' 'f']\n",
      "FTI ['109' 106.0 '120' '70' '141' '78' '115' '132' '93' '121' '153' '151'\n",
      " '107' '119' '87' '81' '104' '130' '106' '116' '131' '190' '92' '102' '76'\n",
      " '98' '90' '61' '94' '129' '95' '91' '33' '113' '148' '140' '171' '155'\n",
      " '186' '122' '136' '110' '111' '97' '72' '100' '88' '67' '84' '103' '135'\n",
      " '203' '112' '117' '180' '142' '145' '156' '96' '134' '8.9' '60' '139'\n",
      " '41' '99' '89' '146' '124' '105' '85' '157' '143' '71' '221' '28' '108'\n",
      " '137' '83' '74' '170' '65' '101' '127' '274' '154' '114' '62' '86' '126'\n",
      " '125' '64' '172' '162' '79' '118' '73' '152' '163' '149' '14' '51' '165'\n",
      " '77' '32' '69' '80' '11' '54' '164' '123' '144' '10' '214' '200' '160'\n",
      " '53' '16' '138' '169' '56' '47' '133' '43' '68' '179' '224' '220' '82'\n",
      " '362' '182' '75' '66' '161' '57' '58' '312' '63' '128' '147' '158' '281'\n",
      " '207' '216' '251' '194' '46' '7' '42' '174' '395' '185' '13' '201' '48'\n",
      " '173' '167' '188' '150' '235' '175' '159' '5.4' '189' '59' '166' '34'\n",
      " '228' '232' '217' '177' '176' '195' '219' '17' '210' '168' '205' '39'\n",
      " '187' '50' '349' '52' '206' '253' '242' '244' '213' '178' '247' '215'\n",
      " '198' '19' '237' '37' '7.6' '24' '2' '3' '191' '223' '9' '29' '222' '204'\n",
      " '26' '218' '197' '49' '209' '183']\n",
      "referral source ['SVHC' 'other' 'SVI' 'STMW' 'SVHD']\n",
      "category ['negative' 'hyperthyroid' 'hypothyroid' 'sick']\n",
      "sex_Var [0 1]\n"
     ]
    }
   ],
   "source": [
    "##  Unique Values\n",
    "for column in thyroid_data.columns:\n",
    "    print(column,(thyroid_data[column].unique()))"
   ]
  },
  {
   "cell_type": "code",
   "execution_count": 25,
   "id": "ac70a803",
   "metadata": {},
   "outputs": [],
   "source": [
    "# A quick fix needed\n",
    "thyroid_data.loc[thyroid_data['age'] == '455', 'age'] = '45'"
   ]
  },
  {
   "cell_type": "code",
   "execution_count": 26,
   "id": "d6cfebe4",
   "metadata": {},
   "outputs": [
    {
     "data": {
      "text/plain": [
       "age                          object\n",
       "sex                          object\n",
       "on thyroxine                 object\n",
       "query on thyroxine           object\n",
       "on antithyroid medication    object\n",
       "sick                         object\n",
       "pregnant                     object\n",
       "thyroid surgery              object\n",
       "I131 treatment               object\n",
       "query hypothyroid            object\n",
       "query hyperthyroid           object\n",
       "lithium                      object\n",
       "goitre                       object\n",
       "tumor                        object\n",
       "hypopituitary                object\n",
       "psych                        object\n",
       "TSH measured                 object\n",
       "TSH                          object\n",
       "T3 measured                  object\n",
       "T3                           object\n",
       "TT4 measured                 object\n",
       "TT4                          object\n",
       "T4U measured                 object\n",
       "T4U                          object\n",
       "FTI measured                 object\n",
       "FTI                          object\n",
       "referral source              object\n",
       "category                     object\n",
       "sex_Var                       int32\n",
       "dtype: object"
      ]
     },
     "execution_count": 26,
     "metadata": {},
     "output_type": "execute_result"
    }
   ],
   "source": [
    "thyroid_data.dtypes"
   ]
  },
  {
   "cell_type": "code",
   "execution_count": 27,
   "id": "1add2c66",
   "metadata": {},
   "outputs": [],
   "source": [
    "from sklearn.preprocessing import LabelEncoder\n",
    "le = LabelEncoder()"
   ]
  },
  {
   "cell_type": "code",
   "execution_count": 28,
   "id": "52d38590",
   "metadata": {},
   "outputs": [],
   "source": [
    "thyroid_data['age']=pd.to_numeric(thyroid_data.age)"
   ]
  },
  {
   "cell_type": "code",
   "execution_count": 29,
   "id": "512d7e20",
   "metadata": {},
   "outputs": [],
   "source": [
    "thyroid_data['sex'] = le.fit_transform(thyroid_data[\"sex\"])"
   ]
  },
  {
   "cell_type": "code",
   "execution_count": 30,
   "id": "f66b281e",
   "metadata": {},
   "outputs": [],
   "source": [
    "thyroid_data['on thyroxine'] = le.fit_transform(thyroid_data[\"on thyroxine\"])"
   ]
  },
  {
   "cell_type": "code",
   "execution_count": 31,
   "id": "aa2d5db6",
   "metadata": {},
   "outputs": [],
   "source": [
    "thyroid_data['query on thyroxine'] = le.fit_transform(thyroid_data[\"query on thyroxine\"])"
   ]
  },
  {
   "cell_type": "code",
   "execution_count": 32,
   "id": "57c2d425",
   "metadata": {},
   "outputs": [],
   "source": [
    "thyroid_data['on antithyroid medication'] = le.fit_transform(thyroid_data[\"on antithyroid medication\"])"
   ]
  },
  {
   "cell_type": "code",
   "execution_count": 33,
   "id": "70e8838f",
   "metadata": {},
   "outputs": [],
   "source": [
    "thyroid_data['sick'] = le.fit_transform(thyroid_data[\"sick\"])"
   ]
  },
  {
   "cell_type": "code",
   "execution_count": 34,
   "id": "efef429e",
   "metadata": {},
   "outputs": [],
   "source": [
    "thyroid_data['pregnant'] = le.fit_transform(thyroid_data[\"pregnant\"])"
   ]
  },
  {
   "cell_type": "code",
   "execution_count": 35,
   "id": "f53f5977",
   "metadata": {},
   "outputs": [],
   "source": [
    "thyroid_data['thyroid surgery'] = le.fit_transform(thyroid_data[\"thyroid surgery\"])"
   ]
  },
  {
   "cell_type": "code",
   "execution_count": 36,
   "id": "8090d8d1",
   "metadata": {},
   "outputs": [],
   "source": [
    "thyroid_data['I131 treatment'] = le.fit_transform(thyroid_data[\"I131 treatment\"])"
   ]
  },
  {
   "cell_type": "code",
   "execution_count": 37,
   "id": "e1e5fc9e",
   "metadata": {},
   "outputs": [],
   "source": [
    "thyroid_data['query hypothyroid'] = le.fit_transform(thyroid_data[\"query hypothyroid\"])"
   ]
  },
  {
   "cell_type": "code",
   "execution_count": 38,
   "id": "67ebcf4c",
   "metadata": {},
   "outputs": [],
   "source": [
    "thyroid_data['query hyperthyroid'] = le.fit_transform(thyroid_data[\"query hyperthyroid\"])"
   ]
  },
  {
   "cell_type": "code",
   "execution_count": 39,
   "id": "2455c62b",
   "metadata": {},
   "outputs": [],
   "source": [
    "thyroid_data['lithium'] = le.fit_transform(thyroid_data[\"lithium\"])"
   ]
  },
  {
   "cell_type": "code",
   "execution_count": 40,
   "id": "c74aed87",
   "metadata": {},
   "outputs": [],
   "source": [
    "thyroid_data['goitre'] = le.fit_transform(thyroid_data[\"goitre\"])"
   ]
  },
  {
   "cell_type": "code",
   "execution_count": 41,
   "id": "1188899a",
   "metadata": {},
   "outputs": [],
   "source": [
    "thyroid_data['tumor'] = le.fit_transform(thyroid_data[\"tumor\"])"
   ]
  },
  {
   "cell_type": "code",
   "execution_count": 42,
   "id": "3eadc1b9",
   "metadata": {},
   "outputs": [],
   "source": [
    "thyroid_data['hypopituitary'] = le.fit_transform(thyroid_data[\"hypopituitary\"])"
   ]
  },
  {
   "cell_type": "code",
   "execution_count": 43,
   "id": "81494b77",
   "metadata": {},
   "outputs": [],
   "source": [
    "thyroid_data['psych'] = le.fit_transform(thyroid_data[\"psych\"])"
   ]
  },
  {
   "cell_type": "code",
   "execution_count": 44,
   "id": "d2a5ff30",
   "metadata": {},
   "outputs": [],
   "source": [
    "thyroid_data['TSH measured'] = le.fit_transform(thyroid_data[\"TSH measured\"])"
   ]
  },
  {
   "cell_type": "code",
   "execution_count": 45,
   "id": "8605abe5",
   "metadata": {},
   "outputs": [],
   "source": [
    "thyroid_data['TSH'] = pd.to_numeric(thyroid_data[\"TSH\"])"
   ]
  },
  {
   "cell_type": "code",
   "execution_count": 46,
   "id": "50cd1a99",
   "metadata": {},
   "outputs": [],
   "source": [
    "thyroid_data['T3 measured'] = le.fit_transform(thyroid_data[\"T3 measured\"])"
   ]
  },
  {
   "cell_type": "code",
   "execution_count": 47,
   "id": "82468bf6",
   "metadata": {},
   "outputs": [],
   "source": [
    "thyroid_data['T3'] = pd.to_numeric(thyroid_data[\"T3\"])"
   ]
  },
  {
   "cell_type": "code",
   "execution_count": 48,
   "id": "64f47f18",
   "metadata": {},
   "outputs": [],
   "source": [
    "thyroid_data['TT4 measured'] = le.fit_transform(thyroid_data[\"TT4 measured\"])"
   ]
  },
  {
   "cell_type": "code",
   "execution_count": 49,
   "id": "967ea210",
   "metadata": {},
   "outputs": [],
   "source": [
    "thyroid_data['TT4'] = pd.to_numeric(thyroid_data[\"TT4\"])"
   ]
  },
  {
   "cell_type": "code",
   "execution_count": 50,
   "id": "4aaa6d80",
   "metadata": {},
   "outputs": [],
   "source": [
    "thyroid_data['T4U measured'] = le.fit_transform(thyroid_data[\"T4U measured\"])"
   ]
  },
  {
   "cell_type": "code",
   "execution_count": 51,
   "id": "ada47a0f",
   "metadata": {},
   "outputs": [],
   "source": [
    "#thyroid_data['T4U'] = le.fit_transform(thyroid_data[\"T4U\"])"
   ]
  },
  {
   "cell_type": "code",
   "execution_count": 52,
   "id": "cbec804a",
   "metadata": {},
   "outputs": [],
   "source": [
    "thyroid_data['FTI measured'] = le.fit_transform(thyroid_data[\"FTI measured\"])"
   ]
  },
  {
   "cell_type": "code",
   "execution_count": 53,
   "id": "464a03a3",
   "metadata": {},
   "outputs": [],
   "source": [
    "thyroid_data['FTI'] = pd.to_numeric(thyroid_data[\"FTI\"])"
   ]
  },
  {
   "cell_type": "code",
   "execution_count": 54,
   "id": "5ffe6420",
   "metadata": {},
   "outputs": [],
   "source": [
    "thyroid_data['referral source'] = le.fit_transform(thyroid_data[\"referral source\"])"
   ]
  },
  {
   "cell_type": "code",
   "execution_count": 55,
   "id": "298aba54",
   "metadata": {},
   "outputs": [],
   "source": [
    "thyroid_data['category'] = le.fit_transform(thyroid_data[\"category\"])"
   ]
  },
  {
   "cell_type": "code",
   "execution_count": 56,
   "id": "6a264897",
   "metadata": {},
   "outputs": [
    {
     "name": "stdout",
     "output_type": "stream",
     "text": [
      "age [41. 23. 46. 70. 18. 59. 80. 66. 68. 84. 67. 71. 28. 65. 42. 63. 51. 81.\n",
      " 54. 55. 60. 25. 73. 34. 78. 37. 85. 26. 58. 64. 44. 48. 61. 35. 83. 21.\n",
      " 87. 53. 77. 27. 69. 74. 38. 76. 45. 36. 22. 43. 72. 82. 31. 39. 49. 62.\n",
      " 57.  1. 50. 30. 29. 75. 19.  7. 79. 17. 24. 15. 32. 47. 16. 52. 33. 13.\n",
      " 10. 89. 56. 20. 90. 40. 88. 14. 86. 94. 12.  4. 11.  8.  5.  2. 91.  6.\n",
      " 93. 92.]\n",
      "sex [0 1]\n",
      "on thyroxine [0 1]\n",
      "query on thyroxine [0 1]\n",
      "on antithyroid medication [0 1]\n",
      "sick [0 1]\n",
      "pregnant [0 1]\n",
      "thyroid surgery [0 1]\n",
      "I131 treatment [0 1]\n",
      "query hypothyroid [0 1]\n",
      "query hyperthyroid [0 1]\n",
      "lithium [0 1]\n",
      "goitre [0 1]\n",
      "tumor [0 1]\n",
      "hypopituitary [0 1]\n",
      "psych [0 1]\n",
      "TSH measured [1 0]\n",
      "TSH [1.30e+00 4.10e+00 9.80e-01 1.60e-01 7.20e-01 3.00e-02 1.50e+00 2.20e+00\n",
      " 6.00e-01 2.40e+00 1.10e+00 2.80e+00 3.30e+00 1.20e+01 1.20e+00 6.00e+00\n",
      " 2.10e+00 1.00e-01 8.00e-01 1.90e+00 3.10e+00 2.00e-01 1.30e+01 3.00e-01\n",
      " 3.50e-02 2.50e+00 5.00e-01 1.70e+00 7.30e+00 1.80e+00 2.60e-01 4.50e+01\n",
      " 5.40e+00 9.90e-01 2.50e-01 9.20e-01 1.50e-01 6.40e-01 1.00e+00 4.00e-01\n",
      " 2.00e+00 2.60e+00 1.48e+01 1.50e+01 1.90e+01 2.00e-02 3.00e+00 2.90e+00\n",
      " 3.20e+00 9.00e+00 1.60e+00 4.30e+00 5.00e-03 3.10e-01 6.10e-01 5.00e-02\n",
      " 7.80e+00 1.60e+02 2.50e-02 1.40e+00 1.00e-02 8.80e+00 1.51e+02 4.00e-02\n",
      " 3.90e+00 9.40e+00 2.70e+00 2.30e+00 9.40e-01 4.50e-02 3.50e+00 8.80e-01\n",
      " 8.00e-02 4.50e+00 6.80e-01 7.00e-01 6.70e-01 2.70e+01 6.10e+00 7.50e-01\n",
      " 5.50e-01 2.60e+01 5.20e+00 7.70e-01 7.00e-02 9.00e-01 1.14e+01 1.43e+02\n",
      " 4.50e-01 5.70e-01 6.50e-01 1.50e-02 1.60e+01 1.08e+02 8.30e-01 9.20e+00\n",
      " 8.60e+01 6.20e-01 5.90e-01 9.10e+00 5.90e+00 5.20e+01 3.30e-01 3.10e+01\n",
      " 5.80e+00 2.80e-01 5.10e+01 6.30e+00 4.40e+00 9.60e+00 3.40e+00 9.00e-02\n",
      " 2.40e+01 7.60e-01 4.20e+01 2.50e+01 1.00e+01 4.60e+00 8.60e+00 6.60e-01\n",
      " 6.20e+00 7.90e-01 2.80e+01 8.60e-01 9.70e+00 8.40e-01 1.70e+01 1.80e+01\n",
      " 5.50e+01 1.40e+01 3.70e+00 8.70e-01 6.70e+00 7.40e-01 7.60e+00 6.50e-02\n",
      " 2.90e-01 3.70e-01 8.00e+00 1.10e+01 4.80e-01 4.40e+01 7.90e+00 5.00e+00\n",
      " 7.20e+00 8.90e-01 9.30e-01 9.70e-01 1.20e-01 6.40e+00 3.30e+01 8.50e-01\n",
      " 7.10e+00 7.30e-01 1.99e+02 8.20e+00 1.88e+02 2.20e-01 9.80e+01 2.20e+01\n",
      " 6.60e+00 5.10e+00 6.00e-02 4.20e-01 3.80e+00 3.50e+01 4.00e+00 7.80e-01\n",
      " 6.30e-01 5.20e-01 6.00e+01 4.30e-01 5.60e+00 6.90e+00 3.60e+00 2.90e+01\n",
      " 3.80e-01 4.90e+00 4.10e-01 9.90e+00 7.50e+00 3.40e+01 6.50e+00 4.70e+00\n",
      " 1.03e+02 9.50e-01 1.40e-01 3.50e-01 4.20e+00 8.10e-01 5.40e-01 5.80e-01\n",
      " 8.90e+00 5.50e+00 3.40e-01 9.30e+00 1.30e-01 5.40e+01 3.90e-01 8.30e+00\n",
      " 4.78e+02 2.10e+01 6.80e+00 3.20e-01 2.30e-01 2.40e-01 8.10e+00 9.10e-01\n",
      " 5.30e+00 1.00e+02 2.70e-01 1.01e+00 5.80e+01 4.10e+01 1.83e+02 1.84e+01\n",
      " 4.70e-01 1.70e-01 1.21e+01 1.90e-01 8.20e-01 4.30e+01 4.40e-01 7.00e+01\n",
      " 7.70e+00 8.40e+00 6.90e-01 8.50e+00 2.10e-01 8.20e+01 5.50e-02 9.60e-01\n",
      " 7.10e-01 3.80e+01 3.60e-01 9.80e+00 7.00e+00 4.60e-01 1.11e+01 3.90e+01\n",
      " 7.60e+01 5.70e+00 3.20e+01 1.26e+02 2.64e+01 5.30e-01 4.90e-01 3.60e+01\n",
      " 1.78e+02 1.45e+02 4.70e+01 4.80e+00 1.03e+01 8.90e+01 7.40e+00 4.72e+02\n",
      " 5.10e-01 1.16e+02 6.10e+01 9.90e+01 4.60e+01 7.80e+01 4.68e+02]\n",
      "T3 measured [1 0]\n",
      "T3 [ 2.5   2.    1.9   1.2   0.6   2.2   1.6   3.8   1.7   1.8   2.6   2.1\n",
      "  0.3   5.5   1.4   3.1   1.5   2.3   2.4   2.7   0.9   1.    2.8   2.9\n",
      "  0.8   1.3   0.4   3.3   3.5   3.4   1.1   4.2   3.7   3.    0.7   4.8\n",
      "  4.3   0.05  3.2   5.4   4.    0.5   0.2   3.6   5.2   5.    6.    5.3\n",
      "  3.9   4.6   4.5   7.3   4.7   6.7   4.1   6.1   0.1   4.9  10.6   5.1\n",
      "  7.    6.2   4.4   7.1 ]\n",
      "TT4 measured [1 0]\n",
      "TT4 [125.  102.  109.  175.   61.  183.   72.   80.  123.   83.  115.  152.\n",
      " 171.   97.   99.   70.  117.  121.  130.  108.  104.  134.  199.   57.\n",
      " 129.  113.  119.   84.   81.   95.   66.  101.  147.  120.   69.   39.\n",
      "  87.   63.  133.   86.  163.  162.  103.   96.  151.  112.   82.  138.\n",
      "  71.   77.   93.  107.  237.  110.   67.   88.  160.  118.  136.  114.\n",
      " 116.   94.  161.   11.   32.  124.  137.   92.  135.  105.  150.  126.\n",
      " 146.   91.  217.  141.  159.  122.  100.  111.  140.  205.  225.   85.\n",
      "  90.   74.  219.  127.  132.  128.  106.  144.  131.   56.   79.  142.\n",
      "  98.  177.  139.   78.  189.  180.   73.  145.  184.   38.  156.   75.\n",
      " 148.   14.   76.   54.   58.   27.   65.  193.   13.  143.   12.   64.\n",
      " 257.  164.   59.  167.   18.   41.  176.   37.   33.   44.   45.  154.\n",
      " 174.  203.  244.   62.  158.   60.  187.  250.  181.  157.  223.  272.\n",
      " 166.  213.  235.   10.   68.  231.  191.   48.    5.8 169.  149.  210.\n",
      "  40.  155.  232.   42.  204.  430.  198.  230.   15.  170.  165.   47.\n",
      " 168.  194.   89.   52.  179.  192.  172.    4.8  50.  182.  197.  214.\n",
      " 246.  196.  207.   19.  153.   22.   46.  200.   35.  226.  201.  233.\n",
      " 206.   31.  255.  178.  239.  195.    6.   36.    2.    3.  289.  240.\n",
      " 209.   43.   34.  252.   29.  263.  301.   23.  188.  211.  253.   21.\n",
      " 173. ]\n",
      "T4U measured [1 0]\n",
      "T4U ['1.14' 0.97 '0.91' '0.87' '1.3' '0.92' '0.7' '0.93' '0.89' '0.95' '0.99'\n",
      " '1.13' '0.86' '0.96' '0.94' '0.9' '1.02' '1.05' '0.62' '1.06' '1.55'\n",
      " '0.83' '1.09' '1.07' '1.27' '0.76' '1.16' '1' '0.56' '0.81' '0.68' '0.78'\n",
      " '0.85' '1.35' '1.15' '0.82' '1.03' '1.58' '0.79' '1.17' '0.71' '0.72'\n",
      " '0.88' '1.11' '1.2' '1.1' '1.33' '0.77' '1.24' '0.53' '1.44' '1.63'\n",
      " '1.51' '1.42' '1.23' '1.01' '0.98' '0.61' '1.12' '1.43' '1.25' '1.41'\n",
      " '1.68' '0.97' '0.84' '0.8' '1.04' '0.73' '1.08' '1.26' '1.46' '1.29'\n",
      " '1.34' '1.66' '1.21' '1.19' '0.75' '0.52' '1.83' '1.39' '1.5' '1.93'\n",
      " '1.18' '0.74' '0.58' '1.82' '0.6' '1.67' '1.22' '0.66' '0.67' '1.31'\n",
      " '0.54' '1.77' '1.59' '1.97' '1.69' '1.38' '1.28' '1.4' '0.69' '0.65'\n",
      " '1.74' '2.03' '1.73' '1.65' '1.36' '1.52' '0.57' '1.53' '1.84' '1.57'\n",
      " '1.75' '1.32' '1.37' '0.64' '1.79' '1.8' '0.48' '1.71' '1.62' '1.76'\n",
      " '1.56' '1.48' '0.59' '0.31' '1.94' '2.12' '1.47' '0.63' '0.944' '0.49'\n",
      " '1.88' '0.5' '0.38' '1.49' '0.41' '1.61' '1.7']\n",
      "FTI measured [1 0]\n",
      "FTI [109.  106.  120.   70.  141.   78.  115.  132.   93.  121.  153.  151.\n",
      " 107.  119.   87.   81.  104.  130.  116.  131.  190.   92.  102.   76.\n",
      "  98.   90.   61.   94.  129.   95.   91.   33.  113.  148.  140.  171.\n",
      " 155.  186.  122.  136.  110.  111.   97.   72.  100.   88.   67.   84.\n",
      " 103.  135.  203.  112.  117.  180.  142.  145.  156.   96.  134.    8.9\n",
      "  60.  139.   41.   99.   89.  146.  124.  105.   85.  157.  143.   71.\n",
      " 221.   28.  108.  137.   83.   74.  170.   65.  101.  127.  274.  154.\n",
      " 114.   62.   86.  126.  125.   64.  172.  162.   79.  118.   73.  152.\n",
      " 163.  149.   14.   51.  165.   77.   32.   69.   80.   11.   54.  164.\n",
      " 123.  144.   10.  214.  200.  160.   53.   16.  138.  169.   56.   47.\n",
      " 133.   43.   68.  179.  224.  220.   82.  362.  182.   75.   66.  161.\n",
      "  57.   58.  312.   63.  128.  147.  158.  281.  207.  216.  251.  194.\n",
      "  46.    7.   42.  174.  395.  185.   13.  201.   48.  173.  167.  188.\n",
      " 150.  235.  175.  159.    5.4 189.   59.  166.   34.  228.  232.  217.\n",
      " 177.  176.  195.  219.   17.  210.  168.  205.   39.  187.   50.  349.\n",
      "  52.  206.  253.  242.  244.  213.  178.  247.  215.  198.   19.  237.\n",
      "  37.    7.6  24.    2.    3.  191.  223.    9.   29.  222.  204.   26.\n",
      " 218.  197.   49.  209.  183. ]\n",
      "referral source [1 4 3 0 2]\n",
      "category [2 0 1 3]\n",
      "sex_Var [0 1]\n"
     ]
    }
   ],
   "source": [
    "##  Unique Values\n",
    "for column in thyroid_data.columns:\n",
    "    print(column,(thyroid_data[column].unique()))"
   ]
  },
  {
   "cell_type": "code",
   "execution_count": null,
   "id": "e5b2a66c",
   "metadata": {},
   "outputs": [],
   "source": []
  },
  {
   "cell_type": "code",
   "execution_count": 57,
   "id": "61e3423b",
   "metadata": {},
   "outputs": [
    {
     "name": "stdout",
     "output_type": "stream",
     "text": [
      "age [41. 23. 46. 70. 18. 59. 80. 66. 68. 84. 67. 71. 28. 65. 42. 63. 51. 81.\n",
      " 54. 55. 60. 25. 73. 34. 78. 37. 85. 26. 58. 64. 44. 48. 61. 35. 83. 21.\n",
      " 87. 53. 77. 27. 69. 74. 38. 76. 45. 36. 22. 43. 72. 82. 31. 39. 49. 62.\n",
      " 57.  1. 50. 30. 29. 75. 19.  7. 79. 17. 24. 15. 32. 47. 16. 52. 33. 13.\n",
      " 10. 89. 56. 20. 90. 40. 88. 14. 86. 94. 12.  4. 11.  8.  5.  2. 91.  6.\n",
      " 93. 92.]\n",
      "sex [0 1]\n",
      "on thyroxine [0 1]\n",
      "query on thyroxine [0 1]\n",
      "on antithyroid medication [0 1]\n",
      "sick [0 1]\n",
      "pregnant [0 1]\n",
      "thyroid surgery [0 1]\n",
      "I131 treatment [0 1]\n",
      "query hypothyroid [0 1]\n",
      "query hyperthyroid [0 1]\n",
      "lithium [0 1]\n",
      "goitre [0 1]\n",
      "tumor [0 1]\n",
      "hypopituitary [0 1]\n",
      "psych [0 1]\n",
      "TSH measured [1 0]\n",
      "TSH [1.30e+00 4.10e+00 9.80e-01 1.60e-01 7.20e-01 3.00e-02 1.50e+00 2.20e+00\n",
      " 6.00e-01 2.40e+00 1.10e+00 2.80e+00 3.30e+00 1.20e+01 1.20e+00 6.00e+00\n",
      " 2.10e+00 1.00e-01 8.00e-01 1.90e+00 3.10e+00 2.00e-01 1.30e+01 3.00e-01\n",
      " 3.50e-02 2.50e+00 5.00e-01 1.70e+00 7.30e+00 1.80e+00 2.60e-01 4.50e+01\n",
      " 5.40e+00 9.90e-01 2.50e-01 9.20e-01 1.50e-01 6.40e-01 1.00e+00 4.00e-01\n",
      " 2.00e+00 2.60e+00 1.48e+01 1.50e+01 1.90e+01 2.00e-02 3.00e+00 2.90e+00\n",
      " 3.20e+00 9.00e+00 1.60e+00 4.30e+00 5.00e-03 3.10e-01 6.10e-01 5.00e-02\n",
      " 7.80e+00 1.60e+02 2.50e-02 1.40e+00 1.00e-02 8.80e+00 1.51e+02 4.00e-02\n",
      " 3.90e+00 9.40e+00 2.70e+00 2.30e+00 9.40e-01 4.50e-02 3.50e+00 8.80e-01\n",
      " 8.00e-02 4.50e+00 6.80e-01 7.00e-01 6.70e-01 2.70e+01 6.10e+00 7.50e-01\n",
      " 5.50e-01 2.60e+01 5.20e+00 7.70e-01 7.00e-02 9.00e-01 1.14e+01 1.43e+02\n",
      " 4.50e-01 5.70e-01 6.50e-01 1.50e-02 1.60e+01 1.08e+02 8.30e-01 9.20e+00\n",
      " 8.60e+01 6.20e-01 5.90e-01 9.10e+00 5.90e+00 5.20e+01 3.30e-01 3.10e+01\n",
      " 5.80e+00 2.80e-01 5.10e+01 6.30e+00 4.40e+00 9.60e+00 3.40e+00 9.00e-02\n",
      " 2.40e+01 7.60e-01 4.20e+01 2.50e+01 1.00e+01 4.60e+00 8.60e+00 6.60e-01\n",
      " 6.20e+00 7.90e-01 2.80e+01 8.60e-01 9.70e+00 8.40e-01 1.70e+01 1.80e+01\n",
      " 5.50e+01 1.40e+01 3.70e+00 8.70e-01 6.70e+00 7.40e-01 7.60e+00 6.50e-02\n",
      " 2.90e-01 3.70e-01 8.00e+00 1.10e+01 4.80e-01 4.40e+01 7.90e+00 5.00e+00\n",
      " 7.20e+00 8.90e-01 9.30e-01 9.70e-01 1.20e-01 6.40e+00 3.30e+01 8.50e-01\n",
      " 7.10e+00 7.30e-01 1.99e+02 8.20e+00 1.88e+02 2.20e-01 9.80e+01 2.20e+01\n",
      " 6.60e+00 5.10e+00 6.00e-02 4.20e-01 3.80e+00 3.50e+01 4.00e+00 7.80e-01\n",
      " 6.30e-01 5.20e-01 6.00e+01 4.30e-01 5.60e+00 6.90e+00 3.60e+00 2.90e+01\n",
      " 3.80e-01 4.90e+00 4.10e-01 9.90e+00 7.50e+00 3.40e+01 6.50e+00 4.70e+00\n",
      " 1.03e+02 9.50e-01 1.40e-01 3.50e-01 4.20e+00 8.10e-01 5.40e-01 5.80e-01\n",
      " 8.90e+00 5.50e+00 3.40e-01 9.30e+00 1.30e-01 5.40e+01 3.90e-01 8.30e+00\n",
      " 4.78e+02 2.10e+01 6.80e+00 3.20e-01 2.30e-01 2.40e-01 8.10e+00 9.10e-01\n",
      " 5.30e+00 1.00e+02 2.70e-01 1.01e+00 5.80e+01 4.10e+01 1.83e+02 1.84e+01\n",
      " 4.70e-01 1.70e-01 1.21e+01 1.90e-01 8.20e-01 4.30e+01 4.40e-01 7.00e+01\n",
      " 7.70e+00 8.40e+00 6.90e-01 8.50e+00 2.10e-01 8.20e+01 5.50e-02 9.60e-01\n",
      " 7.10e-01 3.80e+01 3.60e-01 9.80e+00 7.00e+00 4.60e-01 1.11e+01 3.90e+01\n",
      " 7.60e+01 5.70e+00 3.20e+01 1.26e+02 2.64e+01 5.30e-01 4.90e-01 3.60e+01\n",
      " 1.78e+02 1.45e+02 4.70e+01 4.80e+00 1.03e+01 8.90e+01 7.40e+00 4.72e+02\n",
      " 5.10e-01 1.16e+02 6.10e+01 9.90e+01 4.60e+01 7.80e+01 4.68e+02]\n",
      "T3 measured [1 0]\n",
      "T3 [ 2.5   2.    1.9   1.2   0.6   2.2   1.6   3.8   1.7   1.8   2.6   2.1\n",
      "  0.3   5.5   1.4   3.1   1.5   2.3   2.4   2.7   0.9   1.    2.8   2.9\n",
      "  0.8   1.3   0.4   3.3   3.5   3.4   1.1   4.2   3.7   3.    0.7   4.8\n",
      "  4.3   0.05  3.2   5.4   4.    0.5   0.2   3.6   5.2   5.    6.    5.3\n",
      "  3.9   4.6   4.5   7.3   4.7   6.7   4.1   6.1   0.1   4.9  10.6   5.1\n",
      "  7.    6.2   4.4   7.1 ]\n",
      "TT4 measured [1 0]\n",
      "TT4 [125.  102.  109.  175.   61.  183.   72.   80.  123.   83.  115.  152.\n",
      " 171.   97.   99.   70.  117.  121.  130.  108.  104.  134.  199.   57.\n",
      " 129.  113.  119.   84.   81.   95.   66.  101.  147.  120.   69.   39.\n",
      "  87.   63.  133.   86.  163.  162.  103.   96.  151.  112.   82.  138.\n",
      "  71.   77.   93.  107.  237.  110.   67.   88.  160.  118.  136.  114.\n",
      " 116.   94.  161.   11.   32.  124.  137.   92.  135.  105.  150.  126.\n",
      " 146.   91.  217.  141.  159.  122.  100.  111.  140.  205.  225.   85.\n",
      "  90.   74.  219.  127.  132.  128.  106.  144.  131.   56.   79.  142.\n",
      "  98.  177.  139.   78.  189.  180.   73.  145.  184.   38.  156.   75.\n",
      " 148.   14.   76.   54.   58.   27.   65.  193.   13.  143.   12.   64.\n",
      " 257.  164.   59.  167.   18.   41.  176.   37.   33.   44.   45.  154.\n",
      " 174.  203.  244.   62.  158.   60.  187.  250.  181.  157.  223.  272.\n",
      " 166.  213.  235.   10.   68.  231.  191.   48.    5.8 169.  149.  210.\n",
      "  40.  155.  232.   42.  204.  430.  198.  230.   15.  170.  165.   47.\n",
      " 168.  194.   89.   52.  179.  192.  172.    4.8  50.  182.  197.  214.\n",
      " 246.  196.  207.   19.  153.   22.   46.  200.   35.  226.  201.  233.\n",
      " 206.   31.  255.  178.  239.  195.    6.   36.    2.    3.  289.  240.\n",
      " 209.   43.   34.  252.   29.  263.  301.   23.  188.  211.  253.   21.\n",
      " 173. ]\n",
      "T4U measured [1 0]\n",
      "T4U ['1.14' 0.97 '0.91' '0.87' '1.3' '0.92' '0.7' '0.93' '0.89' '0.95' '0.99'\n",
      " '1.13' '0.86' '0.96' '0.94' '0.9' '1.02' '1.05' '0.62' '1.06' '1.55'\n",
      " '0.83' '1.09' '1.07' '1.27' '0.76' '1.16' '1' '0.56' '0.81' '0.68' '0.78'\n",
      " '0.85' '1.35' '1.15' '0.82' '1.03' '1.58' '0.79' '1.17' '0.71' '0.72'\n",
      " '0.88' '1.11' '1.2' '1.1' '1.33' '0.77' '1.24' '0.53' '1.44' '1.63'\n",
      " '1.51' '1.42' '1.23' '1.01' '0.98' '0.61' '1.12' '1.43' '1.25' '1.41'\n",
      " '1.68' '0.97' '0.84' '0.8' '1.04' '0.73' '1.08' '1.26' '1.46' '1.29'\n",
      " '1.34' '1.66' '1.21' '1.19' '0.75' '0.52' '1.83' '1.39' '1.5' '1.93'\n",
      " '1.18' '0.74' '0.58' '1.82' '0.6' '1.67' '1.22' '0.66' '0.67' '1.31'\n",
      " '0.54' '1.77' '1.59' '1.97' '1.69' '1.38' '1.28' '1.4' '0.69' '0.65'\n",
      " '1.74' '2.03' '1.73' '1.65' '1.36' '1.52' '0.57' '1.53' '1.84' '1.57'\n",
      " '1.75' '1.32' '1.37' '0.64' '1.79' '1.8' '0.48' '1.71' '1.62' '1.76'\n",
      " '1.56' '1.48' '0.59' '0.31' '1.94' '2.12' '1.47' '0.63' '0.944' '0.49'\n",
      " '1.88' '0.5' '0.38' '1.49' '0.41' '1.61' '1.7']\n",
      "FTI measured [1 0]\n",
      "FTI [109.  106.  120.   70.  141.   78.  115.  132.   93.  121.  153.  151.\n",
      " 107.  119.   87.   81.  104.  130.  116.  131.  190.   92.  102.   76.\n",
      "  98.   90.   61.   94.  129.   95.   91.   33.  113.  148.  140.  171.\n",
      " 155.  186.  122.  136.  110.  111.   97.   72.  100.   88.   67.   84.\n",
      " 103.  135.  203.  112.  117.  180.  142.  145.  156.   96.  134.    8.9\n",
      "  60.  139.   41.   99.   89.  146.  124.  105.   85.  157.  143.   71.\n",
      " 221.   28.  108.  137.   83.   74.  170.   65.  101.  127.  274.  154.\n",
      " 114.   62.   86.  126.  125.   64.  172.  162.   79.  118.   73.  152.\n",
      " 163.  149.   14.   51.  165.   77.   32.   69.   80.   11.   54.  164.\n",
      " 123.  144.   10.  214.  200.  160.   53.   16.  138.  169.   56.   47.\n",
      " 133.   43.   68.  179.  224.  220.   82.  362.  182.   75.   66.  161.\n",
      "  57.   58.  312.   63.  128.  147.  158.  281.  207.  216.  251.  194.\n",
      "  46.    7.   42.  174.  395.  185.   13.  201.   48.  173.  167.  188.\n",
      " 150.  235.  175.  159.    5.4 189.   59.  166.   34.  228.  232.  217.\n",
      " 177.  176.  195.  219.   17.  210.  168.  205.   39.  187.   50.  349.\n",
      "  52.  206.  253.  242.  244.  213.  178.  247.  215.  198.   19.  237.\n",
      "  37.    7.6  24.    2.    3.  191.  223.    9.   29.  222.  204.   26.\n",
      " 218.  197.   49.  209.  183. ]\n",
      "referral source [1 4 3 0 2]\n",
      "category [2 0 1 3]\n",
      "sex_Var [0 1]\n"
     ]
    }
   ],
   "source": [
    "##  Unique Values\n",
    "for column in thyroid_data.columns:\n",
    "    print(column,(thyroid_data[column].unique()))"
   ]
  },
  {
   "cell_type": "code",
   "execution_count": 58,
   "id": "f11aadad",
   "metadata": {},
   "outputs": [
    {
     "data": {
      "text/plain": [
       "age                          float64\n",
       "sex                            int32\n",
       "on thyroxine                   int32\n",
       "query on thyroxine             int32\n",
       "on antithyroid medication      int32\n",
       "sick                           int32\n",
       "pregnant                       int32\n",
       "thyroid surgery                int32\n",
       "I131 treatment                 int32\n",
       "query hypothyroid              int32\n",
       "query hyperthyroid             int32\n",
       "lithium                        int32\n",
       "goitre                         int32\n",
       "tumor                          int32\n",
       "hypopituitary                  int32\n",
       "psych                          int32\n",
       "TSH measured                   int32\n",
       "TSH                          float64\n",
       "T3 measured                    int32\n",
       "T3                           float64\n",
       "TT4 measured                   int32\n",
       "TT4                          float64\n",
       "T4U measured                   int32\n",
       "T4U                           object\n",
       "FTI measured                   int32\n",
       "FTI                          float64\n",
       "referral source                int32\n",
       "category                       int32\n",
       "sex_Var                        int32\n",
       "dtype: object"
      ]
     },
     "execution_count": 58,
     "metadata": {},
     "output_type": "execute_result"
    }
   ],
   "source": [
    "thyroid_data.dtypes"
   ]
  },
  {
   "cell_type": "code",
   "execution_count": 59,
   "id": "2ddde081",
   "metadata": {},
   "outputs": [
    {
     "data": {
      "text/html": [
       "<div>\n",
       "<style scoped>\n",
       "    .dataframe tbody tr th:only-of-type {\n",
       "        vertical-align: middle;\n",
       "    }\n",
       "\n",
       "    .dataframe tbody tr th {\n",
       "        vertical-align: top;\n",
       "    }\n",
       "\n",
       "    .dataframe thead th {\n",
       "        text-align: right;\n",
       "    }\n",
       "</style>\n",
       "<table border=\"1\" class=\"dataframe\">\n",
       "  <thead>\n",
       "    <tr style=\"text-align: right;\">\n",
       "      <th></th>\n",
       "      <th>age</th>\n",
       "      <th>sex</th>\n",
       "      <th>on thyroxine</th>\n",
       "      <th>query on thyroxine</th>\n",
       "      <th>on antithyroid medication</th>\n",
       "      <th>sick</th>\n",
       "      <th>pregnant</th>\n",
       "      <th>thyroid surgery</th>\n",
       "      <th>I131 treatment</th>\n",
       "      <th>query hypothyroid</th>\n",
       "      <th>...</th>\n",
       "      <th>T3</th>\n",
       "      <th>TT4 measured</th>\n",
       "      <th>TT4</th>\n",
       "      <th>T4U measured</th>\n",
       "      <th>T4U</th>\n",
       "      <th>FTI measured</th>\n",
       "      <th>FTI</th>\n",
       "      <th>referral source</th>\n",
       "      <th>category</th>\n",
       "      <th>sex_Var</th>\n",
       "    </tr>\n",
       "  </thead>\n",
       "  <tbody>\n",
       "    <tr>\n",
       "      <th>0</th>\n",
       "      <td>41.0</td>\n",
       "      <td>0</td>\n",
       "      <td>0</td>\n",
       "      <td>0</td>\n",
       "      <td>0</td>\n",
       "      <td>0</td>\n",
       "      <td>0</td>\n",
       "      <td>0</td>\n",
       "      <td>0</td>\n",
       "      <td>0</td>\n",
       "      <td>...</td>\n",
       "      <td>2.5</td>\n",
       "      <td>1</td>\n",
       "      <td>125.0</td>\n",
       "      <td>1</td>\n",
       "      <td>1.14</td>\n",
       "      <td>1</td>\n",
       "      <td>109.0</td>\n",
       "      <td>1</td>\n",
       "      <td>2</td>\n",
       "      <td>0</td>\n",
       "    </tr>\n",
       "    <tr>\n",
       "      <th>1</th>\n",
       "      <td>23.0</td>\n",
       "      <td>0</td>\n",
       "      <td>0</td>\n",
       "      <td>0</td>\n",
       "      <td>0</td>\n",
       "      <td>0</td>\n",
       "      <td>0</td>\n",
       "      <td>0</td>\n",
       "      <td>0</td>\n",
       "      <td>0</td>\n",
       "      <td>...</td>\n",
       "      <td>2.0</td>\n",
       "      <td>1</td>\n",
       "      <td>102.0</td>\n",
       "      <td>0</td>\n",
       "      <td>0.97</td>\n",
       "      <td>0</td>\n",
       "      <td>106.0</td>\n",
       "      <td>4</td>\n",
       "      <td>2</td>\n",
       "      <td>0</td>\n",
       "    </tr>\n",
       "    <tr>\n",
       "      <th>2</th>\n",
       "      <td>46.0</td>\n",
       "      <td>1</td>\n",
       "      <td>0</td>\n",
       "      <td>0</td>\n",
       "      <td>0</td>\n",
       "      <td>0</td>\n",
       "      <td>0</td>\n",
       "      <td>0</td>\n",
       "      <td>0</td>\n",
       "      <td>0</td>\n",
       "      <td>...</td>\n",
       "      <td>1.9</td>\n",
       "      <td>1</td>\n",
       "      <td>109.0</td>\n",
       "      <td>1</td>\n",
       "      <td>0.91</td>\n",
       "      <td>1</td>\n",
       "      <td>120.0</td>\n",
       "      <td>4</td>\n",
       "      <td>2</td>\n",
       "      <td>0</td>\n",
       "    </tr>\n",
       "    <tr>\n",
       "      <th>3</th>\n",
       "      <td>70.0</td>\n",
       "      <td>0</td>\n",
       "      <td>1</td>\n",
       "      <td>0</td>\n",
       "      <td>0</td>\n",
       "      <td>0</td>\n",
       "      <td>0</td>\n",
       "      <td>0</td>\n",
       "      <td>0</td>\n",
       "      <td>0</td>\n",
       "      <td>...</td>\n",
       "      <td>1.9</td>\n",
       "      <td>1</td>\n",
       "      <td>175.0</td>\n",
       "      <td>0</td>\n",
       "      <td>0.97</td>\n",
       "      <td>0</td>\n",
       "      <td>106.0</td>\n",
       "      <td>4</td>\n",
       "      <td>2</td>\n",
       "      <td>0</td>\n",
       "    </tr>\n",
       "    <tr>\n",
       "      <th>4</th>\n",
       "      <td>70.0</td>\n",
       "      <td>0</td>\n",
       "      <td>0</td>\n",
       "      <td>0</td>\n",
       "      <td>0</td>\n",
       "      <td>0</td>\n",
       "      <td>0</td>\n",
       "      <td>0</td>\n",
       "      <td>0</td>\n",
       "      <td>0</td>\n",
       "      <td>...</td>\n",
       "      <td>1.2</td>\n",
       "      <td>1</td>\n",
       "      <td>61.0</td>\n",
       "      <td>1</td>\n",
       "      <td>0.87</td>\n",
       "      <td>1</td>\n",
       "      <td>70.0</td>\n",
       "      <td>3</td>\n",
       "      <td>2</td>\n",
       "      <td>0</td>\n",
       "    </tr>\n",
       "  </tbody>\n",
       "</table>\n",
       "<p>5 rows × 29 columns</p>\n",
       "</div>"
      ],
      "text/plain": [
       "    age  sex  on thyroxine  query on thyroxine  on antithyroid medication  \\\n",
       "0  41.0    0             0                   0                          0   \n",
       "1  23.0    0             0                   0                          0   \n",
       "2  46.0    1             0                   0                          0   \n",
       "3  70.0    0             1                   0                          0   \n",
       "4  70.0    0             0                   0                          0   \n",
       "\n",
       "   sick  pregnant  thyroid surgery  I131 treatment  query hypothyroid  ...  \\\n",
       "0     0         0                0               0                  0  ...   \n",
       "1     0         0                0               0                  0  ...   \n",
       "2     0         0                0               0                  0  ...   \n",
       "3     0         0                0               0                  0  ...   \n",
       "4     0         0                0               0                  0  ...   \n",
       "\n",
       "    T3  TT4 measured    TT4  T4U measured   T4U  FTI measured    FTI  \\\n",
       "0  2.5             1  125.0             1  1.14             1  109.0   \n",
       "1  2.0             1  102.0             0  0.97             0  106.0   \n",
       "2  1.9             1  109.0             1  0.91             1  120.0   \n",
       "3  1.9             1  175.0             0  0.97             0  106.0   \n",
       "4  1.2             1   61.0             1  0.87             1   70.0   \n",
       "\n",
       "   referral source  category  sex_Var  \n",
       "0                1         2        0  \n",
       "1                4         2        0  \n",
       "2                4         2        0  \n",
       "3                4         2        0  \n",
       "4                3         2        0  \n",
       "\n",
       "[5 rows x 29 columns]"
      ]
     },
     "execution_count": 59,
     "metadata": {},
     "output_type": "execute_result"
    }
   ],
   "source": [
    "thyroid_data.head()"
   ]
  },
  {
   "cell_type": "code",
   "execution_count": 60,
   "id": "a9be0579",
   "metadata": {
    "scrolled": true
   },
   "outputs": [
    {
     "data": {
      "text/plain": [
       "array([[<AxesSubplot:title={'center':'age'}>,\n",
       "        <AxesSubplot:title={'center':'sex'}>,\n",
       "        <AxesSubplot:title={'center':'on thyroxine'}>,\n",
       "        <AxesSubplot:title={'center':'query on thyroxine'}>,\n",
       "        <AxesSubplot:title={'center':'on antithyroid medication'}>],\n",
       "       [<AxesSubplot:title={'center':'sick'}>,\n",
       "        <AxesSubplot:title={'center':'pregnant'}>,\n",
       "        <AxesSubplot:title={'center':'thyroid surgery'}>,\n",
       "        <AxesSubplot:title={'center':'I131 treatment'}>,\n",
       "        <AxesSubplot:title={'center':'query hypothyroid'}>],\n",
       "       [<AxesSubplot:title={'center':'query hyperthyroid'}>,\n",
       "        <AxesSubplot:title={'center':'lithium'}>,\n",
       "        <AxesSubplot:title={'center':'goitre'}>,\n",
       "        <AxesSubplot:title={'center':'tumor'}>,\n",
       "        <AxesSubplot:title={'center':'hypopituitary'}>],\n",
       "       [<AxesSubplot:title={'center':'psych'}>,\n",
       "        <AxesSubplot:title={'center':'TSH measured'}>,\n",
       "        <AxesSubplot:title={'center':'TSH'}>,\n",
       "        <AxesSubplot:title={'center':'T3 measured'}>,\n",
       "        <AxesSubplot:title={'center':'T3'}>],\n",
       "       [<AxesSubplot:title={'center':'TT4 measured'}>,\n",
       "        <AxesSubplot:title={'center':'TT4'}>,\n",
       "        <AxesSubplot:title={'center':'T4U measured'}>,\n",
       "        <AxesSubplot:title={'center':'FTI measured'}>,\n",
       "        <AxesSubplot:title={'center':'FTI'}>],\n",
       "       [<AxesSubplot:title={'center':'referral source'}>,\n",
       "        <AxesSubplot:title={'center':'category'}>,\n",
       "        <AxesSubplot:title={'center':'sex_Var'}>, <AxesSubplot:>,\n",
       "        <AxesSubplot:>]], dtype=object)"
      ]
     },
     "execution_count": 60,
     "metadata": {},
     "output_type": "execute_result"
    },
    {
     "data": {
      "image/png": "[encoded data removed]",
      "text/plain": [
       "<Figure size 1440x1080 with 30 Axes>"
      ]
     },
     "metadata": {
      "needs_background": "light"
     },
     "output_type": "display_data"
    }
   ],
   "source": [
    "thyroid_data.hist(bins=50,figsize=(20,15))"
   ]
  },
  {
   "cell_type": "code",
   "execution_count": 61,
   "id": "1664a3de",
   "metadata": {},
   "outputs": [],
   "source": [
    "x = thyroid_data.drop(\"category\",axis=1)\n",
    "y = thyroid_data[\"category\"]"
   ]
  },
  {
   "cell_type": "code",
   "execution_count": 62,
   "id": "4e06f1d3",
   "metadata": {},
   "outputs": [
    {
     "data": {
      "text/plain": [
       "<AxesSubplot:xlabel='category', ylabel='count'>"
      ]
     },
     "execution_count": 62,
     "metadata": {},
     "output_type": "execute_result"
    },
    {
     "data": {
      "image/png": "[encoded data removed]",
      "text/plain": [
       "<Figure size 432x288 with 1 Axes>"
      ]
     },
     "metadata": {
      "needs_background": "light"
     },
     "output_type": "display_data"
    }
   ],
   "source": [
    "sns.countplot(thyroid_data['category'])"
   ]
  },
  {
   "cell_type": "code",
   "execution_count": 63,
   "id": "59d15e11",
   "metadata": {},
   "outputs": [
    {
     "data": {
      "text/plain": [
       "Index(['age', 'sex', 'on thyroxine', 'query on thyroxine',\n",
       "       'on antithyroid medication', 'sick', 'pregnant', 'thyroid surgery',\n",
       "       'I131 treatment', 'query hypothyroid', 'query hyperthyroid', 'lithium',\n",
       "       'goitre', 'tumor', 'hypopituitary', 'psych', 'TSH measured', 'TSH',\n",
       "       'T3 measured', 'T3', 'TT4 measured', 'TT4', 'T4U measured', 'T4U',\n",
       "       'FTI measured', 'FTI', 'referral source', 'sex_Var'],\n",
       "      dtype='object')"
      ]
     },
     "execution_count": 63,
     "metadata": {},
     "output_type": "execute_result"
    },
    {
     "data": {
      "image/png": "[encoded data removed]",
      "text/plain": [
       "<Figure size 432x288 with 1 Axes>"
      ]
     },
     "metadata": {
      "needs_background": "light"
     },
     "output_type": "display_data"
    }
   ],
   "source": [
    "from imblearn.over_sampling import SMOTENC,RandomOverSampler,KMeansSMOTE\n",
    "\n",
    "\n",
    "rdsmple=RandomOverSampler()\n",
    "x_sampled,y_sampled=rdsmple.fit_resample(x,y)\n",
    "\n",
    "x_sampled.shape\n",
    "\n",
    "\n",
    "x_sampled=pd.DataFrame(data=x_sampled,columns=x.columns)\n",
    "\n",
    "\n",
    "x_sampled\n",
    "\n",
    "\n",
    "sns.countplot(y_sampled)\n",
    "\n",
    "\n",
    "x_sampled.columns"
   ]
  },
  {
   "cell_type": "code",
   "execution_count": 64,
   "id": "71f5dcca",
   "metadata": {},
   "outputs": [
    {
     "data": {
      "text/plain": [
       "((7708, 28), (3304, 28))"
      ]
     },
     "execution_count": 64,
     "metadata": {},
     "output_type": "execute_result"
    }
   ],
   "source": [
    "from sklearn.model_selection import train_test_split\n",
    "x_train,x_test,y_train,y_test= train_test_split(x_sampled, y_sampled, test_size=0.30, random_state=0)\n",
    "x_train.shape,x_test.shape"
   ]
  },
  {
   "cell_type": "code",
   "execution_count": 65,
   "id": "72418814",
   "metadata": {},
   "outputs": [
    {
     "data": {
      "text/html": [
       "<div>\n",
       "<style scoped>\n",
       "    .dataframe tbody tr th:only-of-type {\n",
       "        vertical-align: middle;\n",
       "    }\n",
       "\n",
       "    .dataframe tbody tr th {\n",
       "        vertical-align: top;\n",
       "    }\n",
       "\n",
       "    .dataframe thead th {\n",
       "        text-align: right;\n",
       "    }\n",
       "</style>\n",
       "<table border=\"1\" class=\"dataframe\">\n",
       "  <thead>\n",
       "    <tr style=\"text-align: right;\">\n",
       "      <th></th>\n",
       "      <th>age</th>\n",
       "      <th>sex</th>\n",
       "      <th>on thyroxine</th>\n",
       "      <th>query on thyroxine</th>\n",
       "      <th>on antithyroid medication</th>\n",
       "      <th>sick</th>\n",
       "      <th>pregnant</th>\n",
       "      <th>thyroid surgery</th>\n",
       "      <th>I131 treatment</th>\n",
       "      <th>query hypothyroid</th>\n",
       "      <th>...</th>\n",
       "      <th>TSH</th>\n",
       "      <th>T3 measured</th>\n",
       "      <th>T3</th>\n",
       "      <th>TT4 measured</th>\n",
       "      <th>TT4</th>\n",
       "      <th>T4U measured</th>\n",
       "      <th>FTI measured</th>\n",
       "      <th>FTI</th>\n",
       "      <th>referral source</th>\n",
       "      <th>sex_Var</th>\n",
       "    </tr>\n",
       "  </thead>\n",
       "  <tbody>\n",
       "    <tr>\n",
       "      <th>age</th>\n",
       "      <td>1.000000</td>\n",
       "      <td>0.055935</td>\n",
       "      <td>-0.019090</td>\n",
       "      <td>-0.044890</td>\n",
       "      <td>-0.016778</td>\n",
       "      <td>0.098169</td>\n",
       "      <td>-0.190543</td>\n",
       "      <td>-0.069437</td>\n",
       "      <td>-0.012309</td>\n",
       "      <td>-0.002248</td>\n",
       "      <td>...</td>\n",
       "      <td>-0.121147</td>\n",
       "      <td>0.090322</td>\n",
       "      <td>-0.241472</td>\n",
       "      <td>0.085718</td>\n",
       "      <td>-0.112603</td>\n",
       "      <td>0.139161</td>\n",
       "      <td>0.139161</td>\n",
       "      <td>-0.039497</td>\n",
       "      <td>0.080469</td>\n",
       "      <td>-0.037299</td>\n",
       "    </tr>\n",
       "    <tr>\n",
       "      <th>sex</th>\n",
       "      <td>0.055935</td>\n",
       "      <td>1.000000</td>\n",
       "      <td>-0.017293</td>\n",
       "      <td>0.039401</td>\n",
       "      <td>0.053843</td>\n",
       "      <td>0.062183</td>\n",
       "      <td>-0.079783</td>\n",
       "      <td>-0.032786</td>\n",
       "      <td>-0.037835</td>\n",
       "      <td>0.058078</td>\n",
       "      <td>...</td>\n",
       "      <td>-0.034007</td>\n",
       "      <td>0.088602</td>\n",
       "      <td>-0.131454</td>\n",
       "      <td>0.021803</td>\n",
       "      <td>-0.231757</td>\n",
       "      <td>-0.083023</td>\n",
       "      <td>-0.083023</td>\n",
       "      <td>-0.153213</td>\n",
       "      <td>-0.077930</td>\n",
       "      <td>-0.122727</td>\n",
       "    </tr>\n",
       "    <tr>\n",
       "      <th>on thyroxine</th>\n",
       "      <td>-0.019090</td>\n",
       "      <td>-0.017293</td>\n",
       "      <td>1.000000</td>\n",
       "      <td>-0.015285</td>\n",
       "      <td>-0.000617</td>\n",
       "      <td>-0.047557</td>\n",
       "      <td>-0.014373</td>\n",
       "      <td>0.039008</td>\n",
       "      <td>0.104552</td>\n",
       "      <td>0.100936</td>\n",
       "      <td>...</td>\n",
       "      <td>0.064959</td>\n",
       "      <td>-0.109521</td>\n",
       "      <td>-0.025527</td>\n",
       "      <td>-0.037009</td>\n",
       "      <td>-0.011629</td>\n",
       "      <td>-0.001877</td>\n",
       "      <td>-0.001877</td>\n",
       "      <td>-0.036828</td>\n",
       "      <td>0.072891</td>\n",
       "      <td>0.029651</td>\n",
       "    </tr>\n",
       "    <tr>\n",
       "      <th>query on thyroxine</th>\n",
       "      <td>-0.044890</td>\n",
       "      <td>0.039401</td>\n",
       "      <td>-0.015285</td>\n",
       "      <td>1.000000</td>\n",
       "      <td>-0.010998</td>\n",
       "      <td>0.050688</td>\n",
       "      <td>-0.009062</td>\n",
       "      <td>0.002990</td>\n",
       "      <td>-0.017339</td>\n",
       "      <td>-0.037165</td>\n",
       "      <td>...</td>\n",
       "      <td>-0.029770</td>\n",
       "      <td>-0.063763</td>\n",
       "      <td>-0.046296</td>\n",
       "      <td>0.016401</td>\n",
       "      <td>-0.024636</td>\n",
       "      <td>0.024816</td>\n",
       "      <td>0.024816</td>\n",
       "      <td>-0.019327</td>\n",
       "      <td>0.039449</td>\n",
       "      <td>-0.026104</td>\n",
       "    </tr>\n",
       "    <tr>\n",
       "      <th>on antithyroid medication</th>\n",
       "      <td>-0.016778</td>\n",
       "      <td>0.053843</td>\n",
       "      <td>-0.000617</td>\n",
       "      <td>-0.010998</td>\n",
       "      <td>1.000000</td>\n",
       "      <td>-0.020682</td>\n",
       "      <td>0.010471</td>\n",
       "      <td>-0.007097</td>\n",
       "      <td>-0.001204</td>\n",
       "      <td>-0.020609</td>\n",
       "      <td>...</td>\n",
       "      <td>-0.019756</td>\n",
       "      <td>0.019782</td>\n",
       "      <td>0.069673</td>\n",
       "      <td>-0.011617</td>\n",
       "      <td>-0.047526</td>\n",
       "      <td>0.000718</td>\n",
       "      <td>0.000718</td>\n",
       "      <td>-0.061515</td>\n",
       "      <td>0.045409</td>\n",
       "      <td>-0.018308</td>\n",
       "    </tr>\n",
       "    <tr>\n",
       "      <th>sick</th>\n",
       "      <td>0.098169</td>\n",
       "      <td>0.062183</td>\n",
       "      <td>-0.047557</td>\n",
       "      <td>0.050688</td>\n",
       "      <td>-0.020682</td>\n",
       "      <td>1.000000</td>\n",
       "      <td>-0.031913</td>\n",
       "      <td>-0.019028</td>\n",
       "      <td>-0.032607</td>\n",
       "      <td>0.094251</td>\n",
       "      <td>...</td>\n",
       "      <td>-0.037580</td>\n",
       "      <td>0.071638</td>\n",
       "      <td>-0.127002</td>\n",
       "      <td>0.012782</td>\n",
       "      <td>-0.074342</td>\n",
       "      <td>-0.014753</td>\n",
       "      <td>-0.014753</td>\n",
       "      <td>-0.051405</td>\n",
       "      <td>-0.053057</td>\n",
       "      <td>-0.022895</td>\n",
       "    </tr>\n",
       "    <tr>\n",
       "      <th>pregnant</th>\n",
       "      <td>-0.190543</td>\n",
       "      <td>-0.079783</td>\n",
       "      <td>-0.014373</td>\n",
       "      <td>-0.009062</td>\n",
       "      <td>0.010471</td>\n",
       "      <td>-0.031913</td>\n",
       "      <td>1.000000</td>\n",
       "      <td>-0.010950</td>\n",
       "      <td>-0.018764</td>\n",
       "      <td>-0.036646</td>\n",
       "      <td>...</td>\n",
       "      <td>-0.036253</td>\n",
       "      <td>-0.010484</td>\n",
       "      <td>0.098860</td>\n",
       "      <td>0.017749</td>\n",
       "      <td>0.144002</td>\n",
       "      <td>0.031954</td>\n",
       "      <td>0.031954</td>\n",
       "      <td>0.032643</td>\n",
       "      <td>-0.318672</td>\n",
       "      <td>-0.028249</td>\n",
       "    </tr>\n",
       "    <tr>\n",
       "      <th>thyroid surgery</th>\n",
       "      <td>-0.069437</td>\n",
       "      <td>-0.032786</td>\n",
       "      <td>0.039008</td>\n",
       "      <td>0.002990</td>\n",
       "      <td>-0.007097</td>\n",
       "      <td>-0.019028</td>\n",
       "      <td>-0.010950</td>\n",
       "      <td>1.000000</td>\n",
       "      <td>-0.011188</td>\n",
       "      <td>-0.023982</td>\n",
       "      <td>...</td>\n",
       "      <td>0.055363</td>\n",
       "      <td>-0.052338</td>\n",
       "      <td>-0.006869</td>\n",
       "      <td>0.010583</td>\n",
       "      <td>-0.043168</td>\n",
       "      <td>-0.002651</td>\n",
       "      <td>-0.002651</td>\n",
       "      <td>-0.055106</td>\n",
       "      <td>0.025730</td>\n",
       "      <td>-0.016844</td>\n",
       "    </tr>\n",
       "    <tr>\n",
       "      <th>I131 treatment</th>\n",
       "      <td>-0.012309</td>\n",
       "      <td>-0.037835</td>\n",
       "      <td>0.104552</td>\n",
       "      <td>-0.017339</td>\n",
       "      <td>-0.001204</td>\n",
       "      <td>-0.032607</td>\n",
       "      <td>-0.018764</td>\n",
       "      <td>-0.011188</td>\n",
       "      <td>1.000000</td>\n",
       "      <td>0.014919</td>\n",
       "      <td>...</td>\n",
       "      <td>0.005029</td>\n",
       "      <td>-0.065757</td>\n",
       "      <td>0.065047</td>\n",
       "      <td>0.018136</td>\n",
       "      <td>0.008225</td>\n",
       "      <td>0.028375</td>\n",
       "      <td>0.028375</td>\n",
       "      <td>-0.013987</td>\n",
       "      <td>0.100039</td>\n",
       "      <td>-0.019304</td>\n",
       "    </tr>\n",
       "    <tr>\n",
       "      <th>query hypothyroid</th>\n",
       "      <td>-0.002248</td>\n",
       "      <td>0.058078</td>\n",
       "      <td>0.100936</td>\n",
       "      <td>-0.037165</td>\n",
       "      <td>-0.020609</td>\n",
       "      <td>0.094251</td>\n",
       "      <td>-0.036646</td>\n",
       "      <td>-0.023982</td>\n",
       "      <td>0.014919</td>\n",
       "      <td>1.000000</td>\n",
       "      <td>...</td>\n",
       "      <td>0.041817</td>\n",
       "      <td>-0.078570</td>\n",
       "      <td>-0.135528</td>\n",
       "      <td>0.024098</td>\n",
       "      <td>-0.118905</td>\n",
       "      <td>-0.062030</td>\n",
       "      <td>-0.062030</td>\n",
       "      <td>-0.097555</td>\n",
       "      <td>-0.021474</td>\n",
       "      <td>0.000032</td>\n",
       "    </tr>\n",
       "    <tr>\n",
       "      <th>query hyperthyroid</th>\n",
       "      <td>-0.019770</td>\n",
       "      <td>-0.117152</td>\n",
       "      <td>0.034128</td>\n",
       "      <td>-0.034732</td>\n",
       "      <td>0.000489</td>\n",
       "      <td>-0.041687</td>\n",
       "      <td>0.045805</td>\n",
       "      <td>-0.016166</td>\n",
       "      <td>0.020676</td>\n",
       "      <td>-0.027609</td>\n",
       "      <td>...</td>\n",
       "      <td>-0.058712</td>\n",
       "      <td>0.063607</td>\n",
       "      <td>0.365913</td>\n",
       "      <td>0.020159</td>\n",
       "      <td>0.359212</td>\n",
       "      <td>0.059254</td>\n",
       "      <td>0.059254</td>\n",
       "      <td>0.357304</td>\n",
       "      <td>0.010676</td>\n",
       "      <td>0.045218</td>\n",
       "    </tr>\n",
       "    <tr>\n",
       "      <th>lithium</th>\n",
       "      <td>-0.048382</td>\n",
       "      <td>-0.028034</td>\n",
       "      <td>0.003451</td>\n",
       "      <td>-0.007957</td>\n",
       "      <td>-0.005581</td>\n",
       "      <td>-0.014964</td>\n",
       "      <td>-0.008611</td>\n",
       "      <td>-0.005135</td>\n",
       "      <td>-0.008799</td>\n",
       "      <td>-0.018860</td>\n",
       "      <td>...</td>\n",
       "      <td>-0.012654</td>\n",
       "      <td>0.011691</td>\n",
       "      <td>-0.016747</td>\n",
       "      <td>0.008323</td>\n",
       "      <td>-0.019375</td>\n",
       "      <td>0.014984</td>\n",
       "      <td>0.014984</td>\n",
       "      <td>-0.024783</td>\n",
       "      <td>-0.074187</td>\n",
       "      <td>-0.013247</td>\n",
       "    </tr>\n",
       "    <tr>\n",
       "      <th>goitre</th>\n",
       "      <td>-0.037475</td>\n",
       "      <td>0.099332</td>\n",
       "      <td>-0.017615</td>\n",
       "      <td>0.174287</td>\n",
       "      <td>-0.006578</td>\n",
       "      <td>-0.017638</td>\n",
       "      <td>-0.010150</td>\n",
       "      <td>-0.006052</td>\n",
       "      <td>-0.010371</td>\n",
       "      <td>-0.022230</td>\n",
       "      <td>...</td>\n",
       "      <td>-0.020146</td>\n",
       "      <td>-0.071547</td>\n",
       "      <td>-0.024039</td>\n",
       "      <td>-0.003717</td>\n",
       "      <td>-0.066900</td>\n",
       "      <td>0.009863</td>\n",
       "      <td>0.009863</td>\n",
       "      <td>-0.071267</td>\n",
       "      <td>-0.009229</td>\n",
       "      <td>-0.015613</td>\n",
       "    </tr>\n",
       "    <tr>\n",
       "      <th>tumor</th>\n",
       "      <td>-0.110979</td>\n",
       "      <td>-0.115874</td>\n",
       "      <td>-0.045951</td>\n",
       "      <td>-0.029947</td>\n",
       "      <td>-0.021004</td>\n",
       "      <td>-0.056319</td>\n",
       "      <td>0.381329</td>\n",
       "      <td>-0.019324</td>\n",
       "      <td>-0.033114</td>\n",
       "      <td>-0.070979</td>\n",
       "      <td>...</td>\n",
       "      <td>-0.049842</td>\n",
       "      <td>0.055950</td>\n",
       "      <td>0.222397</td>\n",
       "      <td>0.004601</td>\n",
       "      <td>0.057497</td>\n",
       "      <td>0.025583</td>\n",
       "      <td>0.025583</td>\n",
       "      <td>0.007677</td>\n",
       "      <td>-0.135417</td>\n",
       "      <td>-0.003921</td>\n",
       "    </tr>\n",
       "    <tr>\n",
       "      <th>hypopituitary</th>\n",
       "      <td>-0.069692</td>\n",
       "      <td>0.067071</td>\n",
       "      <td>-0.009287</td>\n",
       "      <td>0.315338</td>\n",
       "      <td>-0.003468</td>\n",
       "      <td>-0.009299</td>\n",
       "      <td>-0.005351</td>\n",
       "      <td>-0.003191</td>\n",
       "      <td>-0.005468</td>\n",
       "      <td>-0.011720</td>\n",
       "      <td>...</td>\n",
       "      <td>-0.011179</td>\n",
       "      <td>0.014956</td>\n",
       "      <td>-0.020239</td>\n",
       "      <td>0.005172</td>\n",
       "      <td>-0.042080</td>\n",
       "      <td>0.009311</td>\n",
       "      <td>0.009311</td>\n",
       "      <td>-0.047896</td>\n",
       "      <td>-0.011359</td>\n",
       "      <td>-0.008231</td>\n",
       "    </tr>\n",
       "    <tr>\n",
       "      <th>psych</th>\n",
       "      <td>-0.018797</td>\n",
       "      <td>0.151548</td>\n",
       "      <td>-0.040594</td>\n",
       "      <td>-0.021614</td>\n",
       "      <td>-0.015159</td>\n",
       "      <td>0.094647</td>\n",
       "      <td>-0.017574</td>\n",
       "      <td>-0.013947</td>\n",
       "      <td>-0.023900</td>\n",
       "      <td>0.102006</td>\n",
       "      <td>...</td>\n",
       "      <td>-0.024565</td>\n",
       "      <td>0.063038</td>\n",
       "      <td>-0.056871</td>\n",
       "      <td>0.022607</td>\n",
       "      <td>-0.054679</td>\n",
       "      <td>-0.014740</td>\n",
       "      <td>-0.014740</td>\n",
       "      <td>-0.039467</td>\n",
       "      <td>-0.265448</td>\n",
       "      <td>-0.032107</td>\n",
       "    </tr>\n",
       "    <tr>\n",
       "      <th>TSH measured</th>\n",
       "      <td>0.068495</td>\n",
       "      <td>0.018762</td>\n",
       "      <td>0.006112</td>\n",
       "      <td>-0.065891</td>\n",
       "      <td>0.012647</td>\n",
       "      <td>0.041732</td>\n",
       "      <td>-0.075001</td>\n",
       "      <td>0.018067</td>\n",
       "      <td>0.030959</td>\n",
       "      <td>0.061893</td>\n",
       "      <td>...</td>\n",
       "      <td>0.055770</td>\n",
       "      <td>0.307089</td>\n",
       "      <td>-0.077451</td>\n",
       "      <td>0.320832</td>\n",
       "      <td>-0.099977</td>\n",
       "      <td>0.157286</td>\n",
       "      <td>0.157286</td>\n",
       "      <td>-0.097182</td>\n",
       "      <td>-0.149234</td>\n",
       "      <td>-0.063177</td>\n",
       "    </tr>\n",
       "    <tr>\n",
       "      <th>TSH</th>\n",
       "      <td>-0.121147</td>\n",
       "      <td>-0.034007</td>\n",
       "      <td>0.064959</td>\n",
       "      <td>-0.029770</td>\n",
       "      <td>-0.019756</td>\n",
       "      <td>-0.037580</td>\n",
       "      <td>-0.036253</td>\n",
       "      <td>0.055363</td>\n",
       "      <td>0.005029</td>\n",
       "      <td>0.041817</td>\n",
       "      <td>...</td>\n",
       "      <td>1.000000</td>\n",
       "      <td>-0.008973</td>\n",
       "      <td>-0.165430</td>\n",
       "      <td>0.006094</td>\n",
       "      <td>-0.305080</td>\n",
       "      <td>-0.007480</td>\n",
       "      <td>-0.007480</td>\n",
       "      <td>-0.322624</td>\n",
       "      <td>0.040538</td>\n",
       "      <td>0.029715</td>\n",
       "    </tr>\n",
       "    <tr>\n",
       "      <th>T3 measured</th>\n",
       "      <td>0.090322</td>\n",
       "      <td>0.088602</td>\n",
       "      <td>-0.109521</td>\n",
       "      <td>-0.063763</td>\n",
       "      <td>0.019782</td>\n",
       "      <td>0.071638</td>\n",
       "      <td>-0.010484</td>\n",
       "      <td>-0.052338</td>\n",
       "      <td>-0.065757</td>\n",
       "      <td>-0.078570</td>\n",
       "      <td>...</td>\n",
       "      <td>-0.008973</td>\n",
       "      <td>1.000000</td>\n",
       "      <td>0.025452</td>\n",
       "      <td>0.251522</td>\n",
       "      <td>-0.056411</td>\n",
       "      <td>0.087785</td>\n",
       "      <td>0.087785</td>\n",
       "      <td>-0.018044</td>\n",
       "      <td>-0.180268</td>\n",
       "      <td>-0.036720</td>\n",
       "    </tr>\n",
       "    <tr>\n",
       "      <th>T3</th>\n",
       "      <td>-0.241472</td>\n",
       "      <td>-0.131454</td>\n",
       "      <td>-0.025527</td>\n",
       "      <td>-0.046296</td>\n",
       "      <td>0.069673</td>\n",
       "      <td>-0.127002</td>\n",
       "      <td>0.098860</td>\n",
       "      <td>-0.006869</td>\n",
       "      <td>0.065047</td>\n",
       "      <td>-0.135528</td>\n",
       "      <td>...</td>\n",
       "      <td>-0.165430</td>\n",
       "      <td>0.025452</td>\n",
       "      <td>1.000000</td>\n",
       "      <td>0.001249</td>\n",
       "      <td>0.640494</td>\n",
       "      <td>0.027140</td>\n",
       "      <td>0.027140</td>\n",
       "      <td>0.592239</td>\n",
       "      <td>0.084693</td>\n",
       "      <td>0.046919</td>\n",
       "    </tr>\n",
       "    <tr>\n",
       "      <th>TT4 measured</th>\n",
       "      <td>0.085718</td>\n",
       "      <td>0.021803</td>\n",
       "      <td>-0.037009</td>\n",
       "      <td>0.016401</td>\n",
       "      <td>-0.011617</td>\n",
       "      <td>0.012782</td>\n",
       "      <td>0.017749</td>\n",
       "      <td>0.010583</td>\n",
       "      <td>0.018136</td>\n",
       "      <td>0.024098</td>\n",
       "      <td>...</td>\n",
       "      <td>0.006094</td>\n",
       "      <td>0.251522</td>\n",
       "      <td>0.001249</td>\n",
       "      <td>1.000000</td>\n",
       "      <td>0.029095</td>\n",
       "      <td>0.555459</td>\n",
       "      <td>0.555459</td>\n",
       "      <td>0.036351</td>\n",
       "      <td>-0.005068</td>\n",
       "      <td>-0.083647</td>\n",
       "    </tr>\n",
       "    <tr>\n",
       "      <th>TT4</th>\n",
       "      <td>-0.112603</td>\n",
       "      <td>-0.231757</td>\n",
       "      <td>-0.011629</td>\n",
       "      <td>-0.024636</td>\n",
       "      <td>-0.047526</td>\n",
       "      <td>-0.074342</td>\n",
       "      <td>0.144002</td>\n",
       "      <td>-0.043168</td>\n",
       "      <td>0.008225</td>\n",
       "      <td>-0.118905</td>\n",
       "      <td>...</td>\n",
       "      <td>-0.305080</td>\n",
       "      <td>-0.056411</td>\n",
       "      <td>0.640494</td>\n",
       "      <td>0.029095</td>\n",
       "      <td>1.000000</td>\n",
       "      <td>0.105437</td>\n",
       "      <td>0.105437</td>\n",
       "      <td>0.905657</td>\n",
       "      <td>0.007533</td>\n",
       "      <td>0.051645</td>\n",
       "    </tr>\n",
       "    <tr>\n",
       "      <th>T4U measured</th>\n",
       "      <td>0.139161</td>\n",
       "      <td>-0.083023</td>\n",
       "      <td>-0.001877</td>\n",
       "      <td>0.024816</td>\n",
       "      <td>0.000718</td>\n",
       "      <td>-0.014753</td>\n",
       "      <td>0.031954</td>\n",
       "      <td>-0.002651</td>\n",
       "      <td>0.028375</td>\n",
       "      <td>-0.062030</td>\n",
       "      <td>...</td>\n",
       "      <td>-0.007480</td>\n",
       "      <td>0.087785</td>\n",
       "      <td>0.027140</td>\n",
       "      <td>0.555459</td>\n",
       "      <td>0.105437</td>\n",
       "      <td>1.000000</td>\n",
       "      <td>1.000000</td>\n",
       "      <td>0.065443</td>\n",
       "      <td>-0.032492</td>\n",
       "      <td>-0.023525</td>\n",
       "    </tr>\n",
       "    <tr>\n",
       "      <th>FTI measured</th>\n",
       "      <td>0.139161</td>\n",
       "      <td>-0.083023</td>\n",
       "      <td>-0.001877</td>\n",
       "      <td>0.024816</td>\n",
       "      <td>0.000718</td>\n",
       "      <td>-0.014753</td>\n",
       "      <td>0.031954</td>\n",
       "      <td>-0.002651</td>\n",
       "      <td>0.028375</td>\n",
       "      <td>-0.062030</td>\n",
       "      <td>...</td>\n",
       "      <td>-0.007480</td>\n",
       "      <td>0.087785</td>\n",
       "      <td>0.027140</td>\n",
       "      <td>0.555459</td>\n",
       "      <td>0.105437</td>\n",
       "      <td>1.000000</td>\n",
       "      <td>1.000000</td>\n",
       "      <td>0.065443</td>\n",
       "      <td>-0.032492</td>\n",
       "      <td>-0.023525</td>\n",
       "    </tr>\n",
       "    <tr>\n",
       "      <th>FTI</th>\n",
       "      <td>-0.039497</td>\n",
       "      <td>-0.153213</td>\n",
       "      <td>-0.036828</td>\n",
       "      <td>-0.019327</td>\n",
       "      <td>-0.061515</td>\n",
       "      <td>-0.051405</td>\n",
       "      <td>0.032643</td>\n",
       "      <td>-0.055106</td>\n",
       "      <td>-0.013987</td>\n",
       "      <td>-0.097555</td>\n",
       "      <td>...</td>\n",
       "      <td>-0.322624</td>\n",
       "      <td>-0.018044</td>\n",
       "      <td>0.592239</td>\n",
       "      <td>0.036351</td>\n",
       "      <td>0.905657</td>\n",
       "      <td>0.065443</td>\n",
       "      <td>0.065443</td>\n",
       "      <td>1.000000</td>\n",
       "      <td>0.070853</td>\n",
       "      <td>0.066189</td>\n",
       "    </tr>\n",
       "    <tr>\n",
       "      <th>referral source</th>\n",
       "      <td>0.080469</td>\n",
       "      <td>-0.077930</td>\n",
       "      <td>0.072891</td>\n",
       "      <td>0.039449</td>\n",
       "      <td>0.045409</td>\n",
       "      <td>-0.053057</td>\n",
       "      <td>-0.318672</td>\n",
       "      <td>0.025730</td>\n",
       "      <td>0.100039</td>\n",
       "      <td>-0.021474</td>\n",
       "      <td>...</td>\n",
       "      <td>0.040538</td>\n",
       "      <td>-0.180268</td>\n",
       "      <td>0.084693</td>\n",
       "      <td>-0.005068</td>\n",
       "      <td>0.007533</td>\n",
       "      <td>-0.032492</td>\n",
       "      <td>-0.032492</td>\n",
       "      <td>0.070853</td>\n",
       "      <td>1.000000</td>\n",
       "      <td>-0.019293</td>\n",
       "    </tr>\n",
       "    <tr>\n",
       "      <th>sex_Var</th>\n",
       "      <td>-0.037299</td>\n",
       "      <td>-0.122727</td>\n",
       "      <td>0.029651</td>\n",
       "      <td>-0.026104</td>\n",
       "      <td>-0.018308</td>\n",
       "      <td>-0.022895</td>\n",
       "      <td>-0.028249</td>\n",
       "      <td>-0.016844</td>\n",
       "      <td>-0.019304</td>\n",
       "      <td>0.000032</td>\n",
       "      <td>...</td>\n",
       "      <td>0.029715</td>\n",
       "      <td>-0.036720</td>\n",
       "      <td>0.046919</td>\n",
       "      <td>-0.083647</td>\n",
       "      <td>0.051645</td>\n",
       "      <td>-0.023525</td>\n",
       "      <td>-0.023525</td>\n",
       "      <td>0.066189</td>\n",
       "      <td>-0.019293</td>\n",
       "      <td>1.000000</td>\n",
       "    </tr>\n",
       "  </tbody>\n",
       "</table>\n",
       "<p>27 rows × 27 columns</p>\n",
       "</div>"
      ],
      "text/plain": [
       "                                age       sex  on thyroxine  \\\n",
       "age                        1.000000  0.055935     -0.019090   \n",
       "sex                        0.055935  1.000000     -0.017293   \n",
       "on thyroxine              -0.019090 -0.017293      1.000000   \n",
       "query on thyroxine        -0.044890  0.039401     -0.015285   \n",
       "on antithyroid medication -0.016778  0.053843     -0.000617   \n",
       "sick                       0.098169  0.062183     -0.047557   \n",
       "pregnant                  -0.190543 -0.079783     -0.014373   \n",
       "thyroid surgery           -0.069437 -0.032786      0.039008   \n",
       "I131 treatment            -0.012309 -0.037835      0.104552   \n",
       "query hypothyroid         -0.002248  0.058078      0.100936   \n",
       "query hyperthyroid        -0.019770 -0.117152      0.034128   \n",
       "lithium                   -0.048382 -0.028034      0.003451   \n",
       "goitre                    -0.037475  0.099332     -0.017615   \n",
       "tumor                     -0.110979 -0.115874     -0.045951   \n",
       "hypopituitary             -0.069692  0.067071     -0.009287   \n",
       "psych                     -0.018797  0.151548     -0.040594   \n",
       "TSH measured               0.068495  0.018762      0.006112   \n",
       "TSH                       -0.121147 -0.034007      0.064959   \n",
       "T3 measured                0.090322  0.088602     -0.109521   \n",
       "T3                        -0.241472 -0.131454     -0.025527   \n",
       "TT4 measured               0.085718  0.021803     -0.037009   \n",
       "TT4                       -0.112603 -0.231757     -0.011629   \n",
       "T4U measured               0.139161 -0.083023     -0.001877   \n",
       "FTI measured               0.139161 -0.083023     -0.001877   \n",
       "FTI                       -0.039497 -0.153213     -0.036828   \n",
       "referral source            0.080469 -0.077930      0.072891   \n",
       "sex_Var                   -0.037299 -0.122727      0.029651   \n",
       "\n",
       "                           query on thyroxine  on antithyroid medication  \\\n",
       "age                                 -0.044890                  -0.016778   \n",
       "sex                                  0.039401                   0.053843   \n",
       "on thyroxine                        -0.015285                  -0.000617   \n",
       "query on thyroxine                   1.000000                  -0.010998   \n",
       "on antithyroid medication           -0.010998                   1.000000   \n",
       "sick                                 0.050688                  -0.020682   \n",
       "pregnant                            -0.009062                   0.010471   \n",
       "thyroid surgery                      0.002990                  -0.007097   \n",
       "I131 treatment                      -0.017339                  -0.001204   \n",
       "query hypothyroid                   -0.037165                  -0.020609   \n",
       "query hyperthyroid                  -0.034732                   0.000489   \n",
       "lithium                             -0.007957                  -0.005581   \n",
       "goitre                               0.174287                  -0.006578   \n",
       "tumor                               -0.029947                  -0.021004   \n",
       "hypopituitary                        0.315338                  -0.003468   \n",
       "psych                               -0.021614                  -0.015159   \n",
       "TSH measured                        -0.065891                   0.012647   \n",
       "TSH                                 -0.029770                  -0.019756   \n",
       "T3 measured                         -0.063763                   0.019782   \n",
       "T3                                  -0.046296                   0.069673   \n",
       "TT4 measured                         0.016401                  -0.011617   \n",
       "TT4                                 -0.024636                  -0.047526   \n",
       "T4U measured                         0.024816                   0.000718   \n",
       "FTI measured                         0.024816                   0.000718   \n",
       "FTI                                 -0.019327                  -0.061515   \n",
       "referral source                      0.039449                   0.045409   \n",
       "sex_Var                             -0.026104                  -0.018308   \n",
       "\n",
       "                               sick  pregnant  thyroid surgery  \\\n",
       "age                        0.098169 -0.190543        -0.069437   \n",
       "sex                        0.062183 -0.079783        -0.032786   \n",
       "on thyroxine              -0.047557 -0.014373         0.039008   \n",
       "query on thyroxine         0.050688 -0.009062         0.002990   \n",
       "on antithyroid medication -0.020682  0.010471        -0.007097   \n",
       "sick                       1.000000 -0.031913        -0.019028   \n",
       "pregnant                  -0.031913  1.000000        -0.010950   \n",
       "thyroid surgery           -0.019028 -0.010950         1.000000   \n",
       "I131 treatment            -0.032607 -0.018764        -0.011188   \n",
       "query hypothyroid          0.094251 -0.036646        -0.023982   \n",
       "query hyperthyroid        -0.041687  0.045805        -0.016166   \n",
       "lithium                   -0.014964 -0.008611        -0.005135   \n",
       "goitre                    -0.017638 -0.010150        -0.006052   \n",
       "tumor                     -0.056319  0.381329        -0.019324   \n",
       "hypopituitary             -0.009299 -0.005351        -0.003191   \n",
       "psych                      0.094647 -0.017574        -0.013947   \n",
       "TSH measured               0.041732 -0.075001         0.018067   \n",
       "TSH                       -0.037580 -0.036253         0.055363   \n",
       "T3 measured                0.071638 -0.010484        -0.052338   \n",
       "T3                        -0.127002  0.098860        -0.006869   \n",
       "TT4 measured               0.012782  0.017749         0.010583   \n",
       "TT4                       -0.074342  0.144002        -0.043168   \n",
       "T4U measured              -0.014753  0.031954        -0.002651   \n",
       "FTI measured              -0.014753  0.031954        -0.002651   \n",
       "FTI                       -0.051405  0.032643        -0.055106   \n",
       "referral source           -0.053057 -0.318672         0.025730   \n",
       "sex_Var                   -0.022895 -0.028249        -0.016844   \n",
       "\n",
       "                           I131 treatment  query hypothyroid  ...       TSH  \\\n",
       "age                             -0.012309          -0.002248  ... -0.121147   \n",
       "sex                             -0.037835           0.058078  ... -0.034007   \n",
       "on thyroxine                     0.104552           0.100936  ...  0.064959   \n",
       "query on thyroxine              -0.017339          -0.037165  ... -0.029770   \n",
       "on antithyroid medication       -0.001204          -0.020609  ... -0.019756   \n",
       "sick                            -0.032607           0.094251  ... -0.037580   \n",
       "pregnant                        -0.018764          -0.036646  ... -0.036253   \n",
       "thyroid surgery                 -0.011188          -0.023982  ...  0.055363   \n",
       "I131 treatment                   1.000000           0.014919  ...  0.005029   \n",
       "query hypothyroid                0.014919           1.000000  ...  0.041817   \n",
       "query hyperthyroid               0.020676          -0.027609  ... -0.058712   \n",
       "lithium                         -0.008799          -0.018860  ... -0.012654   \n",
       "goitre                          -0.010371          -0.022230  ... -0.020146   \n",
       "tumor                           -0.033114          -0.070979  ... -0.049842   \n",
       "hypopituitary                   -0.005468          -0.011720  ... -0.011179   \n",
       "psych                           -0.023900           0.102006  ... -0.024565   \n",
       "TSH measured                     0.030959           0.061893  ...  0.055770   \n",
       "TSH                              0.005029           0.041817  ...  1.000000   \n",
       "T3 measured                     -0.065757          -0.078570  ... -0.008973   \n",
       "T3                               0.065047          -0.135528  ... -0.165430   \n",
       "TT4 measured                     0.018136           0.024098  ...  0.006094   \n",
       "TT4                              0.008225          -0.118905  ... -0.305080   \n",
       "T4U measured                     0.028375          -0.062030  ... -0.007480   \n",
       "FTI measured                     0.028375          -0.062030  ... -0.007480   \n",
       "FTI                             -0.013987          -0.097555  ... -0.322624   \n",
       "referral source                  0.100039          -0.021474  ...  0.040538   \n",
       "sex_Var                         -0.019304           0.000032  ...  0.029715   \n",
       "\n",
       "                           T3 measured        T3  TT4 measured       TT4  \\\n",
       "age                           0.090322 -0.241472      0.085718 -0.112603   \n",
       "sex                           0.088602 -0.131454      0.021803 -0.231757   \n",
       "on thyroxine                 -0.109521 -0.025527     -0.037009 -0.011629   \n",
       "query on thyroxine           -0.063763 -0.046296      0.016401 -0.024636   \n",
       "on antithyroid medication     0.019782  0.069673     -0.011617 -0.047526   \n",
       "sick                          0.071638 -0.127002      0.012782 -0.074342   \n",
       "pregnant                     -0.010484  0.098860      0.017749  0.144002   \n",
       "thyroid surgery              -0.052338 -0.006869      0.010583 -0.043168   \n",
       "I131 treatment               -0.065757  0.065047      0.018136  0.008225   \n",
       "query hypothyroid            -0.078570 -0.135528      0.024098 -0.118905   \n",
       "query hyperthyroid            0.063607  0.365913      0.020159  0.359212   \n",
       "lithium                       0.011691 -0.016747      0.008323 -0.019375   \n",
       "goitre                       -0.071547 -0.024039     -0.003717 -0.066900   \n",
       "tumor                         0.055950  0.222397      0.004601  0.057497   \n",
       "hypopituitary                 0.014956 -0.020239      0.005172 -0.042080   \n",
       "psych                         0.063038 -0.056871      0.022607 -0.054679   \n",
       "TSH measured                  0.307089 -0.077451      0.320832 -0.099977   \n",
       "TSH                          -0.008973 -0.165430      0.006094 -0.305080   \n",
       "T3 measured                   1.000000  0.025452      0.251522 -0.056411   \n",
       "T3                            0.025452  1.000000      0.001249  0.640494   \n",
       "TT4 measured                  0.251522  0.001249      1.000000  0.029095   \n",
       "TT4                          -0.056411  0.640494      0.029095  1.000000   \n",
       "T4U measured                  0.087785  0.027140      0.555459  0.105437   \n",
       "FTI measured                  0.087785  0.027140      0.555459  0.105437   \n",
       "FTI                          -0.018044  0.592239      0.036351  0.905657   \n",
       "referral source              -0.180268  0.084693     -0.005068  0.007533   \n",
       "sex_Var                      -0.036720  0.046919     -0.083647  0.051645   \n",
       "\n",
       "                           T4U measured  FTI measured       FTI  \\\n",
       "age                            0.139161      0.139161 -0.039497   \n",
       "sex                           -0.083023     -0.083023 -0.153213   \n",
       "on thyroxine                  -0.001877     -0.001877 -0.036828   \n",
       "query on thyroxine             0.024816      0.024816 -0.019327   \n",
       "on antithyroid medication      0.000718      0.000718 -0.061515   \n",
       "sick                          -0.014753     -0.014753 -0.051405   \n",
       "pregnant                       0.031954      0.031954  0.032643   \n",
       "thyroid surgery               -0.002651     -0.002651 -0.055106   \n",
       "I131 treatment                 0.028375      0.028375 -0.013987   \n",
       "query hypothyroid             -0.062030     -0.062030 -0.097555   \n",
       "query hyperthyroid             0.059254      0.059254  0.357304   \n",
       "lithium                        0.014984      0.014984 -0.024783   \n",
       "goitre                         0.009863      0.009863 -0.071267   \n",
       "tumor                          0.025583      0.025583  0.007677   \n",
       "hypopituitary                  0.009311      0.009311 -0.047896   \n",
       "psych                         -0.014740     -0.014740 -0.039467   \n",
       "TSH measured                   0.157286      0.157286 -0.097182   \n",
       "TSH                           -0.007480     -0.007480 -0.322624   \n",
       "T3 measured                    0.087785      0.087785 -0.018044   \n",
       "T3                             0.027140      0.027140  0.592239   \n",
       "TT4 measured                   0.555459      0.555459  0.036351   \n",
       "TT4                            0.105437      0.105437  0.905657   \n",
       "T4U measured                   1.000000      1.000000  0.065443   \n",
       "FTI measured                   1.000000      1.000000  0.065443   \n",
       "FTI                            0.065443      0.065443  1.000000   \n",
       "referral source               -0.032492     -0.032492  0.070853   \n",
       "sex_Var                       -0.023525     -0.023525  0.066189   \n",
       "\n",
       "                           referral source   sex_Var  \n",
       "age                               0.080469 -0.037299  \n",
       "sex                              -0.077930 -0.122727  \n",
       "on thyroxine                      0.072891  0.029651  \n",
       "query on thyroxine                0.039449 -0.026104  \n",
       "on antithyroid medication         0.045409 -0.018308  \n",
       "sick                             -0.053057 -0.022895  \n",
       "pregnant                         -0.318672 -0.028249  \n",
       "thyroid surgery                   0.025730 -0.016844  \n",
       "I131 treatment                    0.100039 -0.019304  \n",
       "query hypothyroid                -0.021474  0.000032  \n",
       "query hyperthyroid                0.010676  0.045218  \n",
       "lithium                          -0.074187 -0.013247  \n",
       "goitre                           -0.009229 -0.015613  \n",
       "tumor                            -0.135417 -0.003921  \n",
       "hypopituitary                    -0.011359 -0.008231  \n",
       "psych                            -0.265448 -0.032107  \n",
       "TSH measured                     -0.149234 -0.063177  \n",
       "TSH                               0.040538  0.029715  \n",
       "T3 measured                      -0.180268 -0.036720  \n",
       "T3                                0.084693  0.046919  \n",
       "TT4 measured                     -0.005068 -0.083647  \n",
       "TT4                               0.007533  0.051645  \n",
       "T4U measured                     -0.032492 -0.023525  \n",
       "FTI measured                     -0.032492 -0.023525  \n",
       "FTI                               0.070853  0.066189  \n",
       "referral source                   1.000000 -0.019293  \n",
       "sex_Var                          -0.019293  1.000000  \n",
       "\n",
       "[27 rows x 27 columns]"
      ]
     },
     "execution_count": 65,
     "metadata": {},
     "output_type": "execute_result"
    }
   ],
   "source": [
    "x_train.corr()"
   ]
  },
  {
   "cell_type": "code",
   "execution_count": 66,
   "id": "345f7362",
   "metadata": {},
   "outputs": [
    {
     "data": {
      "image/png": "[encoded data removed]",
      "text/plain": [
       "<Figure size 1944x1944 with 2 Axes>"
      ]
     },
     "metadata": {
      "needs_background": "light"
     },
     "output_type": "display_data"
    }
   ],
   "source": [
    "#using pearson correlation\n",
    "plt.figure(figsize=(27,27))\n",
    "corr = x_train.iloc[:,:-1].corr()\n",
    "top_features=corr.index\n",
    "sns.heatmap(corr, annot=True, cmap=plt.cm.cool)\n",
    "plt.show()"
   ]
  },
  {
   "cell_type": "code",
   "execution_count": 67,
   "id": "9b1d572d",
   "metadata": {},
   "outputs": [],
   "source": [
    "#find and remove correlated features\n",
    "def correlation(dataset,threshold):\n",
    "  col_corr = set()    #set of all the names of correlated columns\n",
    "  corr_matrix = dataset.corr()\n",
    "  for i in range(len(corr_matrix.columns)):\n",
    "    for j in range(i):\n",
    "      if (corr_matrix.iloc[i,j]) > threshold: #we are interested in absolute correlated value\n",
    "        colname = corr_matrix.columns[i] #getting the names of columns\n",
    "        col_corr.add(colname)\n",
    "  return col_corr"
   ]
  },
  {
   "cell_type": "code",
   "execution_count": 68,
   "id": "03407ca7",
   "metadata": {},
   "outputs": [
    {
     "data": {
      "text/plain": [
       "2"
      ]
     },
     "execution_count": 68,
     "metadata": {},
     "output_type": "execute_result"
    }
   ],
   "source": [
    "cor_features = correlation(x_train, 0.8)\n",
    "len(set(cor_features))"
   ]
  },
  {
   "cell_type": "code",
   "execution_count": 69,
   "id": "00b05179",
   "metadata": {},
   "outputs": [
    {
     "data": {
      "text/plain": [
       "{'FTI', 'FTI measured'}"
      ]
     },
     "execution_count": 69,
     "metadata": {},
     "output_type": "execute_result"
    }
   ],
   "source": [
    "cor_features"
   ]
  },
  {
   "cell_type": "markdown",
   "id": "125bd5ed",
   "metadata": {},
   "source": [
    "# Univariate Selection"
   ]
  },
  {
   "cell_type": "code",
   "execution_count": 70,
   "id": "179d63d9",
   "metadata": {},
   "outputs": [],
   "source": [
    "from sklearn.feature_selection import SelectKBest\n",
    "from sklearn.feature_selection import chi2"
   ]
  },
  {
   "cell_type": "code",
   "execution_count": 71,
   "id": "777fa0e5",
   "metadata": {},
   "outputs": [],
   "source": [
    "ordered_rank_features = SelectKBest(score_func=chi2,k=26)\n",
    "ordered_features=ordered_rank_features.fit(x_train,y_train)"
   ]
  },
  {
   "cell_type": "code",
   "execution_count": 72,
   "id": "dfbb5c94",
   "metadata": {},
   "outputs": [],
   "source": [
    "dfscore=pd.DataFrame(ordered_features.scores_,columns=['score'])\n",
    "dfcolumns=pd.DataFrame(x_train.columns)"
   ]
  },
  {
   "cell_type": "code",
   "execution_count": 73,
   "id": "8f6925f6",
   "metadata": {},
   "outputs": [],
   "source": [
    "features_rank=pd.concat([dfcolumns,dfscore],axis=1)"
   ]
  },
  {
   "cell_type": "code",
   "execution_count": 74,
   "id": "063b3b22",
   "metadata": {},
   "outputs": [
    {
     "data": {
      "text/html": [
       "<div>\n",
       "<style scoped>\n",
       "    .dataframe tbody tr th:only-of-type {\n",
       "        vertical-align: middle;\n",
       "    }\n",
       "\n",
       "    .dataframe tbody tr th {\n",
       "        vertical-align: top;\n",
       "    }\n",
       "\n",
       "    .dataframe thead th {\n",
       "        text-align: right;\n",
       "    }\n",
       "</style>\n",
       "<table border=\"1\" class=\"dataframe\">\n",
       "  <thead>\n",
       "    <tr style=\"text-align: right;\">\n",
       "      <th></th>\n",
       "      <th>features</th>\n",
       "      <th>score</th>\n",
       "    </tr>\n",
       "  </thead>\n",
       "  <tbody>\n",
       "    <tr>\n",
       "      <th>0</th>\n",
       "      <td>age</td>\n",
       "      <td>4114.245709</td>\n",
       "    </tr>\n",
       "    <tr>\n",
       "      <th>1</th>\n",
       "      <td>sex</td>\n",
       "      <td>356.191079</td>\n",
       "    </tr>\n",
       "    <tr>\n",
       "      <th>2</th>\n",
       "      <td>on thyroxine</td>\n",
       "      <td>275.964252</td>\n",
       "    </tr>\n",
       "    <tr>\n",
       "      <th>3</th>\n",
       "      <td>query on thyroxine</td>\n",
       "      <td>14.587646</td>\n",
       "    </tr>\n",
       "    <tr>\n",
       "      <th>4</th>\n",
       "      <td>on antithyroid medication</td>\n",
       "      <td>31.371583</td>\n",
       "    </tr>\n",
       "    <tr>\n",
       "      <th>5</th>\n",
       "      <td>sick</td>\n",
       "      <td>139.962012</td>\n",
       "    </tr>\n",
       "    <tr>\n",
       "      <th>6</th>\n",
       "      <td>pregnant</td>\n",
       "      <td>239.473238</td>\n",
       "    </tr>\n",
       "    <tr>\n",
       "      <th>7</th>\n",
       "      <td>thyroid surgery</td>\n",
       "      <td>52.896270</td>\n",
       "    </tr>\n",
       "    <tr>\n",
       "      <th>8</th>\n",
       "      <td>I131 treatment</td>\n",
       "      <td>26.495827</td>\n",
       "    </tr>\n",
       "    <tr>\n",
       "      <th>9</th>\n",
       "      <td>query hypothyroid</td>\n",
       "      <td>160.117881</td>\n",
       "    </tr>\n",
       "    <tr>\n",
       "      <th>10</th>\n",
       "      <td>query hyperthyroid</td>\n",
       "      <td>726.517082</td>\n",
       "    </tr>\n",
       "    <tr>\n",
       "      <th>11</th>\n",
       "      <td>lithium</td>\n",
       "      <td>12.774330</td>\n",
       "    </tr>\n",
       "    <tr>\n",
       "      <th>12</th>\n",
       "      <td>goitre</td>\n",
       "      <td>50.350870</td>\n",
       "    </tr>\n",
       "    <tr>\n",
       "      <th>13</th>\n",
       "      <td>tumor</td>\n",
       "      <td>473.760145</td>\n",
       "    </tr>\n",
       "    <tr>\n",
       "      <th>14</th>\n",
       "      <td>hypopituitary</td>\n",
       "      <td>28.557174</td>\n",
       "    </tr>\n",
       "    <tr>\n",
       "      <th>15</th>\n",
       "      <td>psych</td>\n",
       "      <td>87.280846</td>\n",
       "    </tr>\n",
       "    <tr>\n",
       "      <th>16</th>\n",
       "      <td>TSH measured</td>\n",
       "      <td>15.252817</td>\n",
       "    </tr>\n",
       "    <tr>\n",
       "      <th>17</th>\n",
       "      <td>TSH</td>\n",
       "      <td>130755.737316</td>\n",
       "    </tr>\n",
       "    <tr>\n",
       "      <th>18</th>\n",
       "      <td>T3 measured</td>\n",
       "      <td>44.972857</td>\n",
       "    </tr>\n",
       "    <tr>\n",
       "      <th>19</th>\n",
       "      <td>T3</td>\n",
       "      <td>3553.253738</td>\n",
       "    </tr>\n",
       "    <tr>\n",
       "      <th>20</th>\n",
       "      <td>TT4 measured</td>\n",
       "      <td>2.679847</td>\n",
       "    </tr>\n",
       "    <tr>\n",
       "      <th>21</th>\n",
       "      <td>TT4</td>\n",
       "      <td>101432.991956</td>\n",
       "    </tr>\n",
       "    <tr>\n",
       "      <th>22</th>\n",
       "      <td>T4U measured</td>\n",
       "      <td>8.836830</td>\n",
       "    </tr>\n",
       "    <tr>\n",
       "      <th>23</th>\n",
       "      <td>T4U</td>\n",
       "      <td>36.215002</td>\n",
       "    </tr>\n",
       "    <tr>\n",
       "      <th>24</th>\n",
       "      <td>FTI measured</td>\n",
       "      <td>8.836830</td>\n",
       "    </tr>\n",
       "    <tr>\n",
       "      <th>25</th>\n",
       "      <td>FTI</td>\n",
       "      <td>103538.206129</td>\n",
       "    </tr>\n",
       "    <tr>\n",
       "      <th>26</th>\n",
       "      <td>referral source</td>\n",
       "      <td>45.411256</td>\n",
       "    </tr>\n",
       "    <tr>\n",
       "      <th>27</th>\n",
       "      <td>sex_Var</td>\n",
       "      <td>45.244694</td>\n",
       "    </tr>\n",
       "  </tbody>\n",
       "</table>\n",
       "</div>"
      ],
      "text/plain": [
       "                     features          score\n",
       "0                         age    4114.245709\n",
       "1                         sex     356.191079\n",
       "2                on thyroxine     275.964252\n",
       "3          query on thyroxine      14.587646\n",
       "4   on antithyroid medication      31.371583\n",
       "5                        sick     139.962012\n",
       "6                    pregnant     239.473238\n",
       "7             thyroid surgery      52.896270\n",
       "8              I131 treatment      26.495827\n",
       "9           query hypothyroid     160.117881\n",
       "10         query hyperthyroid     726.517082\n",
       "11                    lithium      12.774330\n",
       "12                     goitre      50.350870\n",
       "13                      tumor     473.760145\n",
       "14              hypopituitary      28.557174\n",
       "15                      psych      87.280846\n",
       "16               TSH measured      15.252817\n",
       "17                        TSH  130755.737316\n",
       "18                T3 measured      44.972857\n",
       "19                         T3    3553.253738\n",
       "20               TT4 measured       2.679847\n",
       "21                        TT4  101432.991956\n",
       "22               T4U measured       8.836830\n",
       "23                        T4U      36.215002\n",
       "24               FTI measured       8.836830\n",
       "25                        FTI  103538.206129\n",
       "26            referral source      45.411256\n",
       "27                    sex_Var      45.244694"
      ]
     },
     "execution_count": 74,
     "metadata": {},
     "output_type": "execute_result"
    }
   ],
   "source": [
    "features_rank.columns=['features','score']\n",
    "features_rank"
   ]
  },
  {
   "cell_type": "code",
   "execution_count": 75,
   "id": "4627abc6",
   "metadata": {},
   "outputs": [
    {
     "data": {
      "text/html": [
       "<div>\n",
       "<style scoped>\n",
       "    .dataframe tbody tr th:only-of-type {\n",
       "        vertical-align: middle;\n",
       "    }\n",
       "\n",
       "    .dataframe tbody tr th {\n",
       "        vertical-align: top;\n",
       "    }\n",
       "\n",
       "    .dataframe thead th {\n",
       "        text-align: right;\n",
       "    }\n",
       "</style>\n",
       "<table border=\"1\" class=\"dataframe\">\n",
       "  <thead>\n",
       "    <tr style=\"text-align: right;\">\n",
       "      <th></th>\n",
       "      <th>features</th>\n",
       "      <th>score</th>\n",
       "    </tr>\n",
       "  </thead>\n",
       "  <tbody>\n",
       "    <tr>\n",
       "      <th>17</th>\n",
       "      <td>TSH</td>\n",
       "      <td>130755.737316</td>\n",
       "    </tr>\n",
       "    <tr>\n",
       "      <th>25</th>\n",
       "      <td>FTI</td>\n",
       "      <td>103538.206129</td>\n",
       "    </tr>\n",
       "    <tr>\n",
       "      <th>21</th>\n",
       "      <td>TT4</td>\n",
       "      <td>101432.991956</td>\n",
       "    </tr>\n",
       "    <tr>\n",
       "      <th>0</th>\n",
       "      <td>age</td>\n",
       "      <td>4114.245709</td>\n",
       "    </tr>\n",
       "    <tr>\n",
       "      <th>19</th>\n",
       "      <td>T3</td>\n",
       "      <td>3553.253738</td>\n",
       "    </tr>\n",
       "    <tr>\n",
       "      <th>10</th>\n",
       "      <td>query hyperthyroid</td>\n",
       "      <td>726.517082</td>\n",
       "    </tr>\n",
       "    <tr>\n",
       "      <th>13</th>\n",
       "      <td>tumor</td>\n",
       "      <td>473.760145</td>\n",
       "    </tr>\n",
       "    <tr>\n",
       "      <th>1</th>\n",
       "      <td>sex</td>\n",
       "      <td>356.191079</td>\n",
       "    </tr>\n",
       "    <tr>\n",
       "      <th>2</th>\n",
       "      <td>on thyroxine</td>\n",
       "      <td>275.964252</td>\n",
       "    </tr>\n",
       "    <tr>\n",
       "      <th>6</th>\n",
       "      <td>pregnant</td>\n",
       "      <td>239.473238</td>\n",
       "    </tr>\n",
       "    <tr>\n",
       "      <th>9</th>\n",
       "      <td>query hypothyroid</td>\n",
       "      <td>160.117881</td>\n",
       "    </tr>\n",
       "    <tr>\n",
       "      <th>5</th>\n",
       "      <td>sick</td>\n",
       "      <td>139.962012</td>\n",
       "    </tr>\n",
       "    <tr>\n",
       "      <th>15</th>\n",
       "      <td>psych</td>\n",
       "      <td>87.280846</td>\n",
       "    </tr>\n",
       "    <tr>\n",
       "      <th>7</th>\n",
       "      <td>thyroid surgery</td>\n",
       "      <td>52.896270</td>\n",
       "    </tr>\n",
       "    <tr>\n",
       "      <th>12</th>\n",
       "      <td>goitre</td>\n",
       "      <td>50.350870</td>\n",
       "    </tr>\n",
       "    <tr>\n",
       "      <th>26</th>\n",
       "      <td>referral source</td>\n",
       "      <td>45.411256</td>\n",
       "    </tr>\n",
       "    <tr>\n",
       "      <th>27</th>\n",
       "      <td>sex_Var</td>\n",
       "      <td>45.244694</td>\n",
       "    </tr>\n",
       "    <tr>\n",
       "      <th>18</th>\n",
       "      <td>T3 measured</td>\n",
       "      <td>44.972857</td>\n",
       "    </tr>\n",
       "    <tr>\n",
       "      <th>23</th>\n",
       "      <td>T4U</td>\n",
       "      <td>36.215002</td>\n",
       "    </tr>\n",
       "    <tr>\n",
       "      <th>4</th>\n",
       "      <td>on antithyroid medication</td>\n",
       "      <td>31.371583</td>\n",
       "    </tr>\n",
       "    <tr>\n",
       "      <th>14</th>\n",
       "      <td>hypopituitary</td>\n",
       "      <td>28.557174</td>\n",
       "    </tr>\n",
       "    <tr>\n",
       "      <th>8</th>\n",
       "      <td>I131 treatment</td>\n",
       "      <td>26.495827</td>\n",
       "    </tr>\n",
       "    <tr>\n",
       "      <th>16</th>\n",
       "      <td>TSH measured</td>\n",
       "      <td>15.252817</td>\n",
       "    </tr>\n",
       "    <tr>\n",
       "      <th>3</th>\n",
       "      <td>query on thyroxine</td>\n",
       "      <td>14.587646</td>\n",
       "    </tr>\n",
       "    <tr>\n",
       "      <th>11</th>\n",
       "      <td>lithium</td>\n",
       "      <td>12.774330</td>\n",
       "    </tr>\n",
       "    <tr>\n",
       "      <th>22</th>\n",
       "      <td>T4U measured</td>\n",
       "      <td>8.836830</td>\n",
       "    </tr>\n",
       "    <tr>\n",
       "      <th>24</th>\n",
       "      <td>FTI measured</td>\n",
       "      <td>8.836830</td>\n",
       "    </tr>\n",
       "  </tbody>\n",
       "</table>\n",
       "</div>"
      ],
      "text/plain": [
       "                     features          score\n",
       "17                        TSH  130755.737316\n",
       "25                        FTI  103538.206129\n",
       "21                        TT4  101432.991956\n",
       "0                         age    4114.245709\n",
       "19                         T3    3553.253738\n",
       "10         query hyperthyroid     726.517082\n",
       "13                      tumor     473.760145\n",
       "1                         sex     356.191079\n",
       "2                on thyroxine     275.964252\n",
       "6                    pregnant     239.473238\n",
       "9           query hypothyroid     160.117881\n",
       "5                        sick     139.962012\n",
       "15                      psych      87.280846\n",
       "7             thyroid surgery      52.896270\n",
       "12                     goitre      50.350870\n",
       "26            referral source      45.411256\n",
       "27                    sex_Var      45.244694\n",
       "18                T3 measured      44.972857\n",
       "23                        T4U      36.215002\n",
       "4   on antithyroid medication      31.371583\n",
       "14              hypopituitary      28.557174\n",
       "8              I131 treatment      26.495827\n",
       "16               TSH measured      15.252817\n",
       "3          query on thyroxine      14.587646\n",
       "11                    lithium      12.774330\n",
       "22               T4U measured       8.836830\n",
       "24               FTI measured       8.836830"
      ]
     },
     "execution_count": 75,
     "metadata": {},
     "output_type": "execute_result"
    }
   ],
   "source": [
    "features_rank.nlargest(27,'score')"
   ]
  },
  {
   "cell_type": "code",
   "execution_count": 76,
   "id": "26eeb6fc",
   "metadata": {},
   "outputs": [],
   "source": [
    "col_to_drop=[\"query on thyroxine\",\"on antithyroid medication\",\"thyroid surgery\",\"I131 treatment\",\"lithium\",\"goitre\",\"hypopituitary\",\"psych\",\"TSH measured\",\"T3 measured\",\"TT4 measured\",\"T4U measured\",\"FTI measured\",\"sex_Var\"]"
   ]
  },
  {
   "cell_type": "code",
   "execution_count": 77,
   "id": "1b4da9cc",
   "metadata": {},
   "outputs": [],
   "source": [
    "x_train=x_train.drop(col_to_drop,axis=1)\n",
    "x_test=x_test.drop(col_to_drop,axis=1)"
   ]
  },
  {
   "cell_type": "code",
   "execution_count": 78,
   "id": "6a9739ac",
   "metadata": {},
   "outputs": [
    {
     "data": {
      "text/html": [
       "<div>\n",
       "<style scoped>\n",
       "    .dataframe tbody tr th:only-of-type {\n",
       "        vertical-align: middle;\n",
       "    }\n",
       "\n",
       "    .dataframe tbody tr th {\n",
       "        vertical-align: top;\n",
       "    }\n",
       "\n",
       "    .dataframe thead th {\n",
       "        text-align: right;\n",
       "    }\n",
       "</style>\n",
       "<table border=\"1\" class=\"dataframe\">\n",
       "  <thead>\n",
       "    <tr style=\"text-align: right;\">\n",
       "      <th></th>\n",
       "      <th>age</th>\n",
       "      <th>sex</th>\n",
       "      <th>on thyroxine</th>\n",
       "      <th>sick</th>\n",
       "      <th>pregnant</th>\n",
       "      <th>query hypothyroid</th>\n",
       "      <th>query hyperthyroid</th>\n",
       "      <th>tumor</th>\n",
       "      <th>TSH</th>\n",
       "      <th>T3</th>\n",
       "      <th>TT4</th>\n",
       "      <th>T4U</th>\n",
       "      <th>FTI</th>\n",
       "      <th>referral source</th>\n",
       "    </tr>\n",
       "  </thead>\n",
       "  <tbody>\n",
       "    <tr>\n",
       "      <th>3424</th>\n",
       "      <td>64.0</td>\n",
       "      <td>0</td>\n",
       "      <td>0</td>\n",
       "      <td>0</td>\n",
       "      <td>0</td>\n",
       "      <td>0</td>\n",
       "      <td>1</td>\n",
       "      <td>1</td>\n",
       "      <td>1.500</td>\n",
       "      <td>6.1</td>\n",
       "      <td>214.0</td>\n",
       "      <td>0.94</td>\n",
       "      <td>228.0</td>\n",
       "      <td>4</td>\n",
       "    </tr>\n",
       "    <tr>\n",
       "      <th>463</th>\n",
       "      <td>73.0</td>\n",
       "      <td>0</td>\n",
       "      <td>0</td>\n",
       "      <td>0</td>\n",
       "      <td>0</td>\n",
       "      <td>0</td>\n",
       "      <td>0</td>\n",
       "      <td>1</td>\n",
       "      <td>0.005</td>\n",
       "      <td>3.6</td>\n",
       "      <td>119.0</td>\n",
       "      <td>0.9</td>\n",
       "      <td>133.0</td>\n",
       "      <td>4</td>\n",
       "    </tr>\n",
       "    <tr>\n",
       "      <th>1722</th>\n",
       "      <td>35.0</td>\n",
       "      <td>0</td>\n",
       "      <td>0</td>\n",
       "      <td>0</td>\n",
       "      <td>0</td>\n",
       "      <td>0</td>\n",
       "      <td>0</td>\n",
       "      <td>0</td>\n",
       "      <td>0.150</td>\n",
       "      <td>5.1</td>\n",
       "      <td>167.0</td>\n",
       "      <td>1</td>\n",
       "      <td>168.0</td>\n",
       "      <td>4</td>\n",
       "    </tr>\n",
       "    <tr>\n",
       "      <th>6155</th>\n",
       "      <td>65.0</td>\n",
       "      <td>0</td>\n",
       "      <td>0</td>\n",
       "      <td>0</td>\n",
       "      <td>0</td>\n",
       "      <td>0</td>\n",
       "      <td>0</td>\n",
       "      <td>0</td>\n",
       "      <td>55.000</td>\n",
       "      <td>0.7</td>\n",
       "      <td>15.0</td>\n",
       "      <td>1.08</td>\n",
       "      <td>14.0</td>\n",
       "      <td>3</td>\n",
       "    </tr>\n",
       "    <tr>\n",
       "      <th>6030</th>\n",
       "      <td>34.0</td>\n",
       "      <td>0</td>\n",
       "      <td>0</td>\n",
       "      <td>0</td>\n",
       "      <td>0</td>\n",
       "      <td>0</td>\n",
       "      <td>0</td>\n",
       "      <td>0</td>\n",
       "      <td>82.000</td>\n",
       "      <td>0.2</td>\n",
       "      <td>5.8</td>\n",
       "      <td>0.97</td>\n",
       "      <td>106.0</td>\n",
       "      <td>3</td>\n",
       "    </tr>\n",
       "  </tbody>\n",
       "</table>\n",
       "</div>"
      ],
      "text/plain": [
       "       age  sex  on thyroxine  sick  pregnant  query hypothyroid  \\\n",
       "3424  64.0    0             0     0         0                  0   \n",
       "463   73.0    0             0     0         0                  0   \n",
       "1722  35.0    0             0     0         0                  0   \n",
       "6155  65.0    0             0     0         0                  0   \n",
       "6030  34.0    0             0     0         0                  0   \n",
       "\n",
       "      query hyperthyroid  tumor     TSH   T3    TT4   T4U    FTI  \\\n",
       "3424                   1      1   1.500  6.1  214.0  0.94  228.0   \n",
       "463                    0      1   0.005  3.6  119.0   0.9  133.0   \n",
       "1722                   0      0   0.150  5.1  167.0     1  168.0   \n",
       "6155                   0      0  55.000  0.7   15.0  1.08   14.0   \n",
       "6030                   0      0  82.000  0.2    5.8  0.97  106.0   \n",
       "\n",
       "      referral source  \n",
       "3424                4  \n",
       "463                 4  \n",
       "1722                4  \n",
       "6155                3  \n",
       "6030                3  "
      ]
     },
     "execution_count": 78,
     "metadata": {},
     "output_type": "execute_result"
    }
   ],
   "source": [
    "x_train.head()"
   ]
  },
  {
   "cell_type": "code",
   "execution_count": 79,
   "id": "4af66fa5",
   "metadata": {},
   "outputs": [
    {
     "data": {
      "text/plain": [
       "((7708, 14), (3304, 14))"
      ]
     },
     "execution_count": 79,
     "metadata": {},
     "output_type": "execute_result"
    }
   ],
   "source": [
    "x_train.shape,x_test.shape"
   ]
  },
  {
   "cell_type": "markdown",
   "id": "5ed9e45d",
   "metadata": {},
   "source": [
    "# Decision tree classifer"
   ]
  },
  {
   "cell_type": "code",
   "execution_count": 80,
   "id": "e08b3a07",
   "metadata": {},
   "outputs": [
    {
     "data": {
      "text/plain": [
       "0.8925544794188862"
      ]
     },
     "execution_count": 80,
     "metadata": {},
     "output_type": "execute_result"
    }
   ],
   "source": [
    "from sklearn import tree\n",
    "dt = tree.DecisionTreeClassifier(max_depth=5)\n",
    "dt.fit(x_train,y_train)\n",
    "dt.score(x_test,y_test)\n",
    "y_pred=dt.predict(x_test)\n",
    "dt.score(x_test,y_test)"
   ]
  },
  {
   "cell_type": "code",
   "execution_count": 81,
   "id": "4ecbc455",
   "metadata": {},
   "outputs": [
    {
     "data": {
      "text/plain": [
       "array([[850,   0,  11,   0],\n",
       "       [  0, 750,   0,  76],\n",
       "       [ 63,  60, 612,  61],\n",
       "       [ 70,  14,   0, 737]], dtype=int64)"
      ]
     },
     "execution_count": 81,
     "metadata": {},
     "output_type": "execute_result"
    }
   ],
   "source": [
    "y_pred=dt.predict(x_test)\n",
    "from sklearn.metrics import confusion_matrix\n",
    "confusion_matrix(y_test,y_pred)"
   ]
  },
  {
   "cell_type": "code",
   "execution_count": 82,
   "id": "7c939a46",
   "metadata": {},
   "outputs": [
    {
     "data": {
      "image/png": "[encoded data removed]",
      "text/plain": [
       "<Figure size 432x288 with 2 Axes>"
      ]
     },
     "metadata": {
      "needs_background": "light"
     },
     "output_type": "display_data"
    }
   ],
   "source": [
    "from sklearn.metrics import plot_confusion_matrix\n",
    "matrix = plot_confusion_matrix(dt,x_test,y_test,cmap=plt.cm.Reds)\n",
    "matrix.ax_.set_title('confusion Matrix', color='white')\n",
    "plt.xlabel('Predicted Label', color='white')\n",
    "plt.ylabel('True Label', color='white')\n",
    "plt.show()"
   ]
  },
  {
   "cell_type": "code",
   "execution_count": 83,
   "id": "1b6e7ab7",
   "metadata": {},
   "outputs": [
    {
     "name": "stdout",
     "output_type": "stream",
     "text": [
      "              precision    recall  f1-score   support\n",
      "\n",
      "           0       0.86      0.99      0.92       861\n",
      "           1       0.91      0.91      0.91       826\n",
      "           2       0.98      0.77      0.86       796\n",
      "           3       0.84      0.90      0.87       821\n",
      "\n",
      "    accuracy                           0.89      3304\n",
      "   macro avg       0.90      0.89      0.89      3304\n",
      "weighted avg       0.90      0.89      0.89      3304\n",
      "\n"
     ]
    }
   ],
   "source": [
    "from sklearn.metrics import classification_report\n",
    "print(classification_report(y_test,y_pred))"
   ]
  },
  {
   "cell_type": "markdown",
   "id": "d54440e0",
   "metadata": {},
   "source": [
    "# Random Forest Classifer"
   ]
  },
  {
   "cell_type": "code",
   "execution_count": 132,
   "id": "d923d3a0",
   "metadata": {},
   "outputs": [
    {
     "data": {
      "text/plain": [
       "0.9119249394673123"
      ]
     },
     "execution_count": 132,
     "metadata": {},
     "output_type": "execute_result"
    }
   ],
   "source": [
    "from sklearn import ensemble\n",
    "rf = ensemble.RandomForestClassifier(n_estimators=100)\n",
    "rf.fit(x_train,y_train)\n",
    "rf.score(x_test,y_test)"
   ]
  },
  {
   "cell_type": "code",
   "execution_count": 85,
   "id": "03aa8538",
   "metadata": {},
   "outputs": [
    {
     "data": {
      "text/plain": [
       "0.9019370460048426"
      ]
     },
     "execution_count": 85,
     "metadata": {},
     "output_type": "execute_result"
    }
   ],
   "source": [
    "from sklearn.ensemble import GradientBoostingClassifier\n",
    "gb = GradientBoostingClassifier(n_estimators=10)\n",
    "gb.fit(x_train,y_train)\n",
    "gb.score(x_test,y_test)"
   ]
  },
  {
   "cell_type": "code",
   "execution_count": 86,
   "id": "1e5284ff",
   "metadata": {},
   "outputs": [
    {
     "data": {
      "text/plain": [
       "0.6340799031476998"
      ]
     },
     "execution_count": 86,
     "metadata": {},
     "output_type": "execute_result"
    }
   ],
   "source": [
    "from sklearn.naive_bayes import GaussianNB\n",
    "nb_clf= GaussianNB()\n",
    "nb_clf.fit(x_train,y_train)\n",
    "nb_clf.score(x_test,y_test)"
   ]
  },
  {
   "cell_type": "code",
   "execution_count": 87,
   "id": "0bc0aea6",
   "metadata": {},
   "outputs": [
    {
     "data": {
      "text/plain": [
       "0.8762106537530266"
      ]
     },
     "execution_count": 87,
     "metadata": {},
     "output_type": "execute_result"
    }
   ],
   "source": [
    "from sklearn.neighbors import KNeighborsClassifier\n",
    "knn = KNeighborsClassifier(n_neighbors=1)\n",
    "knn.fit(x_train,y_train)\n",
    "knn.score(x_test,y_test)"
   ]
  },
  {
   "cell_type": "code",
   "execution_count": 88,
   "id": "283adae0",
   "metadata": {},
   "outputs": [
    {
     "data": {
      "text/plain": [
       "0.7315375302663438"
      ]
     },
     "execution_count": 88,
     "metadata": {},
     "output_type": "execute_result"
    }
   ],
   "source": [
    "from sklearn.linear_model import LogisticRegression\n",
    "lr= LogisticRegression()\n",
    "lr.fit(x_train,y_train)\n",
    "lr.score(x_test,y_test)"
   ]
  },
  {
   "cell_type": "code",
   "execution_count": 89,
   "id": "5917a954",
   "metadata": {},
   "outputs": [
    {
     "data": {
      "text/plain": [
       "0.7418280871670703"
      ]
     },
     "execution_count": 89,
     "metadata": {},
     "output_type": "execute_result"
    }
   ],
   "source": [
    "from sklearn.svm import SVC\n",
    "sv= SVC(probability=True)\n",
    "sv.fit(x_train,y_train)\n",
    "sv.score(x_test,y_test)"
   ]
  },
  {
   "cell_type": "code",
   "execution_count": 90,
   "id": "ce1afb58",
   "metadata": {},
   "outputs": [
    {
     "data": {
      "text/plain": [
       "0.7418280871670703"
      ]
     },
     "execution_count": 90,
     "metadata": {},
     "output_type": "execute_result"
    }
   ],
   "source": [
    "from sklearn.svm import SVC\n",
    "sv= SVC(probability=True)\n",
    "sv.fit(x_train,y_train)\n",
    "sv.score(x_test,y_test)"
   ]
  },
  {
   "cell_type": "code",
   "execution_count": 91,
   "id": "242ea769",
   "metadata": {},
   "outputs": [],
   "source": [
    "from sklearn.preprocessing import StandardScaler\n",
    "scaler = StandardScaler()\n",
    "scaler.fit(x_train)\n",
    "scaled_train = scaler.transform(x_train)\n",
    "scaler.fit(x_test)\n",
    "scaled_test = scaler.transform(x_test)"
   ]
  },
  {
   "cell_type": "code",
   "execution_count": 92,
   "id": "50e6c624",
   "metadata": {},
   "outputs": [
    {
     "data": {
      "text/plain": [
       "array([[ 0.48335357, -0.58873658, -0.23518537, ..., -0.10531687,\n",
       "         1.79735947,  0.72248795],\n",
       "       [ 0.95392073, -0.58873658, -0.23518537, ..., -0.32012528,\n",
       "         0.18165995,  0.72248795],\n",
       "       [-1.03291838, -0.58873658, -0.23518537, ...,  0.21689574,\n",
       "         0.77691767,  0.72248795],\n",
       "       ...,\n",
       "       [ 1.3199174 ,  1.69855251, -0.23518537, ...,  0.86132096,\n",
       "        -0.03943577, -0.28765845],\n",
       "       [ 0.90163549, -0.58873658, -0.23518537, ..., -0.69603999,\n",
       "         1.61027848, -0.28765845],\n",
       "       [ 1.26763216,  1.69855251, -0.23518537, ..., -0.58863579,\n",
       "         0.24968941, -0.28765845]])"
      ]
     },
     "execution_count": 92,
     "metadata": {},
     "output_type": "execute_result"
    }
   ],
   "source": [
    "scaled_train"
   ]
  },
  {
   "cell_type": "markdown",
   "id": "5b6997bf",
   "metadata": {},
   "source": [
    "# SVM"
   ]
  },
  {
   "cell_type": "code",
   "execution_count": 93,
   "id": "2119dd05",
   "metadata": {},
   "outputs": [
    {
     "data": {
      "text/plain": [
       "0.8374697336561744"
      ]
     },
     "execution_count": 93,
     "metadata": {},
     "output_type": "execute_result"
    }
   ],
   "source": [
    "from sklearn.svm import SVC\n",
    "\n",
    "from sklearn.metrics import accuracy_score\n",
    "from sklearn.metrics import confusion_matrix\n",
    "from sklearn.metrics import plot_confusion_matrix\n",
    "\n",
    "svc = SVC(kernel=\"linear\")\n",
    "svc.fit(scaled_train,y_train)\n",
    "y_pred=svc.predict(scaled_test)\n",
    "accuracy_score(y_test,y_pred)"
   ]
  },
  {
   "cell_type": "code",
   "execution_count": 94,
   "id": "6d756a39",
   "metadata": {},
   "outputs": [
    {
     "data": {
      "text/plain": [
       "0.8374697336561744"
      ]
     },
     "execution_count": 94,
     "metadata": {},
     "output_type": "execute_result"
    }
   ],
   "source": [
    "y_pred=svc.predict(scaled_test)\n",
    "accuracy_score(y_test,y_pred)"
   ]
  },
  {
   "cell_type": "code",
   "execution_count": 95,
   "id": "8a7802cb",
   "metadata": {},
   "outputs": [
    {
     "data": {
      "text/plain": [
       "array([[816,   0,  45,   0],\n",
       "       [  0, 662,  73,  91],\n",
       "       [ 63,  54, 585,  94],\n",
       "       [ 70,  22,  25, 704]], dtype=int64)"
      ]
     },
     "execution_count": 95,
     "metadata": {},
     "output_type": "execute_result"
    }
   ],
   "source": [
    "confusion_matrix(y_test,y_pred)"
   ]
  },
  {
   "cell_type": "code",
   "execution_count": 96,
   "id": "8054336d",
   "metadata": {},
   "outputs": [
    {
     "data": {
      "image/png": "[encoded data removed]",
      "text/plain": [
       "<Figure size 432x288 with 2 Axes>"
      ]
     },
     "metadata": {
      "needs_background": "light"
     },
     "output_type": "display_data"
    }
   ],
   "source": [
    "matrix = plot_confusion_matrix(svc,scaled_test,y_test,cmap=plt.cm.Reds)\n",
    "matrix.ax_.set_title('confusion Matrix', color='white')\n",
    "plt.xlabel('Predicted Label', color='white')\n",
    "plt.ylabel('True Label', color='white')\n",
    "plt.show()"
   ]
  },
  {
   "cell_type": "code",
   "execution_count": 97,
   "id": "5cf4bda9",
   "metadata": {},
   "outputs": [
    {
     "name": "stdout",
     "output_type": "stream",
     "text": [
      "              precision    recall  f1-score   support\n",
      "\n",
      "           0       0.86      0.95      0.90       861\n",
      "           1       0.90      0.80      0.85       826\n",
      "           2       0.80      0.73      0.77       796\n",
      "           3       0.79      0.86      0.82       821\n",
      "\n",
      "    accuracy                           0.84      3304\n",
      "   macro avg       0.84      0.84      0.83      3304\n",
      "weighted avg       0.84      0.84      0.84      3304\n",
      "\n"
     ]
    }
   ],
   "source": [
    "from sklearn.metrics import classification_report\n",
    "print(classification_report(y_test,y_pred))\n"
   ]
  },
  {
   "cell_type": "code",
   "execution_count": 98,
   "id": "dfe69459",
   "metadata": {},
   "outputs": [
    {
     "data": {
      "text/plain": [
       "SVC(kernel='sigmoid')"
      ]
     },
     "execution_count": 98,
     "metadata": {},
     "output_type": "execute_result"
    }
   ],
   "source": [
    "svc = SVC(kernel=\"sigmoid\")\n",
    "svc.fit(scaled_train,y_train)"
   ]
  },
  {
   "cell_type": "code",
   "execution_count": 99,
   "id": "fca21225",
   "metadata": {},
   "outputs": [
    {
     "data": {
      "text/plain": [
       "0.6610169491525424"
      ]
     },
     "execution_count": 99,
     "metadata": {},
     "output_type": "execute_result"
    }
   ],
   "source": [
    "y_pred=svc.predict(scaled_test)\n",
    "\n",
    "accuracy_score(y_test,y_pred)"
   ]
  },
  {
   "cell_type": "code",
   "execution_count": 100,
   "id": "62f614db",
   "metadata": {},
   "outputs": [
    {
     "data": {
      "text/plain": [
       "array([[737,  30,  81,  13],\n",
       "       [ 43, 470, 180, 133],\n",
       "       [123, 161, 398, 114],\n",
       "       [ 66,  91,  85, 579]], dtype=int64)"
      ]
     },
     "execution_count": 100,
     "metadata": {},
     "output_type": "execute_result"
    }
   ],
   "source": [
    "confusion_matrix(y_test,y_pred)"
   ]
  },
  {
   "cell_type": "code",
   "execution_count": 101,
   "id": "27453223",
   "metadata": {},
   "outputs": [
    {
     "data": {
      "image/png": "[encoded data removed]",
      "text/plain": [
       "<Figure size 432x288 with 2 Axes>"
      ]
     },
     "metadata": {
      "needs_background": "light"
     },
     "output_type": "display_data"
    }
   ],
   "source": [
    "matrix = plot_confusion_matrix(svc,scaled_test,y_test,cmap=plt.cm.Reds)\n",
    "matrix.ax_.set_title('confusion Matrix', color='white')\n",
    "plt.xlabel('Predicted Label', color='white')\n",
    "plt.ylabel('True Label', color='white')\n",
    "plt.show()"
   ]
  },
  {
   "cell_type": "code",
   "execution_count": 102,
   "id": "c3a761b5",
   "metadata": {},
   "outputs": [
    {
     "name": "stdout",
     "output_type": "stream",
     "text": [
      "              precision    recall  f1-score   support\n",
      "\n",
      "           0       0.76      0.86      0.81       861\n",
      "           1       0.62      0.57      0.60       826\n",
      "           2       0.53      0.50      0.52       796\n",
      "           3       0.69      0.71      0.70       821\n",
      "\n",
      "    accuracy                           0.66      3304\n",
      "   macro avg       0.65      0.66      0.65      3304\n",
      "weighted avg       0.65      0.66      0.66      3304\n",
      "\n"
     ]
    }
   ],
   "source": [
    "print(classification_report(y_test,y_pred))"
   ]
  },
  {
   "cell_type": "code",
   "execution_count": 103,
   "id": "155cf322",
   "metadata": {},
   "outputs": [
    {
     "data": {
      "text/plain": [
       "SVC()"
      ]
     },
     "execution_count": 103,
     "metadata": {},
     "output_type": "execute_result"
    }
   ],
   "source": [
    "svc = SVC(kernel=\"rbf\")\n",
    "svc.fit(scaled_train,y_train)"
   ]
  },
  {
   "cell_type": "code",
   "execution_count": 104,
   "id": "59c86387",
   "metadata": {},
   "outputs": [
    {
     "data": {
      "text/plain": [
       "0.8707627118644068"
      ]
     },
     "execution_count": 104,
     "metadata": {},
     "output_type": "execute_result"
    }
   ],
   "source": [
    "y_pred=svc.predict(scaled_test)\n",
    "accuracy_score(y_test,y_pred)"
   ]
  },
  {
   "cell_type": "code",
   "execution_count": 105,
   "id": "8425fdbc",
   "metadata": {},
   "outputs": [
    {
     "data": {
      "text/plain": [
       "array([[861,   0,   0,   0],\n",
       "       [  0, 697,  56,  73],\n",
       "       [ 38,  71, 603,  84],\n",
       "       [ 70,  30,   5, 716]], dtype=int64)"
      ]
     },
     "execution_count": 105,
     "metadata": {},
     "output_type": "execute_result"
    }
   ],
   "source": [
    "confusion_matrix(y_test,y_pred)"
   ]
  },
  {
   "cell_type": "code",
   "execution_count": 106,
   "id": "4a36b430",
   "metadata": {},
   "outputs": [
    {
     "data": {
      "image/png": "[encoded data removed]",
      "text/plain": [
       "<Figure size 432x288 with 2 Axes>"
      ]
     },
     "metadata": {
      "needs_background": "light"
     },
     "output_type": "display_data"
    }
   ],
   "source": [
    "matrix = plot_confusion_matrix(svc,scaled_test,y_test,cmap=plt.cm.Reds)\n",
    "matrix.ax_.set_title('confusion Matrix', color='white')\n",
    "plt.xlabel('Predicted Label', color='white')\n",
    "plt.ylabel('True Label', color='white')\n",
    "plt.show()"
   ]
  },
  {
   "cell_type": "code",
   "execution_count": 107,
   "id": "b1f06a8d",
   "metadata": {},
   "outputs": [
    {
     "name": "stdout",
     "output_type": "stream",
     "text": [
      "              precision    recall  f1-score   support\n",
      "\n",
      "           0       0.89      1.00      0.94       861\n",
      "           1       0.87      0.84      0.86       826\n",
      "           2       0.91      0.76      0.83       796\n",
      "           3       0.82      0.87      0.85       821\n",
      "\n",
      "    accuracy                           0.87      3304\n",
      "   macro avg       0.87      0.87      0.87      3304\n",
      "weighted avg       0.87      0.87      0.87      3304\n",
      "\n"
     ]
    }
   ],
   "source": [
    "print(classification_report(y_test,y_pred))"
   ]
  },
  {
   "cell_type": "code",
   "execution_count": 108,
   "id": "abef2354",
   "metadata": {},
   "outputs": [
    {
     "data": {
      "text/plain": [
       "SVC(kernel='poly')"
      ]
     },
     "execution_count": 108,
     "metadata": {},
     "output_type": "execute_result"
    }
   ],
   "source": [
    "svc = SVC(kernel=\"poly\")\n",
    "svc.fit(scaled_train,y_train)"
   ]
  },
  {
   "cell_type": "code",
   "execution_count": 109,
   "id": "365b3b17",
   "metadata": {},
   "outputs": [
    {
     "data": {
      "text/plain": [
       "0.788135593220339"
      ]
     },
     "execution_count": 109,
     "metadata": {},
     "output_type": "execute_result"
    }
   ],
   "source": [
    "y_pred=svc.predict(scaled_test)\n",
    "accuracy_score(y_test,y_pred)"
   ]
  },
  {
   "cell_type": "code",
   "execution_count": 110,
   "id": "6f4f2cc5",
   "metadata": {},
   "outputs": [
    {
     "data": {
      "text/plain": [
       "array([[828,   0,  33,   0],\n",
       "       [  0, 473, 263,  90],\n",
       "       [ 35,  68, 614,  79],\n",
       "       [ 70,  27,  35, 689]], dtype=int64)"
      ]
     },
     "execution_count": 110,
     "metadata": {},
     "output_type": "execute_result"
    }
   ],
   "source": [
    "confusion_matrix(y_test,y_pred)"
   ]
  },
  {
   "cell_type": "code",
   "execution_count": 111,
   "id": "3541f9d1",
   "metadata": {},
   "outputs": [
    {
     "data": {
      "image/png": "[encoded data removed]",
      "text/plain": [
       "<Figure size 432x288 with 2 Axes>"
      ]
     },
     "metadata": {
      "needs_background": "light"
     },
     "output_type": "display_data"
    }
   ],
   "source": [
    "matrix = plot_confusion_matrix(svc,scaled_test,y_test,cmap=plt.cm.Reds)\n",
    "matrix.ax_.set_title('confusion Matrix', color='white')\n",
    "plt.xlabel('Predicted Label', color='white')\n",
    "plt.ylabel('True Label', color='white')\n",
    "plt.show()"
   ]
  },
  {
   "cell_type": "code",
   "execution_count": 112,
   "id": "b275a59f",
   "metadata": {},
   "outputs": [
    {
     "name": "stdout",
     "output_type": "stream",
     "text": [
      "              precision    recall  f1-score   support\n",
      "\n",
      "           0       0.89      0.96      0.92       861\n",
      "           1       0.83      0.57      0.68       826\n",
      "           2       0.65      0.77      0.71       796\n",
      "           3       0.80      0.84      0.82       821\n",
      "\n",
      "    accuracy                           0.79      3304\n",
      "   macro avg       0.79      0.79      0.78      3304\n",
      "weighted avg       0.80      0.79      0.78      3304\n",
      "\n"
     ]
    }
   ],
   "source": [
    "print(classification_report(y_test,y_pred))"
   ]
  },
  {
   "cell_type": "markdown",
   "id": "e4a6f82f",
   "metadata": {},
   "source": [
    "KNN"
   ]
  },
  {
   "cell_type": "code",
   "execution_count": 113,
   "id": "ebf4d4b8",
   "metadata": {},
   "outputs": [],
   "source": [
    "from sklearn.neighbors import KNeighborsClassifier\n",
    "knn = KNeighborsClassifier(n_neighbors=1)"
   ]
  },
  {
   "cell_type": "code",
   "execution_count": 114,
   "id": "eff097fb",
   "metadata": {},
   "outputs": [
    {
     "data": {
      "text/plain": [
       "0.8519975786924939"
      ]
     },
     "execution_count": 114,
     "metadata": {},
     "output_type": "execute_result"
    }
   ],
   "source": [
    "knn.fit(scaled_train,y_train)\n",
    "y_pred=knn.predict(scaled_test)\n",
    "accuracy_score(y_test,y_pred)"
   ]
  },
  {
   "cell_type": "code",
   "execution_count": 115,
   "id": "df3ea4b5",
   "metadata": {},
   "outputs": [
    {
     "data": {
      "text/plain": [
       "array([[794,   0,   5,  62],\n",
       "       [  0, 734,  48,  44],\n",
       "       [ 25,  85, 625,  61],\n",
       "       [ 53,  28,  78, 662]], dtype=int64)"
      ]
     },
     "execution_count": 115,
     "metadata": {},
     "output_type": "execute_result"
    }
   ],
   "source": [
    "confusion_matrix(y_test,y_pred)"
   ]
  },
  {
   "cell_type": "code",
   "execution_count": 116,
   "id": "7038efd8",
   "metadata": {},
   "outputs": [
    {
     "data": {
      "image/png": "[encoded data removed]",
      "text/plain": [
       "<Figure size 432x288 with 2 Axes>"
      ]
     },
     "metadata": {
      "needs_background": "light"
     },
     "output_type": "display_data"
    }
   ],
   "source": [
    "matrix = plot_confusion_matrix(knn,scaled_test,y_test,cmap=plt.cm.Reds)\n",
    "matrix.ax_.set_title('confusion Matrix', color='white')\n",
    "plt.xlabel('Predicted Label', color='white')\n",
    "plt.ylabel('True Label', color='white')\n",
    "plt.show()"
   ]
  },
  {
   "cell_type": "code",
   "execution_count": 117,
   "id": "7e60f753",
   "metadata": {},
   "outputs": [
    {
     "name": "stdout",
     "output_type": "stream",
     "text": [
      "              precision    recall  f1-score   support\n",
      "\n",
      "           0       0.91      0.92      0.92       861\n",
      "           1       0.87      0.89      0.88       826\n",
      "           2       0.83      0.79      0.81       796\n",
      "           3       0.80      0.81      0.80       821\n",
      "\n",
      "    accuracy                           0.85      3304\n",
      "   macro avg       0.85      0.85      0.85      3304\n",
      "weighted avg       0.85      0.85      0.85      3304\n",
      "\n"
     ]
    }
   ],
   "source": [
    "print(classification_report(y_test,y_pred))"
   ]
  },
  {
   "cell_type": "code",
   "execution_count": 118,
   "id": "8e8025a8",
   "metadata": {},
   "outputs": [
    {
     "data": {
      "text/plain": [
       "0.8789346246973365"
      ]
     },
     "execution_count": 118,
     "metadata": {},
     "output_type": "execute_result"
    }
   ],
   "source": [
    "from sklearn.ensemble import GradientBoostingClassifier\n",
    "gb = GradientBoostingClassifier(n_estimators=10)\n",
    "gb.fit(scaled_train,y_train)\n",
    "y_pred=gb.predict(scaled_test)\n",
    "accuracy_score(y_test,y_pred)"
   ]
  },
  {
   "cell_type": "code",
   "execution_count": 119,
   "id": "34840df5",
   "metadata": {},
   "outputs": [
    {
     "data": {
      "text/plain": [
       "array([[842,   0,  19,   0],\n",
       "       [  0, 700,  59,  67],\n",
       "       [ 40,  61, 639,  56],\n",
       "       [ 63,  14,  21, 723]], dtype=int64)"
      ]
     },
     "execution_count": 119,
     "metadata": {},
     "output_type": "execute_result"
    }
   ],
   "source": [
    "confusion_matrix(y_test,y_pred)"
   ]
  },
  {
   "cell_type": "code",
   "execution_count": 120,
   "id": "83d4993d",
   "metadata": {},
   "outputs": [
    {
     "data": {
      "image/png": "[encoded data removed]",
      "text/plain": [
       "<Figure size 432x288 with 2 Axes>"
      ]
     },
     "metadata": {
      "needs_background": "light"
     },
     "output_type": "display_data"
    }
   ],
   "source": [
    "matrix = plot_confusion_matrix(gb,scaled_test,y_test,cmap=plt.cm.Reds)\n",
    "matrix.ax_.set_title('confusion Matrix', color='white')\n",
    "plt.xlabel('Predicted Label', color='white')\n",
    "plt.ylabel('True Label', color='white')\n",
    "plt.show()"
   ]
  },
  {
   "cell_type": "markdown",
   "id": "068eb6c5",
   "metadata": {},
   "source": [
    "#Decision Tree"
   ]
  },
  {
   "cell_type": "code",
   "execution_count": 121,
   "id": "6ba149b2",
   "metadata": {},
   "outputs": [
    {
     "data": {
      "text/plain": [
       "0.8535108958837773"
      ]
     },
     "execution_count": 121,
     "metadata": {},
     "output_type": "execute_result"
    }
   ],
   "source": [
    "from sklearn import tree\n",
    "dt = tree.DecisionTreeClassifier()\n",
    "dt.fit(scaled_train,y_train)\n",
    "y_pred=dt.predict(scaled_test)\n",
    "accuracy_score(y_test,y_pred)"
   ]
  },
  {
   "cell_type": "code",
   "execution_count": 122,
   "id": "71cca944",
   "metadata": {},
   "outputs": [],
   "source": [
    "from sklearn.ensemble import RandomForestClassifier\n",
    "rf = RandomForestClassifier()"
   ]
  },
  {
   "cell_type": "code",
   "execution_count": 123,
   "id": "1064d878",
   "metadata": {},
   "outputs": [
    {
     "data": {
      "text/plain": [
       "0.8931598062953995"
      ]
     },
     "execution_count": 123,
     "metadata": {},
     "output_type": "execute_result"
    }
   ],
   "source": [
    "rf.fit(scaled_train,y_train)\n",
    "y_pred=rf.predict(scaled_test)\n",
    "accuracy_score(y_test,y_pred)"
   ]
  },
  {
   "cell_type": "code",
   "execution_count": 124,
   "id": "8b7b96b2",
   "metadata": {},
   "outputs": [
    {
     "data": {
      "text/plain": [
       "array([[850,   0,  11,   0],\n",
       "       [  0, 721,  53,  52],\n",
       "       [ 24,  62, 660,  50],\n",
       "       [ 70,  31,   0, 720]], dtype=int64)"
      ]
     },
     "execution_count": 124,
     "metadata": {},
     "output_type": "execute_result"
    }
   ],
   "source": [
    "confusion_matrix(y_test,y_pred)"
   ]
  },
  {
   "cell_type": "code",
   "execution_count": 125,
   "id": "945bfc92",
   "metadata": {},
   "outputs": [
    {
     "data": {
      "image/png": "[encoded data removed]",
      "text/plain": [
       "<Figure size 432x288 with 2 Axes>"
      ]
     },
     "metadata": {
      "needs_background": "light"
     },
     "output_type": "display_data"
    }
   ],
   "source": [
    "matrix = plot_confusion_matrix(rf,scaled_test,y_test,cmap=plt.cm.Reds)\n",
    "matrix.ax_.set_title('confusion Matrix', color='white')\n",
    "plt.xlabel('Predicted Label', color='white')\n",
    "plt.ylabel('True Label', color='white')\n",
    "plt.show()"
   ]
  },
  {
   "cell_type": "code",
   "execution_count": 126,
   "id": "5d7a4203",
   "metadata": {},
   "outputs": [
    {
     "name": "stdout",
     "output_type": "stream",
     "text": [
      "Train Score:0.9174883238194084\n",
      " Test Score:0.912227602905569\n"
     ]
    }
   ],
   "source": [
    "classifier_forest = RandomForestClassifier(criterion = 'entropy')\n",
    "classifier_forest.fit(x_train,y_train)\n",
    "y_pred = classifier_forest.predict(scaled_test)\n",
    "\n",
    "print(f'Train Score:{classifier_forest.score(x_train,y_train)}\\n Test Score:{classifier_forest.score(x_test,y_test)}')"
   ]
  },
  {
   "cell_type": "code",
   "execution_count": 127,
   "id": "2077f206",
   "metadata": {},
   "outputs": [
    {
     "data": {
      "text/plain": [
       "0.20853510895883778"
      ]
     },
     "execution_count": 127,
     "metadata": {},
     "output_type": "execute_result"
    }
   ],
   "source": [
    "accuracy_score(y_test,y_pred)"
   ]
  },
  {
   "cell_type": "code",
   "execution_count": null,
   "id": "d510ba17",
   "metadata": {},
   "outputs": [],
   "source": []
  }
 ],
 "metadata": {
  "kernelspec": {
   "display_name": "Python 3 (ipykernel)",
   "language": "python",
   "name": "python3"
  },
  "language_info": {
   "codemirror_mode": {
    "name": "ipython",
    "version": 3
   },
   "file_extension": ".py",
   "mimetype": "text/x-python",
   "name": "python",
   "nbconvert_exporter": "python",
   "pygments_lexer": "ipython3",
   "version": "3.10.0"
  }
 },
 "nbformat": 4,
 "nbformat_minor": 5
}
