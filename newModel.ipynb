{
 "cells": [
  {
   "cell_type": "code",
   "execution_count": 1,
   "id": "6bc0c7d3",
   "metadata": {},
   "outputs": [],
   "source": [
    "#import packages\n",
    "import warnings\n",
    "warnings.filterwarnings(\"ignore\")\n",
    "\n",
    "import pandas as pd\n",
    "import numpy as np\n",
    "%matplotlib inline\n",
    "import matplotlib.pyplot as plt\n",
    "import seaborn as sns"
   ]
  },
  {
   "cell_type": "code",
   "execution_count": 2,
   "id": "be299c45",
   "metadata": {},
   "outputs": [],
   "source": [
    "def parse_row(row):\n",
    "    row = row.split(\".\")[0]\n",
    "    return row\n",
    "\n",
    "def to_hyperthyroid(row):\n",
    "    if row != \"negative\":\n",
    "        row = \"hyperthyroid\"\n",
    "    return row\n",
    "\n",
    "def to_hypothyroid(row):\n",
    "    if row != \"negative\":\n",
    "        row = \"hypothyroid\"\n",
    "    return row\n",
    "\n"
   ]
  },
  {
   "cell_type": "code",
   "execution_count": 3,
   "id": "96c03941",
   "metadata": {},
   "outputs": [],
   "source": [
    "columns = ['age', 'sex', 'on thyroxine', 'query on thyroxine',\n",
    "       'on antithyroid medication', 'sick', 'pregnant', 'thyroid surgery',\n",
    "       'I131 treatment', 'query hypothyroid', 'query hyperthyroid', 'lithium',\n",
    "       'goitre', 'tumor', 'hypopituitary', 'psych', 'TSH measured', 'TSH',\n",
    "       'T3 measured', 'T3', 'TT4 measured', 'TT4', 'T4U measured', 'T4U',\n",
    "       'FTI measured', 'FTI', 'TBG measured', 'TBG', 'referral source',\n",
    "       'category']"
   ]
  },
  {
   "cell_type": "code",
   "execution_count": 4,
   "id": "faa360e0",
   "metadata": {},
   "outputs": [],
   "source": [
    "hyper_data = pd.read_csv(\"allhyper.csv\", names=columns)\n",
    "hypo_data = pd.read_csv(\"allhypo.csv\", names=columns)\n",
    "sick_data = pd.read_csv(\"sick.csv\", names=columns)"
   ]
  },
  {
   "cell_type": "code",
   "execution_count": 5,
   "id": "c6127dc0",
   "metadata": {},
   "outputs": [
    {
     "data": {
      "text/plain": [
       "Index(['age', 'sex', 'on thyroxine', 'query on thyroxine',\n",
       "       'on antithyroid medication', 'sick', 'pregnant', 'thyroid surgery',\n",
       "       'I131 treatment', 'query hypothyroid', 'query hyperthyroid', 'lithium',\n",
       "       'goitre', 'tumor', 'hypopituitary', 'psych', 'TSH measured', 'TSH',\n",
       "       'T3 measured', 'T3', 'TT4 measured', 'TT4', 'T4U measured', 'T4U',\n",
       "       'FTI measured', 'FTI', 'TBG measured', 'TBG', 'referral source',\n",
       "       'category'],\n",
       "      dtype='object')"
      ]
     },
     "execution_count": 5,
     "metadata": {},
     "output_type": "execute_result"
    }
   ],
   "source": [
    "hyper_data.columns"
   ]
  },
  {
   "cell_type": "code",
   "execution_count": 6,
   "id": "354e15df",
   "metadata": {},
   "outputs": [],
   "source": [
    "hyper_data['category'] = hyper_data['category'] \\\n",
    "                            .apply(parse_row) \\\n",
    "                            .apply(to_hyperthyroid)\n",
    "\n",
    "hypo_data['category'] = hypo_data['category'] \\\n",
    "                            .apply(parse_row) \\\n",
    "                            .apply(to_hypothyroid)\n",
    "\n",
    "sick_data['category'] = sick_data['category'] \\\n",
    "                            .apply(parse_row)"
   ]
  },
  {
   "cell_type": "code",
   "execution_count": 7,
   "id": "18f6a772",
   "metadata": {},
   "outputs": [],
   "source": [
    "thyroid_frames = [hyper_data, hypo_data, sick_data]\n",
    "thyroid_data = pd.concat(thyroid_frames) \\\n",
    "                 .drop_duplicates() \\\n",
    "                 .drop(['TBG', 'TBG measured'], axis=1)"
   ]
  },
  {
   "cell_type": "code",
   "execution_count": 8,
   "id": "24d4908d",
   "metadata": {},
   "outputs": [],
   "source": [
    "classes = thyroid_data['category'].unique()"
   ]
  },
  {
   "cell_type": "code",
   "execution_count": 9,
   "id": "0fa63995",
   "metadata": {},
   "outputs": [
    {
     "data": {
      "text/plain": [
       "(3221, 28)"
      ]
     },
     "execution_count": 9,
     "metadata": {},
     "output_type": "execute_result"
    }
   ],
   "source": [
    "thyroid_data.shape"
   ]
  },
  {
   "cell_type": "code",
   "execution_count": 10,
   "id": "f63fd37b",
   "metadata": {},
   "outputs": [
    {
     "data": {
      "text/plain": [
       "age                          0\n",
       "sex                          0\n",
       "on thyroxine                 0\n",
       "query on thyroxine           0\n",
       "on antithyroid medication    0\n",
       "sick                         0\n",
       "pregnant                     0\n",
       "thyroid surgery              0\n",
       "I131 treatment               0\n",
       "query hypothyroid            0\n",
       "query hyperthyroid           0\n",
       "lithium                      0\n",
       "goitre                       0\n",
       "tumor                        0\n",
       "hypopituitary                0\n",
       "psych                        0\n",
       "TSH measured                 0\n",
       "TSH                          0\n",
       "T3 measured                  0\n",
       "T3                           0\n",
       "TT4 measured                 0\n",
       "TT4                          0\n",
       "T4U measured                 0\n",
       "T4U                          0\n",
       "FTI measured                 0\n",
       "FTI                          0\n",
       "referral source              0\n",
       "category                     0\n",
       "dtype: int64"
      ]
     },
     "execution_count": 10,
     "metadata": {},
     "output_type": "execute_result"
    }
   ],
   "source": [
    "thyroid_data.isnull().sum()"
   ]
  },
  {
   "cell_type": "code",
   "execution_count": 11,
   "id": "c6db0252",
   "metadata": {},
   "outputs": [
    {
     "data": {
      "text/plain": [
       "<AxesSubplot:>"
      ]
     },
     "execution_count": 11,
     "metadata": {},
     "output_type": "execute_result"
    },
    {
     "data": {
      "image/png": "[encoded data removed]",
      "text/plain": [
       "<Figure size 432x288 with 2 Axes>"
      ]
     },
     "metadata": {
      "needs_background": "light"
     },
     "output_type": "display_data"
    }
   ],
   "source": [
    "sns.heatmap(thyroid_data.isnull())"
   ]
  },
  {
   "cell_type": "code",
   "execution_count": 12,
   "id": "d0ab1441",
   "metadata": {},
   "outputs": [
    {
     "name": "stdout",
     "output_type": "stream",
     "text": [
      "Number of samples: 3221\n"
     ]
    }
   ],
   "source": [
    "print(\"Number of samples:\", len(thyroid_data))"
   ]
  },
  {
   "cell_type": "code",
   "execution_count": 13,
   "id": "f91648cb",
   "metadata": {},
   "outputs": [
    {
     "data": {
      "text/html": [
       "<div>\n",
       "<style scoped>\n",
       "    .dataframe tbody tr th:only-of-type {\n",
       "        vertical-align: middle;\n",
       "    }\n",
       "\n",
       "    .dataframe tbody tr th {\n",
       "        vertical-align: top;\n",
       "    }\n",
       "\n",
       "    .dataframe thead th {\n",
       "        text-align: right;\n",
       "    }\n",
       "</style>\n",
       "<table border=\"1\" class=\"dataframe\">\n",
       "  <thead>\n",
       "    <tr style=\"text-align: right;\">\n",
       "      <th></th>\n",
       "      <th>age</th>\n",
       "      <th>sex</th>\n",
       "      <th>on thyroxine</th>\n",
       "      <th>query on thyroxine</th>\n",
       "      <th>on antithyroid medication</th>\n",
       "      <th>sick</th>\n",
       "      <th>pregnant</th>\n",
       "      <th>thyroid surgery</th>\n",
       "      <th>I131 treatment</th>\n",
       "      <th>query hypothyroid</th>\n",
       "      <th>...</th>\n",
       "      <th>T3 measured</th>\n",
       "      <th>T3</th>\n",
       "      <th>TT4 measured</th>\n",
       "      <th>TT4</th>\n",
       "      <th>T4U measured</th>\n",
       "      <th>T4U</th>\n",
       "      <th>FTI measured</th>\n",
       "      <th>FTI</th>\n",
       "      <th>referral source</th>\n",
       "      <th>category</th>\n",
       "    </tr>\n",
       "  </thead>\n",
       "  <tbody>\n",
       "    <tr>\n",
       "      <th>0</th>\n",
       "      <td>41</td>\n",
       "      <td>F</td>\n",
       "      <td>f</td>\n",
       "      <td>f</td>\n",
       "      <td>f</td>\n",
       "      <td>f</td>\n",
       "      <td>f</td>\n",
       "      <td>f</td>\n",
       "      <td>f</td>\n",
       "      <td>f</td>\n",
       "      <td>...</td>\n",
       "      <td>t</td>\n",
       "      <td>2.5</td>\n",
       "      <td>t</td>\n",
       "      <td>125</td>\n",
       "      <td>t</td>\n",
       "      <td>1.14</td>\n",
       "      <td>t</td>\n",
       "      <td>109</td>\n",
       "      <td>SVHC</td>\n",
       "      <td>negative</td>\n",
       "    </tr>\n",
       "    <tr>\n",
       "      <th>1</th>\n",
       "      <td>23</td>\n",
       "      <td>F</td>\n",
       "      <td>f</td>\n",
       "      <td>f</td>\n",
       "      <td>f</td>\n",
       "      <td>f</td>\n",
       "      <td>f</td>\n",
       "      <td>f</td>\n",
       "      <td>f</td>\n",
       "      <td>f</td>\n",
       "      <td>...</td>\n",
       "      <td>t</td>\n",
       "      <td>2</td>\n",
       "      <td>t</td>\n",
       "      <td>102</td>\n",
       "      <td>f</td>\n",
       "      <td>?</td>\n",
       "      <td>f</td>\n",
       "      <td>?</td>\n",
       "      <td>other</td>\n",
       "      <td>negative</td>\n",
       "    </tr>\n",
       "    <tr>\n",
       "      <th>2</th>\n",
       "      <td>46</td>\n",
       "      <td>M</td>\n",
       "      <td>f</td>\n",
       "      <td>f</td>\n",
       "      <td>f</td>\n",
       "      <td>f</td>\n",
       "      <td>f</td>\n",
       "      <td>f</td>\n",
       "      <td>f</td>\n",
       "      <td>f</td>\n",
       "      <td>...</td>\n",
       "      <td>f</td>\n",
       "      <td>?</td>\n",
       "      <td>t</td>\n",
       "      <td>109</td>\n",
       "      <td>t</td>\n",
       "      <td>0.91</td>\n",
       "      <td>t</td>\n",
       "      <td>120</td>\n",
       "      <td>other</td>\n",
       "      <td>negative</td>\n",
       "    </tr>\n",
       "    <tr>\n",
       "      <th>3</th>\n",
       "      <td>70</td>\n",
       "      <td>F</td>\n",
       "      <td>t</td>\n",
       "      <td>f</td>\n",
       "      <td>f</td>\n",
       "      <td>f</td>\n",
       "      <td>f</td>\n",
       "      <td>f</td>\n",
       "      <td>f</td>\n",
       "      <td>f</td>\n",
       "      <td>...</td>\n",
       "      <td>t</td>\n",
       "      <td>1.9</td>\n",
       "      <td>t</td>\n",
       "      <td>175</td>\n",
       "      <td>f</td>\n",
       "      <td>?</td>\n",
       "      <td>f</td>\n",
       "      <td>?</td>\n",
       "      <td>other</td>\n",
       "      <td>negative</td>\n",
       "    </tr>\n",
       "    <tr>\n",
       "      <th>4</th>\n",
       "      <td>70</td>\n",
       "      <td>F</td>\n",
       "      <td>f</td>\n",
       "      <td>f</td>\n",
       "      <td>f</td>\n",
       "      <td>f</td>\n",
       "      <td>f</td>\n",
       "      <td>f</td>\n",
       "      <td>f</td>\n",
       "      <td>f</td>\n",
       "      <td>...</td>\n",
       "      <td>t</td>\n",
       "      <td>1.2</td>\n",
       "      <td>t</td>\n",
       "      <td>61</td>\n",
       "      <td>t</td>\n",
       "      <td>0.87</td>\n",
       "      <td>t</td>\n",
       "      <td>70</td>\n",
       "      <td>SVI</td>\n",
       "      <td>negative</td>\n",
       "    </tr>\n",
       "  </tbody>\n",
       "</table>\n",
       "<p>5 rows × 28 columns</p>\n",
       "</div>"
      ],
      "text/plain": [
       "  age sex on thyroxine query on thyroxine on antithyroid medication sick  \\\n",
       "0  41   F            f                  f                         f    f   \n",
       "1  23   F            f                  f                         f    f   \n",
       "2  46   M            f                  f                         f    f   \n",
       "3  70   F            t                  f                         f    f   \n",
       "4  70   F            f                  f                         f    f   \n",
       "\n",
       "  pregnant thyroid surgery I131 treatment query hypothyroid  ... T3 measured  \\\n",
       "0        f               f              f                 f  ...           t   \n",
       "1        f               f              f                 f  ...           t   \n",
       "2        f               f              f                 f  ...           f   \n",
       "3        f               f              f                 f  ...           t   \n",
       "4        f               f              f                 f  ...           t   \n",
       "\n",
       "    T3 TT4 measured  TT4 T4U measured   T4U FTI measured  FTI referral source  \\\n",
       "0  2.5            t  125            t  1.14            t  109            SVHC   \n",
       "1    2            t  102            f     ?            f    ?           other   \n",
       "2    ?            t  109            t  0.91            t  120           other   \n",
       "3  1.9            t  175            f     ?            f    ?           other   \n",
       "4  1.2            t   61            t  0.87            t   70             SVI   \n",
       "\n",
       "   category  \n",
       "0  negative  \n",
       "1  negative  \n",
       "2  negative  \n",
       "3  negative  \n",
       "4  negative  \n",
       "\n",
       "[5 rows x 28 columns]"
      ]
     },
     "execution_count": 13,
     "metadata": {},
     "output_type": "execute_result"
    }
   ],
   "source": [
    "thyroid_data.head(5)"
   ]
  },
  {
   "cell_type": "code",
   "execution_count": 14,
   "id": "86ab9b41",
   "metadata": {},
   "outputs": [
    {
     "data": {
      "text/plain": [
       "other    1795\n",
       "SVI       994\n",
       "SVHC      289\n",
       "STMW      106\n",
       "SVHD       37\n",
       "Name: referral source, dtype: int64"
      ]
     },
     "execution_count": 14,
     "metadata": {},
     "output_type": "execute_result"
    }
   ],
   "source": [
    "thyroid_data['referral source'].value_counts()"
   ]
  },
  {
   "cell_type": "code",
   "execution_count": 15,
   "id": "0bd5a16b",
   "metadata": {},
   "outputs": [
    {
     "data": {
      "text/plain": [
       "negative        2753\n",
       "hypothyroid      220\n",
       "sick             171\n",
       "hyperthyroid      77\n",
       "Name: category, dtype: int64"
      ]
     },
     "execution_count": 15,
     "metadata": {},
     "output_type": "execute_result"
    }
   ],
   "source": [
    "thyroid_data['category'].value_counts()"
   ]
  },
  {
   "cell_type": "code",
   "execution_count": 16,
   "id": "f45c51a4",
   "metadata": {},
   "outputs": [
    {
     "data": {
      "text/html": [
       "<div>\n",
       "<style scoped>\n",
       "    .dataframe tbody tr th:only-of-type {\n",
       "        vertical-align: middle;\n",
       "    }\n",
       "\n",
       "    .dataframe tbody tr th {\n",
       "        vertical-align: top;\n",
       "    }\n",
       "\n",
       "    .dataframe thead th {\n",
       "        text-align: right;\n",
       "    }\n",
       "</style>\n",
       "<table border=\"1\" class=\"dataframe\">\n",
       "  <thead>\n",
       "    <tr style=\"text-align: right;\">\n",
       "      <th></th>\n",
       "      <th>age</th>\n",
       "      <th>sex</th>\n",
       "      <th>on thyroxine</th>\n",
       "      <th>query on thyroxine</th>\n",
       "      <th>on antithyroid medication</th>\n",
       "      <th>sick</th>\n",
       "      <th>pregnant</th>\n",
       "      <th>thyroid surgery</th>\n",
       "      <th>I131 treatment</th>\n",
       "      <th>query hypothyroid</th>\n",
       "      <th>...</th>\n",
       "      <th>T3 measured</th>\n",
       "      <th>T3</th>\n",
       "      <th>TT4 measured</th>\n",
       "      <th>TT4</th>\n",
       "      <th>T4U measured</th>\n",
       "      <th>T4U</th>\n",
       "      <th>FTI measured</th>\n",
       "      <th>FTI</th>\n",
       "      <th>referral source</th>\n",
       "      <th>category</th>\n",
       "    </tr>\n",
       "  </thead>\n",
       "  <tbody>\n",
       "    <tr>\n",
       "      <th>count</th>\n",
       "      <td>3221</td>\n",
       "      <td>3221</td>\n",
       "      <td>3221</td>\n",
       "      <td>3221</td>\n",
       "      <td>3221</td>\n",
       "      <td>3221</td>\n",
       "      <td>3221</td>\n",
       "      <td>3221</td>\n",
       "      <td>3221</td>\n",
       "      <td>3221</td>\n",
       "      <td>...</td>\n",
       "      <td>3221</td>\n",
       "      <td>3221</td>\n",
       "      <td>3221</td>\n",
       "      <td>3221</td>\n",
       "      <td>3221</td>\n",
       "      <td>3221</td>\n",
       "      <td>3221</td>\n",
       "      <td>3221</td>\n",
       "      <td>3221</td>\n",
       "      <td>3221</td>\n",
       "    </tr>\n",
       "    <tr>\n",
       "      <th>unique</th>\n",
       "      <td>94</td>\n",
       "      <td>3</td>\n",
       "      <td>2</td>\n",
       "      <td>2</td>\n",
       "      <td>2</td>\n",
       "      <td>2</td>\n",
       "      <td>2</td>\n",
       "      <td>2</td>\n",
       "      <td>2</td>\n",
       "      <td>2</td>\n",
       "      <td>...</td>\n",
       "      <td>2</td>\n",
       "      <td>65</td>\n",
       "      <td>2</td>\n",
       "      <td>218</td>\n",
       "      <td>2</td>\n",
       "      <td>139</td>\n",
       "      <td>2</td>\n",
       "      <td>210</td>\n",
       "      <td>5</td>\n",
       "      <td>4</td>\n",
       "    </tr>\n",
       "    <tr>\n",
       "      <th>top</th>\n",
       "      <td>59</td>\n",
       "      <td>F</td>\n",
       "      <td>f</td>\n",
       "      <td>f</td>\n",
       "      <td>f</td>\n",
       "      <td>f</td>\n",
       "      <td>f</td>\n",
       "      <td>f</td>\n",
       "      <td>f</td>\n",
       "      <td>f</td>\n",
       "      <td>...</td>\n",
       "      <td>t</td>\n",
       "      <td>?</td>\n",
       "      <td>t</td>\n",
       "      <td>?</td>\n",
       "      <td>t</td>\n",
       "      <td>?</td>\n",
       "      <td>t</td>\n",
       "      <td>?</td>\n",
       "      <td>other</td>\n",
       "      <td>negative</td>\n",
       "    </tr>\n",
       "    <tr>\n",
       "      <th>freq</th>\n",
       "      <td>91</td>\n",
       "      <td>2108</td>\n",
       "      <td>2878</td>\n",
       "      <td>3173</td>\n",
       "      <td>3186</td>\n",
       "      <td>3080</td>\n",
       "      <td>3175</td>\n",
       "      <td>3180</td>\n",
       "      <td>3165</td>\n",
       "      <td>3010</td>\n",
       "      <td>...</td>\n",
       "      <td>2632</td>\n",
       "      <td>589</td>\n",
       "      <td>3079</td>\n",
       "      <td>142</td>\n",
       "      <td>2945</td>\n",
       "      <td>276</td>\n",
       "      <td>2947</td>\n",
       "      <td>274</td>\n",
       "      <td>1795</td>\n",
       "      <td>2753</td>\n",
       "    </tr>\n",
       "  </tbody>\n",
       "</table>\n",
       "<p>4 rows × 28 columns</p>\n",
       "</div>"
      ],
      "text/plain": [
       "         age   sex on thyroxine query on thyroxine on antithyroid medication  \\\n",
       "count   3221  3221         3221               3221                      3221   \n",
       "unique    94     3            2                  2                         2   \n",
       "top       59     F            f                  f                         f   \n",
       "freq      91  2108         2878               3173                      3186   \n",
       "\n",
       "        sick pregnant thyroid surgery I131 treatment query hypothyroid  ...  \\\n",
       "count   3221     3221            3221           3221              3221  ...   \n",
       "unique     2        2               2              2                 2  ...   \n",
       "top        f        f               f              f                 f  ...   \n",
       "freq    3080     3175            3180           3165              3010  ...   \n",
       "\n",
       "       T3 measured    T3 TT4 measured   TT4 T4U measured   T4U FTI measured  \\\n",
       "count         3221  3221         3221  3221         3221  3221         3221   \n",
       "unique           2    65            2   218            2   139            2   \n",
       "top              t     ?            t     ?            t     ?            t   \n",
       "freq          2632   589         3079   142         2945   276         2947   \n",
       "\n",
       "         FTI referral source  category  \n",
       "count   3221            3221      3221  \n",
       "unique   210               5         4  \n",
       "top        ?           other  negative  \n",
       "freq     274            1795      2753  \n",
       "\n",
       "[4 rows x 28 columns]"
      ]
     },
     "execution_count": 16,
     "metadata": {},
     "output_type": "execute_result"
    }
   ],
   "source": [
    "thyroid_data.describe()"
   ]
  },
  {
   "cell_type": "markdown",
   "id": "0329290e",
   "metadata": {},
   "source": [
    "#binary_cols=['age', 'sex', 'on thyroxine', 'query on thyroxine',\n",
    "       'on antithyroid medication', 'sick', 'pregnant', 'thyroid surgery',\n",
    "       'I131 treatment', 'query hypothyroid', 'query hyperthyroid', 'lithium',\n",
    "       'goitre', 'tumor', 'hypopituitary', 'psych', 'TSH measured', 'TSH',\n",
    "       'T3 measured', 'T3', 'TT4 measured', 'TT4', 'T4U measured', 'T4U',\n",
    "       'FTI measured', 'FTI', 'category']\n",
    "#for col in binary_cols: convert_category(thyroid_data, col)"
   ]
  },
  {
   "cell_type": "code",
   "execution_count": 17,
   "id": "8d8563ff",
   "metadata": {},
   "outputs": [
    {
     "data": {
      "text/plain": [
       "age                          object\n",
       "sex                          object\n",
       "on thyroxine                 object\n",
       "query on thyroxine           object\n",
       "on antithyroid medication    object\n",
       "sick                         object\n",
       "pregnant                     object\n",
       "thyroid surgery              object\n",
       "I131 treatment               object\n",
       "query hypothyroid            object\n",
       "query hyperthyroid           object\n",
       "lithium                      object\n",
       "goitre                       object\n",
       "tumor                        object\n",
       "hypopituitary                object\n",
       "psych                        object\n",
       "TSH measured                 object\n",
       "TSH                          object\n",
       "T3 measured                  object\n",
       "T3                           object\n",
       "TT4 measured                 object\n",
       "TT4                          object\n",
       "T4U measured                 object\n",
       "T4U                          object\n",
       "FTI measured                 object\n",
       "FTI                          object\n",
       "referral source              object\n",
       "category                     object\n",
       "dtype: object"
      ]
     },
     "execution_count": 17,
     "metadata": {},
     "output_type": "execute_result"
    }
   ],
   "source": [
    "thyroid_data.dtypes"
   ]
  },
  {
   "cell_type": "code",
   "execution_count": 18,
   "id": "8ec3e314",
   "metadata": {},
   "outputs": [
    {
     "name": "stdout",
     "output_type": "stream",
     "text": [
      "age 1\n",
      "sex 127\n",
      "TSH 247\n",
      "T3 589\n",
      "TT4 142\n",
      "T4U 276\n",
      "FTI 274\n"
     ]
    }
   ],
   "source": [
    "#replace the '?' values with numpy nan\n",
    "for column in thyroid_data.columns:\n",
    "    count=thyroid_data[column][thyroid_data[column]=='?'].count()\n",
    "    if count != 0:\n",
    "        print(column,thyroid_data[column][thyroid_data[column]=='?'].count())"
   ]
  },
  {
   "cell_type": "code",
   "execution_count": 19,
   "id": "b9ed3f9b",
   "metadata": {},
   "outputs": [],
   "source": [
    "for column in thyroid_data.columns:\n",
    "    count=thyroid_data[column][thyroid_data[column]== '?'].count()\n",
    "    if count!=0:\n",
    "        thyroid_data[column]=thyroid_data[column].replace('?',np.nan)"
   ]
  },
  {
   "cell_type": "code",
   "execution_count": 20,
   "id": "dc670082",
   "metadata": {},
   "outputs": [
    {
     "name": "stdout",
     "output_type": "stream",
     "text": [
      "age 0\n",
      "sex 0\n",
      "on thyroxine 0\n",
      "query on thyroxine 0\n",
      "on antithyroid medication 0\n",
      "sick 0\n",
      "pregnant 0\n",
      "thyroid surgery 0\n",
      "I131 treatment 0\n",
      "query hypothyroid 0\n",
      "query hyperthyroid 0\n",
      "lithium 0\n",
      "goitre 0\n",
      "tumor 0\n",
      "hypopituitary 0\n",
      "psych 0\n",
      "TSH measured 0\n",
      "TSH 0\n",
      "T3 measured 0\n",
      "T3 0\n",
      "TT4 measured 0\n",
      "TT4 0\n",
      "T4U measured 0\n",
      "T4U 0\n",
      "FTI measured 0\n",
      "FTI 0\n",
      "referral source 0\n",
      "category 0\n"
     ]
    }
   ],
   "source": [
    "for column in thyroid_data.columns:\n",
    "    count=thyroid_data[column][thyroid_data[column]=='?'].count()\n",
    "    if count == 0:\n",
    "        print(column,thyroid_data[column][thyroid_data[column]=='?'].count())"
   ]
  },
  {
   "cell_type": "code",
   "execution_count": 21,
   "id": "caea0cc6",
   "metadata": {},
   "outputs": [
    {
     "name": "stdout",
     "output_type": "stream",
     "text": [
      "age ['41' '23' '46' '70' '18' '59' '80' '66' '68' '84' '67' '71' '28' '65'\n",
      " '42' '63' '51' '81' '54' '55' '60' '25' '73' '34' '78' '37' '85' '26'\n",
      " '58' '64' '44' '48' '61' '35' '83' '21' '87' '53' '77' '27' '69' '74'\n",
      " '38' '76' '45' '36' '22' '43' '72' '82' '31' '39' '49' '62' '57' '1' '50'\n",
      " '30' '29' '75' '19' '7' '79' '17' '24' '15' '32' '47' '16' '52' '33' '13'\n",
      " '10' '89' '56' '20' '90' '40' '88' '14' '86' '94' '12' '4' '11' '8' '5'\n",
      " '455' '2' '91' '6' nan '93' '92']\n",
      "sex ['F' 'M' nan]\n",
      "on thyroxine ['f' 't']\n",
      "query on thyroxine ['f' 't']\n",
      "on antithyroid medication ['f' 't']\n",
      "sick ['f' 't']\n",
      "pregnant ['f' 't']\n",
      "thyroid surgery ['f' 't']\n",
      "I131 treatment ['f' 't']\n",
      "query hypothyroid ['f' 't']\n",
      "query hyperthyroid ['f' 't']\n",
      "lithium ['f' 't']\n",
      "goitre ['f' 't']\n",
      "tumor ['f' 't']\n",
      "hypopituitary ['f' 't']\n",
      "psych ['f' 't']\n",
      "TSH measured ['t' 'f']\n",
      "TSH ['1.3' '4.1' '0.98' '0.16' '0.72' '0.03' nan '2.2' '0.6' '2.4' '1.1' '2.8'\n",
      " '3.3' '12' '1.2' '1.5' '6' '2.1' '0.1' '0.8' '1.9' '3.1' '0.2' '13' '0.3'\n",
      " '0.035' '2.5' '0.5' '1.7' '7.3' '1.8' '0.26' '45' '5.4' '0.99' '0.25'\n",
      " '0.92' '0.15' '0.64' '1' '0.4' '2' '2.6' '14.8' '15' '19' '0.02' '3'\n",
      " '2.9' '3.2' '9' '1.6' '4.3' '0.005' '0.31' '0.61' '0.05' '7.8' '160'\n",
      " '0.025' '1.4' '0.01' '8.8' '151' '0.04' '3.9' '9.4' '2.7' '2.3' '0.94'\n",
      " '0.045' '3.5' '0.88' '0.08' '4.5' '0.68' '0.7' '0.67' '27' '6.1' '0.75'\n",
      " '0.55' '26' '5.2' '0.77' '0.07' '0.9' '11.4' '143' '0.45' '0.57' '0.65'\n",
      " '0.015' '16' '108' '0.83' '9.2' '86' '0.62' '0.59' '9.1' '5.9' '52'\n",
      " '0.33' '31' '5.8' '0.28' '51' '6.3' '4.4' '9.6' '3.4' '0.09' '24' '0.76'\n",
      " '42' '25' '10' '4.6' '8.6' '0.66' '6.2' '0.79' '28' '0.86' '9.7' '0.84'\n",
      " '17' '18' '55' '14' '3.7' '0.87' '6.7' '0.74' '7.6' '0.065' '0.29' '0.37'\n",
      " '8' '11' '0.48' '44' '7.9' '5' '7.2' '0.89' '0.93' '0.97' '0.12' '6.4'\n",
      " '33' '0.85' '7.1' '0.73' '199' '8.2' '188' '0.22' '98' '22' '6.6' '5.1'\n",
      " '0.06' '0.42' '3.8' '35' '4' '0.78' '0.63' '0.52' '60' '0.43' '5.6' '6.9'\n",
      " '3.6' '29' '0.38' '4.9' '0.41' '9.9' '7.5' '34' '6.5' '4.7' '103' '0.95'\n",
      " '0.14' '0.35' '4.2' '0.81' '0.54' '0.58' '8.9' '5.5' '0.34' '9.3' '0.13'\n",
      " '54' '0.39' '8.3' '478' '21' '6.8' '0.32' '0.23' '0.24' '8.1' '0.91'\n",
      " '5.3' '100' '0.27' '1.01' '58' '41' '183' '18.4' '0.47' '0.17' '12.1'\n",
      " '0.19' '0.82' '43' '0.44' '70' '7.7' '8.4' '0.69' '8.5' '0.21' '82'\n",
      " '0.055' '0.96' '0.71' '38' '0.36' '9.8' '7' '0.46' '11.1' '39' '76' '5.7'\n",
      " '32' '126' '26.4' '0.53' '0.49' '36' '178' '145' '47' '4.8' '10.3' '89'\n",
      " '7.4' '472' '0.51' '116' '61' '99' '46' '78' '468']\n",
      "T3 measured ['t' 'f']\n",
      "T3 ['2.5' '2' nan '1.9' '1.2' '0.6' '2.2' '1.6' '3.8' '1.7' '1.8' '2.6' '2.1'\n",
      " '0.3' '5.5' '1.4' '3.1' '1.5' '2.3' '2.4' '2.7' '0.9' '1' '2.8' '2.9'\n",
      " '0.8' '1.3' '0.4' '3.3' '3.5' '3.4' '1.1' '4.2' '3.7' '3' '0.7' '4.8'\n",
      " '4.3' '0.05' '3.2' '5.4' '4' '0.5' '0.2' '3.6' '5.2' '5' '6' '5.3' '3.9'\n",
      " '4.6' '4.5' '7.3' '4.7' '6.7' '4.1' '6.1' '0.1' '4.9' '10.6' '5.1' '7'\n",
      " '6.2' '4.4' '7.1']\n",
      "TT4 measured ['t' 'f']\n",
      "TT4 ['125' '102' '109' '175' '61' '183' '72' '80' '123' '83' '115' '152' '171'\n",
      " '97' '99' '70' '117' '121' '130' '108' '104' '134' '199' '57' '129' '113'\n",
      " '119' '84' '81' '95' '66' '101' '147' '120' '69' nan '39' '87' '63' '133'\n",
      " '86' '163' '162' '103' '96' '151' '112' '82' '138' '71' '77' '93' '107'\n",
      " '237' '110' '67' '88' '160' '118' '136' '114' '116' '94' '161' '11' '32'\n",
      " '124' '137' '92' '135' '105' '150' '126' '146' '91' '217' '141' '159'\n",
      " '122' '100' '111' '140' '205' '225' '85' '90' '74' '219' '127' '132'\n",
      " '128' '106' '144' '131' '56' '79' '142' '98' '177' '139' '78' '189' '180'\n",
      " '73' '145' '184' '38' '156' '75' '148' '14' '76' '54' '58' '27' '65'\n",
      " '193' '13' '143' '12' '64' '257' '164' '59' '167' '18' '41' '176' '37'\n",
      " '33' '44' '45' '154' '174' '203' '244' '62' '158' '60' '187' '250' '181'\n",
      " '157' '223' '272' '166' '213' '235' '10' '68' '231' '191' '48' '5.8'\n",
      " '169' '149' '210' '40' '155' '232' '42' '204' '430' '198' '230' '15'\n",
      " '170' '165' '47' '168' '194' '89' '52' '179' '192' '172' '4.8' '50' '182'\n",
      " '197' '214' '246' '196' '207' '19' '153' '22' '46' '200' '35' '226' '201'\n",
      " '233' '206' '31' '255' '178' '239' '195' '6' '36' '2' '3' '289' '240'\n",
      " '209' '43' '34' '252' '29' '263' '301' '23' '188' '211' '253' '21' '173']\n",
      "T4U measured ['t' 'f']\n",
      "T4U ['1.14' nan '0.91' '0.87' '1.3' '0.92' '0.7' '0.93' '0.89' '0.95' '0.99'\n",
      " '1.13' '0.86' '0.96' '0.94' '0.9' '1.02' '1.05' '0.62' '1.06' '1.55'\n",
      " '0.83' '1.09' '1.07' '1.27' '0.76' '1.16' '1' '0.56' '0.81' '0.68' '0.78'\n",
      " '0.85' '1.35' '1.15' '0.82' '1.03' '1.58' '0.79' '1.17' '0.71' '0.72'\n",
      " '0.88' '1.11' '1.2' '1.1' '1.33' '0.77' '1.24' '0.53' '1.44' '1.63'\n",
      " '1.51' '1.42' '1.23' '1.01' '0.98' '0.61' '1.12' '1.43' '1.25' '1.41'\n",
      " '1.68' '0.97' '0.84' '0.8' '1.04' '0.73' '1.08' '1.26' '1.46' '1.29'\n",
      " '1.34' '1.66' '1.21' '1.19' '0.75' '0.52' '1.83' '1.39' '1.5' '1.93'\n",
      " '1.18' '0.74' '0.58' '1.82' '0.6' '1.67' '1.22' '0.66' '0.67' '1.31'\n",
      " '0.54' '1.77' '1.59' '1.97' '1.69' '1.38' '1.28' '1.4' '0.69' '0.65'\n",
      " '1.74' '2.03' '1.73' '1.65' '1.36' '1.52' '0.57' '1.53' '1.84' '1.57'\n",
      " '1.75' '1.32' '1.37' '0.64' '1.79' '1.8' '0.48' '1.71' '1.62' '1.76'\n",
      " '1.56' '1.48' '0.59' '0.31' '1.94' '2.12' '1.47' '0.63' '0.944' '0.49'\n",
      " '1.88' '0.5' '0.38' '1.49' '0.41' '1.61' '1.7']\n",
      "FTI measured ['t' 'f']\n",
      "FTI ['109' nan '120' '70' '141' '78' '115' '132' '93' '121' '153' '151' '107'\n",
      " '119' '87' '81' '104' '130' '106' '116' '131' '190' '92' '102' '76' '98'\n",
      " '90' '61' '94' '129' '95' '91' '33' '113' '148' '140' '171' '155' '186'\n",
      " '122' '136' '110' '111' '97' '72' '100' '88' '67' '84' '103' '135' '203'\n",
      " '112' '117' '180' '142' '145' '156' '96' '134' '8.9' '60' '139' '41' '99'\n",
      " '89' '146' '124' '105' '85' '157' '143' '71' '221' '28' '108' '137' '83'\n",
      " '74' '170' '65' '101' '127' '274' '154' '114' '62' '86' '126' '125' '64'\n",
      " '172' '162' '79' '118' '73' '152' '163' '149' '14' '51' '165' '77' '32'\n",
      " '69' '80' '11' '54' '164' '123' '144' '10' '214' '200' '160' '53' '16'\n",
      " '138' '169' '56' '47' '133' '43' '68' '179' '224' '220' '82' '362' '182'\n",
      " '75' '66' '161' '57' '58' '312' '63' '128' '147' '158' '281' '207' '216'\n",
      " '251' '194' '46' '7' '42' '174' '395' '185' '13' '201' '48' '173' '167'\n",
      " '188' '150' '235' '175' '159' '5.4' '189' '59' '166' '34' '228' '232'\n",
      " '217' '177' '176' '195' '219' '17' '210' '168' '205' '39' '187' '50'\n",
      " '349' '52' '206' '253' '242' '244' '213' '178' '247' '215' '198' '19'\n",
      " '237' '37' '7.6' '24' '2' '3' '191' '223' '9' '29' '222' '204' '26' '218'\n",
      " '197' '49' '209' '183']\n",
      "referral source ['SVHC' 'other' 'SVI' 'STMW' 'SVHD']\n",
      "category ['negative' 'hyperthyroid' 'hypothyroid' 'sick']\n"
     ]
    }
   ],
   "source": [
    "##  Unique Values\n",
    "for column in thyroid_data.columns:\n",
    "    print(column,(thyroid_data[column].unique()))"
   ]
  },
  {
   "cell_type": "code",
   "execution_count": 22,
   "id": "ac70a803",
   "metadata": {},
   "outputs": [],
   "source": [
    "# A quick fix needed\n",
    "thyroid_data.loc[thyroid_data['age'] == '455', 'age'] = '45'"
   ]
  },
  {
   "cell_type": "code",
   "execution_count": 23,
   "id": "1add2c66",
   "metadata": {},
   "outputs": [],
   "source": [
    "from sklearn.preprocessing import LabelEncoder\n",
    "le = LabelEncoder()"
   ]
  },
  {
   "cell_type": "code",
   "execution_count": 24,
   "id": "4dde6278",
   "metadata": {},
   "outputs": [],
   "source": [
    "thyroid_data['age'] = le.fit_transform(thyroid_data[\"age\"])"
   ]
  },
  {
   "cell_type": "code",
   "execution_count": 25,
   "id": "512d7e20",
   "metadata": {},
   "outputs": [],
   "source": [
    "thyroid_data['sex'] = le.fit_transform(thyroid_data[\"sex\"])"
   ]
  },
  {
   "cell_type": "code",
   "execution_count": 26,
   "id": "f66b281e",
   "metadata": {},
   "outputs": [],
   "source": [
    "thyroid_data['on thyroxine'] = le.fit_transform(thyroid_data[\"on thyroxine\"])"
   ]
  },
  {
   "cell_type": "code",
   "execution_count": 27,
   "id": "aa2d5db6",
   "metadata": {},
   "outputs": [],
   "source": [
    "thyroid_data['query on thyroxine'] = le.fit_transform(thyroid_data[\"query on thyroxine\"])"
   ]
  },
  {
   "cell_type": "code",
   "execution_count": 28,
   "id": "57c2d425",
   "metadata": {},
   "outputs": [],
   "source": [
    "thyroid_data['on antithyroid medication'] = le.fit_transform(thyroid_data[\"on antithyroid medication\"])"
   ]
  },
  {
   "cell_type": "code",
   "execution_count": 29,
   "id": "70e8838f",
   "metadata": {},
   "outputs": [],
   "source": [
    "thyroid_data['sick'] = le.fit_transform(thyroid_data[\"sick\"])"
   ]
  },
  {
   "cell_type": "code",
   "execution_count": 30,
   "id": "efef429e",
   "metadata": {},
   "outputs": [],
   "source": [
    "thyroid_data['pregnant'] = le.fit_transform(thyroid_data[\"pregnant\"])"
   ]
  },
  {
   "cell_type": "code",
   "execution_count": 31,
   "id": "f53f5977",
   "metadata": {},
   "outputs": [],
   "source": [
    "thyroid_data['thyroid surgery'] = le.fit_transform(thyroid_data[\"thyroid surgery\"])"
   ]
  },
  {
   "cell_type": "code",
   "execution_count": 32,
   "id": "8090d8d1",
   "metadata": {},
   "outputs": [],
   "source": [
    "thyroid_data['I131 treatment'] = le.fit_transform(thyroid_data[\"I131 treatment\"])"
   ]
  },
  {
   "cell_type": "code",
   "execution_count": 33,
   "id": "e1e5fc9e",
   "metadata": {},
   "outputs": [],
   "source": [
    "thyroid_data['query hypothyroid'] = le.fit_transform(thyroid_data[\"query hypothyroid\"])"
   ]
  },
  {
   "cell_type": "code",
   "execution_count": 34,
   "id": "67ebcf4c",
   "metadata": {},
   "outputs": [],
   "source": [
    "thyroid_data['query hyperthyroid'] = le.fit_transform(thyroid_data[\"query hyperthyroid\"])"
   ]
  },
  {
   "cell_type": "code",
   "execution_count": 35,
   "id": "2455c62b",
   "metadata": {},
   "outputs": [],
   "source": [
    "thyroid_data['lithium'] = le.fit_transform(thyroid_data[\"lithium\"])"
   ]
  },
  {
   "cell_type": "code",
   "execution_count": 36,
   "id": "c74aed87",
   "metadata": {},
   "outputs": [],
   "source": [
    "thyroid_data['goitre'] = le.fit_transform(thyroid_data[\"goitre\"])"
   ]
  },
  {
   "cell_type": "code",
   "execution_count": 37,
   "id": "1188899a",
   "metadata": {},
   "outputs": [],
   "source": [
    "thyroid_data['tumor'] = le.fit_transform(thyroid_data[\"tumor\"])"
   ]
  },
  {
   "cell_type": "code",
   "execution_count": 38,
   "id": "3eadc1b9",
   "metadata": {},
   "outputs": [],
   "source": [
    "thyroid_data['hypopituitary'] = le.fit_transform(thyroid_data[\"hypopituitary\"])"
   ]
  },
  {
   "cell_type": "code",
   "execution_count": 39,
   "id": "81494b77",
   "metadata": {},
   "outputs": [],
   "source": [
    "thyroid_data['psych'] = le.fit_transform(thyroid_data[\"psych\"])"
   ]
  },
  {
   "cell_type": "code",
   "execution_count": 40,
   "id": "d2a5ff30",
   "metadata": {},
   "outputs": [],
   "source": [
    "thyroid_data['TSH measured'] = le.fit_transform(thyroid_data[\"TSH measured\"])"
   ]
  },
  {
   "cell_type": "code",
   "execution_count": 41,
   "id": "8605abe5",
   "metadata": {},
   "outputs": [],
   "source": [
    "thyroid_data['TSH'] = le.fit_transform(thyroid_data[\"TSH\"])"
   ]
  },
  {
   "cell_type": "code",
   "execution_count": 42,
   "id": "50cd1a99",
   "metadata": {},
   "outputs": [],
   "source": [
    "thyroid_data['T3 measured'] = le.fit_transform(thyroid_data[\"T3 measured\"])"
   ]
  },
  {
   "cell_type": "code",
   "execution_count": 43,
   "id": "82468bf6",
   "metadata": {},
   "outputs": [],
   "source": [
    "thyroid_data['T3'] = le.fit_transform(thyroid_data[\"T3\"])"
   ]
  },
  {
   "cell_type": "code",
   "execution_count": 44,
   "id": "64f47f18",
   "metadata": {},
   "outputs": [],
   "source": [
    "thyroid_data['TT4 measured'] = le.fit_transform(thyroid_data[\"TT4 measured\"])"
   ]
  },
  {
   "cell_type": "code",
   "execution_count": 45,
   "id": "967ea210",
   "metadata": {},
   "outputs": [],
   "source": [
    "thyroid_data['TT4'] = le.fit_transform(thyroid_data[\"TT4\"])"
   ]
  },
  {
   "cell_type": "code",
   "execution_count": 46,
   "id": "4aaa6d80",
   "metadata": {},
   "outputs": [],
   "source": [
    "thyroid_data['T4U measured'] = le.fit_transform(thyroid_data[\"T4U measured\"])"
   ]
  },
  {
   "cell_type": "code",
   "execution_count": 47,
   "id": "ada47a0f",
   "metadata": {},
   "outputs": [],
   "source": [
    "thyroid_data['T4U'] = le.fit_transform(thyroid_data[\"T4U\"])"
   ]
  },
  {
   "cell_type": "code",
   "execution_count": 48,
   "id": "cbec804a",
   "metadata": {},
   "outputs": [],
   "source": [
    "thyroid_data['FTI measured'] = le.fit_transform(thyroid_data[\"FTI measured\"])"
   ]
  },
  {
   "cell_type": "code",
   "execution_count": 49,
   "id": "464a03a3",
   "metadata": {},
   "outputs": [],
   "source": [
    "thyroid_data['FTI'] = le.fit_transform(thyroid_data[\"FTI\"])"
   ]
  },
  {
   "cell_type": "code",
   "execution_count": 50,
   "id": "5ffe6420",
   "metadata": {},
   "outputs": [],
   "source": [
    "thyroid_data['referral source'] = le.fit_transform(thyroid_data[\"referral source\"])"
   ]
  },
  {
   "cell_type": "code",
   "execution_count": 51,
   "id": "298aba54",
   "metadata": {},
   "outputs": [],
   "source": [
    "thyroid_data['category'] = le.fit_transform(thyroid_data[\"category\"])"
   ]
  },
  {
   "cell_type": "code",
   "execution_count": 52,
   "id": "e5b2a66c",
   "metadata": {},
   "outputs": [],
   "source": [
    "thyroid_data['age'].fillna((thyroid_data['age'].median()), inplace = True)\n",
    "thyroid_data['TSH'].fillna((thyroid_data['TSH'].median()), inplace = True)\n",
    "thyroid_data['T3'].fillna((thyroid_data['T3'].median()), inplace = True)\n",
    "thyroid_data['TT4'].fillna((thyroid_data['TT4'].median()), inplace = True)\n",
    "thyroid_data['T4U'].fillna((thyroid_data['T4U'].median()), inplace = True)\n",
    "thyroid_data['FTI'].fillna((thyroid_data['FTI'].median()), inplace = True)"
   ]
  },
  {
   "cell_type": "code",
   "execution_count": 112,
   "id": "61e3423b",
   "metadata": {},
   "outputs": [
    {
     "name": "stdout",
     "output_type": "stream",
     "text": [
      "age [34 15 39 66  9 53 77 61 63 81 62 67 20 60 35 58 45 78 48 49 55 17 69 26\n",
      " 74 29 82 18 52 59 37 41 56 27 80 13 84 47 73 19 64 70 30 72 38 28 14 36\n",
      " 68 79 23 31 42 57 51  0 44 22 21 71 10 65 75  8 16  6 24 40  7 46 25  4\n",
      "  1 86 50 12 87 33 85  5 83 91  3 32  2 76 43 11 88 54 92 90 89]\n",
      "sex [0 1 2]\n",
      "on thyroxine [0 1]\n",
      "query on thyroxine [0 1]\n",
      "on antithyroid medication [0 1]\n",
      "sick [0 1]\n",
      "pregnant [0 1]\n",
      "thyroid surgery [0 1]\n",
      "I131 treatment [0 1]\n",
      "query hypothyroid [0 1]\n",
      "query hyperthyroid [0 1]\n",
      "lithium [0 1]\n",
      "goitre [0 1]\n",
      "tumor [0 1]\n",
      "hypopituitary [0 1]\n",
      "psych [0 1]\n",
      "TSH measured [1 0]\n",
      "TSH [107 181 101  21  75   5 263 145  63 147 105 151 165 123 106 109 215 144\n",
      "  16  83 113 163  24 126  34   6 148  54 111 230 112  30 194 204 102  29\n",
      "  95  20  67 103  44 143 149 128 131 141   3 162 152 164 252 110 183   0\n",
      "  35  64   9 235 134   4 108   1 247 132   7 171 256 150 146  97   8 167\n",
      "  91  14 185  71  73  70 159 216  78  59 157 202  80  13  93 121 129  49\n",
      "  60  68   2 133 118  86 254 250  65  62 253 209 211  37 172 208  32 210\n",
      " 218 184 257 166  15 155  79 191 156 114 186 246  69 217  82 160  89 258\n",
      "  87 135 137 213 127 169  90 222  77 233  12  33  41 240 119  52 193 236\n",
      " 200 229  92  96 100  17 219 174  88 228  76 142 242 140  26 261 154 221\n",
      " 201  11  46 170 176 180  81  66  56 225  47 206 224 168 161  42 189  45\n",
      " 260 232 175 220 187 117  98  19  39 182  84  58  61 248 205  38 255  18\n",
      " 212  43 243 199 153 223  36  27  28 241  94 203 116  31 104 214 190 139\n",
      " 138  51  22 124  23  85 192  48 237 234 244  72 245  25 249  10  99  74\n",
      " 178  40 259 227  50 120 179 238 207 173 125 158  57  53 177 136 130 197\n",
      " 188 115 251 231 198  55 122 226 262 195 239 196]\n",
      "T3 measured [1 0]\n",
      "T3 [26 21 64 19 12  6 23 16 39 17 18 27 22  3 56 14 32 15 24 25 28  9 10 29\n",
      " 30  8 13  4 34 36 35 11 43 38 31  7 49 44  0 33 55 41  5  2 37 53 51 57\n",
      " 54 40 47 46 63 48 60 42 58  1 50 20 52 61 59 45 62]\n",
      "TT4 measured [1 0]\n",
      "TT4 [ 28   3  10  81 178  90 189 197  26 200  17  58  77 214 216 187  19  24\n",
      "  34   9   5  38 104 173  32  15  21 201 198 212 183   2  52  23 186 217\n",
      " 156 204 180  37 203  69  68   4 213  57  14 199  42 188 194 210   8 131\n",
      "  12 184 205  66  20  40  16  18 211  67  11 149  27  41 209  39   6  56\n",
      "  29  51 208 119  46  65  25   1  13  45 110 123 202 207 191 120  30  36\n",
      "  31   7  49  35 172 196  47 215  83  43 195  94  87 190  50  91 155  62\n",
      " 192  53  44 193 171 174 142 182  98  33  48  22 181 140  70 175  73  86\n",
      " 159  82 154 150 163 164  60  80 108 134 179  64 177  92 136  88  63 122\n",
      " 143  72 117 130   0 185 127  96 167 168  75  54 115 158  61 128 160 109\n",
      " 162 103 126  55  76  71 166  74  99 206 170  85  97  78 157 169  89 102\n",
      " 118 135 101 112  95  59 121 165 106 152 124 107 129 111 148 139  84 132\n",
      " 100 176 153 105 146 144 133 113 161 151 137 145 141 147 125  93 116 138\n",
      " 114  79]\n",
      "T4U measured [1 0]\n",
      "T4U [ 68 138  44  40  84  45  23  46  42  49  53  67  39  50  47  43  56  59\n",
      "  15  60 107  36  63  61  81  29  70  54   9  34  21  31  38  89  69  35\n",
      "  57 110  32  71  24  25  41  65  74  64  87  30  78   7  98 114 104  96\n",
      "  77  55  52  14  66  97  79  95 118  51  37  33  58  26  62  80  99  83\n",
      "  88 116  75  73  28   6 130  93 103 133  72  27  11 129  13 117  76  19\n",
      "  20  85   8 126 111 135 119  92  82  94  22  18 123 136 122 115  90 105\n",
      "  10 106 131 109 124  86  91  17 127 128   3 121 113 125 108 101  12   0\n",
      " 134 137 100  16  48   4 132   5   1 102   2 112 120]\n",
      "FTI measured [1 0]\n",
      "FTI [ 10 209  22 177  45 185  17  35 202  23  57  55   8  21 195 189   5  33\n",
      "   7  18  34  95 201   3 183 207 199 166 203  31 204 200 141  15  52  44\n",
      "  77  59  90  24  39  12  13 206 179   1 196 172 192   4  38 104  14  19\n",
      "  86  46  49  60 205  37 187 165  42 148 208 197  50  26   6 193  61  47\n",
      " 178 119 135   9  40 191 181  76 170   2  29 134  58  16 167 194  28  27\n",
      " 169  78  67 186  20 180  56  68  53  43 157  70 184 140 174 188  11 160\n",
      "  69  25  48   0 112 102  65 159  64  41  74 161 152  36 150 173  85 122\n",
      " 118 190 144  87 182 171  66 162 163 139 168  30  51  62 136 108 114 131\n",
      "  97 151 175 149  80 147  89  32 103 153  79  72  92  54 125  81  63 155\n",
      "  93 164  71 142 123 124 115  83  82  98 117  75 110  73 106 146  91 156\n",
      " 143 158 107 132 128 129 111  84 130 113 100  94 126 145 176 127 101 138\n",
      "  96 121 198 137 120 105 133 116  99 154 109  88]\n",
      "referral source [1 4 3 0 2]\n",
      "category [2 0 1 3]\n"
     ]
    }
   ],
   "source": [
    "##  Unique Values\n",
    "for column in thyroid_data.columns:\n",
    "    print(column,(thyroid_data[column].unique()))"
   ]
  },
  {
   "cell_type": "code",
   "execution_count": 53,
   "id": "f11aadad",
   "metadata": {},
   "outputs": [
    {
     "data": {
      "text/plain": [
       "age                          int32\n",
       "sex                          int32\n",
       "on thyroxine                 int32\n",
       "query on thyroxine           int32\n",
       "on antithyroid medication    int32\n",
       "sick                         int32\n",
       "pregnant                     int32\n",
       "thyroid surgery              int32\n",
       "I131 treatment               int32\n",
       "query hypothyroid            int32\n",
       "query hyperthyroid           int32\n",
       "lithium                      int32\n",
       "goitre                       int32\n",
       "tumor                        int32\n",
       "hypopituitary                int32\n",
       "psych                        int32\n",
       "TSH measured                 int32\n",
       "TSH                          int32\n",
       "T3 measured                  int32\n",
       "T3                           int32\n",
       "TT4 measured                 int32\n",
       "TT4                          int32\n",
       "T4U measured                 int32\n",
       "T4U                          int32\n",
       "FTI measured                 int32\n",
       "FTI                          int32\n",
       "referral source              int32\n",
       "category                     int32\n",
       "dtype: object"
      ]
     },
     "execution_count": 53,
     "metadata": {},
     "output_type": "execute_result"
    }
   ],
   "source": [
    "thyroid_data.dtypes"
   ]
  },
  {
   "cell_type": "code",
   "execution_count": 54,
   "id": "2ddde081",
   "metadata": {},
   "outputs": [
    {
     "data": {
      "text/html": [
       "<div>\n",
       "<style scoped>\n",
       "    .dataframe tbody tr th:only-of-type {\n",
       "        vertical-align: middle;\n",
       "    }\n",
       "\n",
       "    .dataframe tbody tr th {\n",
       "        vertical-align: top;\n",
       "    }\n",
       "\n",
       "    .dataframe thead th {\n",
       "        text-align: right;\n",
       "    }\n",
       "</style>\n",
       "<table border=\"1\" class=\"dataframe\">\n",
       "  <thead>\n",
       "    <tr style=\"text-align: right;\">\n",
       "      <th></th>\n",
       "      <th>age</th>\n",
       "      <th>sex</th>\n",
       "      <th>on thyroxine</th>\n",
       "      <th>query on thyroxine</th>\n",
       "      <th>on antithyroid medication</th>\n",
       "      <th>sick</th>\n",
       "      <th>pregnant</th>\n",
       "      <th>thyroid surgery</th>\n",
       "      <th>I131 treatment</th>\n",
       "      <th>query hypothyroid</th>\n",
       "      <th>...</th>\n",
       "      <th>T3 measured</th>\n",
       "      <th>T3</th>\n",
       "      <th>TT4 measured</th>\n",
       "      <th>TT4</th>\n",
       "      <th>T4U measured</th>\n",
       "      <th>T4U</th>\n",
       "      <th>FTI measured</th>\n",
       "      <th>FTI</th>\n",
       "      <th>referral source</th>\n",
       "      <th>category</th>\n",
       "    </tr>\n",
       "  </thead>\n",
       "  <tbody>\n",
       "    <tr>\n",
       "      <th>0</th>\n",
       "      <td>34</td>\n",
       "      <td>0</td>\n",
       "      <td>0</td>\n",
       "      <td>0</td>\n",
       "      <td>0</td>\n",
       "      <td>0</td>\n",
       "      <td>0</td>\n",
       "      <td>0</td>\n",
       "      <td>0</td>\n",
       "      <td>0</td>\n",
       "      <td>...</td>\n",
       "      <td>1</td>\n",
       "      <td>26</td>\n",
       "      <td>1</td>\n",
       "      <td>28</td>\n",
       "      <td>1</td>\n",
       "      <td>68</td>\n",
       "      <td>1</td>\n",
       "      <td>10</td>\n",
       "      <td>1</td>\n",
       "      <td>2</td>\n",
       "    </tr>\n",
       "    <tr>\n",
       "      <th>1</th>\n",
       "      <td>15</td>\n",
       "      <td>0</td>\n",
       "      <td>0</td>\n",
       "      <td>0</td>\n",
       "      <td>0</td>\n",
       "      <td>0</td>\n",
       "      <td>0</td>\n",
       "      <td>0</td>\n",
       "      <td>0</td>\n",
       "      <td>0</td>\n",
       "      <td>...</td>\n",
       "      <td>1</td>\n",
       "      <td>21</td>\n",
       "      <td>1</td>\n",
       "      <td>3</td>\n",
       "      <td>0</td>\n",
       "      <td>138</td>\n",
       "      <td>0</td>\n",
       "      <td>209</td>\n",
       "      <td>4</td>\n",
       "      <td>2</td>\n",
       "    </tr>\n",
       "    <tr>\n",
       "      <th>2</th>\n",
       "      <td>39</td>\n",
       "      <td>1</td>\n",
       "      <td>0</td>\n",
       "      <td>0</td>\n",
       "      <td>0</td>\n",
       "      <td>0</td>\n",
       "      <td>0</td>\n",
       "      <td>0</td>\n",
       "      <td>0</td>\n",
       "      <td>0</td>\n",
       "      <td>...</td>\n",
       "      <td>0</td>\n",
       "      <td>64</td>\n",
       "      <td>1</td>\n",
       "      <td>10</td>\n",
       "      <td>1</td>\n",
       "      <td>44</td>\n",
       "      <td>1</td>\n",
       "      <td>22</td>\n",
       "      <td>4</td>\n",
       "      <td>2</td>\n",
       "    </tr>\n",
       "    <tr>\n",
       "      <th>3</th>\n",
       "      <td>66</td>\n",
       "      <td>0</td>\n",
       "      <td>1</td>\n",
       "      <td>0</td>\n",
       "      <td>0</td>\n",
       "      <td>0</td>\n",
       "      <td>0</td>\n",
       "      <td>0</td>\n",
       "      <td>0</td>\n",
       "      <td>0</td>\n",
       "      <td>...</td>\n",
       "      <td>1</td>\n",
       "      <td>19</td>\n",
       "      <td>1</td>\n",
       "      <td>81</td>\n",
       "      <td>0</td>\n",
       "      <td>138</td>\n",
       "      <td>0</td>\n",
       "      <td>209</td>\n",
       "      <td>4</td>\n",
       "      <td>2</td>\n",
       "    </tr>\n",
       "    <tr>\n",
       "      <th>4</th>\n",
       "      <td>66</td>\n",
       "      <td>0</td>\n",
       "      <td>0</td>\n",
       "      <td>0</td>\n",
       "      <td>0</td>\n",
       "      <td>0</td>\n",
       "      <td>0</td>\n",
       "      <td>0</td>\n",
       "      <td>0</td>\n",
       "      <td>0</td>\n",
       "      <td>...</td>\n",
       "      <td>1</td>\n",
       "      <td>12</td>\n",
       "      <td>1</td>\n",
       "      <td>178</td>\n",
       "      <td>1</td>\n",
       "      <td>40</td>\n",
       "      <td>1</td>\n",
       "      <td>177</td>\n",
       "      <td>3</td>\n",
       "      <td>2</td>\n",
       "    </tr>\n",
       "  </tbody>\n",
       "</table>\n",
       "<p>5 rows × 28 columns</p>\n",
       "</div>"
      ],
      "text/plain": [
       "   age  sex  on thyroxine  query on thyroxine  on antithyroid medication  \\\n",
       "0   34    0             0                   0                          0   \n",
       "1   15    0             0                   0                          0   \n",
       "2   39    1             0                   0                          0   \n",
       "3   66    0             1                   0                          0   \n",
       "4   66    0             0                   0                          0   \n",
       "\n",
       "   sick  pregnant  thyroid surgery  I131 treatment  query hypothyroid  ...  \\\n",
       "0     0         0                0               0                  0  ...   \n",
       "1     0         0                0               0                  0  ...   \n",
       "2     0         0                0               0                  0  ...   \n",
       "3     0         0                0               0                  0  ...   \n",
       "4     0         0                0               0                  0  ...   \n",
       "\n",
       "   T3 measured  T3  TT4 measured  TT4  T4U measured  T4U  FTI measured  FTI  \\\n",
       "0            1  26             1   28             1   68             1   10   \n",
       "1            1  21             1    3             0  138             0  209   \n",
       "2            0  64             1   10             1   44             1   22   \n",
       "3            1  19             1   81             0  138             0  209   \n",
       "4            1  12             1  178             1   40             1  177   \n",
       "\n",
       "   referral source  category  \n",
       "0                1         2  \n",
       "1                4         2  \n",
       "2                4         2  \n",
       "3                4         2  \n",
       "4                3         2  \n",
       "\n",
       "[5 rows x 28 columns]"
      ]
     },
     "execution_count": 54,
     "metadata": {},
     "output_type": "execute_result"
    }
   ],
   "source": [
    "thyroid_data.head()"
   ]
  },
  {
   "cell_type": "code",
   "execution_count": 55,
   "id": "a9be0579",
   "metadata": {
    "scrolled": true
   },
   "outputs": [
    {
     "data": {
      "text/plain": [
       "array([[<AxesSubplot:title={'center':'age'}>,\n",
       "        <AxesSubplot:title={'center':'sex'}>,\n",
       "        <AxesSubplot:title={'center':'on thyroxine'}>,\n",
       "        <AxesSubplot:title={'center':'query on thyroxine'}>,\n",
       "        <AxesSubplot:title={'center':'on antithyroid medication'}>],\n",
       "       [<AxesSubplot:title={'center':'sick'}>,\n",
       "        <AxesSubplot:title={'center':'pregnant'}>,\n",
       "        <AxesSubplot:title={'center':'thyroid surgery'}>,\n",
       "        <AxesSubplot:title={'center':'I131 treatment'}>,\n",
       "        <AxesSubplot:title={'center':'query hypothyroid'}>],\n",
       "       [<AxesSubplot:title={'center':'query hyperthyroid'}>,\n",
       "        <AxesSubplot:title={'center':'lithium'}>,\n",
       "        <AxesSubplot:title={'center':'goitre'}>,\n",
       "        <AxesSubplot:title={'center':'tumor'}>,\n",
       "        <AxesSubplot:title={'center':'hypopituitary'}>],\n",
       "       [<AxesSubplot:title={'center':'psych'}>,\n",
       "        <AxesSubplot:title={'center':'TSH measured'}>,\n",
       "        <AxesSubplot:title={'center':'TSH'}>,\n",
       "        <AxesSubplot:title={'center':'T3 measured'}>,\n",
       "        <AxesSubplot:title={'center':'T3'}>],\n",
       "       [<AxesSubplot:title={'center':'TT4 measured'}>,\n",
       "        <AxesSubplot:title={'center':'TT4'}>,\n",
       "        <AxesSubplot:title={'center':'T4U measured'}>,\n",
       "        <AxesSubplot:title={'center':'T4U'}>,\n",
       "        <AxesSubplot:title={'center':'FTI measured'}>],\n",
       "       [<AxesSubplot:title={'center':'FTI'}>,\n",
       "        <AxesSubplot:title={'center':'referral source'}>,\n",
       "        <AxesSubplot:title={'center':'category'}>, <AxesSubplot:>,\n",
       "        <AxesSubplot:>]], dtype=object)"
      ]
     },
     "execution_count": 55,
     "metadata": {},
     "output_type": "execute_result"
    },
    {
     "data": {
      "image/png": "[encoded data removed]",
      "text/plain": [
       "<Figure size 1440x1080 with 30 Axes>"
      ]
     },
     "metadata": {
      "needs_background": "light"
     },
     "output_type": "display_data"
    }
   ],
   "source": [
    "thyroid_data.hist(bins=50,figsize=(20,15))"
   ]
  },
  {
   "cell_type": "code",
   "execution_count": 56,
   "id": "1664a3de",
   "metadata": {},
   "outputs": [],
   "source": [
    "x = thyroid_data.drop(\"category\",axis=1)\n",
    "y = thyroid_data[\"category\"]"
   ]
  },
  {
   "cell_type": "code",
   "execution_count": 57,
   "id": "4e06f1d3",
   "metadata": {},
   "outputs": [
    {
     "data": {
      "text/plain": [
       "<AxesSubplot:xlabel='category', ylabel='count'>"
      ]
     },
     "execution_count": 57,
     "metadata": {},
     "output_type": "execute_result"
    },
    {
     "data": {
      "image/png": "[encoded data removed]",
      "text/plain": [
       "<Figure size 432x288 with 1 Axes>"
      ]
     },
     "metadata": {
      "needs_background": "light"
     },
     "output_type": "display_data"
    }
   ],
   "source": [
    "sns.countplot(thyroid_data['category'])"
   ]
  },
  {
   "cell_type": "code",
   "execution_count": 58,
   "id": "59d15e11",
   "metadata": {},
   "outputs": [
    {
     "data": {
      "text/plain": [
       "Index(['age', 'sex', 'on thyroxine', 'query on thyroxine',\n",
       "       'on antithyroid medication', 'sick', 'pregnant', 'thyroid surgery',\n",
       "       'I131 treatment', 'query hypothyroid', 'query hyperthyroid', 'lithium',\n",
       "       'goitre', 'tumor', 'hypopituitary', 'psych', 'TSH measured', 'TSH',\n",
       "       'T3 measured', 'T3', 'TT4 measured', 'TT4', 'T4U measured', 'T4U',\n",
       "       'FTI measured', 'FTI', 'referral source'],\n",
       "      dtype='object')"
      ]
     },
     "execution_count": 58,
     "metadata": {},
     "output_type": "execute_result"
    },
    {
     "data": {
      "image/png": "[encoded data removed]",
      "text/plain": [
       "<Figure size 432x288 with 1 Axes>"
      ]
     },
     "metadata": {
      "needs_background": "light"
     },
     "output_type": "display_data"
    }
   ],
   "source": [
    "from imblearn.over_sampling import SMOTENC,RandomOverSampler,KMeansSMOTE\n",
    "\n",
    "\n",
    "rdsmple=RandomOverSampler()\n",
    "x_sampled,y_sampled=rdsmple.fit_resample(x,y)\n",
    "\n",
    "x_sampled.shape\n",
    "\n",
    "\n",
    "x_sampled=pd.DataFrame(data=x_sampled,columns=x.columns)\n",
    "\n",
    "\n",
    "x_sampled\n",
    "\n",
    "\n",
    "sns.countplot(y_sampled)\n",
    "\n",
    "\n",
    "x_sampled.columns"
   ]
  },
  {
   "cell_type": "code",
   "execution_count": 59,
   "id": "71f5dcca",
   "metadata": {},
   "outputs": [
    {
     "data": {
      "text/plain": [
       "((2415, 27), (806, 27))"
      ]
     },
     "execution_count": 59,
     "metadata": {},
     "output_type": "execute_result"
    }
   ],
   "source": [
    "from sklearn.model_selection import train_test_split\n",
    "x_train,x_test,y_train,y_test= train_test_split(x, y,test_size=0.25, random_state=42)\n",
    "x_train.shape,x_test.shape"
   ]
  },
  {
   "cell_type": "code",
   "execution_count": 60,
   "id": "72418814",
   "metadata": {},
   "outputs": [
    {
     "data": {
      "text/html": [
       "<div>\n",
       "<style scoped>\n",
       "    .dataframe tbody tr th:only-of-type {\n",
       "        vertical-align: middle;\n",
       "    }\n",
       "\n",
       "    .dataframe tbody tr th {\n",
       "        vertical-align: top;\n",
       "    }\n",
       "\n",
       "    .dataframe thead th {\n",
       "        text-align: right;\n",
       "    }\n",
       "</style>\n",
       "<table border=\"1\" class=\"dataframe\">\n",
       "  <thead>\n",
       "    <tr style=\"text-align: right;\">\n",
       "      <th></th>\n",
       "      <th>age</th>\n",
       "      <th>sex</th>\n",
       "      <th>on thyroxine</th>\n",
       "      <th>query on thyroxine</th>\n",
       "      <th>on antithyroid medication</th>\n",
       "      <th>sick</th>\n",
       "      <th>pregnant</th>\n",
       "      <th>thyroid surgery</th>\n",
       "      <th>I131 treatment</th>\n",
       "      <th>query hypothyroid</th>\n",
       "      <th>...</th>\n",
       "      <th>TSH</th>\n",
       "      <th>T3 measured</th>\n",
       "      <th>T3</th>\n",
       "      <th>TT4 measured</th>\n",
       "      <th>TT4</th>\n",
       "      <th>T4U measured</th>\n",
       "      <th>T4U</th>\n",
       "      <th>FTI measured</th>\n",
       "      <th>FTI</th>\n",
       "      <th>referral source</th>\n",
       "    </tr>\n",
       "  </thead>\n",
       "  <tbody>\n",
       "    <tr>\n",
       "      <th>age</th>\n",
       "      <td>1.000000</td>\n",
       "      <td>-0.019420</td>\n",
       "      <td>0.012450</td>\n",
       "      <td>-0.035056</td>\n",
       "      <td>-0.065136</td>\n",
       "      <td>0.091038</td>\n",
       "      <td>-0.128220</td>\n",
       "      <td>-0.046007</td>\n",
       "      <td>0.054524</td>\n",
       "      <td>0.028937</td>\n",
       "      <td>...</td>\n",
       "      <td>-0.055192</td>\n",
       "      <td>0.067394</td>\n",
       "      <td>-0.179048</td>\n",
       "      <td>0.052521</td>\n",
       "      <td>-0.025578</td>\n",
       "      <td>0.082488</td>\n",
       "      <td>-0.182739</td>\n",
       "      <td>0.082558</td>\n",
       "      <td>-0.091885</td>\n",
       "      <td>0.103497</td>\n",
       "    </tr>\n",
       "    <tr>\n",
       "      <th>sex</th>\n",
       "      <td>-0.019420</td>\n",
       "      <td>1.000000</td>\n",
       "      <td>-0.082770</td>\n",
       "      <td>0.003125</td>\n",
       "      <td>-0.041003</td>\n",
       "      <td>-0.012946</td>\n",
       "      <td>-0.080669</td>\n",
       "      <td>-0.056927</td>\n",
       "      <td>-0.020106</td>\n",
       "      <td>-0.029079</td>\n",
       "      <td>...</td>\n",
       "      <td>-0.005280</td>\n",
       "      <td>0.087077</td>\n",
       "      <td>-0.097558</td>\n",
       "      <td>0.006220</td>\n",
       "      <td>0.072090</td>\n",
       "      <td>-0.018402</td>\n",
       "      <td>-0.096496</td>\n",
       "      <td>-0.019451</td>\n",
       "      <td>-0.020025</td>\n",
       "      <td>-0.078573</td>\n",
       "    </tr>\n",
       "    <tr>\n",
       "      <th>on thyroxine</th>\n",
       "      <td>0.012450</td>\n",
       "      <td>-0.082770</td>\n",
       "      <td>1.000000</td>\n",
       "      <td>0.001279</td>\n",
       "      <td>-0.010085</td>\n",
       "      <td>-0.050931</td>\n",
       "      <td>0.003837</td>\n",
       "      <td>0.031789</td>\n",
       "      <td>0.085789</td>\n",
       "      <td>0.055120</td>\n",
       "      <td>...</td>\n",
       "      <td>-0.110579</td>\n",
       "      <td>-0.190202</td>\n",
       "      <td>0.182744</td>\n",
       "      <td>-0.023290</td>\n",
       "      <td>-0.086888</td>\n",
       "      <td>0.001424</td>\n",
       "      <td>0.036182</td>\n",
       "      <td>0.000907</td>\n",
       "      <td>-0.086403</td>\n",
       "      <td>0.165681</td>\n",
       "    </tr>\n",
       "    <tr>\n",
       "      <th>query on thyroxine</th>\n",
       "      <td>-0.035056</td>\n",
       "      <td>0.003125</td>\n",
       "      <td>0.001279</td>\n",
       "      <td>1.000000</td>\n",
       "      <td>-0.012403</td>\n",
       "      <td>0.040815</td>\n",
       "      <td>0.015571</td>\n",
       "      <td>0.017681</td>\n",
       "      <td>-0.016898</td>\n",
       "      <td>-0.032946</td>\n",
       "      <td>...</td>\n",
       "      <td>0.062737</td>\n",
       "      <td>-0.023095</td>\n",
       "      <td>0.008009</td>\n",
       "      <td>0.025596</td>\n",
       "      <td>-0.006449</td>\n",
       "      <td>0.025128</td>\n",
       "      <td>-0.024511</td>\n",
       "      <td>0.025003</td>\n",
       "      <td>0.016647</td>\n",
       "      <td>0.047057</td>\n",
       "    </tr>\n",
       "    <tr>\n",
       "      <th>on antithyroid medication</th>\n",
       "      <td>-0.065136</td>\n",
       "      <td>-0.041003</td>\n",
       "      <td>-0.010085</td>\n",
       "      <td>-0.012403</td>\n",
       "      <td>1.000000</td>\n",
       "      <td>-0.022129</td>\n",
       "      <td>0.058439</td>\n",
       "      <td>-0.011471</td>\n",
       "      <td>0.015677</td>\n",
       "      <td>-0.011617</td>\n",
       "      <td>...</td>\n",
       "      <td>-0.038740</td>\n",
       "      <td>0.006193</td>\n",
       "      <td>0.024305</td>\n",
       "      <td>-0.039150</td>\n",
       "      <td>-0.004635</td>\n",
       "      <td>-0.041032</td>\n",
       "      <td>0.066392</td>\n",
       "      <td>-0.041271</td>\n",
       "      <td>0.021325</td>\n",
       "      <td>0.023868</td>\n",
       "    </tr>\n",
       "    <tr>\n",
       "      <th>sick</th>\n",
       "      <td>0.091038</td>\n",
       "      <td>-0.012946</td>\n",
       "      <td>-0.050931</td>\n",
       "      <td>0.040815</td>\n",
       "      <td>-0.022129</td>\n",
       "      <td>1.000000</td>\n",
       "      <td>-0.025467</td>\n",
       "      <td>-0.024266</td>\n",
       "      <td>-0.030150</td>\n",
       "      <td>0.059992</td>\n",
       "      <td>...</td>\n",
       "      <td>0.001091</td>\n",
       "      <td>0.040434</td>\n",
       "      <td>-0.087774</td>\n",
       "      <td>0.015925</td>\n",
       "      <td>0.055474</td>\n",
       "      <td>0.009892</td>\n",
       "      <td>-0.045516</td>\n",
       "      <td>0.009595</td>\n",
       "      <td>-0.032355</td>\n",
       "      <td>-0.024604</td>\n",
       "    </tr>\n",
       "    <tr>\n",
       "      <th>pregnant</th>\n",
       "      <td>-0.128220</td>\n",
       "      <td>-0.080669</td>\n",
       "      <td>0.003837</td>\n",
       "      <td>0.015571</td>\n",
       "      <td>0.058439</td>\n",
       "      <td>-0.025467</td>\n",
       "      <td>1.000000</td>\n",
       "      <td>-0.013201</td>\n",
       "      <td>-0.016401</td>\n",
       "      <td>-0.017880</td>\n",
       "      <td>...</td>\n",
       "      <td>-0.085737</td>\n",
       "      <td>0.009708</td>\n",
       "      <td>0.061961</td>\n",
       "      <td>0.024843</td>\n",
       "      <td>-0.051051</td>\n",
       "      <td>0.036324</td>\n",
       "      <td>0.169142</td>\n",
       "      <td>0.036229</td>\n",
       "      <td>0.045339</td>\n",
       "      <td>-0.209436</td>\n",
       "    </tr>\n",
       "    <tr>\n",
       "      <th>thyroid surgery</th>\n",
       "      <td>-0.046007</td>\n",
       "      <td>-0.056927</td>\n",
       "      <td>0.031789</td>\n",
       "      <td>0.017681</td>\n",
       "      <td>-0.011471</td>\n",
       "      <td>-0.024266</td>\n",
       "      <td>-0.013201</td>\n",
       "      <td>1.000000</td>\n",
       "      <td>-0.015628</td>\n",
       "      <td>-0.030470</td>\n",
       "      <td>...</td>\n",
       "      <td>-0.006128</td>\n",
       "      <td>-0.004800</td>\n",
       "      <td>-0.004995</td>\n",
       "      <td>0.023672</td>\n",
       "      <td>0.009346</td>\n",
       "      <td>0.008076</td>\n",
       "      <td>0.013409</td>\n",
       "      <td>0.007928</td>\n",
       "      <td>0.024733</td>\n",
       "      <td>0.038037</td>\n",
       "    </tr>\n",
       "    <tr>\n",
       "      <th>I131 treatment</th>\n",
       "      <td>0.054524</td>\n",
       "      <td>-0.020106</td>\n",
       "      <td>0.085789</td>\n",
       "      <td>-0.016898</td>\n",
       "      <td>0.015677</td>\n",
       "      <td>-0.030150</td>\n",
       "      <td>-0.016401</td>\n",
       "      <td>-0.015628</td>\n",
       "      <td>1.000000</td>\n",
       "      <td>0.022008</td>\n",
       "      <td>...</td>\n",
       "      <td>-0.004100</td>\n",
       "      <td>-0.035706</td>\n",
       "      <td>0.045541</td>\n",
       "      <td>0.029412</td>\n",
       "      <td>-0.010394</td>\n",
       "      <td>0.021502</td>\n",
       "      <td>-0.006984</td>\n",
       "      <td>0.021343</td>\n",
       "      <td>0.013270</td>\n",
       "      <td>0.094950</td>\n",
       "    </tr>\n",
       "    <tr>\n",
       "      <th>query hypothyroid</th>\n",
       "      <td>0.028937</td>\n",
       "      <td>-0.029079</td>\n",
       "      <td>0.055120</td>\n",
       "      <td>-0.032946</td>\n",
       "      <td>-0.011617</td>\n",
       "      <td>0.059992</td>\n",
       "      <td>-0.017880</td>\n",
       "      <td>-0.030470</td>\n",
       "      <td>0.022008</td>\n",
       "      <td>1.000000</td>\n",
       "      <td>...</td>\n",
       "      <td>0.039481</td>\n",
       "      <td>-0.082670</td>\n",
       "      <td>0.041770</td>\n",
       "      <td>-0.007452</td>\n",
       "      <td>0.038845</td>\n",
       "      <td>-0.032325</td>\n",
       "      <td>0.023328</td>\n",
       "      <td>-0.032795</td>\n",
       "      <td>0.016821</td>\n",
       "      <td>0.029305</td>\n",
       "    </tr>\n",
       "    <tr>\n",
       "      <th>query hyperthyroid</th>\n",
       "      <td>-0.044591</td>\n",
       "      <td>-0.065025</td>\n",
       "      <td>-0.006286</td>\n",
       "      <td>-0.005189</td>\n",
       "      <td>0.118740</td>\n",
       "      <td>-0.026550</td>\n",
       "      <td>0.109998</td>\n",
       "      <td>0.029165</td>\n",
       "      <td>0.070753</td>\n",
       "      <td>-0.001775</td>\n",
       "      <td>...</td>\n",
       "      <td>-0.089424</td>\n",
       "      <td>0.030124</td>\n",
       "      <td>0.085034</td>\n",
       "      <td>-0.057059</td>\n",
       "      <td>-0.007764</td>\n",
       "      <td>-0.021841</td>\n",
       "      <td>0.064571</td>\n",
       "      <td>-0.022285</td>\n",
       "      <td>0.003011</td>\n",
       "      <td>0.039517</td>\n",
       "    </tr>\n",
       "    <tr>\n",
       "      <th>lithium</th>\n",
       "      <td>-0.027719</td>\n",
       "      <td>-0.040359</td>\n",
       "      <td>0.010042</td>\n",
       "      <td>-0.008921</td>\n",
       "      <td>-0.007524</td>\n",
       "      <td>-0.015917</td>\n",
       "      <td>-0.008659</td>\n",
       "      <td>-0.008251</td>\n",
       "      <td>-0.010251</td>\n",
       "      <td>-0.019987</td>\n",
       "      <td>...</td>\n",
       "      <td>0.012147</td>\n",
       "      <td>-0.008997</td>\n",
       "      <td>0.006480</td>\n",
       "      <td>0.015528</td>\n",
       "      <td>0.014889</td>\n",
       "      <td>0.022703</td>\n",
       "      <td>-0.017587</td>\n",
       "      <td>0.022644</td>\n",
       "      <td>-0.006539</td>\n",
       "      <td>-0.092488</td>\n",
       "    </tr>\n",
       "    <tr>\n",
       "      <th>goitre</th>\n",
       "      <td>-0.035538</td>\n",
       "      <td>0.002354</td>\n",
       "      <td>-0.017739</td>\n",
       "      <td>0.027150</td>\n",
       "      <td>-0.009346</td>\n",
       "      <td>-0.019772</td>\n",
       "      <td>-0.010756</td>\n",
       "      <td>-0.010249</td>\n",
       "      <td>-0.012734</td>\n",
       "      <td>-0.024827</td>\n",
       "      <td>...</td>\n",
       "      <td>-0.008891</td>\n",
       "      <td>-0.039328</td>\n",
       "      <td>0.033870</td>\n",
       "      <td>-0.003324</td>\n",
       "      <td>0.043397</td>\n",
       "      <td>0.011986</td>\n",
       "      <td>0.001271</td>\n",
       "      <td>0.011877</td>\n",
       "      <td>0.024939</td>\n",
       "      <td>0.011090</td>\n",
       "    </tr>\n",
       "    <tr>\n",
       "      <th>tumor</th>\n",
       "      <td>-0.042295</td>\n",
       "      <td>-0.065756</td>\n",
       "      <td>-0.045326</td>\n",
       "      <td>-0.000299</td>\n",
       "      <td>-0.017670</td>\n",
       "      <td>-0.025441</td>\n",
       "      <td>0.149746</td>\n",
       "      <td>0.002907</td>\n",
       "      <td>-0.024075</td>\n",
       "      <td>-0.046939</td>\n",
       "      <td>...</td>\n",
       "      <td>-0.043807</td>\n",
       "      <td>-0.007394</td>\n",
       "      <td>0.066903</td>\n",
       "      <td>-0.024607</td>\n",
       "      <td>-0.014509</td>\n",
       "      <td>-0.016757</td>\n",
       "      <td>0.065640</td>\n",
       "      <td>-0.017048</td>\n",
       "      <td>0.043916</td>\n",
       "      <td>-0.015893</td>\n",
       "    </tr>\n",
       "    <tr>\n",
       "      <th>hypopituitary</th>\n",
       "      <td>-0.033552</td>\n",
       "      <td>0.022235</td>\n",
       "      <td>-0.007191</td>\n",
       "      <td>0.167836</td>\n",
       "      <td>-0.002082</td>\n",
       "      <td>-0.004404</td>\n",
       "      <td>-0.002396</td>\n",
       "      <td>-0.002283</td>\n",
       "      <td>-0.002836</td>\n",
       "      <td>-0.005530</td>\n",
       "      <td>...</td>\n",
       "      <td>-0.024109</td>\n",
       "      <td>0.009647</td>\n",
       "      <td>-0.016303</td>\n",
       "      <td>0.004296</td>\n",
       "      <td>0.014172</td>\n",
       "      <td>0.006281</td>\n",
       "      <td>0.000821</td>\n",
       "      <td>0.006265</td>\n",
       "      <td>0.013677</td>\n",
       "      <td>-0.005129</td>\n",
       "    </tr>\n",
       "    <tr>\n",
       "      <th>psych</th>\n",
       "      <td>-0.100022</td>\n",
       "      <td>0.079892</td>\n",
       "      <td>-0.071645</td>\n",
       "      <td>-0.026743</td>\n",
       "      <td>-0.022554</td>\n",
       "      <td>0.009443</td>\n",
       "      <td>-0.008996</td>\n",
       "      <td>-0.024733</td>\n",
       "      <td>-0.030730</td>\n",
       "      <td>0.002346</td>\n",
       "      <td>...</td>\n",
       "      <td>-0.020763</td>\n",
       "      <td>0.094348</td>\n",
       "      <td>-0.077715</td>\n",
       "      <td>0.046546</td>\n",
       "      <td>-0.023723</td>\n",
       "      <td>0.033117</td>\n",
       "      <td>-0.032585</td>\n",
       "      <td>0.032863</td>\n",
       "      <td>-0.060509</td>\n",
       "      <td>-0.364329</td>\n",
       "    </tr>\n",
       "    <tr>\n",
       "      <th>TSH measured</th>\n",
       "      <td>0.089155</td>\n",
       "      <td>-0.000816</td>\n",
       "      <td>0.008114</td>\n",
       "      <td>-0.107917</td>\n",
       "      <td>-0.001144</td>\n",
       "      <td>0.039959</td>\n",
       "      <td>0.007246</td>\n",
       "      <td>0.032398</td>\n",
       "      <td>0.040253</td>\n",
       "      <td>0.041650</td>\n",
       "      <td>...</td>\n",
       "      <td>-0.544887</td>\n",
       "      <td>0.380740</td>\n",
       "      <td>-0.360410</td>\n",
       "      <td>0.576956</td>\n",
       "      <td>-0.172908</td>\n",
       "      <td>0.390378</td>\n",
       "      <td>-0.305105</td>\n",
       "      <td>0.391647</td>\n",
       "      <td>-0.152198</td>\n",
       "      <td>-0.183788</td>\n",
       "    </tr>\n",
       "    <tr>\n",
       "      <th>TSH</th>\n",
       "      <td>-0.055192</td>\n",
       "      <td>-0.005280</td>\n",
       "      <td>-0.110579</td>\n",
       "      <td>0.062737</td>\n",
       "      <td>-0.038740</td>\n",
       "      <td>0.001091</td>\n",
       "      <td>-0.085737</td>\n",
       "      <td>-0.006128</td>\n",
       "      <td>-0.004100</td>\n",
       "      <td>0.039481</td>\n",
       "      <td>...</td>\n",
       "      <td>1.000000</td>\n",
       "      <td>-0.221716</td>\n",
       "      <td>0.110230</td>\n",
       "      <td>-0.333190</td>\n",
       "      <td>0.237726</td>\n",
       "      <td>-0.245127</td>\n",
       "      <td>0.209123</td>\n",
       "      <td>-0.245179</td>\n",
       "      <td>0.205748</td>\n",
       "      <td>0.104312</td>\n",
       "    </tr>\n",
       "    <tr>\n",
       "      <th>T3 measured</th>\n",
       "      <td>0.067394</td>\n",
       "      <td>0.087077</td>\n",
       "      <td>-0.190202</td>\n",
       "      <td>-0.023095</td>\n",
       "      <td>0.006193</td>\n",
       "      <td>0.040434</td>\n",
       "      <td>0.009708</td>\n",
       "      <td>-0.004800</td>\n",
       "      <td>-0.035706</td>\n",
       "      <td>-0.082670</td>\n",
       "      <td>...</td>\n",
       "      <td>-0.221716</td>\n",
       "      <td>1.000000</td>\n",
       "      <td>-0.896099</td>\n",
       "      <td>0.339428</td>\n",
       "      <td>-0.075516</td>\n",
       "      <td>0.176481</td>\n",
       "      <td>-0.151683</td>\n",
       "      <td>0.177561</td>\n",
       "      <td>-0.083374</td>\n",
       "      <td>-0.241071</td>\n",
       "    </tr>\n",
       "    <tr>\n",
       "      <th>T3</th>\n",
       "      <td>-0.179048</td>\n",
       "      <td>-0.097558</td>\n",
       "      <td>0.182744</td>\n",
       "      <td>0.008009</td>\n",
       "      <td>0.024305</td>\n",
       "      <td>-0.087774</td>\n",
       "      <td>0.061961</td>\n",
       "      <td>-0.004995</td>\n",
       "      <td>0.045541</td>\n",
       "      <td>0.041770</td>\n",
       "      <td>...</td>\n",
       "      <td>0.110230</td>\n",
       "      <td>-0.896099</td>\n",
       "      <td>1.000000</td>\n",
       "      <td>-0.306801</td>\n",
       "      <td>-0.000104</td>\n",
       "      <td>-0.156963</td>\n",
       "      <td>0.246927</td>\n",
       "      <td>-0.157705</td>\n",
       "      <td>0.084749</td>\n",
       "      <td>0.194038</td>\n",
       "    </tr>\n",
       "    <tr>\n",
       "      <th>TT4 measured</th>\n",
       "      <td>0.052521</td>\n",
       "      <td>0.006220</td>\n",
       "      <td>-0.023290</td>\n",
       "      <td>0.025596</td>\n",
       "      <td>-0.039150</td>\n",
       "      <td>0.015925</td>\n",
       "      <td>0.024843</td>\n",
       "      <td>0.023672</td>\n",
       "      <td>0.029412</td>\n",
       "      <td>-0.007452</td>\n",
       "      <td>...</td>\n",
       "      <td>-0.333190</td>\n",
       "      <td>0.339428</td>\n",
       "      <td>-0.306801</td>\n",
       "      <td>1.000000</td>\n",
       "      <td>-0.260115</td>\n",
       "      <td>0.683942</td>\n",
       "      <td>-0.545108</td>\n",
       "      <td>0.678443</td>\n",
       "      <td>-0.271892</td>\n",
       "      <td>-0.105567</td>\n",
       "    </tr>\n",
       "    <tr>\n",
       "      <th>TT4</th>\n",
       "      <td>-0.025578</td>\n",
       "      <td>0.072090</td>\n",
       "      <td>-0.086888</td>\n",
       "      <td>-0.006449</td>\n",
       "      <td>-0.004635</td>\n",
       "      <td>0.055474</td>\n",
       "      <td>-0.051051</td>\n",
       "      <td>0.009346</td>\n",
       "      <td>-0.010394</td>\n",
       "      <td>0.038845</td>\n",
       "      <td>...</td>\n",
       "      <td>0.237726</td>\n",
       "      <td>-0.075516</td>\n",
       "      <td>-0.000104</td>\n",
       "      <td>-0.260115</td>\n",
       "      <td>1.000000</td>\n",
       "      <td>-0.164776</td>\n",
       "      <td>-0.028190</td>\n",
       "      <td>-0.163318</td>\n",
       "      <td>0.441206</td>\n",
       "      <td>0.011002</td>\n",
       "    </tr>\n",
       "    <tr>\n",
       "      <th>T4U measured</th>\n",
       "      <td>0.082488</td>\n",
       "      <td>-0.018402</td>\n",
       "      <td>0.001424</td>\n",
       "      <td>0.025128</td>\n",
       "      <td>-0.041032</td>\n",
       "      <td>0.009892</td>\n",
       "      <td>0.036324</td>\n",
       "      <td>0.008076</td>\n",
       "      <td>0.021502</td>\n",
       "      <td>-0.032325</td>\n",
       "      <td>...</td>\n",
       "      <td>-0.245127</td>\n",
       "      <td>0.176481</td>\n",
       "      <td>-0.156963</td>\n",
       "      <td>0.683942</td>\n",
       "      <td>-0.164776</td>\n",
       "      <td>1.000000</td>\n",
       "      <td>-0.797009</td>\n",
       "      <td>0.997390</td>\n",
       "      <td>-0.397626</td>\n",
       "      <td>-0.136213</td>\n",
       "    </tr>\n",
       "    <tr>\n",
       "      <th>T4U</th>\n",
       "      <td>-0.182739</td>\n",
       "      <td>-0.096496</td>\n",
       "      <td>0.036182</td>\n",
       "      <td>-0.024511</td>\n",
       "      <td>0.066392</td>\n",
       "      <td>-0.045516</td>\n",
       "      <td>0.169142</td>\n",
       "      <td>0.013409</td>\n",
       "      <td>-0.006984</td>\n",
       "      <td>0.023328</td>\n",
       "      <td>...</td>\n",
       "      <td>0.209123</td>\n",
       "      <td>-0.151683</td>\n",
       "      <td>0.246927</td>\n",
       "      <td>-0.545108</td>\n",
       "      <td>-0.028190</td>\n",
       "      <td>-0.797009</td>\n",
       "      <td>1.000000</td>\n",
       "      <td>-0.794929</td>\n",
       "      <td>0.378429</td>\n",
       "      <td>0.040977</td>\n",
       "    </tr>\n",
       "    <tr>\n",
       "      <th>FTI measured</th>\n",
       "      <td>0.082558</td>\n",
       "      <td>-0.019451</td>\n",
       "      <td>0.000907</td>\n",
       "      <td>0.025003</td>\n",
       "      <td>-0.041271</td>\n",
       "      <td>0.009595</td>\n",
       "      <td>0.036229</td>\n",
       "      <td>0.007928</td>\n",
       "      <td>0.021343</td>\n",
       "      <td>-0.032795</td>\n",
       "      <td>...</td>\n",
       "      <td>-0.245179</td>\n",
       "      <td>0.177561</td>\n",
       "      <td>-0.157705</td>\n",
       "      <td>0.678443</td>\n",
       "      <td>-0.163318</td>\n",
       "      <td>0.997390</td>\n",
       "      <td>-0.794929</td>\n",
       "      <td>1.000000</td>\n",
       "      <td>-0.396676</td>\n",
       "      <td>-0.135504</td>\n",
       "    </tr>\n",
       "    <tr>\n",
       "      <th>FTI</th>\n",
       "      <td>-0.091885</td>\n",
       "      <td>-0.020025</td>\n",
       "      <td>-0.086403</td>\n",
       "      <td>0.016647</td>\n",
       "      <td>0.021325</td>\n",
       "      <td>-0.032355</td>\n",
       "      <td>0.045339</td>\n",
       "      <td>0.024733</td>\n",
       "      <td>0.013270</td>\n",
       "      <td>0.016821</td>\n",
       "      <td>...</td>\n",
       "      <td>0.205748</td>\n",
       "      <td>-0.083374</td>\n",
       "      <td>0.084749</td>\n",
       "      <td>-0.271892</td>\n",
       "      <td>0.441206</td>\n",
       "      <td>-0.397626</td>\n",
       "      <td>0.378429</td>\n",
       "      <td>-0.396676</td>\n",
       "      <td>1.000000</td>\n",
       "      <td>0.043398</td>\n",
       "    </tr>\n",
       "    <tr>\n",
       "      <th>referral source</th>\n",
       "      <td>0.103497</td>\n",
       "      <td>-0.078573</td>\n",
       "      <td>0.165681</td>\n",
       "      <td>0.047057</td>\n",
       "      <td>0.023868</td>\n",
       "      <td>-0.024604</td>\n",
       "      <td>-0.209436</td>\n",
       "      <td>0.038037</td>\n",
       "      <td>0.094950</td>\n",
       "      <td>0.029305</td>\n",
       "      <td>...</td>\n",
       "      <td>0.104312</td>\n",
       "      <td>-0.241071</td>\n",
       "      <td>0.194038</td>\n",
       "      <td>-0.105567</td>\n",
       "      <td>0.011002</td>\n",
       "      <td>-0.136213</td>\n",
       "      <td>0.040977</td>\n",
       "      <td>-0.135504</td>\n",
       "      <td>0.043398</td>\n",
       "      <td>1.000000</td>\n",
       "    </tr>\n",
       "  </tbody>\n",
       "</table>\n",
       "<p>27 rows × 27 columns</p>\n",
       "</div>"
      ],
      "text/plain": [
       "                                age       sex  on thyroxine  \\\n",
       "age                        1.000000 -0.019420      0.012450   \n",
       "sex                       -0.019420  1.000000     -0.082770   \n",
       "on thyroxine               0.012450 -0.082770      1.000000   \n",
       "query on thyroxine        -0.035056  0.003125      0.001279   \n",
       "on antithyroid medication -0.065136 -0.041003     -0.010085   \n",
       "sick                       0.091038 -0.012946     -0.050931   \n",
       "pregnant                  -0.128220 -0.080669      0.003837   \n",
       "thyroid surgery           -0.046007 -0.056927      0.031789   \n",
       "I131 treatment             0.054524 -0.020106      0.085789   \n",
       "query hypothyroid          0.028937 -0.029079      0.055120   \n",
       "query hyperthyroid        -0.044591 -0.065025     -0.006286   \n",
       "lithium                   -0.027719 -0.040359      0.010042   \n",
       "goitre                    -0.035538  0.002354     -0.017739   \n",
       "tumor                     -0.042295 -0.065756     -0.045326   \n",
       "hypopituitary             -0.033552  0.022235     -0.007191   \n",
       "psych                     -0.100022  0.079892     -0.071645   \n",
       "TSH measured               0.089155 -0.000816      0.008114   \n",
       "TSH                       -0.055192 -0.005280     -0.110579   \n",
       "T3 measured                0.067394  0.087077     -0.190202   \n",
       "T3                        -0.179048 -0.097558      0.182744   \n",
       "TT4 measured               0.052521  0.006220     -0.023290   \n",
       "TT4                       -0.025578  0.072090     -0.086888   \n",
       "T4U measured               0.082488 -0.018402      0.001424   \n",
       "T4U                       -0.182739 -0.096496      0.036182   \n",
       "FTI measured               0.082558 -0.019451      0.000907   \n",
       "FTI                       -0.091885 -0.020025     -0.086403   \n",
       "referral source            0.103497 -0.078573      0.165681   \n",
       "\n",
       "                           query on thyroxine  on antithyroid medication  \\\n",
       "age                                 -0.035056                  -0.065136   \n",
       "sex                                  0.003125                  -0.041003   \n",
       "on thyroxine                         0.001279                  -0.010085   \n",
       "query on thyroxine                   1.000000                  -0.012403   \n",
       "on antithyroid medication           -0.012403                   1.000000   \n",
       "sick                                 0.040815                  -0.022129   \n",
       "pregnant                             0.015571                   0.058439   \n",
       "thyroid surgery                      0.017681                  -0.011471   \n",
       "I131 treatment                      -0.016898                   0.015677   \n",
       "query hypothyroid                   -0.032946                  -0.011617   \n",
       "query hyperthyroid                  -0.005189                   0.118740   \n",
       "lithium                             -0.008921                  -0.007524   \n",
       "goitre                               0.027150                  -0.009346   \n",
       "tumor                               -0.000299                  -0.017670   \n",
       "hypopituitary                        0.167836                  -0.002082   \n",
       "psych                               -0.026743                  -0.022554   \n",
       "TSH measured                        -0.107917                  -0.001144   \n",
       "TSH                                  0.062737                  -0.038740   \n",
       "T3 measured                         -0.023095                   0.006193   \n",
       "T3                                   0.008009                   0.024305   \n",
       "TT4 measured                         0.025596                  -0.039150   \n",
       "TT4                                 -0.006449                  -0.004635   \n",
       "T4U measured                         0.025128                  -0.041032   \n",
       "T4U                                 -0.024511                   0.066392   \n",
       "FTI measured                         0.025003                  -0.041271   \n",
       "FTI                                  0.016647                   0.021325   \n",
       "referral source                      0.047057                   0.023868   \n",
       "\n",
       "                               sick  pregnant  thyroid surgery  \\\n",
       "age                        0.091038 -0.128220        -0.046007   \n",
       "sex                       -0.012946 -0.080669        -0.056927   \n",
       "on thyroxine              -0.050931  0.003837         0.031789   \n",
       "query on thyroxine         0.040815  0.015571         0.017681   \n",
       "on antithyroid medication -0.022129  0.058439        -0.011471   \n",
       "sick                       1.000000 -0.025467        -0.024266   \n",
       "pregnant                  -0.025467  1.000000        -0.013201   \n",
       "thyroid surgery           -0.024266 -0.013201         1.000000   \n",
       "I131 treatment            -0.030150 -0.016401        -0.015628   \n",
       "query hypothyroid          0.059992 -0.017880        -0.030470   \n",
       "query hyperthyroid        -0.026550  0.109998         0.029165   \n",
       "lithium                   -0.015917 -0.008659        -0.008251   \n",
       "goitre                    -0.019772 -0.010756        -0.010249   \n",
       "tumor                     -0.025441  0.149746         0.002907   \n",
       "hypopituitary             -0.004404 -0.002396        -0.002283   \n",
       "psych                      0.009443 -0.008996        -0.024733   \n",
       "TSH measured               0.039959  0.007246         0.032398   \n",
       "TSH                        0.001091 -0.085737        -0.006128   \n",
       "T3 measured                0.040434  0.009708        -0.004800   \n",
       "T3                        -0.087774  0.061961        -0.004995   \n",
       "TT4 measured               0.015925  0.024843         0.023672   \n",
       "TT4                        0.055474 -0.051051         0.009346   \n",
       "T4U measured               0.009892  0.036324         0.008076   \n",
       "T4U                       -0.045516  0.169142         0.013409   \n",
       "FTI measured               0.009595  0.036229         0.007928   \n",
       "FTI                       -0.032355  0.045339         0.024733   \n",
       "referral source           -0.024604 -0.209436         0.038037   \n",
       "\n",
       "                           I131 treatment  query hypothyroid  ...       TSH  \\\n",
       "age                              0.054524           0.028937  ... -0.055192   \n",
       "sex                             -0.020106          -0.029079  ... -0.005280   \n",
       "on thyroxine                     0.085789           0.055120  ... -0.110579   \n",
       "query on thyroxine              -0.016898          -0.032946  ...  0.062737   \n",
       "on antithyroid medication        0.015677          -0.011617  ... -0.038740   \n",
       "sick                            -0.030150           0.059992  ...  0.001091   \n",
       "pregnant                        -0.016401          -0.017880  ... -0.085737   \n",
       "thyroid surgery                 -0.015628          -0.030470  ... -0.006128   \n",
       "I131 treatment                   1.000000           0.022008  ... -0.004100   \n",
       "query hypothyroid                0.022008           1.000000  ...  0.039481   \n",
       "query hyperthyroid               0.070753          -0.001775  ... -0.089424   \n",
       "lithium                         -0.010251          -0.019987  ...  0.012147   \n",
       "goitre                          -0.012734          -0.024827  ... -0.008891   \n",
       "tumor                           -0.024075          -0.046939  ... -0.043807   \n",
       "hypopituitary                   -0.002836          -0.005530  ... -0.024109   \n",
       "psych                           -0.030730           0.002346  ... -0.020763   \n",
       "TSH measured                     0.040253           0.041650  ... -0.544887   \n",
       "TSH                             -0.004100           0.039481  ...  1.000000   \n",
       "T3 measured                     -0.035706          -0.082670  ... -0.221716   \n",
       "T3                               0.045541           0.041770  ...  0.110230   \n",
       "TT4 measured                     0.029412          -0.007452  ... -0.333190   \n",
       "TT4                             -0.010394           0.038845  ...  0.237726   \n",
       "T4U measured                     0.021502          -0.032325  ... -0.245127   \n",
       "T4U                             -0.006984           0.023328  ...  0.209123   \n",
       "FTI measured                     0.021343          -0.032795  ... -0.245179   \n",
       "FTI                              0.013270           0.016821  ...  0.205748   \n",
       "referral source                  0.094950           0.029305  ...  0.104312   \n",
       "\n",
       "                           T3 measured        T3  TT4 measured       TT4  \\\n",
       "age                           0.067394 -0.179048      0.052521 -0.025578   \n",
       "sex                           0.087077 -0.097558      0.006220  0.072090   \n",
       "on thyroxine                 -0.190202  0.182744     -0.023290 -0.086888   \n",
       "query on thyroxine           -0.023095  0.008009      0.025596 -0.006449   \n",
       "on antithyroid medication     0.006193  0.024305     -0.039150 -0.004635   \n",
       "sick                          0.040434 -0.087774      0.015925  0.055474   \n",
       "pregnant                      0.009708  0.061961      0.024843 -0.051051   \n",
       "thyroid surgery              -0.004800 -0.004995      0.023672  0.009346   \n",
       "I131 treatment               -0.035706  0.045541      0.029412 -0.010394   \n",
       "query hypothyroid            -0.082670  0.041770     -0.007452  0.038845   \n",
       "query hyperthyroid            0.030124  0.085034     -0.057059 -0.007764   \n",
       "lithium                      -0.008997  0.006480      0.015528  0.014889   \n",
       "goitre                       -0.039328  0.033870     -0.003324  0.043397   \n",
       "tumor                        -0.007394  0.066903     -0.024607 -0.014509   \n",
       "hypopituitary                 0.009647 -0.016303      0.004296  0.014172   \n",
       "psych                         0.094348 -0.077715      0.046546 -0.023723   \n",
       "TSH measured                  0.380740 -0.360410      0.576956 -0.172908   \n",
       "TSH                          -0.221716  0.110230     -0.333190  0.237726   \n",
       "T3 measured                   1.000000 -0.896099      0.339428 -0.075516   \n",
       "T3                           -0.896099  1.000000     -0.306801 -0.000104   \n",
       "TT4 measured                  0.339428 -0.306801      1.000000 -0.260115   \n",
       "TT4                          -0.075516 -0.000104     -0.260115  1.000000   \n",
       "T4U measured                  0.176481 -0.156963      0.683942 -0.164776   \n",
       "T4U                          -0.151683  0.246927     -0.545108 -0.028190   \n",
       "FTI measured                  0.177561 -0.157705      0.678443 -0.163318   \n",
       "FTI                          -0.083374  0.084749     -0.271892  0.441206   \n",
       "referral source              -0.241071  0.194038     -0.105567  0.011002   \n",
       "\n",
       "                           T4U measured       T4U  FTI measured       FTI  \\\n",
       "age                            0.082488 -0.182739      0.082558 -0.091885   \n",
       "sex                           -0.018402 -0.096496     -0.019451 -0.020025   \n",
       "on thyroxine                   0.001424  0.036182      0.000907 -0.086403   \n",
       "query on thyroxine             0.025128 -0.024511      0.025003  0.016647   \n",
       "on antithyroid medication     -0.041032  0.066392     -0.041271  0.021325   \n",
       "sick                           0.009892 -0.045516      0.009595 -0.032355   \n",
       "pregnant                       0.036324  0.169142      0.036229  0.045339   \n",
       "thyroid surgery                0.008076  0.013409      0.007928  0.024733   \n",
       "I131 treatment                 0.021502 -0.006984      0.021343  0.013270   \n",
       "query hypothyroid             -0.032325  0.023328     -0.032795  0.016821   \n",
       "query hyperthyroid            -0.021841  0.064571     -0.022285  0.003011   \n",
       "lithium                        0.022703 -0.017587      0.022644 -0.006539   \n",
       "goitre                         0.011986  0.001271      0.011877  0.024939   \n",
       "tumor                         -0.016757  0.065640     -0.017048  0.043916   \n",
       "hypopituitary                  0.006281  0.000821      0.006265  0.013677   \n",
       "psych                          0.033117 -0.032585      0.032863 -0.060509   \n",
       "TSH measured                   0.390378 -0.305105      0.391647 -0.152198   \n",
       "TSH                           -0.245127  0.209123     -0.245179  0.205748   \n",
       "T3 measured                    0.176481 -0.151683      0.177561 -0.083374   \n",
       "T3                            -0.156963  0.246927     -0.157705  0.084749   \n",
       "TT4 measured                   0.683942 -0.545108      0.678443 -0.271892   \n",
       "TT4                           -0.164776 -0.028190     -0.163318  0.441206   \n",
       "T4U measured                   1.000000 -0.797009      0.997390 -0.397626   \n",
       "T4U                           -0.797009  1.000000     -0.794929  0.378429   \n",
       "FTI measured                   0.997390 -0.794929      1.000000 -0.396676   \n",
       "FTI                           -0.397626  0.378429     -0.396676  1.000000   \n",
       "referral source               -0.136213  0.040977     -0.135504  0.043398   \n",
       "\n",
       "                           referral source  \n",
       "age                               0.103497  \n",
       "sex                              -0.078573  \n",
       "on thyroxine                      0.165681  \n",
       "query on thyroxine                0.047057  \n",
       "on antithyroid medication         0.023868  \n",
       "sick                             -0.024604  \n",
       "pregnant                         -0.209436  \n",
       "thyroid surgery                   0.038037  \n",
       "I131 treatment                    0.094950  \n",
       "query hypothyroid                 0.029305  \n",
       "query hyperthyroid                0.039517  \n",
       "lithium                          -0.092488  \n",
       "goitre                            0.011090  \n",
       "tumor                            -0.015893  \n",
       "hypopituitary                    -0.005129  \n",
       "psych                            -0.364329  \n",
       "TSH measured                     -0.183788  \n",
       "TSH                               0.104312  \n",
       "T3 measured                      -0.241071  \n",
       "T3                                0.194038  \n",
       "TT4 measured                     -0.105567  \n",
       "TT4                               0.011002  \n",
       "T4U measured                     -0.136213  \n",
       "T4U                               0.040977  \n",
       "FTI measured                     -0.135504  \n",
       "FTI                               0.043398  \n",
       "referral source                   1.000000  \n",
       "\n",
       "[27 rows x 27 columns]"
      ]
     },
     "execution_count": 60,
     "metadata": {},
     "output_type": "execute_result"
    }
   ],
   "source": [
    "x_train.corr()"
   ]
  },
  {
   "cell_type": "code",
   "execution_count": 61,
   "id": "345f7362",
   "metadata": {},
   "outputs": [
    {
     "data": {
      "image/png": "[encoded data removed]",
      "text/plain": [
       "<Figure size 1944x1944 with 2 Axes>"
      ]
     },
     "metadata": {
      "needs_background": "light"
     },
     "output_type": "display_data"
    }
   ],
   "source": [
    "#using pearson correlation\n",
    "plt.figure(figsize=(27,27))\n",
    "corr = x_train.iloc[:,:-1].corr()\n",
    "top_features=corr.index\n",
    "sns.heatmap(corr, annot=True, cmap=plt.cm.cool)\n",
    "plt.show()"
   ]
  },
  {
   "cell_type": "code",
   "execution_count": 62,
   "id": "9b1d572d",
   "metadata": {},
   "outputs": [],
   "source": [
    "#find and remove correlated features\n",
    "def correlation(dataset,threshold):\n",
    "  col_corr = set()    #set of all the names of correlated columns\n",
    "  corr_matrix = dataset.corr()\n",
    "  for i in range(len(corr_matrix.columns)):\n",
    "    for j in range(i):\n",
    "      if (corr_matrix.iloc[i,j]) > threshold: #we are interested in absolute correlated value\n",
    "        colname = corr_matrix.columns[i] #getting the names of columns\n",
    "        col_corr.add(colname)\n",
    "  return col_corr"
   ]
  },
  {
   "cell_type": "code",
   "execution_count": 63,
   "id": "03407ca7",
   "metadata": {},
   "outputs": [
    {
     "data": {
      "text/plain": [
       "1"
      ]
     },
     "execution_count": 63,
     "metadata": {},
     "output_type": "execute_result"
    }
   ],
   "source": [
    "cor_features = correlation(x_train, 0.8)\n",
    "len(set(cor_features))"
   ]
  },
  {
   "cell_type": "code",
   "execution_count": 64,
   "id": "00b05179",
   "metadata": {},
   "outputs": [
    {
     "data": {
      "text/plain": [
       "{'FTI measured'}"
      ]
     },
     "execution_count": 64,
     "metadata": {},
     "output_type": "execute_result"
    }
   ],
   "source": [
    "cor_features"
   ]
  },
  {
   "cell_type": "markdown",
   "id": "125bd5ed",
   "metadata": {},
   "source": [
    "# Univariate Selection"
   ]
  },
  {
   "cell_type": "code",
   "execution_count": 65,
   "id": "179d63d9",
   "metadata": {},
   "outputs": [],
   "source": [
    "from sklearn.feature_selection import SelectKBest\n",
    "from sklearn.feature_selection import chi2"
   ]
  },
  {
   "cell_type": "code",
   "execution_count": 66,
   "id": "777fa0e5",
   "metadata": {},
   "outputs": [],
   "source": [
    "ordered_rank_features = SelectKBest(score_func=chi2,k=26)\n",
    "ordered_features=ordered_rank_features.fit(x_train,y_train)"
   ]
  },
  {
   "cell_type": "code",
   "execution_count": 67,
   "id": "dfbb5c94",
   "metadata": {},
   "outputs": [],
   "source": [
    "dfscore=pd.DataFrame(ordered_features.scores_,columns=['score'])\n",
    "dfcolumns=pd.DataFrame(x_train.columns)"
   ]
  },
  {
   "cell_type": "code",
   "execution_count": 68,
   "id": "8f6925f6",
   "metadata": {},
   "outputs": [],
   "source": [
    "features_rank=pd.concat([dfcolumns,dfscore],axis=1)"
   ]
  },
  {
   "cell_type": "code",
   "execution_count": 69,
   "id": "063b3b22",
   "metadata": {},
   "outputs": [
    {
     "data": {
      "text/html": [
       "<div>\n",
       "<style scoped>\n",
       "    .dataframe tbody tr th:only-of-type {\n",
       "        vertical-align: middle;\n",
       "    }\n",
       "\n",
       "    .dataframe tbody tr th {\n",
       "        vertical-align: top;\n",
       "    }\n",
       "\n",
       "    .dataframe thead th {\n",
       "        text-align: right;\n",
       "    }\n",
       "</style>\n",
       "<table border=\"1\" class=\"dataframe\">\n",
       "  <thead>\n",
       "    <tr style=\"text-align: right;\">\n",
       "      <th></th>\n",
       "      <th>features</th>\n",
       "      <th>score</th>\n",
       "    </tr>\n",
       "  </thead>\n",
       "  <tbody>\n",
       "    <tr>\n",
       "      <th>0</th>\n",
       "      <td>age</td>\n",
       "      <td>569.131401</td>\n",
       "    </tr>\n",
       "    <tr>\n",
       "      <th>1</th>\n",
       "      <td>sex</td>\n",
       "      <td>8.571623</td>\n",
       "    </tr>\n",
       "    <tr>\n",
       "      <th>2</th>\n",
       "      <td>on thyroxine</td>\n",
       "      <td>29.040434</td>\n",
       "    </tr>\n",
       "    <tr>\n",
       "      <th>3</th>\n",
       "      <td>query on thyroxine</td>\n",
       "      <td>1.774572</td>\n",
       "    </tr>\n",
       "    <tr>\n",
       "      <th>4</th>\n",
       "      <td>on antithyroid medication</td>\n",
       "      <td>1.936043</td>\n",
       "    </tr>\n",
       "    <tr>\n",
       "      <th>5</th>\n",
       "      <td>sick</td>\n",
       "      <td>23.253544</td>\n",
       "    </tr>\n",
       "    <tr>\n",
       "      <th>6</th>\n",
       "      <td>pregnant</td>\n",
       "      <td>24.320017</td>\n",
       "    </tr>\n",
       "    <tr>\n",
       "      <th>7</th>\n",
       "      <td>thyroid surgery</td>\n",
       "      <td>2.617498</td>\n",
       "    </tr>\n",
       "    <tr>\n",
       "      <th>8</th>\n",
       "      <td>I131 treatment</td>\n",
       "      <td>3.818893</td>\n",
       "    </tr>\n",
       "    <tr>\n",
       "      <th>9</th>\n",
       "      <td>query hypothyroid</td>\n",
       "      <td>9.242234</td>\n",
       "    </tr>\n",
       "    <tr>\n",
       "      <th>10</th>\n",
       "      <td>query hyperthyroid</td>\n",
       "      <td>59.040436</td>\n",
       "    </tr>\n",
       "    <tr>\n",
       "      <th>11</th>\n",
       "      <td>lithium</td>\n",
       "      <td>1.385012</td>\n",
       "    </tr>\n",
       "    <tr>\n",
       "      <th>12</th>\n",
       "      <td>goitre</td>\n",
       "      <td>2.651153</td>\n",
       "    </tr>\n",
       "    <tr>\n",
       "      <th>13</th>\n",
       "      <td>tumor</td>\n",
       "      <td>52.117487</td>\n",
       "    </tr>\n",
       "    <tr>\n",
       "      <th>14</th>\n",
       "      <td>hypopituitary</td>\n",
       "      <td>0.170625</td>\n",
       "    </tr>\n",
       "    <tr>\n",
       "      <th>15</th>\n",
       "      <td>psych</td>\n",
       "      <td>4.258392</td>\n",
       "    </tr>\n",
       "    <tr>\n",
       "      <th>16</th>\n",
       "      <td>TSH measured</td>\n",
       "      <td>1.898579</td>\n",
       "    </tr>\n",
       "    <tr>\n",
       "      <th>17</th>\n",
       "      <td>TSH</td>\n",
       "      <td>8379.761530</td>\n",
       "    </tr>\n",
       "    <tr>\n",
       "      <th>18</th>\n",
       "      <td>T3 measured</td>\n",
       "      <td>5.323581</td>\n",
       "    </tr>\n",
       "    <tr>\n",
       "      <th>19</th>\n",
       "      <td>T3</td>\n",
       "      <td>2158.834997</td>\n",
       "    </tr>\n",
       "    <tr>\n",
       "      <th>20</th>\n",
       "      <td>TT4 measured</td>\n",
       "      <td>0.602640</td>\n",
       "    </tr>\n",
       "    <tr>\n",
       "      <th>21</th>\n",
       "      <td>TT4</td>\n",
       "      <td>1762.330586</td>\n",
       "    </tr>\n",
       "    <tr>\n",
       "      <th>22</th>\n",
       "      <td>T4U measured</td>\n",
       "      <td>0.866639</td>\n",
       "    </tr>\n",
       "    <tr>\n",
       "      <th>23</th>\n",
       "      <td>T4U</td>\n",
       "      <td>1019.042242</td>\n",
       "    </tr>\n",
       "    <tr>\n",
       "      <th>24</th>\n",
       "      <td>FTI measured</td>\n",
       "      <td>0.855065</td>\n",
       "    </tr>\n",
       "    <tr>\n",
       "      <th>25</th>\n",
       "      <td>FTI</td>\n",
       "      <td>1977.772856</td>\n",
       "    </tr>\n",
       "    <tr>\n",
       "      <th>26</th>\n",
       "      <td>referral source</td>\n",
       "      <td>2.002515</td>\n",
       "    </tr>\n",
       "  </tbody>\n",
       "</table>\n",
       "</div>"
      ],
      "text/plain": [
       "                     features        score\n",
       "0                         age   569.131401\n",
       "1                         sex     8.571623\n",
       "2                on thyroxine    29.040434\n",
       "3          query on thyroxine     1.774572\n",
       "4   on antithyroid medication     1.936043\n",
       "5                        sick    23.253544\n",
       "6                    pregnant    24.320017\n",
       "7             thyroid surgery     2.617498\n",
       "8              I131 treatment     3.818893\n",
       "9           query hypothyroid     9.242234\n",
       "10         query hyperthyroid    59.040436\n",
       "11                    lithium     1.385012\n",
       "12                     goitre     2.651153\n",
       "13                      tumor    52.117487\n",
       "14              hypopituitary     0.170625\n",
       "15                      psych     4.258392\n",
       "16               TSH measured     1.898579\n",
       "17                        TSH  8379.761530\n",
       "18                T3 measured     5.323581\n",
       "19                         T3  2158.834997\n",
       "20               TT4 measured     0.602640\n",
       "21                        TT4  1762.330586\n",
       "22               T4U measured     0.866639\n",
       "23                        T4U  1019.042242\n",
       "24               FTI measured     0.855065\n",
       "25                        FTI  1977.772856\n",
       "26            referral source     2.002515"
      ]
     },
     "execution_count": 69,
     "metadata": {},
     "output_type": "execute_result"
    }
   ],
   "source": [
    "features_rank.columns=['features','score']\n",
    "features_rank"
   ]
  },
  {
   "cell_type": "code",
   "execution_count": 70,
   "id": "4627abc6",
   "metadata": {},
   "outputs": [
    {
     "data": {
      "text/html": [
       "<div>\n",
       "<style scoped>\n",
       "    .dataframe tbody tr th:only-of-type {\n",
       "        vertical-align: middle;\n",
       "    }\n",
       "\n",
       "    .dataframe tbody tr th {\n",
       "        vertical-align: top;\n",
       "    }\n",
       "\n",
       "    .dataframe thead th {\n",
       "        text-align: right;\n",
       "    }\n",
       "</style>\n",
       "<table border=\"1\" class=\"dataframe\">\n",
       "  <thead>\n",
       "    <tr style=\"text-align: right;\">\n",
       "      <th></th>\n",
       "      <th>features</th>\n",
       "      <th>score</th>\n",
       "    </tr>\n",
       "  </thead>\n",
       "  <tbody>\n",
       "    <tr>\n",
       "      <th>17</th>\n",
       "      <td>TSH</td>\n",
       "      <td>8379.761530</td>\n",
       "    </tr>\n",
       "    <tr>\n",
       "      <th>19</th>\n",
       "      <td>T3</td>\n",
       "      <td>2158.834997</td>\n",
       "    </tr>\n",
       "    <tr>\n",
       "      <th>25</th>\n",
       "      <td>FTI</td>\n",
       "      <td>1977.772856</td>\n",
       "    </tr>\n",
       "    <tr>\n",
       "      <th>21</th>\n",
       "      <td>TT4</td>\n",
       "      <td>1762.330586</td>\n",
       "    </tr>\n",
       "    <tr>\n",
       "      <th>23</th>\n",
       "      <td>T4U</td>\n",
       "      <td>1019.042242</td>\n",
       "    </tr>\n",
       "    <tr>\n",
       "      <th>0</th>\n",
       "      <td>age</td>\n",
       "      <td>569.131401</td>\n",
       "    </tr>\n",
       "    <tr>\n",
       "      <th>10</th>\n",
       "      <td>query hyperthyroid</td>\n",
       "      <td>59.040436</td>\n",
       "    </tr>\n",
       "    <tr>\n",
       "      <th>13</th>\n",
       "      <td>tumor</td>\n",
       "      <td>52.117487</td>\n",
       "    </tr>\n",
       "    <tr>\n",
       "      <th>2</th>\n",
       "      <td>on thyroxine</td>\n",
       "      <td>29.040434</td>\n",
       "    </tr>\n",
       "    <tr>\n",
       "      <th>6</th>\n",
       "      <td>pregnant</td>\n",
       "      <td>24.320017</td>\n",
       "    </tr>\n",
       "    <tr>\n",
       "      <th>5</th>\n",
       "      <td>sick</td>\n",
       "      <td>23.253544</td>\n",
       "    </tr>\n",
       "    <tr>\n",
       "      <th>9</th>\n",
       "      <td>query hypothyroid</td>\n",
       "      <td>9.242234</td>\n",
       "    </tr>\n",
       "    <tr>\n",
       "      <th>1</th>\n",
       "      <td>sex</td>\n",
       "      <td>8.571623</td>\n",
       "    </tr>\n",
       "    <tr>\n",
       "      <th>18</th>\n",
       "      <td>T3 measured</td>\n",
       "      <td>5.323581</td>\n",
       "    </tr>\n",
       "    <tr>\n",
       "      <th>15</th>\n",
       "      <td>psych</td>\n",
       "      <td>4.258392</td>\n",
       "    </tr>\n",
       "    <tr>\n",
       "      <th>8</th>\n",
       "      <td>I131 treatment</td>\n",
       "      <td>3.818893</td>\n",
       "    </tr>\n",
       "    <tr>\n",
       "      <th>12</th>\n",
       "      <td>goitre</td>\n",
       "      <td>2.651153</td>\n",
       "    </tr>\n",
       "    <tr>\n",
       "      <th>7</th>\n",
       "      <td>thyroid surgery</td>\n",
       "      <td>2.617498</td>\n",
       "    </tr>\n",
       "    <tr>\n",
       "      <th>26</th>\n",
       "      <td>referral source</td>\n",
       "      <td>2.002515</td>\n",
       "    </tr>\n",
       "    <tr>\n",
       "      <th>4</th>\n",
       "      <td>on antithyroid medication</td>\n",
       "      <td>1.936043</td>\n",
       "    </tr>\n",
       "    <tr>\n",
       "      <th>16</th>\n",
       "      <td>TSH measured</td>\n",
       "      <td>1.898579</td>\n",
       "    </tr>\n",
       "    <tr>\n",
       "      <th>3</th>\n",
       "      <td>query on thyroxine</td>\n",
       "      <td>1.774572</td>\n",
       "    </tr>\n",
       "    <tr>\n",
       "      <th>11</th>\n",
       "      <td>lithium</td>\n",
       "      <td>1.385012</td>\n",
       "    </tr>\n",
       "    <tr>\n",
       "      <th>22</th>\n",
       "      <td>T4U measured</td>\n",
       "      <td>0.866639</td>\n",
       "    </tr>\n",
       "    <tr>\n",
       "      <th>24</th>\n",
       "      <td>FTI measured</td>\n",
       "      <td>0.855065</td>\n",
       "    </tr>\n",
       "    <tr>\n",
       "      <th>20</th>\n",
       "      <td>TT4 measured</td>\n",
       "      <td>0.602640</td>\n",
       "    </tr>\n",
       "    <tr>\n",
       "      <th>14</th>\n",
       "      <td>hypopituitary</td>\n",
       "      <td>0.170625</td>\n",
       "    </tr>\n",
       "  </tbody>\n",
       "</table>\n",
       "</div>"
      ],
      "text/plain": [
       "                     features        score\n",
       "17                        TSH  8379.761530\n",
       "19                         T3  2158.834997\n",
       "25                        FTI  1977.772856\n",
       "21                        TT4  1762.330586\n",
       "23                        T4U  1019.042242\n",
       "0                         age   569.131401\n",
       "10         query hyperthyroid    59.040436\n",
       "13                      tumor    52.117487\n",
       "2                on thyroxine    29.040434\n",
       "6                    pregnant    24.320017\n",
       "5                        sick    23.253544\n",
       "9           query hypothyroid     9.242234\n",
       "1                         sex     8.571623\n",
       "18                T3 measured     5.323581\n",
       "15                      psych     4.258392\n",
       "8              I131 treatment     3.818893\n",
       "12                     goitre     2.651153\n",
       "7             thyroid surgery     2.617498\n",
       "26            referral source     2.002515\n",
       "4   on antithyroid medication     1.936043\n",
       "16               TSH measured     1.898579\n",
       "3          query on thyroxine     1.774572\n",
       "11                    lithium     1.385012\n",
       "22               T4U measured     0.866639\n",
       "24               FTI measured     0.855065\n",
       "20               TT4 measured     0.602640\n",
       "14              hypopituitary     0.170625"
      ]
     },
     "execution_count": 70,
     "metadata": {},
     "output_type": "execute_result"
    }
   ],
   "source": [
    "features_rank.nlargest(27,'score')"
   ]
  },
  {
   "cell_type": "code",
   "execution_count": 71,
   "id": "26eeb6fc",
   "metadata": {},
   "outputs": [],
   "source": [
    "col_to_drop=[\"query on thyroxine\",\"on antithyroid medication\",\"thyroid surgery\",\"I131 treatment\",\"lithium\",\"goitre\",\"hypopituitary\",\"psych\",\"TSH measured\",\"T3 measured\",\"TT4 measured\",\"T4U measured\",\"FTI measured\"]"
   ]
  },
  {
   "cell_type": "code",
   "execution_count": 72,
   "id": "1b4da9cc",
   "metadata": {},
   "outputs": [],
   "source": [
    "x_train=x_train.drop(col_to_drop,axis=1)\n",
    "x_test=x_test.drop(col_to_drop,axis=1)"
   ]
  },
  {
   "cell_type": "code",
   "execution_count": 73,
   "id": "6a9739ac",
   "metadata": {},
   "outputs": [
    {
     "data": {
      "text/html": [
       "<div>\n",
       "<style scoped>\n",
       "    .dataframe tbody tr th:only-of-type {\n",
       "        vertical-align: middle;\n",
       "    }\n",
       "\n",
       "    .dataframe tbody tr th {\n",
       "        vertical-align: top;\n",
       "    }\n",
       "\n",
       "    .dataframe thead th {\n",
       "        text-align: right;\n",
       "    }\n",
       "</style>\n",
       "<table border=\"1\" class=\"dataframe\">\n",
       "  <thead>\n",
       "    <tr style=\"text-align: right;\">\n",
       "      <th></th>\n",
       "      <th>age</th>\n",
       "      <th>sex</th>\n",
       "      <th>on thyroxine</th>\n",
       "      <th>sick</th>\n",
       "      <th>pregnant</th>\n",
       "      <th>query hypothyroid</th>\n",
       "      <th>query hyperthyroid</th>\n",
       "      <th>tumor</th>\n",
       "      <th>TSH</th>\n",
       "      <th>T3</th>\n",
       "      <th>TT4</th>\n",
       "      <th>T4U</th>\n",
       "      <th>FTI</th>\n",
       "      <th>referral source</th>\n",
       "    </tr>\n",
       "  </thead>\n",
       "  <tbody>\n",
       "    <tr>\n",
       "      <th>1234</th>\n",
       "      <td>44</td>\n",
       "      <td>0</td>\n",
       "      <td>0</td>\n",
       "      <td>0</td>\n",
       "      <td>0</td>\n",
       "      <td>0</td>\n",
       "      <td>0</td>\n",
       "      <td>0</td>\n",
       "      <td>24</td>\n",
       "      <td>21</td>\n",
       "      <td>24</td>\n",
       "      <td>58</td>\n",
       "      <td>18</td>\n",
       "      <td>1</td>\n",
       "    </tr>\n",
       "    <tr>\n",
       "      <th>814</th>\n",
       "      <td>63</td>\n",
       "      <td>1</td>\n",
       "      <td>0</td>\n",
       "      <td>0</td>\n",
       "      <td>0</td>\n",
       "      <td>0</td>\n",
       "      <td>0</td>\n",
       "      <td>0</td>\n",
       "      <td>34</td>\n",
       "      <td>23</td>\n",
       "      <td>216</td>\n",
       "      <td>39</td>\n",
       "      <td>17</td>\n",
       "      <td>3</td>\n",
       "    </tr>\n",
       "    <tr>\n",
       "      <th>1190</th>\n",
       "      <td>21</td>\n",
       "      <td>0</td>\n",
       "      <td>0</td>\n",
       "      <td>0</td>\n",
       "      <td>0</td>\n",
       "      <td>0</td>\n",
       "      <td>0</td>\n",
       "      <td>0</td>\n",
       "      <td>73</td>\n",
       "      <td>22</td>\n",
       "      <td>12</td>\n",
       "      <td>49</td>\n",
       "      <td>18</td>\n",
       "      <td>4</td>\n",
       "    </tr>\n",
       "    <tr>\n",
       "      <th>1100</th>\n",
       "      <td>46</td>\n",
       "      <td>1</td>\n",
       "      <td>0</td>\n",
       "      <td>0</td>\n",
       "      <td>0</td>\n",
       "      <td>0</td>\n",
       "      <td>0</td>\n",
       "      <td>0</td>\n",
       "      <td>18</td>\n",
       "      <td>22</td>\n",
       "      <td>204</td>\n",
       "      <td>49</td>\n",
       "      <td>200</td>\n",
       "      <td>4</td>\n",
       "    </tr>\n",
       "    <tr>\n",
       "      <th>2193</th>\n",
       "      <td>35</td>\n",
       "      <td>1</td>\n",
       "      <td>0</td>\n",
       "      <td>0</td>\n",
       "      <td>0</td>\n",
       "      <td>0</td>\n",
       "      <td>0</td>\n",
       "      <td>0</td>\n",
       "      <td>107</td>\n",
       "      <td>17</td>\n",
       "      <td>201</td>\n",
       "      <td>16</td>\n",
       "      <td>36</td>\n",
       "      <td>4</td>\n",
       "    </tr>\n",
       "  </tbody>\n",
       "</table>\n",
       "</div>"
      ],
      "text/plain": [
       "      age  sex  on thyroxine  sick  pregnant  query hypothyroid  \\\n",
       "1234   44    0             0     0         0                  0   \n",
       "814    63    1             0     0         0                  0   \n",
       "1190   21    0             0     0         0                  0   \n",
       "1100   46    1             0     0         0                  0   \n",
       "2193   35    1             0     0         0                  0   \n",
       "\n",
       "      query hyperthyroid  tumor  TSH  T3  TT4  T4U  FTI  referral source  \n",
       "1234                   0      0   24  21   24   58   18                1  \n",
       "814                    0      0   34  23  216   39   17                3  \n",
       "1190                   0      0   73  22   12   49   18                4  \n",
       "1100                   0      0   18  22  204   49  200                4  \n",
       "2193                   0      0  107  17  201   16   36                4  "
      ]
     },
     "execution_count": 73,
     "metadata": {},
     "output_type": "execute_result"
    }
   ],
   "source": [
    "x_train.head()"
   ]
  },
  {
   "cell_type": "code",
   "execution_count": 74,
   "id": "4af66fa5",
   "metadata": {},
   "outputs": [
    {
     "data": {
      "text/plain": [
       "((2415, 14), (806, 14))"
      ]
     },
     "execution_count": 74,
     "metadata": {},
     "output_type": "execute_result"
    }
   ],
   "source": [
    "x_train.shape,x_test.shape"
   ]
  },
  {
   "cell_type": "code",
   "execution_count": 75,
   "id": "242ea769",
   "metadata": {},
   "outputs": [],
   "source": [
    "from sklearn.preprocessing import StandardScaler\n",
    "scaler = StandardScaler()\n",
    "scaler.fit(x_train)\n",
    "scaled_train = scaler.transform(x_train)\n",
    "scaler.fit(x_test)\n",
    "scaled_test = scaler.transform(x_test)"
   ]
  },
  {
   "cell_type": "code",
   "execution_count": 76,
   "id": "50e6c624",
   "metadata": {},
   "outputs": [
    {
     "data": {
      "text/plain": [
       "array([[-0.12319961, -0.68535893, -0.35330629, ..., -0.05873287,\n",
       "        -0.97657572, -2.1187803 ],\n",
       "       [ 0.81164646,  1.09245182, -0.35330629, ..., -0.68605075,\n",
       "        -0.988436  , -0.25199649],\n",
       "       [-1.25485538, -0.68535893, -0.35330629, ..., -0.35588344,\n",
       "        -0.97657572,  0.68139542],\n",
       "       ...,\n",
       "       [-0.86123598,  1.09245182, -0.35330629, ...,  0.27143444,\n",
       "         0.93293083,  0.68139542],\n",
       "       [ 0.81164646,  1.09245182, -0.35330629, ...,  2.58260559,\n",
       "         1.28873951, -0.25199649],\n",
       "       [ 1.15606343,  1.09245182, -0.35330629, ..., -0.55398383,\n",
       "        -1.00029629, -0.25199649]])"
      ]
     },
     "execution_count": 76,
     "metadata": {},
     "output_type": "execute_result"
    }
   ],
   "source": [
    "scaled_train"
   ]
  },
  {
   "cell_type": "markdown",
   "id": "5b6997bf",
   "metadata": {},
   "source": [
    "# SVM"
   ]
  },
  {
   "cell_type": "code",
   "execution_count": 77,
   "id": "2119dd05",
   "metadata": {},
   "outputs": [
    {
     "data": {
      "text/plain": [
       "SVC(kernel='linear')"
      ]
     },
     "execution_count": 77,
     "metadata": {},
     "output_type": "execute_result"
    }
   ],
   "source": [
    "from sklearn.svm import SVC\n",
    "\n",
    "from sklearn.metrics import accuracy_score\n",
    "from sklearn.metrics import confusion_matrix\n",
    "from sklearn.metrics import plot_confusion_matrix\n",
    "\n",
    "svc = SVC(kernel=\"linear\")\n",
    "svc.fit(scaled_train,y_train)"
   ]
  },
  {
   "cell_type": "code",
   "execution_count": 78,
   "id": "6d756a39",
   "metadata": {},
   "outputs": [
    {
     "data": {
      "text/plain": [
       "0.8560794044665012"
      ]
     },
     "execution_count": 78,
     "metadata": {},
     "output_type": "execute_result"
    }
   ],
   "source": [
    "y_pred=svc.predict(scaled_test)\n",
    "accuracy_score(y_test,y_pred)"
   ]
  },
  {
   "cell_type": "code",
   "execution_count": 79,
   "id": "8a7802cb",
   "metadata": {},
   "outputs": [
    {
     "data": {
      "text/plain": [
       "array([[  0,   0,  15,   0],\n",
       "       [  0,   0,  61,   0],\n",
       "       [  0,   0, 690,   0],\n",
       "       [  0,   0,  40,   0]], dtype=int64)"
      ]
     },
     "execution_count": 79,
     "metadata": {},
     "output_type": "execute_result"
    }
   ],
   "source": [
    "confusion_matrix(y_test,y_pred)"
   ]
  },
  {
   "cell_type": "code",
   "execution_count": 80,
   "id": "8054336d",
   "metadata": {},
   "outputs": [
    {
     "data": {
      "image/png": "[encoded data removed]",
      "text/plain": [
       "<Figure size 432x288 with 2 Axes>"
      ]
     },
     "metadata": {
      "needs_background": "light"
     },
     "output_type": "display_data"
    }
   ],
   "source": [
    "matrix = plot_confusion_matrix(svc,scaled_test,y_test,cmap=plt.cm.Reds)\n",
    "matrix.ax_.set_title('confusion Matrix', color='white')\n",
    "plt.xlabel('Predicted Label', color='white')\n",
    "plt.ylabel('True Label', color='white')\n",
    "plt.show()"
   ]
  },
  {
   "cell_type": "code",
   "execution_count": 81,
   "id": "5cf4bda9",
   "metadata": {},
   "outputs": [
    {
     "name": "stdout",
     "output_type": "stream",
     "text": [
      "              precision    recall  f1-score   support\n",
      "\n",
      "           0       0.00      0.00      0.00        15\n",
      "           1       0.00      0.00      0.00        61\n",
      "           2       0.86      1.00      0.92       690\n",
      "           3       0.00      0.00      0.00        40\n",
      "\n",
      "    accuracy                           0.86       806\n",
      "   macro avg       0.21      0.25      0.23       806\n",
      "weighted avg       0.73      0.86      0.79       806\n",
      "\n"
     ]
    }
   ],
   "source": [
    "from sklearn.metrics import classification_report\n",
    "print(classification_report(y_test,y_pred))\n"
   ]
  },
  {
   "cell_type": "code",
   "execution_count": 82,
   "id": "dfe69459",
   "metadata": {},
   "outputs": [
    {
     "data": {
      "text/plain": [
       "SVC(kernel='sigmoid')"
      ]
     },
     "execution_count": 82,
     "metadata": {},
     "output_type": "execute_result"
    }
   ],
   "source": [
    "svc = SVC(kernel=\"sigmoid\")\n",
    "svc.fit(scaled_train,y_train)"
   ]
  },
  {
   "cell_type": "code",
   "execution_count": 83,
   "id": "fca21225",
   "metadata": {},
   "outputs": [
    {
     "data": {
      "text/plain": [
       "0.8176178660049628"
      ]
     },
     "execution_count": 83,
     "metadata": {},
     "output_type": "execute_result"
    }
   ],
   "source": [
    "y_pred=svc.predict(scaled_test)\n",
    "\n",
    "accuracy_score(y_test,y_pred)"
   ]
  },
  {
   "cell_type": "code",
   "execution_count": 84,
   "id": "62f614db",
   "metadata": {},
   "outputs": [
    {
     "data": {
      "text/plain": [
       "array([[  1,   0,  14,   0],\n",
       "       [  0,   2,  58,   1],\n",
       "       [  4,  27, 656,   3],\n",
       "       [  1,   7,  32,   0]], dtype=int64)"
      ]
     },
     "execution_count": 84,
     "metadata": {},
     "output_type": "execute_result"
    }
   ],
   "source": [
    "confusion_matrix(y_test,y_pred)"
   ]
  },
  {
   "cell_type": "code",
   "execution_count": 85,
   "id": "27453223",
   "metadata": {},
   "outputs": [
    {
     "data": {
      "image/png": "[encoded data removed]",
      "text/plain": [
       "<Figure size 432x288 with 2 Axes>"
      ]
     },
     "metadata": {
      "needs_background": "light"
     },
     "output_type": "display_data"
    }
   ],
   "source": [
    "matrix = plot_confusion_matrix(svc,scaled_test,y_test,cmap=plt.cm.Reds)\n",
    "matrix.ax_.set_title('confusion Matrix', color='white')\n",
    "plt.xlabel('Predicted Label', color='white')\n",
    "plt.ylabel('True Label', color='white')\n",
    "plt.show()"
   ]
  },
  {
   "cell_type": "code",
   "execution_count": 86,
   "id": "c3a761b5",
   "metadata": {},
   "outputs": [
    {
     "name": "stdout",
     "output_type": "stream",
     "text": [
      "              precision    recall  f1-score   support\n",
      "\n",
      "           0       0.17      0.07      0.10        15\n",
      "           1       0.06      0.03      0.04        61\n",
      "           2       0.86      0.95      0.90       690\n",
      "           3       0.00      0.00      0.00        40\n",
      "\n",
      "    accuracy                           0.82       806\n",
      "   macro avg       0.27      0.26      0.26       806\n",
      "weighted avg       0.75      0.82      0.78       806\n",
      "\n"
     ]
    }
   ],
   "source": [
    "print(classification_report(y_test,y_pred))"
   ]
  },
  {
   "cell_type": "code",
   "execution_count": 87,
   "id": "155cf322",
   "metadata": {},
   "outputs": [
    {
     "data": {
      "text/plain": [
       "SVC()"
      ]
     },
     "execution_count": 87,
     "metadata": {},
     "output_type": "execute_result"
    }
   ],
   "source": [
    "svc = SVC(kernel=\"rbf\")\n",
    "svc.fit(scaled_train,y_train)"
   ]
  },
  {
   "cell_type": "code",
   "execution_count": 88,
   "id": "59c86387",
   "metadata": {},
   "outputs": [
    {
     "data": {
      "text/plain": [
       "0.8560794044665012"
      ]
     },
     "execution_count": 88,
     "metadata": {},
     "output_type": "execute_result"
    }
   ],
   "source": [
    "y_pred=svc.predict(scaled_test)\n",
    "accuracy_score(y_test,y_pred)"
   ]
  },
  {
   "cell_type": "code",
   "execution_count": 89,
   "id": "8425fdbc",
   "metadata": {},
   "outputs": [
    {
     "data": {
      "text/plain": [
       "array([[  0,   0,  15,   0],\n",
       "       [  0,   0,  61,   0],\n",
       "       [  0,   0, 690,   0],\n",
       "       [  0,   0,  40,   0]], dtype=int64)"
      ]
     },
     "execution_count": 89,
     "metadata": {},
     "output_type": "execute_result"
    }
   ],
   "source": [
    "confusion_matrix(y_test,y_pred)"
   ]
  },
  {
   "cell_type": "code",
   "execution_count": 90,
   "id": "4a36b430",
   "metadata": {},
   "outputs": [
    {
     "data": {
      "image/png": "[encoded data removed]",
      "text/plain": [
       "<Figure size 432x288 with 2 Axes>"
      ]
     },
     "metadata": {
      "needs_background": "light"
     },
     "output_type": "display_data"
    }
   ],
   "source": [
    "matrix = plot_confusion_matrix(svc,scaled_test,y_test,cmap=plt.cm.Reds)\n",
    "matrix.ax_.set_title('confusion Matrix', color='white')\n",
    "plt.xlabel('Predicted Label', color='white')\n",
    "plt.ylabel('True Label', color='white')\n",
    "plt.show()"
   ]
  },
  {
   "cell_type": "code",
   "execution_count": 91,
   "id": "b1f06a8d",
   "metadata": {},
   "outputs": [
    {
     "name": "stdout",
     "output_type": "stream",
     "text": [
      "              precision    recall  f1-score   support\n",
      "\n",
      "           0       0.00      0.00      0.00        15\n",
      "           1       0.00      0.00      0.00        61\n",
      "           2       0.86      1.00      0.92       690\n",
      "           3       0.00      0.00      0.00        40\n",
      "\n",
      "    accuracy                           0.86       806\n",
      "   macro avg       0.21      0.25      0.23       806\n",
      "weighted avg       0.73      0.86      0.79       806\n",
      "\n"
     ]
    }
   ],
   "source": [
    "print(classification_report(y_test,y_pred))"
   ]
  },
  {
   "cell_type": "code",
   "execution_count": 92,
   "id": "abef2354",
   "metadata": {},
   "outputs": [
    {
     "data": {
      "text/plain": [
       "SVC(kernel='poly')"
      ]
     },
     "execution_count": 92,
     "metadata": {},
     "output_type": "execute_result"
    }
   ],
   "source": [
    "svc = SVC(kernel=\"poly\")\n",
    "svc.fit(scaled_train,y_train)"
   ]
  },
  {
   "cell_type": "code",
   "execution_count": 93,
   "id": "365b3b17",
   "metadata": {},
   "outputs": [
    {
     "data": {
      "text/plain": [
       "0.8399503722084367"
      ]
     },
     "execution_count": 93,
     "metadata": {},
     "output_type": "execute_result"
    }
   ],
   "source": [
    "y_pred=svc.predict(scaled_test)\n",
    "accuracy_score(y_test,y_pred)"
   ]
  },
  {
   "cell_type": "code",
   "execution_count": 94,
   "id": "6f4f2cc5",
   "metadata": {},
   "outputs": [
    {
     "data": {
      "text/plain": [
       "array([[  0,   0,  15,   0],\n",
       "       [  0,   0,  60,   1],\n",
       "       [  7,   3, 677,   3],\n",
       "       [  0,   0,  40,   0]], dtype=int64)"
      ]
     },
     "execution_count": 94,
     "metadata": {},
     "output_type": "execute_result"
    }
   ],
   "source": [
    "confusion_matrix(y_test,y_pred)"
   ]
  },
  {
   "cell_type": "code",
   "execution_count": 95,
   "id": "3541f9d1",
   "metadata": {},
   "outputs": [
    {
     "data": {
      "image/png": "[encoded data removed]",
      "text/plain": [
       "<Figure size 432x288 with 2 Axes>"
      ]
     },
     "metadata": {
      "needs_background": "light"
     },
     "output_type": "display_data"
    }
   ],
   "source": [
    "matrix = plot_confusion_matrix(svc,scaled_test,y_test,cmap=plt.cm.Reds)\n",
    "matrix.ax_.set_title('confusion Matrix', color='white')\n",
    "plt.xlabel('Predicted Label', color='white')\n",
    "plt.ylabel('True Label', color='white')\n",
    "plt.show()"
   ]
  },
  {
   "cell_type": "code",
   "execution_count": 96,
   "id": "b275a59f",
   "metadata": {},
   "outputs": [
    {
     "name": "stdout",
     "output_type": "stream",
     "text": [
      "              precision    recall  f1-score   support\n",
      "\n",
      "           0       0.00      0.00      0.00        15\n",
      "           1       0.00      0.00      0.00        61\n",
      "           2       0.85      0.98      0.91       690\n",
      "           3       0.00      0.00      0.00        40\n",
      "\n",
      "    accuracy                           0.84       806\n",
      "   macro avg       0.21      0.25      0.23       806\n",
      "weighted avg       0.73      0.84      0.78       806\n",
      "\n"
     ]
    }
   ],
   "source": [
    "print(classification_report(y_test,y_pred))"
   ]
  },
  {
   "cell_type": "markdown",
   "id": "e4a6f82f",
   "metadata": {},
   "source": [
    "KNN"
   ]
  },
  {
   "cell_type": "code",
   "execution_count": 97,
   "id": "ebf4d4b8",
   "metadata": {},
   "outputs": [],
   "source": [
    "from sklearn.neighbors import KNeighborsClassifier\n",
    "knn = KNeighborsClassifier(n_neighbors=1)"
   ]
  },
  {
   "cell_type": "code",
   "execution_count": 98,
   "id": "eff097fb",
   "metadata": {},
   "outputs": [
    {
     "data": {
      "text/plain": [
       "0.705955334987593"
      ]
     },
     "execution_count": 98,
     "metadata": {},
     "output_type": "execute_result"
    }
   ],
   "source": [
    "knn.fit(scaled_train,y_train)\n",
    "y_pred=knn.predict(scaled_test)\n",
    "accuracy_score(y_test,y_pred)"
   ]
  },
  {
   "cell_type": "code",
   "execution_count": 99,
   "id": "df3ea4b5",
   "metadata": {},
   "outputs": [
    {
     "data": {
      "text/plain": [
       "array([[  0,   0,  13,   2],\n",
       "       [  0,   2,  56,   3],\n",
       "       [ 25,  57, 564,  44],\n",
       "       [  3,   2,  32,   3]], dtype=int64)"
      ]
     },
     "execution_count": 99,
     "metadata": {},
     "output_type": "execute_result"
    }
   ],
   "source": [
    "confusion_matrix(y_test,y_pred)"
   ]
  },
  {
   "cell_type": "code",
   "execution_count": 100,
   "id": "7038efd8",
   "metadata": {},
   "outputs": [
    {
     "data": {
      "image/png": "[encoded data removed]",
      "text/plain": [
       "<Figure size 432x288 with 2 Axes>"
      ]
     },
     "metadata": {
      "needs_background": "light"
     },
     "output_type": "display_data"
    }
   ],
   "source": [
    "matrix = plot_confusion_matrix(knn,scaled_test,y_test,cmap=plt.cm.Reds)\n",
    "matrix.ax_.set_title('confusion Matrix', color='white')\n",
    "plt.xlabel('Predicted Label', color='white')\n",
    "plt.ylabel('True Label', color='white')\n",
    "plt.show()"
   ]
  },
  {
   "cell_type": "code",
   "execution_count": 101,
   "id": "7e60f753",
   "metadata": {},
   "outputs": [
    {
     "name": "stdout",
     "output_type": "stream",
     "text": [
      "              precision    recall  f1-score   support\n",
      "\n",
      "           0       0.00      0.00      0.00        15\n",
      "           1       0.03      0.03      0.03        61\n",
      "           2       0.85      0.82      0.83       690\n",
      "           3       0.06      0.07      0.07        40\n",
      "\n",
      "    accuracy                           0.71       806\n",
      "   macro avg       0.23      0.23      0.23       806\n",
      "weighted avg       0.73      0.71      0.72       806\n",
      "\n"
     ]
    }
   ],
   "source": [
    "print(classification_report(y_test,y_pred))"
   ]
  },
  {
   "cell_type": "code",
   "execution_count": 102,
   "id": "8e8025a8",
   "metadata": {},
   "outputs": [
    {
     "data": {
      "text/plain": [
       "0.8560794044665012"
      ]
     },
     "execution_count": 102,
     "metadata": {},
     "output_type": "execute_result"
    }
   ],
   "source": [
    "from sklearn.ensemble import GradientBoostingClassifier\n",
    "gb = GradientBoostingClassifier(n_estimators=10)\n",
    "gb.fit(scaled_train,y_train)\n",
    "y_pred=gb.predict(scaled_test)\n",
    "accuracy_score(y_test,y_pred)"
   ]
  },
  {
   "cell_type": "code",
   "execution_count": 103,
   "id": "34840df5",
   "metadata": {},
   "outputs": [
    {
     "data": {
      "text/plain": [
       "array([[  0,   0,  15,   0],\n",
       "       [  0,   0,  61,   0],\n",
       "       [  0,   0, 690,   0],\n",
       "       [  0,   0,  40,   0]], dtype=int64)"
      ]
     },
     "execution_count": 103,
     "metadata": {},
     "output_type": "execute_result"
    }
   ],
   "source": [
    "confusion_matrix(y_test,y_pred)"
   ]
  },
  {
   "cell_type": "code",
   "execution_count": 104,
   "id": "83d4993d",
   "metadata": {},
   "outputs": [
    {
     "data": {
      "image/png": "[encoded data removed]",
      "text/plain": [
       "<Figure size 432x288 with 2 Axes>"
      ]
     },
     "metadata": {
      "needs_background": "light"
     },
     "output_type": "display_data"
    }
   ],
   "source": [
    "matrix = plot_confusion_matrix(gb,scaled_test,y_test,cmap=plt.cm.Reds)\n",
    "matrix.ax_.set_title('confusion Matrix', color='white')\n",
    "plt.xlabel('Predicted Label', color='white')\n",
    "plt.ylabel('True Label', color='white')\n",
    "plt.show()"
   ]
  },
  {
   "cell_type": "markdown",
   "id": "068eb6c5",
   "metadata": {},
   "source": [
    "#Decision Tree"
   ]
  },
  {
   "cell_type": "code",
   "execution_count": 105,
   "id": "6ba149b2",
   "metadata": {},
   "outputs": [
    {
     "data": {
      "text/plain": [
       "0.7245657568238213"
      ]
     },
     "execution_count": 105,
     "metadata": {},
     "output_type": "execute_result"
    }
   ],
   "source": [
    "from sklearn import tree\n",
    "dt = tree.DecisionTreeClassifier()\n",
    "dt.fit(scaled_train,y_train)\n",
    "y_pred=dt.predict(scaled_test)\n",
    "accuracy_score(y_test,y_pred)"
   ]
  },
  {
   "cell_type": "code",
   "execution_count": 106,
   "id": "71cca944",
   "metadata": {},
   "outputs": [],
   "source": [
    "from sklearn.ensemble import RandomForestClassifier\n",
    "rf = RandomForestClassifier()"
   ]
  },
  {
   "cell_type": "code",
   "execution_count": 107,
   "id": "1064d878",
   "metadata": {},
   "outputs": [
    {
     "data": {
      "text/plain": [
       "0.7481389578163772"
      ]
     },
     "execution_count": 107,
     "metadata": {},
     "output_type": "execute_result"
    }
   ],
   "source": [
    "rf.fit(scaled_train,y_train)\n",
    "y_pred=rf.predict(scaled_test)\n",
    "accuracy_score(y_test,y_pred)"
   ]
  },
  {
   "cell_type": "code",
   "execution_count": 108,
   "id": "8b7b96b2",
   "metadata": {},
   "outputs": [
    {
     "data": {
      "text/plain": [
       "array([[  0,   0,  15,   0],\n",
       "       [  0,   0,  58,   3],\n",
       "       [ 18,  38, 601,  33],\n",
       "       [  2,   1,  35,   2]], dtype=int64)"
      ]
     },
     "execution_count": 108,
     "metadata": {},
     "output_type": "execute_result"
    }
   ],
   "source": [
    "confusion_matrix(y_test,y_pred)"
   ]
  },
  {
   "cell_type": "code",
   "execution_count": 109,
   "id": "945bfc92",
   "metadata": {},
   "outputs": [
    {
     "data": {
      "image/png": "[encoded data removed]",
      "text/plain": [
       "<Figure size 432x288 with 2 Axes>"
      ]
     },
     "metadata": {
      "needs_background": "light"
     },
     "output_type": "display_data"
    }
   ],
   "source": [
    "matrix = plot_confusion_matrix(rf,scaled_test,y_test,cmap=plt.cm.Reds)\n",
    "matrix.ax_.set_title('confusion Matrix', color='white')\n",
    "plt.xlabel('Predicted Label', color='white')\n",
    "plt.ylabel('True Label', color='white')\n",
    "plt.show()"
   ]
  },
  {
   "cell_type": "code",
   "execution_count": 110,
   "id": "5d7a4203",
   "metadata": {},
   "outputs": [
    {
     "name": "stdout",
     "output_type": "stream",
     "text": [
      "Train Score:0.8923395445134575\n",
      " Test Score:0.7419354838709677\n"
     ]
    }
   ],
   "source": [
    "classifier_forest = RandomForestClassifier(criterion = 'entropy')\n",
    "classifier_forest.fit(x_train,y_train)\n",
    "y_pred = classifier_forest.predict(scaled_test)\n",
    "\n",
    "print(f'Train Score:{classifier_forest.score(x_train,y_train)}\\n Test Score:{classifier_forest.score(x_test,y_test)}')"
   ]
  },
  {
   "cell_type": "code",
   "execution_count": 111,
   "id": "2077f206",
   "metadata": {},
   "outputs": [
    {
     "data": {
      "text/plain": [
       "0.8560794044665012"
      ]
     },
     "execution_count": 111,
     "metadata": {},
     "output_type": "execute_result"
    }
   ],
   "source": [
    "accuracy_score(y_test,y_pred)"
   ]
  },
  {
   "cell_type": "code",
   "execution_count": null,
   "id": "d510ba17",
   "metadata": {},
   "outputs": [],
   "source": []
  }
 ],
 "metadata": {
  "kernelspec": {
   "display_name": "Python 3 (ipykernel)",
   "language": "python",
   "name": "python3"
  },
  "language_info": {
   "codemirror_mode": {
    "name": "ipython",
    "version": 3
   },
   "file_extension": ".py",
   "mimetype": "text/x-python",
   "name": "python",
   "nbconvert_exporter": "python",
   "pygments_lexer": "ipython3",
   "version": "3.10.0"
  }
 },
 "nbformat": 4,
 "nbformat_minor": 5
}
