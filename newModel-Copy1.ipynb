{
 "cells": [
  {
   "cell_type": "code",
   "execution_count": 1,
   "id": "6bc0c7d3",
   "metadata": {},
   "outputs": [],
   "source": [
    "#import packages\n",
    "import warnings\n",
    "warnings.filterwarnings(\"ignore\")\n",
    "\n",
    "import pandas as pd\n",
    "import numpy as np\n",
    "%matplotlib inline\n",
    "import matplotlib.pyplot as plt\n",
    "import seaborn as sns"
   ]
  },
  {
   "cell_type": "code",
   "execution_count": 2,
   "id": "be299c45",
   "metadata": {},
   "outputs": [],
   "source": [
    "def parse_row(row):\n",
    "    row = row.split(\".\")[0]\n",
    "    return row\n",
    "\n",
    "def to_hyperthyroid(row):\n",
    "    if row != \"negative\":\n",
    "        row = \"hyperthyroid\"\n",
    "    return row\n",
    "\n",
    "def to_hypothyroid(row):\n",
    "    if row != \"negative\":\n",
    "        row = \"hypothyroid\"\n",
    "    return row\n",
    "\n"
   ]
  },
  {
   "cell_type": "code",
   "execution_count": 3,
   "id": "96c03941",
   "metadata": {},
   "outputs": [],
   "source": [
    "columns = ['age', 'sex', 'on thyroxine', 'query on thyroxine',\n",
    "       'on antithyroid medication', 'sick', 'pregnant', 'thyroid surgery',\n",
    "       'I131 treatment', 'query hypothyroid', 'query hyperthyroid', 'lithium',\n",
    "       'goitre', 'tumor', 'hypopituitary', 'psych', 'TSH measured', 'TSH',\n",
    "       'T3 measured', 'T3', 'TT4 measured', 'TT4', 'T4U measured', 'T4U',\n",
    "       'FTI measured', 'FTI', 'TBG measured', 'TBG', 'referral source',\n",
    "       'category']"
   ]
  },
  {
   "cell_type": "code",
   "execution_count": 4,
   "id": "faa360e0",
   "metadata": {},
   "outputs": [],
   "source": [
    "hyper_data = pd.read_csv(\"allhyper.csv\", names=columns)\n",
    "hypo_data = pd.read_csv(\"allhypo.csv\", names=columns)\n",
    "sick_data = pd.read_csv(\"sick.csv\", names=columns)"
   ]
  },
  {
   "cell_type": "code",
   "execution_count": 5,
   "id": "c6127dc0",
   "metadata": {},
   "outputs": [
    {
     "data": {
      "text/plain": [
       "Index(['age', 'sex', 'on thyroxine', 'query on thyroxine',\n",
       "       'on antithyroid medication', 'sick', 'pregnant', 'thyroid surgery',\n",
       "       'I131 treatment', 'query hypothyroid', 'query hyperthyroid', 'lithium',\n",
       "       'goitre', 'tumor', 'hypopituitary', 'psych', 'TSH measured', 'TSH',\n",
       "       'T3 measured', 'T3', 'TT4 measured', 'TT4', 'T4U measured', 'T4U',\n",
       "       'FTI measured', 'FTI', 'TBG measured', 'TBG', 'referral source',\n",
       "       'category'],\n",
       "      dtype='object')"
      ]
     },
     "execution_count": 5,
     "metadata": {},
     "output_type": "execute_result"
    }
   ],
   "source": [
    "hyper_data.columns"
   ]
  },
  {
   "cell_type": "code",
   "execution_count": 6,
   "id": "354e15df",
   "metadata": {},
   "outputs": [],
   "source": [
    "hyper_data['category'] = hyper_data['category'] \\\n",
    "                            .apply(parse_row) \\\n",
    "                            .apply(to_hyperthyroid)\n",
    "\n",
    "hypo_data['category'] = hypo_data['category'] \\\n",
    "                            .apply(parse_row) \\\n",
    "                            .apply(to_hypothyroid)\n",
    "\n",
    "sick_data['category'] = sick_data['category'] \\\n",
    "                            .apply(parse_row)"
   ]
  },
  {
   "cell_type": "code",
   "execution_count": 7,
   "id": "18f6a772",
   "metadata": {},
   "outputs": [],
   "source": [
    "thyroid_frames = [hyper_data, hypo_data, sick_data]\n",
    "thyroid_data = pd.concat(thyroid_frames) \\\n",
    "                 .drop_duplicates() \\\n",
    "                 .drop(['TBG', 'TBG measured'], axis=1)"
   ]
  },
  {
   "cell_type": "code",
   "execution_count": 8,
   "id": "24d4908d",
   "metadata": {},
   "outputs": [],
   "source": [
    "classes = thyroid_data['category'].unique()"
   ]
  },
  {
   "cell_type": "code",
   "execution_count": 9,
   "id": "0fa63995",
   "metadata": {},
   "outputs": [
    {
     "data": {
      "text/plain": [
       "(3221, 28)"
      ]
     },
     "execution_count": 9,
     "metadata": {},
     "output_type": "execute_result"
    }
   ],
   "source": [
    "thyroid_data.shape"
   ]
  },
  {
   "cell_type": "code",
   "execution_count": 10,
   "id": "f63fd37b",
   "metadata": {},
   "outputs": [
    {
     "data": {
      "text/plain": [
       "age                          0\n",
       "sex                          0\n",
       "on thyroxine                 0\n",
       "query on thyroxine           0\n",
       "on antithyroid medication    0\n",
       "sick                         0\n",
       "pregnant                     0\n",
       "thyroid surgery              0\n",
       "I131 treatment               0\n",
       "query hypothyroid            0\n",
       "query hyperthyroid           0\n",
       "lithium                      0\n",
       "goitre                       0\n",
       "tumor                        0\n",
       "hypopituitary                0\n",
       "psych                        0\n",
       "TSH measured                 0\n",
       "TSH                          0\n",
       "T3 measured                  0\n",
       "T3                           0\n",
       "TT4 measured                 0\n",
       "TT4                          0\n",
       "T4U measured                 0\n",
       "T4U                          0\n",
       "FTI measured                 0\n",
       "FTI                          0\n",
       "referral source              0\n",
       "category                     0\n",
       "dtype: int64"
      ]
     },
     "execution_count": 10,
     "metadata": {},
     "output_type": "execute_result"
    }
   ],
   "source": [
    "thyroid_data.isnull().sum()"
   ]
  },
  {
   "cell_type": "code",
   "execution_count": 11,
   "id": "d0ab1441",
   "metadata": {},
   "outputs": [
    {
     "name": "stdout",
     "output_type": "stream",
     "text": [
      "Number of samples: 3221\n"
     ]
    }
   ],
   "source": [
    "print(\"Number of samples:\", len(thyroid_data))"
   ]
  },
  {
   "cell_type": "code",
   "execution_count": 12,
   "id": "f91648cb",
   "metadata": {},
   "outputs": [
    {
     "data": {
      "text/html": [
       "<div>\n",
       "<style scoped>\n",
       "    .dataframe tbody tr th:only-of-type {\n",
       "        vertical-align: middle;\n",
       "    }\n",
       "\n",
       "    .dataframe tbody tr th {\n",
       "        vertical-align: top;\n",
       "    }\n",
       "\n",
       "    .dataframe thead th {\n",
       "        text-align: right;\n",
       "    }\n",
       "</style>\n",
       "<table border=\"1\" class=\"dataframe\">\n",
       "  <thead>\n",
       "    <tr style=\"text-align: right;\">\n",
       "      <th></th>\n",
       "      <th>age</th>\n",
       "      <th>sex</th>\n",
       "      <th>on thyroxine</th>\n",
       "      <th>query on thyroxine</th>\n",
       "      <th>on antithyroid medication</th>\n",
       "      <th>sick</th>\n",
       "      <th>pregnant</th>\n",
       "      <th>thyroid surgery</th>\n",
       "      <th>I131 treatment</th>\n",
       "      <th>query hypothyroid</th>\n",
       "      <th>...</th>\n",
       "      <th>T3 measured</th>\n",
       "      <th>T3</th>\n",
       "      <th>TT4 measured</th>\n",
       "      <th>TT4</th>\n",
       "      <th>T4U measured</th>\n",
       "      <th>T4U</th>\n",
       "      <th>FTI measured</th>\n",
       "      <th>FTI</th>\n",
       "      <th>referral source</th>\n",
       "      <th>category</th>\n",
       "    </tr>\n",
       "  </thead>\n",
       "  <tbody>\n",
       "    <tr>\n",
       "      <th>0</th>\n",
       "      <td>41</td>\n",
       "      <td>F</td>\n",
       "      <td>f</td>\n",
       "      <td>f</td>\n",
       "      <td>f</td>\n",
       "      <td>f</td>\n",
       "      <td>f</td>\n",
       "      <td>f</td>\n",
       "      <td>f</td>\n",
       "      <td>f</td>\n",
       "      <td>...</td>\n",
       "      <td>t</td>\n",
       "      <td>2.5</td>\n",
       "      <td>t</td>\n",
       "      <td>125</td>\n",
       "      <td>t</td>\n",
       "      <td>1.14</td>\n",
       "      <td>t</td>\n",
       "      <td>109</td>\n",
       "      <td>SVHC</td>\n",
       "      <td>negative</td>\n",
       "    </tr>\n",
       "    <tr>\n",
       "      <th>1</th>\n",
       "      <td>23</td>\n",
       "      <td>F</td>\n",
       "      <td>f</td>\n",
       "      <td>f</td>\n",
       "      <td>f</td>\n",
       "      <td>f</td>\n",
       "      <td>f</td>\n",
       "      <td>f</td>\n",
       "      <td>f</td>\n",
       "      <td>f</td>\n",
       "      <td>...</td>\n",
       "      <td>t</td>\n",
       "      <td>2</td>\n",
       "      <td>t</td>\n",
       "      <td>102</td>\n",
       "      <td>f</td>\n",
       "      <td>?</td>\n",
       "      <td>f</td>\n",
       "      <td>?</td>\n",
       "      <td>other</td>\n",
       "      <td>negative</td>\n",
       "    </tr>\n",
       "    <tr>\n",
       "      <th>2</th>\n",
       "      <td>46</td>\n",
       "      <td>M</td>\n",
       "      <td>f</td>\n",
       "      <td>f</td>\n",
       "      <td>f</td>\n",
       "      <td>f</td>\n",
       "      <td>f</td>\n",
       "      <td>f</td>\n",
       "      <td>f</td>\n",
       "      <td>f</td>\n",
       "      <td>...</td>\n",
       "      <td>f</td>\n",
       "      <td>?</td>\n",
       "      <td>t</td>\n",
       "      <td>109</td>\n",
       "      <td>t</td>\n",
       "      <td>0.91</td>\n",
       "      <td>t</td>\n",
       "      <td>120</td>\n",
       "      <td>other</td>\n",
       "      <td>negative</td>\n",
       "    </tr>\n",
       "    <tr>\n",
       "      <th>3</th>\n",
       "      <td>70</td>\n",
       "      <td>F</td>\n",
       "      <td>t</td>\n",
       "      <td>f</td>\n",
       "      <td>f</td>\n",
       "      <td>f</td>\n",
       "      <td>f</td>\n",
       "      <td>f</td>\n",
       "      <td>f</td>\n",
       "      <td>f</td>\n",
       "      <td>...</td>\n",
       "      <td>t</td>\n",
       "      <td>1.9</td>\n",
       "      <td>t</td>\n",
       "      <td>175</td>\n",
       "      <td>f</td>\n",
       "      <td>?</td>\n",
       "      <td>f</td>\n",
       "      <td>?</td>\n",
       "      <td>other</td>\n",
       "      <td>negative</td>\n",
       "    </tr>\n",
       "    <tr>\n",
       "      <th>4</th>\n",
       "      <td>70</td>\n",
       "      <td>F</td>\n",
       "      <td>f</td>\n",
       "      <td>f</td>\n",
       "      <td>f</td>\n",
       "      <td>f</td>\n",
       "      <td>f</td>\n",
       "      <td>f</td>\n",
       "      <td>f</td>\n",
       "      <td>f</td>\n",
       "      <td>...</td>\n",
       "      <td>t</td>\n",
       "      <td>1.2</td>\n",
       "      <td>t</td>\n",
       "      <td>61</td>\n",
       "      <td>t</td>\n",
       "      <td>0.87</td>\n",
       "      <td>t</td>\n",
       "      <td>70</td>\n",
       "      <td>SVI</td>\n",
       "      <td>negative</td>\n",
       "    </tr>\n",
       "  </tbody>\n",
       "</table>\n",
       "<p>5 rows × 28 columns</p>\n",
       "</div>"
      ],
      "text/plain": [
       "  age sex on thyroxine query on thyroxine on antithyroid medication sick  \\\n",
       "0  41   F            f                  f                         f    f   \n",
       "1  23   F            f                  f                         f    f   \n",
       "2  46   M            f                  f                         f    f   \n",
       "3  70   F            t                  f                         f    f   \n",
       "4  70   F            f                  f                         f    f   \n",
       "\n",
       "  pregnant thyroid surgery I131 treatment query hypothyroid  ... T3 measured  \\\n",
       "0        f               f              f                 f  ...           t   \n",
       "1        f               f              f                 f  ...           t   \n",
       "2        f               f              f                 f  ...           f   \n",
       "3        f               f              f                 f  ...           t   \n",
       "4        f               f              f                 f  ...           t   \n",
       "\n",
       "    T3 TT4 measured  TT4 T4U measured   T4U FTI measured  FTI referral source  \\\n",
       "0  2.5            t  125            t  1.14            t  109            SVHC   \n",
       "1    2            t  102            f     ?            f    ?           other   \n",
       "2    ?            t  109            t  0.91            t  120           other   \n",
       "3  1.9            t  175            f     ?            f    ?           other   \n",
       "4  1.2            t   61            t  0.87            t   70             SVI   \n",
       "\n",
       "   category  \n",
       "0  negative  \n",
       "1  negative  \n",
       "2  negative  \n",
       "3  negative  \n",
       "4  negative  \n",
       "\n",
       "[5 rows x 28 columns]"
      ]
     },
     "execution_count": 12,
     "metadata": {},
     "output_type": "execute_result"
    }
   ],
   "source": [
    "thyroid_data.head(5)"
   ]
  },
  {
   "cell_type": "code",
   "execution_count": 13,
   "id": "86ab9b41",
   "metadata": {},
   "outputs": [
    {
     "data": {
      "text/plain": [
       "other    1795\n",
       "SVI       994\n",
       "SVHC      289\n",
       "STMW      106\n",
       "SVHD       37\n",
       "Name: referral source, dtype: int64"
      ]
     },
     "execution_count": 13,
     "metadata": {},
     "output_type": "execute_result"
    }
   ],
   "source": [
    "thyroid_data['referral source'].value_counts()"
   ]
  },
  {
   "cell_type": "code",
   "execution_count": 14,
   "id": "0bd5a16b",
   "metadata": {},
   "outputs": [
    {
     "data": {
      "text/plain": [
       "negative        2753\n",
       "hypothyroid      220\n",
       "sick             171\n",
       "hyperthyroid      77\n",
       "Name: category, dtype: int64"
      ]
     },
     "execution_count": 14,
     "metadata": {},
     "output_type": "execute_result"
    }
   ],
   "source": [
    "thyroid_data['category'].value_counts()"
   ]
  },
  {
   "cell_type": "code",
   "execution_count": 15,
   "id": "f45c51a4",
   "metadata": {},
   "outputs": [
    {
     "data": {
      "text/html": [
       "<div>\n",
       "<style scoped>\n",
       "    .dataframe tbody tr th:only-of-type {\n",
       "        vertical-align: middle;\n",
       "    }\n",
       "\n",
       "    .dataframe tbody tr th {\n",
       "        vertical-align: top;\n",
       "    }\n",
       "\n",
       "    .dataframe thead th {\n",
       "        text-align: right;\n",
       "    }\n",
       "</style>\n",
       "<table border=\"1\" class=\"dataframe\">\n",
       "  <thead>\n",
       "    <tr style=\"text-align: right;\">\n",
       "      <th></th>\n",
       "      <th>age</th>\n",
       "      <th>sex</th>\n",
       "      <th>on thyroxine</th>\n",
       "      <th>query on thyroxine</th>\n",
       "      <th>on antithyroid medication</th>\n",
       "      <th>sick</th>\n",
       "      <th>pregnant</th>\n",
       "      <th>thyroid surgery</th>\n",
       "      <th>I131 treatment</th>\n",
       "      <th>query hypothyroid</th>\n",
       "      <th>...</th>\n",
       "      <th>T3 measured</th>\n",
       "      <th>T3</th>\n",
       "      <th>TT4 measured</th>\n",
       "      <th>TT4</th>\n",
       "      <th>T4U measured</th>\n",
       "      <th>T4U</th>\n",
       "      <th>FTI measured</th>\n",
       "      <th>FTI</th>\n",
       "      <th>referral source</th>\n",
       "      <th>category</th>\n",
       "    </tr>\n",
       "  </thead>\n",
       "  <tbody>\n",
       "    <tr>\n",
       "      <th>count</th>\n",
       "      <td>3221</td>\n",
       "      <td>3221</td>\n",
       "      <td>3221</td>\n",
       "      <td>3221</td>\n",
       "      <td>3221</td>\n",
       "      <td>3221</td>\n",
       "      <td>3221</td>\n",
       "      <td>3221</td>\n",
       "      <td>3221</td>\n",
       "      <td>3221</td>\n",
       "      <td>...</td>\n",
       "      <td>3221</td>\n",
       "      <td>3221</td>\n",
       "      <td>3221</td>\n",
       "      <td>3221</td>\n",
       "      <td>3221</td>\n",
       "      <td>3221</td>\n",
       "      <td>3221</td>\n",
       "      <td>3221</td>\n",
       "      <td>3221</td>\n",
       "      <td>3221</td>\n",
       "    </tr>\n",
       "    <tr>\n",
       "      <th>unique</th>\n",
       "      <td>94</td>\n",
       "      <td>3</td>\n",
       "      <td>2</td>\n",
       "      <td>2</td>\n",
       "      <td>2</td>\n",
       "      <td>2</td>\n",
       "      <td>2</td>\n",
       "      <td>2</td>\n",
       "      <td>2</td>\n",
       "      <td>2</td>\n",
       "      <td>...</td>\n",
       "      <td>2</td>\n",
       "      <td>65</td>\n",
       "      <td>2</td>\n",
       "      <td>218</td>\n",
       "      <td>2</td>\n",
       "      <td>139</td>\n",
       "      <td>2</td>\n",
       "      <td>210</td>\n",
       "      <td>5</td>\n",
       "      <td>4</td>\n",
       "    </tr>\n",
       "    <tr>\n",
       "      <th>top</th>\n",
       "      <td>59</td>\n",
       "      <td>F</td>\n",
       "      <td>f</td>\n",
       "      <td>f</td>\n",
       "      <td>f</td>\n",
       "      <td>f</td>\n",
       "      <td>f</td>\n",
       "      <td>f</td>\n",
       "      <td>f</td>\n",
       "      <td>f</td>\n",
       "      <td>...</td>\n",
       "      <td>t</td>\n",
       "      <td>?</td>\n",
       "      <td>t</td>\n",
       "      <td>?</td>\n",
       "      <td>t</td>\n",
       "      <td>?</td>\n",
       "      <td>t</td>\n",
       "      <td>?</td>\n",
       "      <td>other</td>\n",
       "      <td>negative</td>\n",
       "    </tr>\n",
       "    <tr>\n",
       "      <th>freq</th>\n",
       "      <td>91</td>\n",
       "      <td>2108</td>\n",
       "      <td>2878</td>\n",
       "      <td>3173</td>\n",
       "      <td>3186</td>\n",
       "      <td>3080</td>\n",
       "      <td>3175</td>\n",
       "      <td>3180</td>\n",
       "      <td>3165</td>\n",
       "      <td>3010</td>\n",
       "      <td>...</td>\n",
       "      <td>2632</td>\n",
       "      <td>589</td>\n",
       "      <td>3079</td>\n",
       "      <td>142</td>\n",
       "      <td>2945</td>\n",
       "      <td>276</td>\n",
       "      <td>2947</td>\n",
       "      <td>274</td>\n",
       "      <td>1795</td>\n",
       "      <td>2753</td>\n",
       "    </tr>\n",
       "  </tbody>\n",
       "</table>\n",
       "<p>4 rows × 28 columns</p>\n",
       "</div>"
      ],
      "text/plain": [
       "         age   sex on thyroxine query on thyroxine on antithyroid medication  \\\n",
       "count   3221  3221         3221               3221                      3221   \n",
       "unique    94     3            2                  2                         2   \n",
       "top       59     F            f                  f                         f   \n",
       "freq      91  2108         2878               3173                      3186   \n",
       "\n",
       "        sick pregnant thyroid surgery I131 treatment query hypothyroid  ...  \\\n",
       "count   3221     3221            3221           3221              3221  ...   \n",
       "unique     2        2               2              2                 2  ...   \n",
       "top        f        f               f              f                 f  ...   \n",
       "freq    3080     3175            3180           3165              3010  ...   \n",
       "\n",
       "       T3 measured    T3 TT4 measured   TT4 T4U measured   T4U FTI measured  \\\n",
       "count         3221  3221         3221  3221         3221  3221         3221   \n",
       "unique           2    65            2   218            2   139            2   \n",
       "top              t     ?            t     ?            t     ?            t   \n",
       "freq          2632   589         3079   142         2945   276         2947   \n",
       "\n",
       "         FTI referral source  category  \n",
       "count   3221            3221      3221  \n",
       "unique   210               5         4  \n",
       "top        ?           other  negative  \n",
       "freq     274            1795      2753  \n",
       "\n",
       "[4 rows x 28 columns]"
      ]
     },
     "execution_count": 15,
     "metadata": {},
     "output_type": "execute_result"
    }
   ],
   "source": [
    "thyroid_data.describe()"
   ]
  },
  {
   "cell_type": "markdown",
   "id": "0329290e",
   "metadata": {},
   "source": [
    "#binary_cols=['age', 'sex', 'on thyroxine', 'query on thyroxine',\n",
    "       'on antithyroid medication', 'sick', 'pregnant', 'thyroid surgery',\n",
    "       'I131 treatment', 'query hypothyroid', 'query hyperthyroid', 'lithium',\n",
    "       'goitre', 'tumor', 'hypopituitary', 'psych', 'TSH measured', 'TSH',\n",
    "       'T3 measured', 'T3', 'TT4 measured', 'TT4', 'T4U measured', 'T4U',\n",
    "       'FTI measured', 'FTI', 'category']\n",
    "#for col in binary_cols: convert_category(thyroid_data, col)"
   ]
  },
  {
   "cell_type": "code",
   "execution_count": 16,
   "id": "8d8563ff",
   "metadata": {},
   "outputs": [
    {
     "data": {
      "text/plain": [
       "age                          object\n",
       "sex                          object\n",
       "on thyroxine                 object\n",
       "query on thyroxine           object\n",
       "on antithyroid medication    object\n",
       "sick                         object\n",
       "pregnant                     object\n",
       "thyroid surgery              object\n",
       "I131 treatment               object\n",
       "query hypothyroid            object\n",
       "query hyperthyroid           object\n",
       "lithium                      object\n",
       "goitre                       object\n",
       "tumor                        object\n",
       "hypopituitary                object\n",
       "psych                        object\n",
       "TSH measured                 object\n",
       "TSH                          object\n",
       "T3 measured                  object\n",
       "T3                           object\n",
       "TT4 measured                 object\n",
       "TT4                          object\n",
       "T4U measured                 object\n",
       "T4U                          object\n",
       "FTI measured                 object\n",
       "FTI                          object\n",
       "referral source              object\n",
       "category                     object\n",
       "dtype: object"
      ]
     },
     "execution_count": 16,
     "metadata": {},
     "output_type": "execute_result"
    }
   ],
   "source": [
    "thyroid_data.dtypes"
   ]
  },
  {
   "cell_type": "code",
   "execution_count": 17,
   "id": "8ec3e314",
   "metadata": {},
   "outputs": [
    {
     "name": "stdout",
     "output_type": "stream",
     "text": [
      "age 1\n",
      "sex 127\n",
      "TSH 247\n",
      "T3 589\n",
      "TT4 142\n",
      "T4U 276\n",
      "FTI 274\n"
     ]
    }
   ],
   "source": [
    "#replace the '?' values with numpy nan\n",
    "for column in thyroid_data.columns:\n",
    "    count=thyroid_data[column][thyroid_data[column]=='?'].count()\n",
    "    if count != 0:\n",
    "        print(column,thyroid_data[column][thyroid_data[column]=='?'].count())"
   ]
  },
  {
   "cell_type": "code",
   "execution_count": 18,
   "id": "b9ed3f9b",
   "metadata": {},
   "outputs": [],
   "source": [
    "for column in thyroid_data.columns:\n",
    "    count=thyroid_data[column][thyroid_data[column]== '?'].count()\n",
    "    if count!=0:\n",
    "        thyroid_data[column]=thyroid_data[column].replace('?',np.nan)"
   ]
  },
  {
   "cell_type": "code",
   "execution_count": 19,
   "id": "dc670082",
   "metadata": {},
   "outputs": [
    {
     "name": "stdout",
     "output_type": "stream",
     "text": [
      "age 0\n",
      "sex 0\n",
      "on thyroxine 0\n",
      "query on thyroxine 0\n",
      "on antithyroid medication 0\n",
      "sick 0\n",
      "pregnant 0\n",
      "thyroid surgery 0\n",
      "I131 treatment 0\n",
      "query hypothyroid 0\n",
      "query hyperthyroid 0\n",
      "lithium 0\n",
      "goitre 0\n",
      "tumor 0\n",
      "hypopituitary 0\n",
      "psych 0\n",
      "TSH measured 0\n",
      "TSH 0\n",
      "T3 measured 0\n",
      "T3 0\n",
      "TT4 measured 0\n",
      "TT4 0\n",
      "T4U measured 0\n",
      "T4U 0\n",
      "FTI measured 0\n",
      "FTI 0\n",
      "referral source 0\n",
      "category 0\n"
     ]
    }
   ],
   "source": [
    "for column in thyroid_data.columns:\n",
    "    count=thyroid_data[column][thyroid_data[column]=='?'].count()\n",
    "    if count == 0:\n",
    "        print(column,thyroid_data[column][thyroid_data[column]=='?'].count())"
   ]
  },
  {
   "cell_type": "code",
   "execution_count": 20,
   "id": "caea0cc6",
   "metadata": {},
   "outputs": [
    {
     "name": "stdout",
     "output_type": "stream",
     "text": [
      "age ['41' '23' '46' '70' '18' '59' '80' '66' '68' '84' '67' '71' '28' '65'\n",
      " '42' '63' '51' '81' '54' '55' '60' '25' '73' '34' '78' '37' '85' '26'\n",
      " '58' '64' '44' '48' '61' '35' '83' '21' '87' '53' '77' '27' '69' '74'\n",
      " '38' '76' '45' '36' '22' '43' '72' '82' '31' '39' '49' '62' '57' '1' '50'\n",
      " '30' '29' '75' '19' '7' '79' '17' '24' '15' '32' '47' '16' '52' '33' '13'\n",
      " '10' '89' '56' '20' '90' '40' '88' '14' '86' '94' '12' '4' '11' '8' '5'\n",
      " '455' '2' '91' '6' nan '93' '92']\n",
      "sex ['F' 'M' nan]\n",
      "on thyroxine ['f' 't']\n",
      "query on thyroxine ['f' 't']\n",
      "on antithyroid medication ['f' 't']\n",
      "sick ['f' 't']\n",
      "pregnant ['f' 't']\n",
      "thyroid surgery ['f' 't']\n",
      "I131 treatment ['f' 't']\n",
      "query hypothyroid ['f' 't']\n",
      "query hyperthyroid ['f' 't']\n",
      "lithium ['f' 't']\n",
      "goitre ['f' 't']\n",
      "tumor ['f' 't']\n",
      "hypopituitary ['f' 't']\n",
      "psych ['f' 't']\n",
      "TSH measured ['t' 'f']\n",
      "TSH ['1.3' '4.1' '0.98' '0.16' '0.72' '0.03' nan '2.2' '0.6' '2.4' '1.1' '2.8'\n",
      " '3.3' '12' '1.2' '1.5' '6' '2.1' '0.1' '0.8' '1.9' '3.1' '0.2' '13' '0.3'\n",
      " '0.035' '2.5' '0.5' '1.7' '7.3' '1.8' '0.26' '45' '5.4' '0.99' '0.25'\n",
      " '0.92' '0.15' '0.64' '1' '0.4' '2' '2.6' '14.8' '15' '19' '0.02' '3'\n",
      " '2.9' '3.2' '9' '1.6' '4.3' '0.005' '0.31' '0.61' '0.05' '7.8' '160'\n",
      " '0.025' '1.4' '0.01' '8.8' '151' '0.04' '3.9' '9.4' '2.7' '2.3' '0.94'\n",
      " '0.045' '3.5' '0.88' '0.08' '4.5' '0.68' '0.7' '0.67' '27' '6.1' '0.75'\n",
      " '0.55' '26' '5.2' '0.77' '0.07' '0.9' '11.4' '143' '0.45' '0.57' '0.65'\n",
      " '0.015' '16' '108' '0.83' '9.2' '86' '0.62' '0.59' '9.1' '5.9' '52'\n",
      " '0.33' '31' '5.8' '0.28' '51' '6.3' '4.4' '9.6' '3.4' '0.09' '24' '0.76'\n",
      " '42' '25' '10' '4.6' '8.6' '0.66' '6.2' '0.79' '28' '0.86' '9.7' '0.84'\n",
      " '17' '18' '55' '14' '3.7' '0.87' '6.7' '0.74' '7.6' '0.065' '0.29' '0.37'\n",
      " '8' '11' '0.48' '44' '7.9' '5' '7.2' '0.89' '0.93' '0.97' '0.12' '6.4'\n",
      " '33' '0.85' '7.1' '0.73' '199' '8.2' '188' '0.22' '98' '22' '6.6' '5.1'\n",
      " '0.06' '0.42' '3.8' '35' '4' '0.78' '0.63' '0.52' '60' '0.43' '5.6' '6.9'\n",
      " '3.6' '29' '0.38' '4.9' '0.41' '9.9' '7.5' '34' '6.5' '4.7' '103' '0.95'\n",
      " '0.14' '0.35' '4.2' '0.81' '0.54' '0.58' '8.9' '5.5' '0.34' '9.3' '0.13'\n",
      " '54' '0.39' '8.3' '478' '21' '6.8' '0.32' '0.23' '0.24' '8.1' '0.91'\n",
      " '5.3' '100' '0.27' '1.01' '58' '41' '183' '18.4' '0.47' '0.17' '12.1'\n",
      " '0.19' '0.82' '43' '0.44' '70' '7.7' '8.4' '0.69' '8.5' '0.21' '82'\n",
      " '0.055' '0.96' '0.71' '38' '0.36' '9.8' '7' '0.46' '11.1' '39' '76' '5.7'\n",
      " '32' '126' '26.4' '0.53' '0.49' '36' '178' '145' '47' '4.8' '10.3' '89'\n",
      " '7.4' '472' '0.51' '116' '61' '99' '46' '78' '468']\n",
      "T3 measured ['t' 'f']\n",
      "T3 ['2.5' '2' nan '1.9' '1.2' '0.6' '2.2' '1.6' '3.8' '1.7' '1.8' '2.6' '2.1'\n",
      " '0.3' '5.5' '1.4' '3.1' '1.5' '2.3' '2.4' '2.7' '0.9' '1' '2.8' '2.9'\n",
      " '0.8' '1.3' '0.4' '3.3' '3.5' '3.4' '1.1' '4.2' '3.7' '3' '0.7' '4.8'\n",
      " '4.3' '0.05' '3.2' '5.4' '4' '0.5' '0.2' '3.6' '5.2' '5' '6' '5.3' '3.9'\n",
      " '4.6' '4.5' '7.3' '4.7' '6.7' '4.1' '6.1' '0.1' '4.9' '10.6' '5.1' '7'\n",
      " '6.2' '4.4' '7.1']\n",
      "TT4 measured ['t' 'f']\n",
      "TT4 ['125' '102' '109' '175' '61' '183' '72' '80' '123' '83' '115' '152' '171'\n",
      " '97' '99' '70' '117' '121' '130' '108' '104' '134' '199' '57' '129' '113'\n",
      " '119' '84' '81' '95' '66' '101' '147' '120' '69' nan '39' '87' '63' '133'\n",
      " '86' '163' '162' '103' '96' '151' '112' '82' '138' '71' '77' '93' '107'\n",
      " '237' '110' '67' '88' '160' '118' '136' '114' '116' '94' '161' '11' '32'\n",
      " '124' '137' '92' '135' '105' '150' '126' '146' '91' '217' '141' '159'\n",
      " '122' '100' '111' '140' '205' '225' '85' '90' '74' '219' '127' '132'\n",
      " '128' '106' '144' '131' '56' '79' '142' '98' '177' '139' '78' '189' '180'\n",
      " '73' '145' '184' '38' '156' '75' '148' '14' '76' '54' '58' '27' '65'\n",
      " '193' '13' '143' '12' '64' '257' '164' '59' '167' '18' '41' '176' '37'\n",
      " '33' '44' '45' '154' '174' '203' '244' '62' '158' '60' '187' '250' '181'\n",
      " '157' '223' '272' '166' '213' '235' '10' '68' '231' '191' '48' '5.8'\n",
      " '169' '149' '210' '40' '155' '232' '42' '204' '430' '198' '230' '15'\n",
      " '170' '165' '47' '168' '194' '89' '52' '179' '192' '172' '4.8' '50' '182'\n",
      " '197' '214' '246' '196' '207' '19' '153' '22' '46' '200' '35' '226' '201'\n",
      " '233' '206' '31' '255' '178' '239' '195' '6' '36' '2' '3' '289' '240'\n",
      " '209' '43' '34' '252' '29' '263' '301' '23' '188' '211' '253' '21' '173']\n",
      "T4U measured ['t' 'f']\n",
      "T4U ['1.14' nan '0.91' '0.87' '1.3' '0.92' '0.7' '0.93' '0.89' '0.95' '0.99'\n",
      " '1.13' '0.86' '0.96' '0.94' '0.9' '1.02' '1.05' '0.62' '1.06' '1.55'\n",
      " '0.83' '1.09' '1.07' '1.27' '0.76' '1.16' '1' '0.56' '0.81' '0.68' '0.78'\n",
      " '0.85' '1.35' '1.15' '0.82' '1.03' '1.58' '0.79' '1.17' '0.71' '0.72'\n",
      " '0.88' '1.11' '1.2' '1.1' '1.33' '0.77' '1.24' '0.53' '1.44' '1.63'\n",
      " '1.51' '1.42' '1.23' '1.01' '0.98' '0.61' '1.12' '1.43' '1.25' '1.41'\n",
      " '1.68' '0.97' '0.84' '0.8' '1.04' '0.73' '1.08' '1.26' '1.46' '1.29'\n",
      " '1.34' '1.66' '1.21' '1.19' '0.75' '0.52' '1.83' '1.39' '1.5' '1.93'\n",
      " '1.18' '0.74' '0.58' '1.82' '0.6' '1.67' '1.22' '0.66' '0.67' '1.31'\n",
      " '0.54' '1.77' '1.59' '1.97' '1.69' '1.38' '1.28' '1.4' '0.69' '0.65'\n",
      " '1.74' '2.03' '1.73' '1.65' '1.36' '1.52' '0.57' '1.53' '1.84' '1.57'\n",
      " '1.75' '1.32' '1.37' '0.64' '1.79' '1.8' '0.48' '1.71' '1.62' '1.76'\n",
      " '1.56' '1.48' '0.59' '0.31' '1.94' '2.12' '1.47' '0.63' '0.944' '0.49'\n",
      " '1.88' '0.5' '0.38' '1.49' '0.41' '1.61' '1.7']\n",
      "FTI measured ['t' 'f']\n",
      "FTI ['109' nan '120' '70' '141' '78' '115' '132' '93' '121' '153' '151' '107'\n",
      " '119' '87' '81' '104' '130' '106' '116' '131' '190' '92' '102' '76' '98'\n",
      " '90' '61' '94' '129' '95' '91' '33' '113' '148' '140' '171' '155' '186'\n",
      " '122' '136' '110' '111' '97' '72' '100' '88' '67' '84' '103' '135' '203'\n",
      " '112' '117' '180' '142' '145' '156' '96' '134' '8.9' '60' '139' '41' '99'\n",
      " '89' '146' '124' '105' '85' '157' '143' '71' '221' '28' '108' '137' '83'\n",
      " '74' '170' '65' '101' '127' '274' '154' '114' '62' '86' '126' '125' '64'\n",
      " '172' '162' '79' '118' '73' '152' '163' '149' '14' '51' '165' '77' '32'\n",
      " '69' '80' '11' '54' '164' '123' '144' '10' '214' '200' '160' '53' '16'\n",
      " '138' '169' '56' '47' '133' '43' '68' '179' '224' '220' '82' '362' '182'\n",
      " '75' '66' '161' '57' '58' '312' '63' '128' '147' '158' '281' '207' '216'\n",
      " '251' '194' '46' '7' '42' '174' '395' '185' '13' '201' '48' '173' '167'\n",
      " '188' '150' '235' '175' '159' '5.4' '189' '59' '166' '34' '228' '232'\n",
      " '217' '177' '176' '195' '219' '17' '210' '168' '205' '39' '187' '50'\n",
      " '349' '52' '206' '253' '242' '244' '213' '178' '247' '215' '198' '19'\n",
      " '237' '37' '7.6' '24' '2' '3' '191' '223' '9' '29' '222' '204' '26' '218'\n",
      " '197' '49' '209' '183']\n",
      "referral source ['SVHC' 'other' 'SVI' 'STMW' 'SVHD']\n",
      "category ['negative' 'hyperthyroid' 'hypothyroid' 'sick']\n"
     ]
    }
   ],
   "source": [
    "##  Unique Values\n",
    "for column in thyroid_data.columns:\n",
    "    print(column,(thyroid_data[column].unique()))"
   ]
  },
  {
   "cell_type": "code",
   "execution_count": 21,
   "id": "f02a34f1",
   "metadata": {},
   "outputs": [],
   "source": [
    "thyroid_data['age'].fillna((thyroid_data['age'].median()), inplace = True)\n",
    "thyroid_data['TSH'].fillna((thyroid_data['TSH'].median()), inplace = True)\n",
    "thyroid_data['T3'].fillna((thyroid_data['T3'].median()), inplace = True)\n",
    "thyroid_data['TT4'].fillna((thyroid_data['TT4'].median()), inplace = True)\n",
    "thyroid_data['T4U'].fillna((thyroid_data['T4U'].median()), inplace = True)\n",
    "thyroid_data['FTI'].fillna((thyroid_data['FTI'].median()), inplace = True)"
   ]
  },
  {
   "cell_type": "code",
   "execution_count": 22,
   "id": "ac70a803",
   "metadata": {},
   "outputs": [],
   "source": [
    "# A quick fix needed\n",
    "thyroid_data.loc[thyroid_data['age'] == '455', 'age'] = '45'"
   ]
  },
  {
   "cell_type": "code",
   "execution_count": 23,
   "id": "1add2c66",
   "metadata": {},
   "outputs": [],
   "source": [
    "from sklearn.preprocessing import LabelEncoder\n",
    "le = LabelEncoder()"
   ]
  },
  {
   "cell_type": "code",
   "execution_count": 24,
   "id": "4dde6278",
   "metadata": {},
   "outputs": [],
   "source": [
    "age = thyroid_data[[\"age\"]]\n",
    "age = pd.get_dummies(age, drop_first= True)"
   ]
  },
  {
   "cell_type": "code",
   "execution_count": 26,
   "id": "512d7e20",
   "metadata": {},
   "outputs": [],
   "source": [
    "thyroid_data['sex'] = le.fit_transform(thyroid_data[\"sex\"])"
   ]
  },
  {
   "cell_type": "code",
   "execution_count": 27,
   "id": "f66b281e",
   "metadata": {},
   "outputs": [],
   "source": [
    "thyroid_data['on thyroxine'] = le.fit_transform(thyroid_data[\"on thyroxine\"])"
   ]
  },
  {
   "cell_type": "code",
   "execution_count": 28,
   "id": "aa2d5db6",
   "metadata": {},
   "outputs": [],
   "source": [
    "thyroid_data['query on thyroxine'] = le.fit_transform(thyroid_data[\"query on thyroxine\"])"
   ]
  },
  {
   "cell_type": "code",
   "execution_count": 29,
   "id": "57c2d425",
   "metadata": {},
   "outputs": [],
   "source": [
    "thyroid_data['on antithyroid medication'] = le.fit_transform(thyroid_data[\"on antithyroid medication\"])"
   ]
  },
  {
   "cell_type": "code",
   "execution_count": 30,
   "id": "70e8838f",
   "metadata": {},
   "outputs": [],
   "source": [
    "thyroid_data['sick'] = le.fit_transform(thyroid_data[\"sick\"])"
   ]
  },
  {
   "cell_type": "code",
   "execution_count": 31,
   "id": "efef429e",
   "metadata": {},
   "outputs": [],
   "source": [
    "thyroid_data['pregnant'] = le.fit_transform(thyroid_data[\"pregnant\"])"
   ]
  },
  {
   "cell_type": "code",
   "execution_count": 32,
   "id": "f53f5977",
   "metadata": {},
   "outputs": [],
   "source": [
    "thyroid_data['thyroid surgery'] = le.fit_transform(thyroid_data[\"thyroid surgery\"])"
   ]
  },
  {
   "cell_type": "code",
   "execution_count": 33,
   "id": "8090d8d1",
   "metadata": {},
   "outputs": [],
   "source": [
    "thyroid_data['I131 treatment'] = le.fit_transform(thyroid_data[\"I131 treatment\"])"
   ]
  },
  {
   "cell_type": "code",
   "execution_count": 34,
   "id": "e1e5fc9e",
   "metadata": {},
   "outputs": [],
   "source": [
    "thyroid_data['query hypothyroid'] = le.fit_transform(thyroid_data[\"query hypothyroid\"])"
   ]
  },
  {
   "cell_type": "code",
   "execution_count": 35,
   "id": "67ebcf4c",
   "metadata": {},
   "outputs": [],
   "source": [
    "thyroid_data['query hyperthyroid'] = le.fit_transform(thyroid_data[\"query hyperthyroid\"])"
   ]
  },
  {
   "cell_type": "code",
   "execution_count": 36,
   "id": "2455c62b",
   "metadata": {},
   "outputs": [],
   "source": [
    "thyroid_data['lithium'] = le.fit_transform(thyroid_data[\"lithium\"])"
   ]
  },
  {
   "cell_type": "code",
   "execution_count": 37,
   "id": "c74aed87",
   "metadata": {},
   "outputs": [],
   "source": [
    "thyroid_data['goitre'] = le.fit_transform(thyroid_data[\"goitre\"])"
   ]
  },
  {
   "cell_type": "code",
   "execution_count": 38,
   "id": "1188899a",
   "metadata": {},
   "outputs": [],
   "source": [
    "thyroid_data['tumor'] = le.fit_transform(thyroid_data[\"tumor\"])"
   ]
  },
  {
   "cell_type": "code",
   "execution_count": 39,
   "id": "3eadc1b9",
   "metadata": {},
   "outputs": [],
   "source": [
    "thyroid_data['hypopituitary'] = le.fit_transform(thyroid_data[\"hypopituitary\"])"
   ]
  },
  {
   "cell_type": "code",
   "execution_count": 40,
   "id": "81494b77",
   "metadata": {},
   "outputs": [],
   "source": [
    "thyroid_data['psych'] = le.fit_transform(thyroid_data[\"psych\"])"
   ]
  },
  {
   "cell_type": "code",
   "execution_count": 41,
   "id": "d2a5ff30",
   "metadata": {},
   "outputs": [],
   "source": [
    "thyroid_data['TSH measured'] = le.fit_transform(thyroid_data[\"TSH measured\"])"
   ]
  },
  {
   "cell_type": "code",
   "execution_count": 42,
   "id": "8605abe5",
   "metadata": {},
   "outputs": [
    {
     "ename": "TypeError",
     "evalue": "Encoders require their input to be uniformly strings or numbers. Got ['float64', 'str']",
     "output_type": "error",
     "traceback": [
      "\u001b[1;31m---------------------------------------------------------------------------\u001b[0m",
      "\u001b[1;31mTypeError\u001b[0m                                 Traceback (most recent call last)",
      "File \u001b[1;32m~\\AppData\\Local\\Programs\\Python\\Python310\\lib\\site-packages\\sklearn\\utils\\_encode.py:135\u001b[0m, in \u001b[0;36m_unique_python\u001b[1;34m(values, return_inverse)\u001b[0m\n\u001b[0;32m    133\u001b[0m uniques_set, missing_values \u001b[38;5;241m=\u001b[39m _extract_missing(uniques_set)\n\u001b[1;32m--> 135\u001b[0m uniques \u001b[38;5;241m=\u001b[39m \u001b[38;5;28;43msorted\u001b[39;49m\u001b[43m(\u001b[49m\u001b[43muniques_set\u001b[49m\u001b[43m)\u001b[49m\n\u001b[0;32m    136\u001b[0m uniques\u001b[38;5;241m.\u001b[39mextend(missing_values\u001b[38;5;241m.\u001b[39mto_list())\n",
      "\u001b[1;31mTypeError\u001b[0m: '>' not supported between instances of 'numpy.ndarray' and 'str'",
      "\nDuring handling of the above exception, another exception occurred:\n",
      "\u001b[1;31mTypeError\u001b[0m                                 Traceback (most recent call last)",
      "Input \u001b[1;32mIn [42]\u001b[0m, in \u001b[0;36m<module>\u001b[1;34m\u001b[0m\n\u001b[1;32m----> 1\u001b[0m thyroid_data[\u001b[38;5;124m'\u001b[39m\u001b[38;5;124mTSH\u001b[39m\u001b[38;5;124m'\u001b[39m] \u001b[38;5;241m=\u001b[39m \u001b[43mle\u001b[49m\u001b[38;5;241;43m.\u001b[39;49m\u001b[43mfit_transform\u001b[49m\u001b[43m(\u001b[49m\u001b[43mthyroid_data\u001b[49m\u001b[43m[\u001b[49m\u001b[38;5;124;43m\"\u001b[39;49m\u001b[38;5;124;43mTSH\u001b[39;49m\u001b[38;5;124;43m\"\u001b[39;49m\u001b[43m]\u001b[49m\u001b[43m)\u001b[49m\n",
      "File \u001b[1;32m~\\AppData\\Local\\Programs\\Python\\Python310\\lib\\site-packages\\sklearn\\preprocessing\\_label.py:116\u001b[0m, in \u001b[0;36mLabelEncoder.fit_transform\u001b[1;34m(self, y)\u001b[0m\n\u001b[0;32m    103\u001b[0m \u001b[38;5;124;03m\"\"\"Fit label encoder and return encoded labels.\u001b[39;00m\n\u001b[0;32m    104\u001b[0m \n\u001b[0;32m    105\u001b[0m \u001b[38;5;124;03mParameters\u001b[39;00m\n\u001b[1;32m   (...)\u001b[0m\n\u001b[0;32m    113\u001b[0m \u001b[38;5;124;03m    Encoded labels.\u001b[39;00m\n\u001b[0;32m    114\u001b[0m \u001b[38;5;124;03m\"\"\"\u001b[39;00m\n\u001b[0;32m    115\u001b[0m y \u001b[38;5;241m=\u001b[39m column_or_1d(y, warn\u001b[38;5;241m=\u001b[39m\u001b[38;5;28;01mTrue\u001b[39;00m)\n\u001b[1;32m--> 116\u001b[0m \u001b[38;5;28mself\u001b[39m\u001b[38;5;241m.\u001b[39mclasses_, y \u001b[38;5;241m=\u001b[39m \u001b[43m_unique\u001b[49m\u001b[43m(\u001b[49m\u001b[43my\u001b[49m\u001b[43m,\u001b[49m\u001b[43m \u001b[49m\u001b[43mreturn_inverse\u001b[49m\u001b[38;5;241;43m=\u001b[39;49m\u001b[38;5;28;43;01mTrue\u001b[39;49;00m\u001b[43m)\u001b[49m\n\u001b[0;32m    117\u001b[0m \u001b[38;5;28;01mreturn\u001b[39;00m y\n",
      "File \u001b[1;32m~\\AppData\\Local\\Programs\\Python\\Python310\\lib\\site-packages\\sklearn\\utils\\_encode.py:31\u001b[0m, in \u001b[0;36m_unique\u001b[1;34m(values, return_inverse)\u001b[0m\n\u001b[0;32m      8\u001b[0m \u001b[38;5;124;03m\"\"\"Helper function to find unique values with support for python objects.\u001b[39;00m\n\u001b[0;32m      9\u001b[0m \n\u001b[0;32m     10\u001b[0m \u001b[38;5;124;03mUses pure python method for object dtype, and numpy method for\u001b[39;00m\n\u001b[1;32m   (...)\u001b[0m\n\u001b[0;32m     28\u001b[0m \u001b[38;5;124;03m    Only provided if `return_inverse` is True.\u001b[39;00m\n\u001b[0;32m     29\u001b[0m \u001b[38;5;124;03m\"\"\"\u001b[39;00m\n\u001b[0;32m     30\u001b[0m \u001b[38;5;28;01mif\u001b[39;00m values\u001b[38;5;241m.\u001b[39mdtype \u001b[38;5;241m==\u001b[39m \u001b[38;5;28mobject\u001b[39m:\n\u001b[1;32m---> 31\u001b[0m     \u001b[38;5;28;01mreturn\u001b[39;00m \u001b[43m_unique_python\u001b[49m\u001b[43m(\u001b[49m\u001b[43mvalues\u001b[49m\u001b[43m,\u001b[49m\u001b[43m \u001b[49m\u001b[43mreturn_inverse\u001b[49m\u001b[38;5;241;43m=\u001b[39;49m\u001b[43mreturn_inverse\u001b[49m\u001b[43m)\u001b[49m\n\u001b[0;32m     32\u001b[0m \u001b[38;5;66;03m# numerical\u001b[39;00m\n\u001b[0;32m     33\u001b[0m out \u001b[38;5;241m=\u001b[39m np\u001b[38;5;241m.\u001b[39munique(values, return_inverse\u001b[38;5;241m=\u001b[39mreturn_inverse)\n",
      "File \u001b[1;32m~\\AppData\\Local\\Programs\\Python\\Python310\\lib\\site-packages\\sklearn\\utils\\_encode.py:140\u001b[0m, in \u001b[0;36m_unique_python\u001b[1;34m(values, return_inverse)\u001b[0m\n\u001b[0;32m    138\u001b[0m \u001b[38;5;28;01mexcept\u001b[39;00m \u001b[38;5;167;01mTypeError\u001b[39;00m:\n\u001b[0;32m    139\u001b[0m     types \u001b[38;5;241m=\u001b[39m \u001b[38;5;28msorted\u001b[39m(t\u001b[38;5;241m.\u001b[39m\u001b[38;5;18m__qualname__\u001b[39m \u001b[38;5;28;01mfor\u001b[39;00m t \u001b[38;5;129;01min\u001b[39;00m \u001b[38;5;28mset\u001b[39m(\u001b[38;5;28mtype\u001b[39m(v) \u001b[38;5;28;01mfor\u001b[39;00m v \u001b[38;5;129;01min\u001b[39;00m values))\n\u001b[1;32m--> 140\u001b[0m     \u001b[38;5;28;01mraise\u001b[39;00m \u001b[38;5;167;01mTypeError\u001b[39;00m(\n\u001b[0;32m    141\u001b[0m         \u001b[38;5;124m\"\u001b[39m\u001b[38;5;124mEncoders require their input to be uniformly \u001b[39m\u001b[38;5;124m\"\u001b[39m\n\u001b[0;32m    142\u001b[0m         \u001b[38;5;124mf\u001b[39m\u001b[38;5;124m\"\u001b[39m\u001b[38;5;124mstrings or numbers. Got \u001b[39m\u001b[38;5;132;01m{\u001b[39;00mtypes\u001b[38;5;132;01m}\u001b[39;00m\u001b[38;5;124m\"\u001b[39m\n\u001b[0;32m    143\u001b[0m     )\n\u001b[0;32m    145\u001b[0m \u001b[38;5;28;01mif\u001b[39;00m return_inverse:\n\u001b[0;32m    146\u001b[0m     \u001b[38;5;28;01mreturn\u001b[39;00m uniques, _map_to_integer(values, uniques)\n",
      "\u001b[1;31mTypeError\u001b[0m: Encoders require their input to be uniformly strings or numbers. Got ['float64', 'str']"
     ]
    }
   ],
   "source": [
    "thyroid_data['TSH'] = le.fit_transform(thyroid_data[\"TSH\"])"
   ]
  },
  {
   "cell_type": "code",
   "execution_count": 43,
   "id": "50cd1a99",
   "metadata": {},
   "outputs": [],
   "source": [
    "thyroid_data['T3 measured'] = le.fit_transform(thyroid_data[\"T3 measured\"])"
   ]
  },
  {
   "cell_type": "code",
   "execution_count": null,
   "id": "82468bf6",
   "metadata": {},
   "outputs": [],
   "source": [
    "thyroid_data['T3'] = le.fit_transform(thyroid_data[\"T3\"])"
   ]
  },
  {
   "cell_type": "code",
   "execution_count": null,
   "id": "64f47f18",
   "metadata": {},
   "outputs": [],
   "source": [
    "thyroid_data['TT4 measured'] = le.fit_transform(thyroid_data[\"TT4 measured\"])"
   ]
  },
  {
   "cell_type": "code",
   "execution_count": null,
   "id": "967ea210",
   "metadata": {},
   "outputs": [],
   "source": [
    "thyroid_data['TT4'] = le.fit_transform(thyroid_data[\"TT4\"])"
   ]
  },
  {
   "cell_type": "code",
   "execution_count": null,
   "id": "4aaa6d80",
   "metadata": {},
   "outputs": [],
   "source": [
    "thyroid_data['T4U measured'] = le.fit_transform(thyroid_data[\"T4U measured\"])"
   ]
  },
  {
   "cell_type": "code",
   "execution_count": null,
   "id": "ada47a0f",
   "metadata": {},
   "outputs": [],
   "source": [
    "thyroid_data['T4U'] = le.fit_transform(thyroid_data[\"T4U\"])"
   ]
  },
  {
   "cell_type": "code",
   "execution_count": null,
   "id": "cbec804a",
   "metadata": {},
   "outputs": [],
   "source": [
    "thyroid_data['FTI measured'] = le.fit_transform(thyroid_data[\"FTI measured\"])"
   ]
  },
  {
   "cell_type": "code",
   "execution_count": null,
   "id": "464a03a3",
   "metadata": {},
   "outputs": [],
   "source": [
    "thyroid_data['FTI'] = le.fit_transform(thyroid_data[\"FTI\"])"
   ]
  },
  {
   "cell_type": "code",
   "execution_count": null,
   "id": "5ffe6420",
   "metadata": {},
   "outputs": [],
   "source": [
    "thyroid_data['referral source'] = le.fit_transform(thyroid_data[\"referral source\"])"
   ]
  },
  {
   "cell_type": "code",
   "execution_count": null,
   "id": "298aba54",
   "metadata": {},
   "outputs": [],
   "source": [
    "thyroid_data['category'] = le.fit_transform(thyroid_data[\"category\"])"
   ]
  },
  {
   "cell_type": "code",
   "execution_count": 44,
   "id": "f11aadad",
   "metadata": {},
   "outputs": [
    {
     "data": {
      "text/plain": [
       "age                          object\n",
       "sex                           int32\n",
       "on thyroxine                  int32\n",
       "query on thyroxine            int32\n",
       "on antithyroid medication     int32\n",
       "sick                          int32\n",
       "pregnant                      int32\n",
       "thyroid surgery               int32\n",
       "I131 treatment                int32\n",
       "query hypothyroid             int32\n",
       "query hyperthyroid            int32\n",
       "lithium                       int32\n",
       "goitre                        int32\n",
       "tumor                         int32\n",
       "hypopituitary                 int32\n",
       "psych                         int32\n",
       "TSH measured                  int32\n",
       "TSH                          object\n",
       "T3 measured                   int32\n",
       "T3                           object\n",
       "TT4 measured                 object\n",
       "TT4                          object\n",
       "T4U measured                 object\n",
       "T4U                          object\n",
       "FTI measured                 object\n",
       "FTI                          object\n",
       "referral source              object\n",
       "category                     object\n",
       "dtype: object"
      ]
     },
     "execution_count": 44,
     "metadata": {},
     "output_type": "execute_result"
    }
   ],
   "source": [
    "thyroid_data.dtypes"
   ]
  },
  {
   "cell_type": "code",
   "execution_count": null,
   "id": "2ddde081",
   "metadata": {},
   "outputs": [],
   "source": [
    "thyroid_data.head()"
   ]
  },
  {
   "cell_type": "code",
   "execution_count": null,
   "id": "a9be0579",
   "metadata": {
    "scrolled": true
   },
   "outputs": [],
   "source": [
    "thyroid_data.hist(bins=50,figsize=(20,15))"
   ]
  },
  {
   "cell_type": "code",
   "execution_count": null,
   "id": "1664a3de",
   "metadata": {},
   "outputs": [],
   "source": [
    "x = thyroid_data.drop(\"category\",axis=1)\n",
    "y = thyroid_data[\"category\"]"
   ]
  },
  {
   "cell_type": "code",
   "execution_count": null,
   "id": "4e06f1d3",
   "metadata": {},
   "outputs": [],
   "source": [
    "sns.countplot(thyroid_data['category'])"
   ]
  },
  {
   "cell_type": "code",
   "execution_count": null,
   "id": "59d15e11",
   "metadata": {},
   "outputs": [],
   "source": [
    "from imblearn.over_sampling import SMOTENC,RandomOverSampler,KMeansSMOTE\n",
    "\n",
    "\n",
    "rdsmple=RandomOverSampler()\n",
    "x_sampled,y_sampled=rdsmple.fit_resample(x,y)\n",
    "\n",
    "x_sampled.shape\n",
    "\n",
    "\n",
    "x_sampled=pd.DataFrame(data=x_sampled,columns=x.columns)\n",
    "\n",
    "\n",
    "x_sampled\n",
    "\n",
    "\n",
    "sns.countplot(y_sampled)\n",
    "\n",
    "\n",
    "x_sampled.columns"
   ]
  },
  {
   "cell_type": "code",
   "execution_count": null,
   "id": "71f5dcca",
   "metadata": {},
   "outputs": [],
   "source": [
    "from sklearn.model_selection import train_test_split\n",
    "x_train,x_test,y_train,y_test= train_test_split(x, y,test_size=0.25, random_state=42)\n",
    "x_train.shape,x_test.shape"
   ]
  },
  {
   "cell_type": "code",
   "execution_count": null,
   "id": "72418814",
   "metadata": {},
   "outputs": [],
   "source": [
    "x_train.corr()"
   ]
  },
  {
   "cell_type": "code",
   "execution_count": null,
   "id": "345f7362",
   "metadata": {},
   "outputs": [],
   "source": [
    "#using pearson correlation\n",
    "plt.figure(figsize=(27,27))\n",
    "corr = x_train.iloc[:,:-1].corr()\n",
    "top_features=corr.index\n",
    "sns.heatmap(corr, annot=True, cmap=plt.cm.cool)\n",
    "plt.show()"
   ]
  },
  {
   "cell_type": "code",
   "execution_count": null,
   "id": "9b1d572d",
   "metadata": {},
   "outputs": [],
   "source": [
    "#find and remove correlated features\n",
    "def correlation(dataset,threshold):\n",
    "  col_corr = set()    #set of all the names of correlated columns\n",
    "  corr_matrix = dataset.corr()\n",
    "  for i in range(len(corr_matrix.columns)):\n",
    "    for j in range(i):\n",
    "      if (corr_matrix.iloc[i,j]) > threshold: #we are interested in absolute correlated value\n",
    "        colname = corr_matrix.columns[i] #getting the names of columns\n",
    "        col_corr.add(colname)\n",
    "  return col_corr"
   ]
  },
  {
   "cell_type": "code",
   "execution_count": null,
   "id": "03407ca7",
   "metadata": {},
   "outputs": [],
   "source": [
    "cor_features = correlation(x_train, 0.8)\n",
    "len(set(cor_features))"
   ]
  },
  {
   "cell_type": "code",
   "execution_count": null,
   "id": "00b05179",
   "metadata": {},
   "outputs": [],
   "source": [
    "cor_features"
   ]
  },
  {
   "cell_type": "markdown",
   "id": "125bd5ed",
   "metadata": {},
   "source": [
    "# Univariate Selection"
   ]
  },
  {
   "cell_type": "code",
   "execution_count": null,
   "id": "179d63d9",
   "metadata": {},
   "outputs": [],
   "source": [
    "from sklearn.feature_selection import SelectKBest\n",
    "from sklearn.feature_selection import chi2"
   ]
  },
  {
   "cell_type": "code",
   "execution_count": null,
   "id": "777fa0e5",
   "metadata": {},
   "outputs": [],
   "source": [
    "ordered_rank_features = SelectKBest(score_func=chi2,k=26)\n",
    "ordered_features=ordered_rank_features.fit(x_train,y_train)"
   ]
  },
  {
   "cell_type": "code",
   "execution_count": null,
   "id": "dfbb5c94",
   "metadata": {},
   "outputs": [],
   "source": [
    "dfscore=pd.DataFrame(ordered_features.scores_,columns=['score'])\n",
    "dfcolumns=pd.DataFrame(x_train.columns)"
   ]
  },
  {
   "cell_type": "code",
   "execution_count": null,
   "id": "8f6925f6",
   "metadata": {},
   "outputs": [],
   "source": [
    "features_rank=pd.concat([dfcolumns,dfscore],axis=1)"
   ]
  },
  {
   "cell_type": "code",
   "execution_count": null,
   "id": "063b3b22",
   "metadata": {},
   "outputs": [],
   "source": [
    "features_rank.columns=['features','score']\n",
    "features_rank"
   ]
  },
  {
   "cell_type": "code",
   "execution_count": null,
   "id": "4627abc6",
   "metadata": {},
   "outputs": [],
   "source": [
    "features_rank.nlargest(27,'score')"
   ]
  },
  {
   "cell_type": "code",
   "execution_count": null,
   "id": "26eeb6fc",
   "metadata": {},
   "outputs": [],
   "source": [
    "col_to_drop=[\"query on thyroxine\",\"on antithyroid medication\",\"thyroid surgery\",\"I131 treatment\",\"lithium\",\"goitre\",\"hypopituitary\",\"psych\",\"TSH measured\",\"T3 measured\",\"TT4 measured\",\"T4U measured\",\"FTI measured\"]"
   ]
  },
  {
   "cell_type": "code",
   "execution_count": null,
   "id": "1b4da9cc",
   "metadata": {},
   "outputs": [],
   "source": [
    "x_train=x_train.drop(col_to_drop,axis=1)\n",
    "x_test=x_test.drop(col_to_drop,axis=1)"
   ]
  },
  {
   "cell_type": "code",
   "execution_count": null,
   "id": "6a9739ac",
   "metadata": {},
   "outputs": [],
   "source": [
    "x_train.head()"
   ]
  },
  {
   "cell_type": "code",
   "execution_count": null,
   "id": "4af66fa5",
   "metadata": {},
   "outputs": [],
   "source": [
    "x_train.shape,x_test.shape"
   ]
  },
  {
   "cell_type": "code",
   "execution_count": null,
   "id": "242ea769",
   "metadata": {},
   "outputs": [],
   "source": [
    "from sklearn.preprocessing import StandardScaler\n",
    "scaler = StandardScaler()\n",
    "scaler.fit(x_train)\n",
    "scaled_train = scaler.transform(x_train)\n",
    "scaler.fit(x_test)\n",
    "scaled_test = scaler.transform(x_test)"
   ]
  },
  {
   "cell_type": "code",
   "execution_count": null,
   "id": "50e6c624",
   "metadata": {},
   "outputs": [],
   "source": [
    "scaled_train"
   ]
  },
  {
   "cell_type": "markdown",
   "id": "5b6997bf",
   "metadata": {},
   "source": [
    "# SVM"
   ]
  },
  {
   "cell_type": "code",
   "execution_count": null,
   "id": "2119dd05",
   "metadata": {},
   "outputs": [],
   "source": [
    "from sklearn.svm import SVC\n",
    "\n",
    "from sklearn.metrics import accuracy_score\n",
    "from sklearn.metrics import confusion_matrix\n",
    "from sklearn.metrics import plot_confusion_matrix\n",
    "\n",
    "svc = SVC(kernel=\"linear\")\n",
    "svc.fit(scaled_train,y_train)"
   ]
  },
  {
   "cell_type": "code",
   "execution_count": null,
   "id": "6d756a39",
   "metadata": {},
   "outputs": [],
   "source": [
    "y_pred=svc.predict(scaled_test)\n",
    "accuracy_score(y_test,y_pred)"
   ]
  },
  {
   "cell_type": "code",
   "execution_count": null,
   "id": "8a7802cb",
   "metadata": {},
   "outputs": [],
   "source": [
    "confusion_matrix(y_test,y_pred)"
   ]
  },
  {
   "cell_type": "code",
   "execution_count": null,
   "id": "8054336d",
   "metadata": {},
   "outputs": [],
   "source": [
    "matrix = plot_confusion_matrix(svc,scaled_test,y_test,cmap=plt.cm.Reds)\n",
    "matrix.ax_.set_title('confusion Matrix', color='white')\n",
    "plt.xlabel('Predicted Label', color='white')\n",
    "plt.ylabel('True Label', color='white')\n",
    "plt.show()"
   ]
  },
  {
   "cell_type": "code",
   "execution_count": null,
   "id": "5cf4bda9",
   "metadata": {},
   "outputs": [],
   "source": [
    "from sklearn.metrics import classification_report\n",
    "print(classification_report(y_test,y_pred))\n"
   ]
  },
  {
   "cell_type": "code",
   "execution_count": null,
   "id": "dfe69459",
   "metadata": {},
   "outputs": [],
   "source": [
    "svc = SVC(kernel=\"sigmoid\")\n",
    "svc.fit(scaled_train,y_train)"
   ]
  },
  {
   "cell_type": "code",
   "execution_count": null,
   "id": "fca21225",
   "metadata": {},
   "outputs": [],
   "source": [
    "y_pred=svc.predict(scaled_test)\n",
    "\n",
    "accuracy_score(y_test,y_pred)"
   ]
  },
  {
   "cell_type": "code",
   "execution_count": null,
   "id": "62f614db",
   "metadata": {},
   "outputs": [],
   "source": [
    "confusion_matrix(y_test,y_pred)"
   ]
  },
  {
   "cell_type": "code",
   "execution_count": null,
   "id": "27453223",
   "metadata": {},
   "outputs": [],
   "source": [
    "matrix = plot_confusion_matrix(svc,scaled_test,y_test,cmap=plt.cm.Reds)\n",
    "matrix.ax_.set_title('confusion Matrix', color='white')\n",
    "plt.xlabel('Predicted Label', color='white')\n",
    "plt.ylabel('True Label', color='white')\n",
    "plt.show()"
   ]
  },
  {
   "cell_type": "code",
   "execution_count": null,
   "id": "c3a761b5",
   "metadata": {},
   "outputs": [],
   "source": [
    "print(classification_report(y_test,y_pred))"
   ]
  },
  {
   "cell_type": "code",
   "execution_count": null,
   "id": "155cf322",
   "metadata": {},
   "outputs": [],
   "source": [
    "svc = SVC(kernel=\"rbf\")\n",
    "svc.fit(scaled_train,y_train)"
   ]
  },
  {
   "cell_type": "code",
   "execution_count": null,
   "id": "59c86387",
   "metadata": {},
   "outputs": [],
   "source": [
    "y_pred=svc.predict(scaled_test)\n",
    "accuracy_score(y_test,y_pred)"
   ]
  },
  {
   "cell_type": "code",
   "execution_count": null,
   "id": "8425fdbc",
   "metadata": {},
   "outputs": [],
   "source": [
    "confusion_matrix(y_test,y_pred)"
   ]
  },
  {
   "cell_type": "code",
   "execution_count": null,
   "id": "4a36b430",
   "metadata": {},
   "outputs": [],
   "source": [
    "matrix = plot_confusion_matrix(svc,scaled_test,y_test,cmap=plt.cm.Reds)\n",
    "matrix.ax_.set_title('confusion Matrix', color='white')\n",
    "plt.xlabel('Predicted Label', color='white')\n",
    "plt.ylabel('True Label', color='white')\n",
    "plt.show()"
   ]
  },
  {
   "cell_type": "code",
   "execution_count": null,
   "id": "b1f06a8d",
   "metadata": {},
   "outputs": [],
   "source": [
    "print(classification_report(y_test,y_pred))"
   ]
  },
  {
   "cell_type": "code",
   "execution_count": null,
   "id": "abef2354",
   "metadata": {},
   "outputs": [],
   "source": [
    "svc = SVC(kernel=\"poly\")\n",
    "svc.fit(scaled_train,y_train)"
   ]
  },
  {
   "cell_type": "code",
   "execution_count": null,
   "id": "365b3b17",
   "metadata": {},
   "outputs": [],
   "source": [
    "y_pred=svc.predict(scaled_test)\n",
    "accuracy_score(y_test,y_pred)"
   ]
  },
  {
   "cell_type": "code",
   "execution_count": null,
   "id": "6f4f2cc5",
   "metadata": {},
   "outputs": [],
   "source": [
    "confusion_matrix(y_test,y_pred)"
   ]
  },
  {
   "cell_type": "code",
   "execution_count": null,
   "id": "3541f9d1",
   "metadata": {},
   "outputs": [],
   "source": [
    "matrix = plot_confusion_matrix(svc,scaled_test,y_test,cmap=plt.cm.Reds)\n",
    "matrix.ax_.set_title('confusion Matrix', color='white')\n",
    "plt.xlabel('Predicted Label', color='white')\n",
    "plt.ylabel('True Label', color='white')\n",
    "plt.show()"
   ]
  },
  {
   "cell_type": "code",
   "execution_count": null,
   "id": "b275a59f",
   "metadata": {},
   "outputs": [],
   "source": [
    "print(classification_report(y_test,y_pred))"
   ]
  },
  {
   "cell_type": "markdown",
   "id": "e4a6f82f",
   "metadata": {},
   "source": [
    "KNN"
   ]
  },
  {
   "cell_type": "code",
   "execution_count": null,
   "id": "ebf4d4b8",
   "metadata": {},
   "outputs": [],
   "source": [
    "from sklearn.neighbors import KNeighborsClassifier\n",
    "knn = KNeighborsClassifier(n_neighbors=1)"
   ]
  },
  {
   "cell_type": "code",
   "execution_count": null,
   "id": "eff097fb",
   "metadata": {},
   "outputs": [],
   "source": [
    "knn.fit(scaled_train,y_train)\n",
    "y_pred=knn.predict(scaled_test)\n",
    "accuracy_score(y_test,y_pred)"
   ]
  },
  {
   "cell_type": "code",
   "execution_count": null,
   "id": "df3ea4b5",
   "metadata": {},
   "outputs": [],
   "source": [
    "confusion_matrix(y_test,y_pred)"
   ]
  },
  {
   "cell_type": "code",
   "execution_count": null,
   "id": "7038efd8",
   "metadata": {},
   "outputs": [],
   "source": [
    "matrix = plot_confusion_matrix(knn,scaled_test,y_test,cmap=plt.cm.Reds)\n",
    "matrix.ax_.set_title('confusion Matrix', color='white')\n",
    "plt.xlabel('Predicted Label', color='white')\n",
    "plt.ylabel('True Label', color='white')\n",
    "plt.show()"
   ]
  },
  {
   "cell_type": "code",
   "execution_count": null,
   "id": "7e60f753",
   "metadata": {},
   "outputs": [],
   "source": [
    "print(classification_report(y_test,y_pred))"
   ]
  },
  {
   "cell_type": "code",
   "execution_count": null,
   "id": "8e8025a8",
   "metadata": {},
   "outputs": [],
   "source": [
    "from sklearn.ensemble import GradientBoostingClassifier\n",
    "gb = GradientBoostingClassifier(n_estimators=10)\n",
    "gb.fit(scaled_train,y_train)\n",
    "y_pred=gb.predict(scaled_test)\n",
    "accuracy_score(y_test,y_pred)"
   ]
  },
  {
   "cell_type": "code",
   "execution_count": null,
   "id": "34840df5",
   "metadata": {},
   "outputs": [],
   "source": [
    "confusion_matrix(y_test,y_pred)"
   ]
  },
  {
   "cell_type": "code",
   "execution_count": null,
   "id": "83d4993d",
   "metadata": {},
   "outputs": [],
   "source": [
    "matrix = plot_confusion_matrix(gb,scaled_test,y_test,cmap=plt.cm.Reds)\n",
    "matrix.ax_.set_title('confusion Matrix', color='white')\n",
    "plt.xlabel('Predicted Label', color='white')\n",
    "plt.ylabel('True Label', color='white')\n",
    "plt.show()"
   ]
  },
  {
   "cell_type": "markdown",
   "id": "068eb6c5",
   "metadata": {},
   "source": [
    "#Decision Tree"
   ]
  },
  {
   "cell_type": "code",
   "execution_count": null,
   "id": "6ba149b2",
   "metadata": {},
   "outputs": [],
   "source": [
    "from sklearn import tree\n",
    "dt = tree.DecisionTreeClassifier()\n",
    "dt.fit(scaled_train,y_train)\n",
    "y_pred=dt.predict(scaled_test)\n",
    "accuracy_score(y_test,y_pred)"
   ]
  },
  {
   "cell_type": "code",
   "execution_count": null,
   "id": "71cca944",
   "metadata": {},
   "outputs": [],
   "source": [
    "from sklearn.ensemble import RandomForestClassifier\n",
    "rf = RandomForestClassifier()"
   ]
  },
  {
   "cell_type": "code",
   "execution_count": null,
   "id": "1064d878",
   "metadata": {},
   "outputs": [],
   "source": [
    "rf.fit(scaled_train,y_train)\n",
    "y_pred=rf.predict(scaled_test)\n",
    "accuracy_score(y_test,y_pred)"
   ]
  },
  {
   "cell_type": "code",
   "execution_count": null,
   "id": "8b7b96b2",
   "metadata": {},
   "outputs": [],
   "source": [
    "confusion_matrix(y_test,y_pred)"
   ]
  },
  {
   "cell_type": "code",
   "execution_count": null,
   "id": "945bfc92",
   "metadata": {},
   "outputs": [],
   "source": [
    "matrix = plot_confusion_matrix(rf,scaled_test,y_test,cmap=plt.cm.Reds)\n",
    "matrix.ax_.set_title('confusion Matrix', color='white')\n",
    "plt.xlabel('Predicted Label', color='white')\n",
    "plt.ylabel('True Label', color='white')\n",
    "plt.show()"
   ]
  },
  {
   "cell_type": "code",
   "execution_count": null,
   "id": "5d7a4203",
   "metadata": {},
   "outputs": [],
   "source": [
    "classifier_forest = RandomForestClassifier(criterion = 'entropy')\n",
    "classifier_forest.fit(x_train,y_train)\n",
    "y_pred = classifier_forest.predict(scaled_test)\n",
    "\n",
    "print(f'Train Score:{classifier_forest.score(x_train,y_train)}\\n Test Score:{classifier_forest.score(x_test,y_test)}')"
   ]
  },
  {
   "cell_type": "code",
   "execution_count": null,
   "id": "2077f206",
   "metadata": {},
   "outputs": [],
   "source": [
    "accuracy_score(y_test,y_pred)"
   ]
  },
  {
   "cell_type": "code",
   "execution_count": null,
   "id": "d510ba17",
   "metadata": {},
   "outputs": [],
   "source": []
  }
 ],
 "metadata": {
  "kernelspec": {
   "display_name": "Python 3 (ipykernel)",
   "language": "python",
   "name": "python3"
  },
  "language_info": {
   "codemirror_mode": {
    "name": "ipython",
    "version": 3
   },
   "file_extension": ".py",
   "mimetype": "text/x-python",
   "name": "python",
   "nbconvert_exporter": "python",
   "pygments_lexer": "ipython3",
   "version": "3.10.0"
  }
 },
 "nbformat": 4,
 "nbformat_minor": 5
}
