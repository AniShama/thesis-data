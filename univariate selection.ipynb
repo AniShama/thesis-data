{
 "cells": [
  {
   "cell_type": "code",
   "execution_count": 1,
   "id": "6bc0c7d3",
   "metadata": {},
   "outputs": [],
   "source": [
    "#import packages\n",
    "import warnings\n",
    "warnings.filterwarnings(\"ignore\")\n",
    "\n",
    "import pandas as pd\n",
    "import numpy as np\n",
    "%matplotlib inline\n",
    "import matplotlib.pyplot as plt\n",
    "import seaborn as sns"
   ]
  },
  {
   "cell_type": "code",
   "execution_count": 2,
   "id": "be299c45",
   "metadata": {},
   "outputs": [],
   "source": [
    "def parse_row(row):\n",
    "    row = row.split(\".\")[0]\n",
    "    return row\n",
    "\n",
    "def to_hyperthyroid(row):\n",
    "    if row != \"negative\":\n",
    "        row = \"hyperthyroid\"\n",
    "    return row\n",
    "\n",
    "def to_hypothyroid(row):\n",
    "    if row != \"negative\":\n",
    "        row = \"hypothyroid\"\n",
    "    return row\n",
    "\n"
   ]
  },
  {
   "cell_type": "code",
   "execution_count": 3,
   "id": "96c03941",
   "metadata": {},
   "outputs": [],
   "source": [
    "columns = ['age', 'sex', 'on thyroxine', 'query on thyroxine',\n",
    "       'on antithyroid medication', 'sick', 'pregnant', 'thyroid surgery',\n",
    "       'I131 treatment', 'query hypothyroid', 'query hyperthyroid', 'lithium',\n",
    "       'goitre', 'tumor', 'hypopituitary', 'psych', 'TSH measured', 'TSH',\n",
    "       'T3 measured', 'T3', 'TT4 measured', 'TT4', 'T4U measured', 'T4U',\n",
    "       'FTI measured', 'FTI', 'TBG measured', 'TBG', 'referral source',\n",
    "       'category']"
   ]
  },
  {
   "cell_type": "code",
   "execution_count": 4,
   "id": "faa360e0",
   "metadata": {},
   "outputs": [],
   "source": [
    "hyper_data = pd.read_csv(\"allhyper.csv\", names=columns)\n",
    "hypo_data = pd.read_csv(\"allhypo.csv\", names=columns)\n",
    "sick_data = pd.read_csv(\"sick.csv\", names=columns)"
   ]
  },
  {
   "cell_type": "code",
   "execution_count": 5,
   "id": "c6127dc0",
   "metadata": {},
   "outputs": [
    {
     "data": {
      "text/plain": [
       "Index(['age', 'sex', 'on thyroxine', 'query on thyroxine',\n",
       "       'on antithyroid medication', 'sick', 'pregnant', 'thyroid surgery',\n",
       "       'I131 treatment', 'query hypothyroid', 'query hyperthyroid', 'lithium',\n",
       "       'goitre', 'tumor', 'hypopituitary', 'psych', 'TSH measured', 'TSH',\n",
       "       'T3 measured', 'T3', 'TT4 measured', 'TT4', 'T4U measured', 'T4U',\n",
       "       'FTI measured', 'FTI', 'TBG measured', 'TBG', 'referral source',\n",
       "       'category'],\n",
       "      dtype='object')"
      ]
     },
     "execution_count": 5,
     "metadata": {},
     "output_type": "execute_result"
    }
   ],
   "source": [
    "hyper_data.columns"
   ]
  },
  {
   "cell_type": "code",
   "execution_count": 6,
   "id": "354e15df",
   "metadata": {},
   "outputs": [],
   "source": [
    "hyper_data['category'] = hyper_data['category'] \\\n",
    "                            .apply(parse_row) \\\n",
    "                            .apply(to_hyperthyroid)\n",
    "\n",
    "hypo_data['category'] = hypo_data['category'] \\\n",
    "                            .apply(parse_row) \\\n",
    "                            .apply(to_hypothyroid)\n",
    "\n",
    "sick_data['category'] = sick_data['category'] \\\n",
    "                            .apply(parse_row)"
   ]
  },
  {
   "cell_type": "code",
   "execution_count": 7,
   "id": "18f6a772",
   "metadata": {},
   "outputs": [],
   "source": [
    "thyroid_frames = [hyper_data, hypo_data, sick_data]\n",
    "thyroid_data = pd.concat(thyroid_frames) \\\n",
    "                 .drop_duplicates() \\\n",
    "                 .drop(['TBG', 'TBG measured'], axis=1)"
   ]
  },
  {
   "cell_type": "code",
   "execution_count": 8,
   "id": "0fa63995",
   "metadata": {},
   "outputs": [
    {
     "data": {
      "text/plain": [
       "(3221, 28)"
      ]
     },
     "execution_count": 8,
     "metadata": {},
     "output_type": "execute_result"
    }
   ],
   "source": [
    "thyroid_data.shape"
   ]
  },
  {
   "cell_type": "code",
   "execution_count": 9,
   "id": "f63fd37b",
   "metadata": {},
   "outputs": [
    {
     "data": {
      "text/plain": [
       "age                          0\n",
       "sex                          0\n",
       "on thyroxine                 0\n",
       "query on thyroxine           0\n",
       "on antithyroid medication    0\n",
       "sick                         0\n",
       "pregnant                     0\n",
       "thyroid surgery              0\n",
       "I131 treatment               0\n",
       "query hypothyroid            0\n",
       "query hyperthyroid           0\n",
       "lithium                      0\n",
       "goitre                       0\n",
       "tumor                        0\n",
       "hypopituitary                0\n",
       "psych                        0\n",
       "TSH measured                 0\n",
       "TSH                          0\n",
       "T3 measured                  0\n",
       "T3                           0\n",
       "TT4 measured                 0\n",
       "TT4                          0\n",
       "T4U measured                 0\n",
       "T4U                          0\n",
       "FTI measured                 0\n",
       "FTI                          0\n",
       "referral source              0\n",
       "category                     0\n",
       "dtype: int64"
      ]
     },
     "execution_count": 9,
     "metadata": {},
     "output_type": "execute_result"
    }
   ],
   "source": [
    "thyroid_data.isnull().sum()"
   ]
  },
  {
   "cell_type": "code",
   "execution_count": 10,
   "id": "c6db0252",
   "metadata": {},
   "outputs": [
    {
     "data": {
      "text/plain": [
       "<AxesSubplot:>"
      ]
     },
     "execution_count": 10,
     "metadata": {},
     "output_type": "execute_result"
    },
    {
     "data": {
      "image/png": "[encoded data removed]",
      "text/plain": [
       "<Figure size 432x288 with 2 Axes>"
      ]
     },
     "metadata": {
      "needs_background": "light"
     },
     "output_type": "display_data"
    }
   ],
   "source": [
    "sns.heatmap(thyroid_data.isnull())"
   ]
  },
  {
   "cell_type": "code",
   "execution_count": 11,
   "id": "d0ab1441",
   "metadata": {},
   "outputs": [
    {
     "name": "stdout",
     "output_type": "stream",
     "text": [
      "Number of samples: 3221\n"
     ]
    }
   ],
   "source": [
    "print(\"Number of samples:\", len(thyroid_data))"
   ]
  },
  {
   "cell_type": "code",
   "execution_count": 12,
   "id": "f91648cb",
   "metadata": {},
   "outputs": [
    {
     "data": {
      "text/html": [
       "<div>\n",
       "<style scoped>\n",
       "    .dataframe tbody tr th:only-of-type {\n",
       "        vertical-align: middle;\n",
       "    }\n",
       "\n",
       "    .dataframe tbody tr th {\n",
       "        vertical-align: top;\n",
       "    }\n",
       "\n",
       "    .dataframe thead th {\n",
       "        text-align: right;\n",
       "    }\n",
       "</style>\n",
       "<table border=\"1\" class=\"dataframe\">\n",
       "  <thead>\n",
       "    <tr style=\"text-align: right;\">\n",
       "      <th></th>\n",
       "      <th>age</th>\n",
       "      <th>sex</th>\n",
       "      <th>on thyroxine</th>\n",
       "      <th>query on thyroxine</th>\n",
       "      <th>on antithyroid medication</th>\n",
       "      <th>sick</th>\n",
       "      <th>pregnant</th>\n",
       "      <th>thyroid surgery</th>\n",
       "      <th>I131 treatment</th>\n",
       "      <th>query hypothyroid</th>\n",
       "      <th>...</th>\n",
       "      <th>T3 measured</th>\n",
       "      <th>T3</th>\n",
       "      <th>TT4 measured</th>\n",
       "      <th>TT4</th>\n",
       "      <th>T4U measured</th>\n",
       "      <th>T4U</th>\n",
       "      <th>FTI measured</th>\n",
       "      <th>FTI</th>\n",
       "      <th>referral source</th>\n",
       "      <th>category</th>\n",
       "    </tr>\n",
       "  </thead>\n",
       "  <tbody>\n",
       "    <tr>\n",
       "      <th>0</th>\n",
       "      <td>41</td>\n",
       "      <td>F</td>\n",
       "      <td>f</td>\n",
       "      <td>f</td>\n",
       "      <td>f</td>\n",
       "      <td>f</td>\n",
       "      <td>f</td>\n",
       "      <td>f</td>\n",
       "      <td>f</td>\n",
       "      <td>f</td>\n",
       "      <td>...</td>\n",
       "      <td>t</td>\n",
       "      <td>2.5</td>\n",
       "      <td>t</td>\n",
       "      <td>125</td>\n",
       "      <td>t</td>\n",
       "      <td>1.14</td>\n",
       "      <td>t</td>\n",
       "      <td>109</td>\n",
       "      <td>SVHC</td>\n",
       "      <td>negative</td>\n",
       "    </tr>\n",
       "    <tr>\n",
       "      <th>1</th>\n",
       "      <td>23</td>\n",
       "      <td>F</td>\n",
       "      <td>f</td>\n",
       "      <td>f</td>\n",
       "      <td>f</td>\n",
       "      <td>f</td>\n",
       "      <td>f</td>\n",
       "      <td>f</td>\n",
       "      <td>f</td>\n",
       "      <td>f</td>\n",
       "      <td>...</td>\n",
       "      <td>t</td>\n",
       "      <td>2</td>\n",
       "      <td>t</td>\n",
       "      <td>102</td>\n",
       "      <td>f</td>\n",
       "      <td>?</td>\n",
       "      <td>f</td>\n",
       "      <td>?</td>\n",
       "      <td>other</td>\n",
       "      <td>negative</td>\n",
       "    </tr>\n",
       "    <tr>\n",
       "      <th>2</th>\n",
       "      <td>46</td>\n",
       "      <td>M</td>\n",
       "      <td>f</td>\n",
       "      <td>f</td>\n",
       "      <td>f</td>\n",
       "      <td>f</td>\n",
       "      <td>f</td>\n",
       "      <td>f</td>\n",
       "      <td>f</td>\n",
       "      <td>f</td>\n",
       "      <td>...</td>\n",
       "      <td>f</td>\n",
       "      <td>?</td>\n",
       "      <td>t</td>\n",
       "      <td>109</td>\n",
       "      <td>t</td>\n",
       "      <td>0.91</td>\n",
       "      <td>t</td>\n",
       "      <td>120</td>\n",
       "      <td>other</td>\n",
       "      <td>negative</td>\n",
       "    </tr>\n",
       "    <tr>\n",
       "      <th>3</th>\n",
       "      <td>70</td>\n",
       "      <td>F</td>\n",
       "      <td>t</td>\n",
       "      <td>f</td>\n",
       "      <td>f</td>\n",
       "      <td>f</td>\n",
       "      <td>f</td>\n",
       "      <td>f</td>\n",
       "      <td>f</td>\n",
       "      <td>f</td>\n",
       "      <td>...</td>\n",
       "      <td>t</td>\n",
       "      <td>1.9</td>\n",
       "      <td>t</td>\n",
       "      <td>175</td>\n",
       "      <td>f</td>\n",
       "      <td>?</td>\n",
       "      <td>f</td>\n",
       "      <td>?</td>\n",
       "      <td>other</td>\n",
       "      <td>negative</td>\n",
       "    </tr>\n",
       "    <tr>\n",
       "      <th>4</th>\n",
       "      <td>70</td>\n",
       "      <td>F</td>\n",
       "      <td>f</td>\n",
       "      <td>f</td>\n",
       "      <td>f</td>\n",
       "      <td>f</td>\n",
       "      <td>f</td>\n",
       "      <td>f</td>\n",
       "      <td>f</td>\n",
       "      <td>f</td>\n",
       "      <td>...</td>\n",
       "      <td>t</td>\n",
       "      <td>1.2</td>\n",
       "      <td>t</td>\n",
       "      <td>61</td>\n",
       "      <td>t</td>\n",
       "      <td>0.87</td>\n",
       "      <td>t</td>\n",
       "      <td>70</td>\n",
       "      <td>SVI</td>\n",
       "      <td>negative</td>\n",
       "    </tr>\n",
       "  </tbody>\n",
       "</table>\n",
       "<p>5 rows × 28 columns</p>\n",
       "</div>"
      ],
      "text/plain": [
       "  age sex on thyroxine query on thyroxine on antithyroid medication sick  \\\n",
       "0  41   F            f                  f                         f    f   \n",
       "1  23   F            f                  f                         f    f   \n",
       "2  46   M            f                  f                         f    f   \n",
       "3  70   F            t                  f                         f    f   \n",
       "4  70   F            f                  f                         f    f   \n",
       "\n",
       "  pregnant thyroid surgery I131 treatment query hypothyroid  ... T3 measured  \\\n",
       "0        f               f              f                 f  ...           t   \n",
       "1        f               f              f                 f  ...           t   \n",
       "2        f               f              f                 f  ...           f   \n",
       "3        f               f              f                 f  ...           t   \n",
       "4        f               f              f                 f  ...           t   \n",
       "\n",
       "    T3 TT4 measured  TT4 T4U measured   T4U FTI measured  FTI referral source  \\\n",
       "0  2.5            t  125            t  1.14            t  109            SVHC   \n",
       "1    2            t  102            f     ?            f    ?           other   \n",
       "2    ?            t  109            t  0.91            t  120           other   \n",
       "3  1.9            t  175            f     ?            f    ?           other   \n",
       "4  1.2            t   61            t  0.87            t   70             SVI   \n",
       "\n",
       "   category  \n",
       "0  negative  \n",
       "1  negative  \n",
       "2  negative  \n",
       "3  negative  \n",
       "4  negative  \n",
       "\n",
       "[5 rows x 28 columns]"
      ]
     },
     "execution_count": 12,
     "metadata": {},
     "output_type": "execute_result"
    }
   ],
   "source": [
    "thyroid_data.head(5)"
   ]
  },
  {
   "cell_type": "code",
   "execution_count": 13,
   "id": "86ab9b41",
   "metadata": {},
   "outputs": [
    {
     "data": {
      "text/plain": [
       "other    1795\n",
       "SVI       994\n",
       "SVHC      289\n",
       "STMW      106\n",
       "SVHD       37\n",
       "Name: referral source, dtype: int64"
      ]
     },
     "execution_count": 13,
     "metadata": {},
     "output_type": "execute_result"
    }
   ],
   "source": [
    "thyroid_data['referral source'].value_counts()"
   ]
  },
  {
   "cell_type": "code",
   "execution_count": 14,
   "id": "0bd5a16b",
   "metadata": {},
   "outputs": [
    {
     "data": {
      "text/plain": [
       "negative        2753\n",
       "hypothyroid      220\n",
       "sick             171\n",
       "hyperthyroid      77\n",
       "Name: category, dtype: int64"
      ]
     },
     "execution_count": 14,
     "metadata": {},
     "output_type": "execute_result"
    }
   ],
   "source": [
    "thyroid_data['category'].value_counts()"
   ]
  },
  {
   "cell_type": "code",
   "execution_count": 15,
   "id": "f45c51a4",
   "metadata": {},
   "outputs": [
    {
     "data": {
      "text/html": [
       "<div>\n",
       "<style scoped>\n",
       "    .dataframe tbody tr th:only-of-type {\n",
       "        vertical-align: middle;\n",
       "    }\n",
       "\n",
       "    .dataframe tbody tr th {\n",
       "        vertical-align: top;\n",
       "    }\n",
       "\n",
       "    .dataframe thead th {\n",
       "        text-align: right;\n",
       "    }\n",
       "</style>\n",
       "<table border=\"1\" class=\"dataframe\">\n",
       "  <thead>\n",
       "    <tr style=\"text-align: right;\">\n",
       "      <th></th>\n",
       "      <th>age</th>\n",
       "      <th>sex</th>\n",
       "      <th>on thyroxine</th>\n",
       "      <th>query on thyroxine</th>\n",
       "      <th>on antithyroid medication</th>\n",
       "      <th>sick</th>\n",
       "      <th>pregnant</th>\n",
       "      <th>thyroid surgery</th>\n",
       "      <th>I131 treatment</th>\n",
       "      <th>query hypothyroid</th>\n",
       "      <th>...</th>\n",
       "      <th>T3 measured</th>\n",
       "      <th>T3</th>\n",
       "      <th>TT4 measured</th>\n",
       "      <th>TT4</th>\n",
       "      <th>T4U measured</th>\n",
       "      <th>T4U</th>\n",
       "      <th>FTI measured</th>\n",
       "      <th>FTI</th>\n",
       "      <th>referral source</th>\n",
       "      <th>category</th>\n",
       "    </tr>\n",
       "  </thead>\n",
       "  <tbody>\n",
       "    <tr>\n",
       "      <th>count</th>\n",
       "      <td>3221</td>\n",
       "      <td>3221</td>\n",
       "      <td>3221</td>\n",
       "      <td>3221</td>\n",
       "      <td>3221</td>\n",
       "      <td>3221</td>\n",
       "      <td>3221</td>\n",
       "      <td>3221</td>\n",
       "      <td>3221</td>\n",
       "      <td>3221</td>\n",
       "      <td>...</td>\n",
       "      <td>3221</td>\n",
       "      <td>3221</td>\n",
       "      <td>3221</td>\n",
       "      <td>3221</td>\n",
       "      <td>3221</td>\n",
       "      <td>3221</td>\n",
       "      <td>3221</td>\n",
       "      <td>3221</td>\n",
       "      <td>3221</td>\n",
       "      <td>3221</td>\n",
       "    </tr>\n",
       "    <tr>\n",
       "      <th>unique</th>\n",
       "      <td>94</td>\n",
       "      <td>3</td>\n",
       "      <td>2</td>\n",
       "      <td>2</td>\n",
       "      <td>2</td>\n",
       "      <td>2</td>\n",
       "      <td>2</td>\n",
       "      <td>2</td>\n",
       "      <td>2</td>\n",
       "      <td>2</td>\n",
       "      <td>...</td>\n",
       "      <td>2</td>\n",
       "      <td>65</td>\n",
       "      <td>2</td>\n",
       "      <td>218</td>\n",
       "      <td>2</td>\n",
       "      <td>139</td>\n",
       "      <td>2</td>\n",
       "      <td>210</td>\n",
       "      <td>5</td>\n",
       "      <td>4</td>\n",
       "    </tr>\n",
       "    <tr>\n",
       "      <th>top</th>\n",
       "      <td>59</td>\n",
       "      <td>F</td>\n",
       "      <td>f</td>\n",
       "      <td>f</td>\n",
       "      <td>f</td>\n",
       "      <td>f</td>\n",
       "      <td>f</td>\n",
       "      <td>f</td>\n",
       "      <td>f</td>\n",
       "      <td>f</td>\n",
       "      <td>...</td>\n",
       "      <td>t</td>\n",
       "      <td>?</td>\n",
       "      <td>t</td>\n",
       "      <td>?</td>\n",
       "      <td>t</td>\n",
       "      <td>?</td>\n",
       "      <td>t</td>\n",
       "      <td>?</td>\n",
       "      <td>other</td>\n",
       "      <td>negative</td>\n",
       "    </tr>\n",
       "    <tr>\n",
       "      <th>freq</th>\n",
       "      <td>91</td>\n",
       "      <td>2108</td>\n",
       "      <td>2878</td>\n",
       "      <td>3173</td>\n",
       "      <td>3186</td>\n",
       "      <td>3080</td>\n",
       "      <td>3175</td>\n",
       "      <td>3180</td>\n",
       "      <td>3165</td>\n",
       "      <td>3010</td>\n",
       "      <td>...</td>\n",
       "      <td>2632</td>\n",
       "      <td>589</td>\n",
       "      <td>3079</td>\n",
       "      <td>142</td>\n",
       "      <td>2945</td>\n",
       "      <td>276</td>\n",
       "      <td>2947</td>\n",
       "      <td>274</td>\n",
       "      <td>1795</td>\n",
       "      <td>2753</td>\n",
       "    </tr>\n",
       "  </tbody>\n",
       "</table>\n",
       "<p>4 rows × 28 columns</p>\n",
       "</div>"
      ],
      "text/plain": [
       "         age   sex on thyroxine query on thyroxine on antithyroid medication  \\\n",
       "count   3221  3221         3221               3221                      3221   \n",
       "unique    94     3            2                  2                         2   \n",
       "top       59     F            f                  f                         f   \n",
       "freq      91  2108         2878               3173                      3186   \n",
       "\n",
       "        sick pregnant thyroid surgery I131 treatment query hypothyroid  ...  \\\n",
       "count   3221     3221            3221           3221              3221  ...   \n",
       "unique     2        2               2              2                 2  ...   \n",
       "top        f        f               f              f                 f  ...   \n",
       "freq    3080     3175            3180           3165              3010  ...   \n",
       "\n",
       "       T3 measured    T3 TT4 measured   TT4 T4U measured   T4U FTI measured  \\\n",
       "count         3221  3221         3221  3221         3221  3221         3221   \n",
       "unique           2    65            2   218            2   139            2   \n",
       "top              t     ?            t     ?            t     ?            t   \n",
       "freq          2632   589         3079   142         2945   276         2947   \n",
       "\n",
       "         FTI referral source  category  \n",
       "count   3221            3221      3221  \n",
       "unique   210               5         4  \n",
       "top        ?           other  negative  \n",
       "freq     274            1795      2753  \n",
       "\n",
       "[4 rows x 28 columns]"
      ]
     },
     "execution_count": 15,
     "metadata": {},
     "output_type": "execute_result"
    }
   ],
   "source": [
    "thyroid_data.describe()"
   ]
  },
  {
   "cell_type": "code",
   "execution_count": 16,
   "id": "8ec3e314",
   "metadata": {},
   "outputs": [
    {
     "name": "stdout",
     "output_type": "stream",
     "text": [
      "age 1\n",
      "sex 127\n",
      "TSH 247\n",
      "T3 589\n",
      "TT4 142\n",
      "T4U 276\n",
      "FTI 274\n"
     ]
    }
   ],
   "source": [
    "#replace the '?' values with numpy nan\n",
    "for column in thyroid_data.columns:\n",
    "    count=thyroid_data[column][thyroid_data[column]=='?'].count()\n",
    "    if count != 0:\n",
    "        print(column,thyroid_data[column][thyroid_data[column]=='?'].count())"
   ]
  },
  {
   "cell_type": "code",
   "execution_count": 17,
   "id": "b9ed3f9b",
   "metadata": {},
   "outputs": [],
   "source": [
    "for column in thyroid_data.columns:\n",
    "    count=thyroid_data[column][thyroid_data[column]== '?'].count()\n",
    "    if count!=0:\n",
    "        thyroid_data[column]=thyroid_data[column].replace('?',np.nan)"
   ]
  },
  {
   "cell_type": "code",
   "execution_count": 18,
   "id": "dc670082",
   "metadata": {},
   "outputs": [
    {
     "name": "stdout",
     "output_type": "stream",
     "text": [
      "age 0\n",
      "sex 0\n",
      "on thyroxine 0\n",
      "query on thyroxine 0\n",
      "on antithyroid medication 0\n",
      "sick 0\n",
      "pregnant 0\n",
      "thyroid surgery 0\n",
      "I131 treatment 0\n",
      "query hypothyroid 0\n",
      "query hyperthyroid 0\n",
      "lithium 0\n",
      "goitre 0\n",
      "tumor 0\n",
      "hypopituitary 0\n",
      "psych 0\n",
      "TSH measured 0\n",
      "TSH 0\n",
      "T3 measured 0\n",
      "T3 0\n",
      "TT4 measured 0\n",
      "TT4 0\n",
      "T4U measured 0\n",
      "T4U 0\n",
      "FTI measured 0\n",
      "FTI 0\n",
      "referral source 0\n",
      "category 0\n"
     ]
    }
   ],
   "source": [
    "for column in thyroid_data.columns:\n",
    "    count=thyroid_data[column][thyroid_data[column]=='?'].count()\n",
    "    if count == 0:\n",
    "        print(column,thyroid_data[column][thyroid_data[column]=='?'].count())"
   ]
  },
  {
   "cell_type": "code",
   "execution_count": 19,
   "id": "caea0cc6",
   "metadata": {},
   "outputs": [
    {
     "name": "stdout",
     "output_type": "stream",
     "text": [
      "age ['41' '23' '46' '70' '18' '59' '80' '66' '68' '84' '67' '71' '28' '65'\n",
      " '42' '63' '51' '81' '54' '55' '60' '25' '73' '34' '78' '37' '85' '26'\n",
      " '58' '64' '44' '48' '61' '35' '83' '21' '87' '53' '77' '27' '69' '74'\n",
      " '38' '76' '45' '36' '22' '43' '72' '82' '31' '39' '49' '62' '57' '1' '50'\n",
      " '30' '29' '75' '19' '7' '79' '17' '24' '15' '32' '47' '16' '52' '33' '13'\n",
      " '10' '89' '56' '20' '90' '40' '88' '14' '86' '94' '12' '4' '11' '8' '5'\n",
      " '455' '2' '91' '6' nan '93' '92']\n",
      "sex ['F' 'M' nan]\n",
      "on thyroxine ['f' 't']\n",
      "query on thyroxine ['f' 't']\n",
      "on antithyroid medication ['f' 't']\n",
      "sick ['f' 't']\n",
      "pregnant ['f' 't']\n",
      "thyroid surgery ['f' 't']\n",
      "I131 treatment ['f' 't']\n",
      "query hypothyroid ['f' 't']\n",
      "query hyperthyroid ['f' 't']\n",
      "lithium ['f' 't']\n",
      "goitre ['f' 't']\n",
      "tumor ['f' 't']\n",
      "hypopituitary ['f' 't']\n",
      "psych ['f' 't']\n",
      "TSH measured ['t' 'f']\n",
      "TSH ['1.3' '4.1' '0.98' '0.16' '0.72' '0.03' nan '2.2' '0.6' '2.4' '1.1' '2.8'\n",
      " '3.3' '12' '1.2' '1.5' '6' '2.1' '0.1' '0.8' '1.9' '3.1' '0.2' '13' '0.3'\n",
      " '0.035' '2.5' '0.5' '1.7' '7.3' '1.8' '0.26' '45' '5.4' '0.99' '0.25'\n",
      " '0.92' '0.15' '0.64' '1' '0.4' '2' '2.6' '14.8' '15' '19' '0.02' '3'\n",
      " '2.9' '3.2' '9' '1.6' '4.3' '0.005' '0.31' '0.61' '0.05' '7.8' '160'\n",
      " '0.025' '1.4' '0.01' '8.8' '151' '0.04' '3.9' '9.4' '2.7' '2.3' '0.94'\n",
      " '0.045' '3.5' '0.88' '0.08' '4.5' '0.68' '0.7' '0.67' '27' '6.1' '0.75'\n",
      " '0.55' '26' '5.2' '0.77' '0.07' '0.9' '11.4' '143' '0.45' '0.57' '0.65'\n",
      " '0.015' '16' '108' '0.83' '9.2' '86' '0.62' '0.59' '9.1' '5.9' '52'\n",
      " '0.33' '31' '5.8' '0.28' '51' '6.3' '4.4' '9.6' '3.4' '0.09' '24' '0.76'\n",
      " '42' '25' '10' '4.6' '8.6' '0.66' '6.2' '0.79' '28' '0.86' '9.7' '0.84'\n",
      " '17' '18' '55' '14' '3.7' '0.87' '6.7' '0.74' '7.6' '0.065' '0.29' '0.37'\n",
      " '8' '11' '0.48' '44' '7.9' '5' '7.2' '0.89' '0.93' '0.97' '0.12' '6.4'\n",
      " '33' '0.85' '7.1' '0.73' '199' '8.2' '188' '0.22' '98' '22' '6.6' '5.1'\n",
      " '0.06' '0.42' '3.8' '35' '4' '0.78' '0.63' '0.52' '60' '0.43' '5.6' '6.9'\n",
      " '3.6' '29' '0.38' '4.9' '0.41' '9.9' '7.5' '34' '6.5' '4.7' '103' '0.95'\n",
      " '0.14' '0.35' '4.2' '0.81' '0.54' '0.58' '8.9' '5.5' '0.34' '9.3' '0.13'\n",
      " '54' '0.39' '8.3' '478' '21' '6.8' '0.32' '0.23' '0.24' '8.1' '0.91'\n",
      " '5.3' '100' '0.27' '1.01' '58' '41' '183' '18.4' '0.47' '0.17' '12.1'\n",
      " '0.19' '0.82' '43' '0.44' '70' '7.7' '8.4' '0.69' '8.5' '0.21' '82'\n",
      " '0.055' '0.96' '0.71' '38' '0.36' '9.8' '7' '0.46' '11.1' '39' '76' '5.7'\n",
      " '32' '126' '26.4' '0.53' '0.49' '36' '178' '145' '47' '4.8' '10.3' '89'\n",
      " '7.4' '472' '0.51' '116' '61' '99' '46' '78' '468']\n",
      "T3 measured ['t' 'f']\n",
      "T3 ['2.5' '2' nan '1.9' '1.2' '0.6' '2.2' '1.6' '3.8' '1.7' '1.8' '2.6' '2.1'\n",
      " '0.3' '5.5' '1.4' '3.1' '1.5' '2.3' '2.4' '2.7' '0.9' '1' '2.8' '2.9'\n",
      " '0.8' '1.3' '0.4' '3.3' '3.5' '3.4' '1.1' '4.2' '3.7' '3' '0.7' '4.8'\n",
      " '4.3' '0.05' '3.2' '5.4' '4' '0.5' '0.2' '3.6' '5.2' '5' '6' '5.3' '3.9'\n",
      " '4.6' '4.5' '7.3' '4.7' '6.7' '4.1' '6.1' '0.1' '4.9' '10.6' '5.1' '7'\n",
      " '6.2' '4.4' '7.1']\n",
      "TT4 measured ['t' 'f']\n",
      "TT4 ['125' '102' '109' '175' '61' '183' '72' '80' '123' '83' '115' '152' '171'\n",
      " '97' '99' '70' '117' '121' '130' '108' '104' '134' '199' '57' '129' '113'\n",
      " '119' '84' '81' '95' '66' '101' '147' '120' '69' nan '39' '87' '63' '133'\n",
      " '86' '163' '162' '103' '96' '151' '112' '82' '138' '71' '77' '93' '107'\n",
      " '237' '110' '67' '88' '160' '118' '136' '114' '116' '94' '161' '11' '32'\n",
      " '124' '137' '92' '135' '105' '150' '126' '146' '91' '217' '141' '159'\n",
      " '122' '100' '111' '140' '205' '225' '85' '90' '74' '219' '127' '132'\n",
      " '128' '106' '144' '131' '56' '79' '142' '98' '177' '139' '78' '189' '180'\n",
      " '73' '145' '184' '38' '156' '75' '148' '14' '76' '54' '58' '27' '65'\n",
      " '193' '13' '143' '12' '64' '257' '164' '59' '167' '18' '41' '176' '37'\n",
      " '33' '44' '45' '154' '174' '203' '244' '62' '158' '60' '187' '250' '181'\n",
      " '157' '223' '272' '166' '213' '235' '10' '68' '231' '191' '48' '5.8'\n",
      " '169' '149' '210' '40' '155' '232' '42' '204' '430' '198' '230' '15'\n",
      " '170' '165' '47' '168' '194' '89' '52' '179' '192' '172' '4.8' '50' '182'\n",
      " '197' '214' '246' '196' '207' '19' '153' '22' '46' '200' '35' '226' '201'\n",
      " '233' '206' '31' '255' '178' '239' '195' '6' '36' '2' '3' '289' '240'\n",
      " '209' '43' '34' '252' '29' '263' '301' '23' '188' '211' '253' '21' '173']\n",
      "T4U measured ['t' 'f']\n",
      "T4U ['1.14' nan '0.91' '0.87' '1.3' '0.92' '0.7' '0.93' '0.89' '0.95' '0.99'\n",
      " '1.13' '0.86' '0.96' '0.94' '0.9' '1.02' '1.05' '0.62' '1.06' '1.55'\n",
      " '0.83' '1.09' '1.07' '1.27' '0.76' '1.16' '1' '0.56' '0.81' '0.68' '0.78'\n",
      " '0.85' '1.35' '1.15' '0.82' '1.03' '1.58' '0.79' '1.17' '0.71' '0.72'\n",
      " '0.88' '1.11' '1.2' '1.1' '1.33' '0.77' '1.24' '0.53' '1.44' '1.63'\n",
      " '1.51' '1.42' '1.23' '1.01' '0.98' '0.61' '1.12' '1.43' '1.25' '1.41'\n",
      " '1.68' '0.97' '0.84' '0.8' '1.04' '0.73' '1.08' '1.26' '1.46' '1.29'\n",
      " '1.34' '1.66' '1.21' '1.19' '0.75' '0.52' '1.83' '1.39' '1.5' '1.93'\n",
      " '1.18' '0.74' '0.58' '1.82' '0.6' '1.67' '1.22' '0.66' '0.67' '1.31'\n",
      " '0.54' '1.77' '1.59' '1.97' '1.69' '1.38' '1.28' '1.4' '0.69' '0.65'\n",
      " '1.74' '2.03' '1.73' '1.65' '1.36' '1.52' '0.57' '1.53' '1.84' '1.57'\n",
      " '1.75' '1.32' '1.37' '0.64' '1.79' '1.8' '0.48' '1.71' '1.62' '1.76'\n",
      " '1.56' '1.48' '0.59' '0.31' '1.94' '2.12' '1.47' '0.63' '0.944' '0.49'\n",
      " '1.88' '0.5' '0.38' '1.49' '0.41' '1.61' '1.7']\n",
      "FTI measured ['t' 'f']\n",
      "FTI ['109' nan '120' '70' '141' '78' '115' '132' '93' '121' '153' '151' '107'\n",
      " '119' '87' '81' '104' '130' '106' '116' '131' '190' '92' '102' '76' '98'\n",
      " '90' '61' '94' '129' '95' '91' '33' '113' '148' '140' '171' '155' '186'\n",
      " '122' '136' '110' '111' '97' '72' '100' '88' '67' '84' '103' '135' '203'\n",
      " '112' '117' '180' '142' '145' '156' '96' '134' '8.9' '60' '139' '41' '99'\n",
      " '89' '146' '124' '105' '85' '157' '143' '71' '221' '28' '108' '137' '83'\n",
      " '74' '170' '65' '101' '127' '274' '154' '114' '62' '86' '126' '125' '64'\n",
      " '172' '162' '79' '118' '73' '152' '163' '149' '14' '51' '165' '77' '32'\n",
      " '69' '80' '11' '54' '164' '123' '144' '10' '214' '200' '160' '53' '16'\n",
      " '138' '169' '56' '47' '133' '43' '68' '179' '224' '220' '82' '362' '182'\n",
      " '75' '66' '161' '57' '58' '312' '63' '128' '147' '158' '281' '207' '216'\n",
      " '251' '194' '46' '7' '42' '174' '395' '185' '13' '201' '48' '173' '167'\n",
      " '188' '150' '235' '175' '159' '5.4' '189' '59' '166' '34' '228' '232'\n",
      " '217' '177' '176' '195' '219' '17' '210' '168' '205' '39' '187' '50'\n",
      " '349' '52' '206' '253' '242' '244' '213' '178' '247' '215' '198' '19'\n",
      " '237' '37' '7.6' '24' '2' '3' '191' '223' '9' '29' '222' '204' '26' '218'\n",
      " '197' '49' '209' '183']\n",
      "referral source ['SVHC' 'other' 'SVI' 'STMW' 'SVHD']\n",
      "category ['negative' 'hyperthyroid' 'hypothyroid' 'sick']\n"
     ]
    }
   ],
   "source": [
    "##  Unique Values\n",
    "for column in thyroid_data.columns:\n",
    "    print(column,(thyroid_data[column].unique()))"
   ]
  },
  {
   "cell_type": "code",
   "execution_count": 20,
   "id": "993471d3",
   "metadata": {},
   "outputs": [],
   "source": [
    "thyroid_data['age'].fillna((thyroid_data['age'].median()), inplace = True)\n",
    "thyroid_data['TSH'].fillna((thyroid_data['TSH'].median()), inplace = True)\n",
    "thyroid_data['T3'].fillna((thyroid_data['T3'].median()), inplace = True)\n",
    "thyroid_data['TT4'].fillna((thyroid_data['TT4'].median()), inplace = True)\n",
    "thyroid_data['T4U'].fillna((thyroid_data['T4U'].median()), inplace = True)\n",
    "thyroid_data['FTI'].fillna((thyroid_data['FTI'].median()), inplace = True)"
   ]
  },
  {
   "cell_type": "code",
   "execution_count": 21,
   "id": "790d378e",
   "metadata": {},
   "outputs": [],
   "source": [
    "## Impute nan value of sex column\n",
    "thyroid_data['sex_Var']=np.where(thyroid_data['sex'].isnull(),1,0)\n",
    "frequent=thyroid_data['sex'].mode()[0]\n",
    "thyroid_data['sex'].fillna(frequent,inplace=True)"
   ]
  },
  {
   "cell_type": "code",
   "execution_count": 22,
   "id": "f24073d0",
   "metadata": {},
   "outputs": [],
   "source": [
    "thyroid_data.drop(['sex_Var'],axis=1,inplace=True)"
   ]
  },
  {
   "cell_type": "code",
   "execution_count": 23,
   "id": "be32134d",
   "metadata": {},
   "outputs": [
    {
     "name": "stdout",
     "output_type": "stream",
     "text": [
      "age ['41' '23' '46' '70' '18' '59' '80' '66' '68' '84' '67' '71' '28' '65'\n",
      " '42' '63' '51' '81' '54' '55' '60' '25' '73' '34' '78' '37' '85' '26'\n",
      " '58' '64' '44' '48' '61' '35' '83' '21' '87' '53' '77' '27' '69' '74'\n",
      " '38' '76' '45' '36' '22' '43' '72' '82' '31' '39' '49' '62' '57' '1' '50'\n",
      " '30' '29' '75' '19' '7' '79' '17' '24' '15' '32' '47' '16' '52' '33' '13'\n",
      " '10' '89' '56' '20' '90' '40' '88' '14' '86' '94' '12' '4' '11' '8' '5'\n",
      " '455' '2' '91' '6' 55.0 '93' '92']\n",
      "sex ['F' 'M']\n",
      "on thyroxine ['f' 't']\n",
      "query on thyroxine ['f' 't']\n",
      "on antithyroid medication ['f' 't']\n",
      "sick ['f' 't']\n",
      "pregnant ['f' 't']\n",
      "thyroid surgery ['f' 't']\n",
      "I131 treatment ['f' 't']\n",
      "query hypothyroid ['f' 't']\n",
      "query hyperthyroid ['f' 't']\n",
      "lithium ['f' 't']\n",
      "goitre ['f' 't']\n",
      "tumor ['f' 't']\n",
      "hypopituitary ['f' 't']\n",
      "psych ['f' 't']\n",
      "TSH measured ['t' 'f']\n",
      "TSH ['1.3' '4.1' '0.98' '0.16' '0.72' '0.03' 1.5 '2.2' '0.6' '2.4' '1.1' '2.8'\n",
      " '3.3' '12' '1.2' '1.5' '6' '2.1' '0.1' '0.8' '1.9' '3.1' '0.2' '13' '0.3'\n",
      " '0.035' '2.5' '0.5' '1.7' '7.3' '1.8' '0.26' '45' '5.4' '0.99' '0.25'\n",
      " '0.92' '0.15' '0.64' '1' '0.4' '2' '2.6' '14.8' '15' '19' '0.02' '3'\n",
      " '2.9' '3.2' '9' '1.6' '4.3' '0.005' '0.31' '0.61' '0.05' '7.8' '160'\n",
      " '0.025' '1.4' '0.01' '8.8' '151' '0.04' '3.9' '9.4' '2.7' '2.3' '0.94'\n",
      " '0.045' '3.5' '0.88' '0.08' '4.5' '0.68' '0.7' '0.67' '27' '6.1' '0.75'\n",
      " '0.55' '26' '5.2' '0.77' '0.07' '0.9' '11.4' '143' '0.45' '0.57' '0.65'\n",
      " '0.015' '16' '108' '0.83' '9.2' '86' '0.62' '0.59' '9.1' '5.9' '52'\n",
      " '0.33' '31' '5.8' '0.28' '51' '6.3' '4.4' '9.6' '3.4' '0.09' '24' '0.76'\n",
      " '42' '25' '10' '4.6' '8.6' '0.66' '6.2' '0.79' '28' '0.86' '9.7' '0.84'\n",
      " '17' '18' '55' '14' '3.7' '0.87' '6.7' '0.74' '7.6' '0.065' '0.29' '0.37'\n",
      " '8' '11' '0.48' '44' '7.9' '5' '7.2' '0.89' '0.93' '0.97' '0.12' '6.4'\n",
      " '33' '0.85' '7.1' '0.73' '199' '8.2' '188' '0.22' '98' '22' '6.6' '5.1'\n",
      " '0.06' '0.42' '3.8' '35' '4' '0.78' '0.63' '0.52' '60' '0.43' '5.6' '6.9'\n",
      " '3.6' '29' '0.38' '4.9' '0.41' '9.9' '7.5' '34' '6.5' '4.7' '103' '0.95'\n",
      " '0.14' '0.35' '4.2' '0.81' '0.54' '0.58' '8.9' '5.5' '0.34' '9.3' '0.13'\n",
      " '54' '0.39' '8.3' '478' '21' '6.8' '0.32' '0.23' '0.24' '8.1' '0.91'\n",
      " '5.3' '100' '0.27' '1.01' '58' '41' '183' '18.4' '0.47' '0.17' '12.1'\n",
      " '0.19' '0.82' '43' '0.44' '70' '7.7' '8.4' '0.69' '8.5' '0.21' '82'\n",
      " '0.055' '0.96' '0.71' '38' '0.36' '9.8' '7' '0.46' '11.1' '39' '76' '5.7'\n",
      " '32' '126' '26.4' '0.53' '0.49' '36' '178' '145' '47' '4.8' '10.3' '89'\n",
      " '7.4' '472' '0.51' '116' '61' '99' '46' '78' '468']\n",
      "T3 measured ['t' 'f']\n",
      "T3 ['2.5' '2' 1.9 '1.9' '1.2' '0.6' '2.2' '1.6' '3.8' '1.7' '1.8' '2.6' '2.1'\n",
      " '0.3' '5.5' '1.4' '3.1' '1.5' '2.3' '2.4' '2.7' '0.9' '1' '2.8' '2.9'\n",
      " '0.8' '1.3' '0.4' '3.3' '3.5' '3.4' '1.1' '4.2' '3.7' '3' '0.7' '4.8'\n",
      " '4.3' '0.05' '3.2' '5.4' '4' '0.5' '0.2' '3.6' '5.2' '5' '6' '5.3' '3.9'\n",
      " '4.6' '4.5' '7.3' '4.7' '6.7' '4.1' '6.1' '0.1' '4.9' '10.6' '5.1' '7'\n",
      " '6.2' '4.4' '7.1']\n",
      "TT4 measured ['t' 'f']\n",
      "TT4 ['125' '102' '109' '175' '61' '183' '72' '80' '123' '83' '115' '152' '171'\n",
      " '97' '99' '70' '117' '121' '130' '108' '104' '134' '199' '57' '129' '113'\n",
      " '119' '84' '81' '95' '66' '101' '147' '120' '69' 102.0 '39' '87' '63'\n",
      " '133' '86' '163' '162' '103' '96' '151' '112' '82' '138' '71' '77' '93'\n",
      " '107' '237' '110' '67' '88' '160' '118' '136' '114' '116' '94' '161' '11'\n",
      " '32' '124' '137' '92' '135' '105' '150' '126' '146' '91' '217' '141'\n",
      " '159' '122' '100' '111' '140' '205' '225' '85' '90' '74' '219' '127'\n",
      " '132' '128' '106' '144' '131' '56' '79' '142' '98' '177' '139' '78' '189'\n",
      " '180' '73' '145' '184' '38' '156' '75' '148' '14' '76' '54' '58' '27'\n",
      " '65' '193' '13' '143' '12' '64' '257' '164' '59' '167' '18' '41' '176'\n",
      " '37' '33' '44' '45' '154' '174' '203' '244' '62' '158' '60' '187' '250'\n",
      " '181' '157' '223' '272' '166' '213' '235' '10' '68' '231' '191' '48'\n",
      " '5.8' '169' '149' '210' '40' '155' '232' '42' '204' '430' '198' '230'\n",
      " '15' '170' '165' '47' '168' '194' '89' '52' '179' '192' '172' '4.8' '50'\n",
      " '182' '197' '214' '246' '196' '207' '19' '153' '22' '46' '200' '35' '226'\n",
      " '201' '233' '206' '31' '255' '178' '239' '195' '6' '36' '2' '3' '289'\n",
      " '240' '209' '43' '34' '252' '29' '263' '301' '23' '188' '211' '253' '21'\n",
      " '173']\n",
      "T4U measured ['t' 'f']\n",
      "T4U ['1.14' 0.97 '0.91' '0.87' '1.3' '0.92' '0.7' '0.93' '0.89' '0.95' '0.99'\n",
      " '1.13' '0.86' '0.96' '0.94' '0.9' '1.02' '1.05' '0.62' '1.06' '1.55'\n",
      " '0.83' '1.09' '1.07' '1.27' '0.76' '1.16' '1' '0.56' '0.81' '0.68' '0.78'\n",
      " '0.85' '1.35' '1.15' '0.82' '1.03' '1.58' '0.79' '1.17' '0.71' '0.72'\n",
      " '0.88' '1.11' '1.2' '1.1' '1.33' '0.77' '1.24' '0.53' '1.44' '1.63'\n",
      " '1.51' '1.42' '1.23' '1.01' '0.98' '0.61' '1.12' '1.43' '1.25' '1.41'\n",
      " '1.68' '0.97' '0.84' '0.8' '1.04' '0.73' '1.08' '1.26' '1.46' '1.29'\n",
      " '1.34' '1.66' '1.21' '1.19' '0.75' '0.52' '1.83' '1.39' '1.5' '1.93'\n",
      " '1.18' '0.74' '0.58' '1.82' '0.6' '1.67' '1.22' '0.66' '0.67' '1.31'\n",
      " '0.54' '1.77' '1.59' '1.97' '1.69' '1.38' '1.28' '1.4' '0.69' '0.65'\n",
      " '1.74' '2.03' '1.73' '1.65' '1.36' '1.52' '0.57' '1.53' '1.84' '1.57'\n",
      " '1.75' '1.32' '1.37' '0.64' '1.79' '1.8' '0.48' '1.71' '1.62' '1.76'\n",
      " '1.56' '1.48' '0.59' '0.31' '1.94' '2.12' '1.47' '0.63' '0.944' '0.49'\n",
      " '1.88' '0.5' '0.38' '1.49' '0.41' '1.61' '1.7']\n",
      "FTI measured ['t' 'f']\n",
      "FTI ['109' 106.0 '120' '70' '141' '78' '115' '132' '93' '121' '153' '151'\n",
      " '107' '119' '87' '81' '104' '130' '106' '116' '131' '190' '92' '102' '76'\n",
      " '98' '90' '61' '94' '129' '95' '91' '33' '113' '148' '140' '171' '155'\n",
      " '186' '122' '136' '110' '111' '97' '72' '100' '88' '67' '84' '103' '135'\n",
      " '203' '112' '117' '180' '142' '145' '156' '96' '134' '8.9' '60' '139'\n",
      " '41' '99' '89' '146' '124' '105' '85' '157' '143' '71' '221' '28' '108'\n",
      " '137' '83' '74' '170' '65' '101' '127' '274' '154' '114' '62' '86' '126'\n",
      " '125' '64' '172' '162' '79' '118' '73' '152' '163' '149' '14' '51' '165'\n",
      " '77' '32' '69' '80' '11' '54' '164' '123' '144' '10' '214' '200' '160'\n",
      " '53' '16' '138' '169' '56' '47' '133' '43' '68' '179' '224' '220' '82'\n",
      " '362' '182' '75' '66' '161' '57' '58' '312' '63' '128' '147' '158' '281'\n",
      " '207' '216' '251' '194' '46' '7' '42' '174' '395' '185' '13' '201' '48'\n",
      " '173' '167' '188' '150' '235' '175' '159' '5.4' '189' '59' '166' '34'\n",
      " '228' '232' '217' '177' '176' '195' '219' '17' '210' '168' '205' '39'\n",
      " '187' '50' '349' '52' '206' '253' '242' '244' '213' '178' '247' '215'\n",
      " '198' '19' '237' '37' '7.6' '24' '2' '3' '191' '223' '9' '29' '222' '204'\n",
      " '26' '218' '197' '49' '209' '183']\n",
      "referral source ['SVHC' 'other' 'SVI' 'STMW' 'SVHD']\n",
      "category ['negative' 'hyperthyroid' 'hypothyroid' 'sick']\n"
     ]
    }
   ],
   "source": [
    "##  Unique Values\n",
    "for column in thyroid_data.columns:\n",
    "    print(column,(thyroid_data[column].unique()))"
   ]
  },
  {
   "cell_type": "code",
   "execution_count": 24,
   "id": "ac70a803",
   "metadata": {},
   "outputs": [],
   "source": [
    "# A quick fix needed\n",
    "thyroid_data.loc[thyroid_data['age'] == '455', 'age'] = '45'"
   ]
  },
  {
   "cell_type": "code",
   "execution_count": 25,
   "id": "d6cfebe4",
   "metadata": {},
   "outputs": [
    {
     "data": {
      "text/plain": [
       "age                          object\n",
       "sex                          object\n",
       "on thyroxine                 object\n",
       "query on thyroxine           object\n",
       "on antithyroid medication    object\n",
       "sick                         object\n",
       "pregnant                     object\n",
       "thyroid surgery              object\n",
       "I131 treatment               object\n",
       "query hypothyroid            object\n",
       "query hyperthyroid           object\n",
       "lithium                      object\n",
       "goitre                       object\n",
       "tumor                        object\n",
       "hypopituitary                object\n",
       "psych                        object\n",
       "TSH measured                 object\n",
       "TSH                          object\n",
       "T3 measured                  object\n",
       "T3                           object\n",
       "TT4 measured                 object\n",
       "TT4                          object\n",
       "T4U measured                 object\n",
       "T4U                          object\n",
       "FTI measured                 object\n",
       "FTI                          object\n",
       "referral source              object\n",
       "category                     object\n",
       "dtype: object"
      ]
     },
     "execution_count": 25,
     "metadata": {},
     "output_type": "execute_result"
    }
   ],
   "source": [
    "thyroid_data.dtypes"
   ]
  },
  {
   "cell_type": "code",
   "execution_count": 26,
   "id": "1add2c66",
   "metadata": {},
   "outputs": [],
   "source": [
    "from sklearn.preprocessing import LabelEncoder\n",
    "le = LabelEncoder()"
   ]
  },
  {
   "cell_type": "code",
   "execution_count": 27,
   "id": "193c3cdc",
   "metadata": {},
   "outputs": [],
   "source": [
    "thyroid_data['age']=pd.to_numeric(thyroid_data[\"age\"])"
   ]
  },
  {
   "cell_type": "code",
   "execution_count": 28,
   "id": "512d7e20",
   "metadata": {},
   "outputs": [],
   "source": [
    "thyroid_data['sex'] = le.fit_transform(thyroid_data[\"sex\"])"
   ]
  },
  {
   "cell_type": "code",
   "execution_count": 29,
   "id": "f66b281e",
   "metadata": {},
   "outputs": [],
   "source": [
    "thyroid_data['on thyroxine'] = le.fit_transform(thyroid_data[\"on thyroxine\"])"
   ]
  },
  {
   "cell_type": "code",
   "execution_count": 30,
   "id": "aa2d5db6",
   "metadata": {},
   "outputs": [],
   "source": [
    "thyroid_data['query on thyroxine'] = le.fit_transform(thyroid_data[\"query on thyroxine\"])"
   ]
  },
  {
   "cell_type": "code",
   "execution_count": 31,
   "id": "57c2d425",
   "metadata": {},
   "outputs": [],
   "source": [
    "thyroid_data['on antithyroid medication'] = le.fit_transform(thyroid_data[\"on antithyroid medication\"])"
   ]
  },
  {
   "cell_type": "code",
   "execution_count": 32,
   "id": "70e8838f",
   "metadata": {},
   "outputs": [],
   "source": [
    "thyroid_data['sick'] = le.fit_transform(thyroid_data[\"sick\"])"
   ]
  },
  {
   "cell_type": "code",
   "execution_count": 33,
   "id": "efef429e",
   "metadata": {},
   "outputs": [],
   "source": [
    "thyroid_data['pregnant'] = le.fit_transform(thyroid_data[\"pregnant\"])"
   ]
  },
  {
   "cell_type": "code",
   "execution_count": 34,
   "id": "f53f5977",
   "metadata": {},
   "outputs": [],
   "source": [
    "thyroid_data['thyroid surgery'] = le.fit_transform(thyroid_data[\"thyroid surgery\"])"
   ]
  },
  {
   "cell_type": "code",
   "execution_count": 35,
   "id": "8090d8d1",
   "metadata": {},
   "outputs": [],
   "source": [
    "thyroid_data['I131 treatment'] = le.fit_transform(thyroid_data[\"I131 treatment\"])"
   ]
  },
  {
   "cell_type": "code",
   "execution_count": 36,
   "id": "e1e5fc9e",
   "metadata": {},
   "outputs": [],
   "source": [
    "thyroid_data['query hypothyroid'] = le.fit_transform(thyroid_data[\"query hypothyroid\"])"
   ]
  },
  {
   "cell_type": "code",
   "execution_count": 37,
   "id": "67ebcf4c",
   "metadata": {},
   "outputs": [],
   "source": [
    "thyroid_data['query hyperthyroid'] = le.fit_transform(thyroid_data[\"query hyperthyroid\"])"
   ]
  },
  {
   "cell_type": "code",
   "execution_count": 38,
   "id": "2455c62b",
   "metadata": {},
   "outputs": [],
   "source": [
    "thyroid_data['lithium'] = le.fit_transform(thyroid_data[\"lithium\"])"
   ]
  },
  {
   "cell_type": "code",
   "execution_count": 39,
   "id": "c74aed87",
   "metadata": {},
   "outputs": [],
   "source": [
    "thyroid_data['goitre'] = le.fit_transform(thyroid_data[\"goitre\"])"
   ]
  },
  {
   "cell_type": "code",
   "execution_count": 40,
   "id": "1188899a",
   "metadata": {},
   "outputs": [],
   "source": [
    "thyroid_data['tumor'] = le.fit_transform(thyroid_data[\"tumor\"])"
   ]
  },
  {
   "cell_type": "code",
   "execution_count": 41,
   "id": "3eadc1b9",
   "metadata": {},
   "outputs": [],
   "source": [
    "thyroid_data['hypopituitary'] = le.fit_transform(thyroid_data[\"hypopituitary\"])"
   ]
  },
  {
   "cell_type": "code",
   "execution_count": 42,
   "id": "81494b77",
   "metadata": {},
   "outputs": [],
   "source": [
    "thyroid_data['psych'] = le.fit_transform(thyroid_data[\"psych\"])"
   ]
  },
  {
   "cell_type": "code",
   "execution_count": 43,
   "id": "d2a5ff30",
   "metadata": {},
   "outputs": [],
   "source": [
    "thyroid_data['TSH measured'] = le.fit_transform(thyroid_data[\"TSH measured\"])"
   ]
  },
  {
   "cell_type": "code",
   "execution_count": 44,
   "id": "8605abe5",
   "metadata": {},
   "outputs": [],
   "source": [
    "thyroid_data['TSH'] = pd.to_numeric(thyroid_data[\"TSH\"])"
   ]
  },
  {
   "cell_type": "code",
   "execution_count": 45,
   "id": "50cd1a99",
   "metadata": {},
   "outputs": [],
   "source": [
    "thyroid_data['T3 measured'] = le.fit_transform(thyroid_data[\"T3 measured\"])"
   ]
  },
  {
   "cell_type": "code",
   "execution_count": 46,
   "id": "82468bf6",
   "metadata": {},
   "outputs": [],
   "source": [
    "thyroid_data['T3'] = pd.to_numeric(thyroid_data[\"T3\"])"
   ]
  },
  {
   "cell_type": "code",
   "execution_count": 47,
   "id": "64f47f18",
   "metadata": {},
   "outputs": [],
   "source": [
    "thyroid_data['TT4 measured'] = le.fit_transform(thyroid_data[\"TT4 measured\"])"
   ]
  },
  {
   "cell_type": "code",
   "execution_count": 48,
   "id": "967ea210",
   "metadata": {},
   "outputs": [],
   "source": [
    "thyroid_data['TT4'] = pd.to_numeric(thyroid_data[\"TT4\"])"
   ]
  },
  {
   "cell_type": "code",
   "execution_count": 49,
   "id": "4aaa6d80",
   "metadata": {},
   "outputs": [],
   "source": [
    "thyroid_data['T4U measured'] = le.fit_transform(thyroid_data[\"T4U measured\"])"
   ]
  },
  {
   "cell_type": "code",
   "execution_count": 50,
   "id": "ada47a0f",
   "metadata": {},
   "outputs": [],
   "source": [
    "thyroid_data['T4U'] = pd.to_numeric(thyroid_data[\"T4U\"])"
   ]
  },
  {
   "cell_type": "code",
   "execution_count": 51,
   "id": "cbec804a",
   "metadata": {},
   "outputs": [],
   "source": [
    "thyroid_data['FTI measured'] = le.fit_transform(thyroid_data[\"FTI measured\"])"
   ]
  },
  {
   "cell_type": "code",
   "execution_count": 52,
   "id": "464a03a3",
   "metadata": {},
   "outputs": [],
   "source": [
    "thyroid_data['FTI'] = pd.to_numeric(thyroid_data[\"FTI\"])"
   ]
  },
  {
   "cell_type": "code",
   "execution_count": 53,
   "id": "5ffe6420",
   "metadata": {},
   "outputs": [],
   "source": [
    "thyroid_data['referral source'] = le.fit_transform(thyroid_data[\"referral source\"])"
   ]
  },
  {
   "cell_type": "code",
   "execution_count": 54,
   "id": "298aba54",
   "metadata": {},
   "outputs": [],
   "source": [
    "thyroid_data['category'] = le.fit_transform(thyroid_data[\"category\"])"
   ]
  },
  {
   "cell_type": "code",
   "execution_count": 55,
   "id": "f11aadad",
   "metadata": {},
   "outputs": [
    {
     "data": {
      "text/plain": [
       "age                          float64\n",
       "sex                            int32\n",
       "on thyroxine                   int32\n",
       "query on thyroxine             int32\n",
       "on antithyroid medication      int32\n",
       "sick                           int32\n",
       "pregnant                       int32\n",
       "thyroid surgery                int32\n",
       "I131 treatment                 int32\n",
       "query hypothyroid              int32\n",
       "query hyperthyroid             int32\n",
       "lithium                        int32\n",
       "goitre                         int32\n",
       "tumor                          int32\n",
       "hypopituitary                  int32\n",
       "psych                          int32\n",
       "TSH measured                   int32\n",
       "TSH                          float64\n",
       "T3 measured                    int32\n",
       "T3                           float64\n",
       "TT4 measured                   int32\n",
       "TT4                          float64\n",
       "T4U measured                   int32\n",
       "T4U                          float64\n",
       "FTI measured                   int32\n",
       "FTI                          float64\n",
       "referral source                int32\n",
       "category                       int32\n",
       "dtype: object"
      ]
     },
     "execution_count": 55,
     "metadata": {},
     "output_type": "execute_result"
    }
   ],
   "source": [
    "thyroid_data.dtypes"
   ]
  },
  {
   "cell_type": "code",
   "execution_count": 56,
   "id": "cd81e3b6",
   "metadata": {},
   "outputs": [
    {
     "data": {
      "text/plain": [
       "<AxesSubplot:>"
      ]
     },
     "execution_count": 56,
     "metadata": {},
     "output_type": "execute_result"
    },
    {
     "data": {
      "image/png": "[encoded data removed]",
      "text/plain": [
       "<Figure size 432x288 with 2 Axes>"
      ]
     },
     "metadata": {
      "needs_background": "light"
     },
     "output_type": "display_data"
    }
   ],
   "source": [
    "sns.heatmap(thyroid_data)"
   ]
  },
  {
   "cell_type": "code",
   "execution_count": 57,
   "id": "d5d125f1",
   "metadata": {},
   "outputs": [
    {
     "data": {
      "text/html": [
       "<div>\n",
       "<style scoped>\n",
       "    .dataframe tbody tr th:only-of-type {\n",
       "        vertical-align: middle;\n",
       "    }\n",
       "\n",
       "    .dataframe tbody tr th {\n",
       "        vertical-align: top;\n",
       "    }\n",
       "\n",
       "    .dataframe thead th {\n",
       "        text-align: right;\n",
       "    }\n",
       "</style>\n",
       "<table border=\"1\" class=\"dataframe\">\n",
       "  <thead>\n",
       "    <tr style=\"text-align: right;\">\n",
       "      <th></th>\n",
       "      <th>age</th>\n",
       "      <th>sex</th>\n",
       "      <th>on thyroxine</th>\n",
       "      <th>query on thyroxine</th>\n",
       "      <th>on antithyroid medication</th>\n",
       "      <th>sick</th>\n",
       "      <th>pregnant</th>\n",
       "      <th>thyroid surgery</th>\n",
       "      <th>I131 treatment</th>\n",
       "      <th>query hypothyroid</th>\n",
       "      <th>...</th>\n",
       "      <th>T3 measured</th>\n",
       "      <th>T3</th>\n",
       "      <th>TT4 measured</th>\n",
       "      <th>TT4</th>\n",
       "      <th>T4U measured</th>\n",
       "      <th>T4U</th>\n",
       "      <th>FTI measured</th>\n",
       "      <th>FTI</th>\n",
       "      <th>referral source</th>\n",
       "      <th>category</th>\n",
       "    </tr>\n",
       "  </thead>\n",
       "  <tbody>\n",
       "    <tr>\n",
       "      <th>count</th>\n",
       "      <td>3221.000000</td>\n",
       "      <td>3221.000000</td>\n",
       "      <td>3221.000000</td>\n",
       "      <td>3221.000000</td>\n",
       "      <td>3221.000000</td>\n",
       "      <td>3221.000000</td>\n",
       "      <td>3221.000000</td>\n",
       "      <td>3221.000000</td>\n",
       "      <td>3221.000000</td>\n",
       "      <td>3221.000000</td>\n",
       "      <td>...</td>\n",
       "      <td>3221.000000</td>\n",
       "      <td>3221.000000</td>\n",
       "      <td>3221.000000</td>\n",
       "      <td>3221.000000</td>\n",
       "      <td>3221.000000</td>\n",
       "      <td>3221.000000</td>\n",
       "      <td>3221.000000</td>\n",
       "      <td>3221.000000</td>\n",
       "      <td>3221.000000</td>\n",
       "      <td>3221.000000</td>\n",
       "    </tr>\n",
       "    <tr>\n",
       "      <th>mean</th>\n",
       "      <td>52.406085</td>\n",
       "      <td>0.306116</td>\n",
       "      <td>0.106489</td>\n",
       "      <td>0.014902</td>\n",
       "      <td>0.010866</td>\n",
       "      <td>0.043775</td>\n",
       "      <td>0.014281</td>\n",
       "      <td>0.012729</td>\n",
       "      <td>0.017386</td>\n",
       "      <td>0.065508</td>\n",
       "      <td>...</td>\n",
       "      <td>0.817138</td>\n",
       "      <td>1.951770</td>\n",
       "      <td>0.955914</td>\n",
       "      <td>107.551630</td>\n",
       "      <td>0.914312</td>\n",
       "      <td>0.988229</td>\n",
       "      <td>0.914933</td>\n",
       "      <td>110.261347</td>\n",
       "      <td>3.267619</td>\n",
       "      <td>1.936976</td>\n",
       "    </tr>\n",
       "    <tr>\n",
       "      <th>std</th>\n",
       "      <td>19.104151</td>\n",
       "      <td>0.460950</td>\n",
       "      <td>0.308510</td>\n",
       "      <td>0.121180</td>\n",
       "      <td>0.103689</td>\n",
       "      <td>0.204626</td>\n",
       "      <td>0.118666</td>\n",
       "      <td>0.112120</td>\n",
       "      <td>0.130725</td>\n",
       "      <td>0.247458</td>\n",
       "      <td>...</td>\n",
       "      <td>0.386614</td>\n",
       "      <td>0.839899</td>\n",
       "      <td>0.205317</td>\n",
       "      <td>38.091518</td>\n",
       "      <td>0.279946</td>\n",
       "      <td>0.185982</td>\n",
       "      <td>0.279024</td>\n",
       "      <td>35.967317</td>\n",
       "      <td>1.073584</td>\n",
       "      <td>0.461636</td>\n",
       "    </tr>\n",
       "    <tr>\n",
       "      <th>min</th>\n",
       "      <td>1.000000</td>\n",
       "      <td>0.000000</td>\n",
       "      <td>0.000000</td>\n",
       "      <td>0.000000</td>\n",
       "      <td>0.000000</td>\n",
       "      <td>0.000000</td>\n",
       "      <td>0.000000</td>\n",
       "      <td>0.000000</td>\n",
       "      <td>0.000000</td>\n",
       "      <td>0.000000</td>\n",
       "      <td>...</td>\n",
       "      <td>0.000000</td>\n",
       "      <td>0.050000</td>\n",
       "      <td>0.000000</td>\n",
       "      <td>2.000000</td>\n",
       "      <td>0.000000</td>\n",
       "      <td>0.310000</td>\n",
       "      <td>0.000000</td>\n",
       "      <td>2.000000</td>\n",
       "      <td>0.000000</td>\n",
       "      <td>0.000000</td>\n",
       "    </tr>\n",
       "    <tr>\n",
       "      <th>25%</th>\n",
       "      <td>37.000000</td>\n",
       "      <td>0.000000</td>\n",
       "      <td>0.000000</td>\n",
       "      <td>0.000000</td>\n",
       "      <td>0.000000</td>\n",
       "      <td>0.000000</td>\n",
       "      <td>0.000000</td>\n",
       "      <td>0.000000</td>\n",
       "      <td>0.000000</td>\n",
       "      <td>0.000000</td>\n",
       "      <td>...</td>\n",
       "      <td>1.000000</td>\n",
       "      <td>1.600000</td>\n",
       "      <td>1.000000</td>\n",
       "      <td>86.000000</td>\n",
       "      <td>1.000000</td>\n",
       "      <td>0.880000</td>\n",
       "      <td>1.000000</td>\n",
       "      <td>93.000000</td>\n",
       "      <td>3.000000</td>\n",
       "      <td>2.000000</td>\n",
       "    </tr>\n",
       "    <tr>\n",
       "      <th>50%</th>\n",
       "      <td>55.000000</td>\n",
       "      <td>0.000000</td>\n",
       "      <td>0.000000</td>\n",
       "      <td>0.000000</td>\n",
       "      <td>0.000000</td>\n",
       "      <td>0.000000</td>\n",
       "      <td>0.000000</td>\n",
       "      <td>0.000000</td>\n",
       "      <td>0.000000</td>\n",
       "      <td>0.000000</td>\n",
       "      <td>...</td>\n",
       "      <td>1.000000</td>\n",
       "      <td>1.900000</td>\n",
       "      <td>1.000000</td>\n",
       "      <td>102.000000</td>\n",
       "      <td>1.000000</td>\n",
       "      <td>0.970000</td>\n",
       "      <td>1.000000</td>\n",
       "      <td>106.000000</td>\n",
       "      <td>4.000000</td>\n",
       "      <td>2.000000</td>\n",
       "    </tr>\n",
       "    <tr>\n",
       "      <th>75%</th>\n",
       "      <td>68.000000</td>\n",
       "      <td>1.000000</td>\n",
       "      <td>0.000000</td>\n",
       "      <td>0.000000</td>\n",
       "      <td>0.000000</td>\n",
       "      <td>0.000000</td>\n",
       "      <td>0.000000</td>\n",
       "      <td>0.000000</td>\n",
       "      <td>0.000000</td>\n",
       "      <td>0.000000</td>\n",
       "      <td>...</td>\n",
       "      <td>1.000000</td>\n",
       "      <td>2.200000</td>\n",
       "      <td>1.000000</td>\n",
       "      <td>123.000000</td>\n",
       "      <td>1.000000</td>\n",
       "      <td>1.070000</td>\n",
       "      <td>1.000000</td>\n",
       "      <td>123.000000</td>\n",
       "      <td>4.000000</td>\n",
       "      <td>2.000000</td>\n",
       "    </tr>\n",
       "    <tr>\n",
       "      <th>max</th>\n",
       "      <td>94.000000</td>\n",
       "      <td>1.000000</td>\n",
       "      <td>1.000000</td>\n",
       "      <td>1.000000</td>\n",
       "      <td>1.000000</td>\n",
       "      <td>1.000000</td>\n",
       "      <td>1.000000</td>\n",
       "      <td>1.000000</td>\n",
       "      <td>1.000000</td>\n",
       "      <td>1.000000</td>\n",
       "      <td>...</td>\n",
       "      <td>1.000000</td>\n",
       "      <td>10.600000</td>\n",
       "      <td>1.000000</td>\n",
       "      <td>430.000000</td>\n",
       "      <td>1.000000</td>\n",
       "      <td>2.120000</td>\n",
       "      <td>1.000000</td>\n",
       "      <td>395.000000</td>\n",
       "      <td>4.000000</td>\n",
       "      <td>3.000000</td>\n",
       "    </tr>\n",
       "  </tbody>\n",
       "</table>\n",
       "<p>8 rows × 28 columns</p>\n",
       "</div>"
      ],
      "text/plain": [
       "               age          sex  on thyroxine  query on thyroxine  \\\n",
       "count  3221.000000  3221.000000   3221.000000         3221.000000   \n",
       "mean     52.406085     0.306116      0.106489            0.014902   \n",
       "std      19.104151     0.460950      0.308510            0.121180   \n",
       "min       1.000000     0.000000      0.000000            0.000000   \n",
       "25%      37.000000     0.000000      0.000000            0.000000   \n",
       "50%      55.000000     0.000000      0.000000            0.000000   \n",
       "75%      68.000000     1.000000      0.000000            0.000000   \n",
       "max      94.000000     1.000000      1.000000            1.000000   \n",
       "\n",
       "       on antithyroid medication         sick     pregnant  thyroid surgery  \\\n",
       "count                3221.000000  3221.000000  3221.000000      3221.000000   \n",
       "mean                    0.010866     0.043775     0.014281         0.012729   \n",
       "std                     0.103689     0.204626     0.118666         0.112120   \n",
       "min                     0.000000     0.000000     0.000000         0.000000   \n",
       "25%                     0.000000     0.000000     0.000000         0.000000   \n",
       "50%                     0.000000     0.000000     0.000000         0.000000   \n",
       "75%                     0.000000     0.000000     0.000000         0.000000   \n",
       "max                     1.000000     1.000000     1.000000         1.000000   \n",
       "\n",
       "       I131 treatment  query hypothyroid  ...  T3 measured           T3  \\\n",
       "count     3221.000000        3221.000000  ...  3221.000000  3221.000000   \n",
       "mean         0.017386           0.065508  ...     0.817138     1.951770   \n",
       "std          0.130725           0.247458  ...     0.386614     0.839899   \n",
       "min          0.000000           0.000000  ...     0.000000     0.050000   \n",
       "25%          0.000000           0.000000  ...     1.000000     1.600000   \n",
       "50%          0.000000           0.000000  ...     1.000000     1.900000   \n",
       "75%          0.000000           0.000000  ...     1.000000     2.200000   \n",
       "max          1.000000           1.000000  ...     1.000000    10.600000   \n",
       "\n",
       "       TT4 measured          TT4  T4U measured          T4U  FTI measured  \\\n",
       "count   3221.000000  3221.000000   3221.000000  3221.000000   3221.000000   \n",
       "mean       0.955914   107.551630      0.914312     0.988229      0.914933   \n",
       "std        0.205317    38.091518      0.279946     0.185982      0.279024   \n",
       "min        0.000000     2.000000      0.000000     0.310000      0.000000   \n",
       "25%        1.000000    86.000000      1.000000     0.880000      1.000000   \n",
       "50%        1.000000   102.000000      1.000000     0.970000      1.000000   \n",
       "75%        1.000000   123.000000      1.000000     1.070000      1.000000   \n",
       "max        1.000000   430.000000      1.000000     2.120000      1.000000   \n",
       "\n",
       "               FTI  referral source     category  \n",
       "count  3221.000000      3221.000000  3221.000000  \n",
       "mean    110.261347         3.267619     1.936976  \n",
       "std      35.967317         1.073584     0.461636  \n",
       "min       2.000000         0.000000     0.000000  \n",
       "25%      93.000000         3.000000     2.000000  \n",
       "50%     106.000000         4.000000     2.000000  \n",
       "75%     123.000000         4.000000     2.000000  \n",
       "max     395.000000         4.000000     3.000000  \n",
       "\n",
       "[8 rows x 28 columns]"
      ]
     },
     "execution_count": 57,
     "metadata": {},
     "output_type": "execute_result"
    }
   ],
   "source": [
    "thyroid_data.describe()"
   ]
  },
  {
   "cell_type": "code",
   "execution_count": 58,
   "id": "2ddde081",
   "metadata": {},
   "outputs": [
    {
     "data": {
      "text/html": [
       "<div>\n",
       "<style scoped>\n",
       "    .dataframe tbody tr th:only-of-type {\n",
       "        vertical-align: middle;\n",
       "    }\n",
       "\n",
       "    .dataframe tbody tr th {\n",
       "        vertical-align: top;\n",
       "    }\n",
       "\n",
       "    .dataframe thead th {\n",
       "        text-align: right;\n",
       "    }\n",
       "</style>\n",
       "<table border=\"1\" class=\"dataframe\">\n",
       "  <thead>\n",
       "    <tr style=\"text-align: right;\">\n",
       "      <th></th>\n",
       "      <th>age</th>\n",
       "      <th>sex</th>\n",
       "      <th>on thyroxine</th>\n",
       "      <th>query on thyroxine</th>\n",
       "      <th>on antithyroid medication</th>\n",
       "      <th>sick</th>\n",
       "      <th>pregnant</th>\n",
       "      <th>thyroid surgery</th>\n",
       "      <th>I131 treatment</th>\n",
       "      <th>query hypothyroid</th>\n",
       "      <th>...</th>\n",
       "      <th>T3 measured</th>\n",
       "      <th>T3</th>\n",
       "      <th>TT4 measured</th>\n",
       "      <th>TT4</th>\n",
       "      <th>T4U measured</th>\n",
       "      <th>T4U</th>\n",
       "      <th>FTI measured</th>\n",
       "      <th>FTI</th>\n",
       "      <th>referral source</th>\n",
       "      <th>category</th>\n",
       "    </tr>\n",
       "  </thead>\n",
       "  <tbody>\n",
       "    <tr>\n",
       "      <th>0</th>\n",
       "      <td>41.0</td>\n",
       "      <td>0</td>\n",
       "      <td>0</td>\n",
       "      <td>0</td>\n",
       "      <td>0</td>\n",
       "      <td>0</td>\n",
       "      <td>0</td>\n",
       "      <td>0</td>\n",
       "      <td>0</td>\n",
       "      <td>0</td>\n",
       "      <td>...</td>\n",
       "      <td>1</td>\n",
       "      <td>2.5</td>\n",
       "      <td>1</td>\n",
       "      <td>125.0</td>\n",
       "      <td>1</td>\n",
       "      <td>1.14</td>\n",
       "      <td>1</td>\n",
       "      <td>109.0</td>\n",
       "      <td>1</td>\n",
       "      <td>2</td>\n",
       "    </tr>\n",
       "    <tr>\n",
       "      <th>1</th>\n",
       "      <td>23.0</td>\n",
       "      <td>0</td>\n",
       "      <td>0</td>\n",
       "      <td>0</td>\n",
       "      <td>0</td>\n",
       "      <td>0</td>\n",
       "      <td>0</td>\n",
       "      <td>0</td>\n",
       "      <td>0</td>\n",
       "      <td>0</td>\n",
       "      <td>...</td>\n",
       "      <td>1</td>\n",
       "      <td>2.0</td>\n",
       "      <td>1</td>\n",
       "      <td>102.0</td>\n",
       "      <td>0</td>\n",
       "      <td>0.97</td>\n",
       "      <td>0</td>\n",
       "      <td>106.0</td>\n",
       "      <td>4</td>\n",
       "      <td>2</td>\n",
       "    </tr>\n",
       "    <tr>\n",
       "      <th>2</th>\n",
       "      <td>46.0</td>\n",
       "      <td>1</td>\n",
       "      <td>0</td>\n",
       "      <td>0</td>\n",
       "      <td>0</td>\n",
       "      <td>0</td>\n",
       "      <td>0</td>\n",
       "      <td>0</td>\n",
       "      <td>0</td>\n",
       "      <td>0</td>\n",
       "      <td>...</td>\n",
       "      <td>0</td>\n",
       "      <td>1.9</td>\n",
       "      <td>1</td>\n",
       "      <td>109.0</td>\n",
       "      <td>1</td>\n",
       "      <td>0.91</td>\n",
       "      <td>1</td>\n",
       "      <td>120.0</td>\n",
       "      <td>4</td>\n",
       "      <td>2</td>\n",
       "    </tr>\n",
       "    <tr>\n",
       "      <th>3</th>\n",
       "      <td>70.0</td>\n",
       "      <td>0</td>\n",
       "      <td>1</td>\n",
       "      <td>0</td>\n",
       "      <td>0</td>\n",
       "      <td>0</td>\n",
       "      <td>0</td>\n",
       "      <td>0</td>\n",
       "      <td>0</td>\n",
       "      <td>0</td>\n",
       "      <td>...</td>\n",
       "      <td>1</td>\n",
       "      <td>1.9</td>\n",
       "      <td>1</td>\n",
       "      <td>175.0</td>\n",
       "      <td>0</td>\n",
       "      <td>0.97</td>\n",
       "      <td>0</td>\n",
       "      <td>106.0</td>\n",
       "      <td>4</td>\n",
       "      <td>2</td>\n",
       "    </tr>\n",
       "    <tr>\n",
       "      <th>4</th>\n",
       "      <td>70.0</td>\n",
       "      <td>0</td>\n",
       "      <td>0</td>\n",
       "      <td>0</td>\n",
       "      <td>0</td>\n",
       "      <td>0</td>\n",
       "      <td>0</td>\n",
       "      <td>0</td>\n",
       "      <td>0</td>\n",
       "      <td>0</td>\n",
       "      <td>...</td>\n",
       "      <td>1</td>\n",
       "      <td>1.2</td>\n",
       "      <td>1</td>\n",
       "      <td>61.0</td>\n",
       "      <td>1</td>\n",
       "      <td>0.87</td>\n",
       "      <td>1</td>\n",
       "      <td>70.0</td>\n",
       "      <td>3</td>\n",
       "      <td>2</td>\n",
       "    </tr>\n",
       "  </tbody>\n",
       "</table>\n",
       "<p>5 rows × 28 columns</p>\n",
       "</div>"
      ],
      "text/plain": [
       "    age  sex  on thyroxine  query on thyroxine  on antithyroid medication  \\\n",
       "0  41.0    0             0                   0                          0   \n",
       "1  23.0    0             0                   0                          0   \n",
       "2  46.0    1             0                   0                          0   \n",
       "3  70.0    0             1                   0                          0   \n",
       "4  70.0    0             0                   0                          0   \n",
       "\n",
       "   sick  pregnant  thyroid surgery  I131 treatment  query hypothyroid  ...  \\\n",
       "0     0         0                0               0                  0  ...   \n",
       "1     0         0                0               0                  0  ...   \n",
       "2     0         0                0               0                  0  ...   \n",
       "3     0         0                0               0                  0  ...   \n",
       "4     0         0                0               0                  0  ...   \n",
       "\n",
       "   T3 measured   T3  TT4 measured    TT4  T4U measured   T4U  FTI measured  \\\n",
       "0            1  2.5             1  125.0             1  1.14             1   \n",
       "1            1  2.0             1  102.0             0  0.97             0   \n",
       "2            0  1.9             1  109.0             1  0.91             1   \n",
       "3            1  1.9             1  175.0             0  0.97             0   \n",
       "4            1  1.2             1   61.0             1  0.87             1   \n",
       "\n",
       "     FTI  referral source  category  \n",
       "0  109.0                1         2  \n",
       "1  106.0                4         2  \n",
       "2  120.0                4         2  \n",
       "3  106.0                4         2  \n",
       "4   70.0                3         2  \n",
       "\n",
       "[5 rows x 28 columns]"
      ]
     },
     "execution_count": 58,
     "metadata": {},
     "output_type": "execute_result"
    }
   ],
   "source": [
    "thyroid_data.head()"
   ]
  },
  {
   "cell_type": "code",
   "execution_count": 59,
   "id": "a9be0579",
   "metadata": {
    "scrolled": true
   },
   "outputs": [
    {
     "data": {
      "text/plain": [
       "array([[<AxesSubplot:title={'center':'age'}>,\n",
       "        <AxesSubplot:title={'center':'sex'}>,\n",
       "        <AxesSubplot:title={'center':'on thyroxine'}>,\n",
       "        <AxesSubplot:title={'center':'query on thyroxine'}>,\n",
       "        <AxesSubplot:title={'center':'on antithyroid medication'}>],\n",
       "       [<AxesSubplot:title={'center':'sick'}>,\n",
       "        <AxesSubplot:title={'center':'pregnant'}>,\n",
       "        <AxesSubplot:title={'center':'thyroid surgery'}>,\n",
       "        <AxesSubplot:title={'center':'I131 treatment'}>,\n",
       "        <AxesSubplot:title={'center':'query hypothyroid'}>],\n",
       "       [<AxesSubplot:title={'center':'query hyperthyroid'}>,\n",
       "        <AxesSubplot:title={'center':'lithium'}>,\n",
       "        <AxesSubplot:title={'center':'goitre'}>,\n",
       "        <AxesSubplot:title={'center':'tumor'}>,\n",
       "        <AxesSubplot:title={'center':'hypopituitary'}>],\n",
       "       [<AxesSubplot:title={'center':'psych'}>,\n",
       "        <AxesSubplot:title={'center':'TSH measured'}>,\n",
       "        <AxesSubplot:title={'center':'TSH'}>,\n",
       "        <AxesSubplot:title={'center':'T3 measured'}>,\n",
       "        <AxesSubplot:title={'center':'T3'}>],\n",
       "       [<AxesSubplot:title={'center':'TT4 measured'}>,\n",
       "        <AxesSubplot:title={'center':'TT4'}>,\n",
       "        <AxesSubplot:title={'center':'T4U measured'}>,\n",
       "        <AxesSubplot:title={'center':'T4U'}>,\n",
       "        <AxesSubplot:title={'center':'FTI measured'}>],\n",
       "       [<AxesSubplot:title={'center':'FTI'}>,\n",
       "        <AxesSubplot:title={'center':'referral source'}>,\n",
       "        <AxesSubplot:title={'center':'category'}>, <AxesSubplot:>,\n",
       "        <AxesSubplot:>]], dtype=object)"
      ]
     },
     "execution_count": 59,
     "metadata": {},
     "output_type": "execute_result"
    },
    {
     "data": {
      "image/png": "[encoded data removed]",
      "text/plain": [
       "<Figure size 1440x1080 with 30 Axes>"
      ]
     },
     "metadata": {
      "needs_background": "light"
     },
     "output_type": "display_data"
    }
   ],
   "source": [
    "thyroid_data.hist(bins=50,figsize=(20,15))"
   ]
  },
  {
   "cell_type": "code",
   "execution_count": 60,
   "id": "0f6e850a",
   "metadata": {},
   "outputs": [
    {
     "data": {
      "text/plain": [
       "<AxesSubplot:>"
      ]
     },
     "execution_count": 60,
     "metadata": {},
     "output_type": "execute_result"
    },
    {
     "data": {
      "image/png": "[encoded data removed]",
      "text/plain": [
       "<Figure size 1800x1800 with 2 Axes>"
      ]
     },
     "metadata": {
      "needs_background": "light"
     },
     "output_type": "display_data"
    }
   ],
   "source": [
    "correlation_map = thyroid_data.corr()\n",
    "obj = np.array(correlation_map)\n",
    "obj[np.tril_indices_from(obj)] = False\n",
    "fig,ax= plt.subplots()\n",
    "fig.set_size_inches(25,25)\n",
    "sns.heatmap(correlation_map, mask=obj,vmax=.7, square=True,annot=True)"
   ]
  },
  {
   "cell_type": "code",
   "execution_count": 61,
   "id": "e6b80f34",
   "metadata": {},
   "outputs": [],
   "source": [
    "x = thyroid_data.drop(\"category\",axis=1)\n",
    "y = thyroid_data[\"category\"]"
   ]
  },
  {
   "cell_type": "code",
   "execution_count": 62,
   "id": "4e06f1d3",
   "metadata": {},
   "outputs": [
    {
     "data": {
      "text/plain": [
       "<AxesSubplot:xlabel='category', ylabel='count'>"
      ]
     },
     "execution_count": 62,
     "metadata": {},
     "output_type": "execute_result"
    },
    {
     "data": {
      "image/png": "[encoded data removed]",
      "text/plain": [
       "<Figure size 432x288 with 1 Axes>"
      ]
     },
     "metadata": {
      "needs_background": "light"
     },
     "output_type": "display_data"
    }
   ],
   "source": [
    "sns.countplot(thyroid_data['category'])"
   ]
  },
  {
   "cell_type": "code",
   "execution_count": 63,
   "id": "59d15e11",
   "metadata": {},
   "outputs": [
    {
     "data": {
      "text/plain": [
       "Index(['age', 'sex', 'on thyroxine', 'query on thyroxine',\n",
       "       'on antithyroid medication', 'sick', 'pregnant', 'thyroid surgery',\n",
       "       'I131 treatment', 'query hypothyroid', 'query hyperthyroid', 'lithium',\n",
       "       'goitre', 'tumor', 'hypopituitary', 'psych', 'TSH measured', 'TSH',\n",
       "       'T3 measured', 'T3', 'TT4 measured', 'TT4', 'T4U measured', 'T4U',\n",
       "       'FTI measured', 'FTI', 'referral source'],\n",
       "      dtype='object')"
      ]
     },
     "execution_count": 63,
     "metadata": {},
     "output_type": "execute_result"
    },
    {
     "data": {
      "image/png": "[encoded data removed]",
      "text/plain": [
       "<Figure size 432x288 with 1 Axes>"
      ]
     },
     "metadata": {
      "needs_background": "light"
     },
     "output_type": "display_data"
    }
   ],
   "source": [
    "from imblearn.over_sampling import SMOTENC,RandomOverSampler,KMeansSMOTE\n",
    "\n",
    "\n",
    "rdsmple=RandomOverSampler()\n",
    "x_sampled,y_sampled=rdsmple.fit_resample(x,y)\n",
    "\n",
    "x_sampled.shape\n",
    "\n",
    "\n",
    "x_sampled=pd.DataFrame(data=x_sampled,columns=x.columns)\n",
    "\n",
    "\n",
    "x_sampled\n",
    "\n",
    "\n",
    "sns.countplot(y_sampled)\n",
    "\n",
    "\n",
    "x_sampled.columns"
   ]
  },
  {
   "cell_type": "code",
   "execution_count": 64,
   "id": "71f5dcca",
   "metadata": {},
   "outputs": [
    {
     "data": {
      "text/plain": [
       "((7708, 27), (3304, 27))"
      ]
     },
     "execution_count": 64,
     "metadata": {},
     "output_type": "execute_result"
    }
   ],
   "source": [
    "from sklearn.model_selection import train_test_split\n",
    "x_train,x_test,y_train,y_test= train_test_split(x_sampled, y_sampled, test_size=0.30, random_state=0)\n",
    "x_train.shape,x_test.shape"
   ]
  },
  {
   "cell_type": "code",
   "execution_count": 65,
   "id": "2deed3ea",
   "metadata": {},
   "outputs": [
    {
     "data": {
      "text/plain": [
       "0.8967917675544794"
      ]
     },
     "execution_count": 65,
     "metadata": {},
     "output_type": "execute_result"
    }
   ],
   "source": [
    "from sklearn import tree\n",
    "dt = tree.DecisionTreeClassifier(max_depth=5)\n",
    "dt.fit(x_train,y_train)\n",
    "dt.score(x_test,y_test)\n",
    "y_pred=dt.predict(x_test)\n",
    "dt.score(x_test,y_test)"
   ]
  },
  {
   "cell_type": "code",
   "execution_count": 66,
   "id": "94928189",
   "metadata": {},
   "outputs": [
    {
     "data": {
      "text/plain": [
       "0.914043583535109"
      ]
     },
     "execution_count": 66,
     "metadata": {},
     "output_type": "execute_result"
    }
   ],
   "source": [
    "from sklearn import ensemble\n",
    "rf = ensemble.RandomForestClassifier(n_estimators=100)\n",
    "rf.fit(x_train,y_train)\n",
    "rf.score(x_test,y_test)"
   ]
  },
  {
   "cell_type": "code",
   "execution_count": 67,
   "id": "63cdc3ef",
   "metadata": {},
   "outputs": [
    {
     "data": {
      "text/plain": [
       "0.9013317191283293"
      ]
     },
     "execution_count": 67,
     "metadata": {},
     "output_type": "execute_result"
    }
   ],
   "source": [
    "from sklearn.ensemble import GradientBoostingClassifier\n",
    "gb = GradientBoostingClassifier(n_estimators=10)\n",
    "gb.fit(x_train,y_train)\n",
    "gb.score(x_test,y_test)"
   ]
  },
  {
   "cell_type": "code",
   "execution_count": 68,
   "id": "237b7e83",
   "metadata": {},
   "outputs": [
    {
     "data": {
      "text/plain": [
       "0.612590799031477"
      ]
     },
     "execution_count": 68,
     "metadata": {},
     "output_type": "execute_result"
    }
   ],
   "source": [
    "from sklearn.naive_bayes import GaussianNB\n",
    "nb_clf= GaussianNB()\n",
    "nb_clf.fit(x_train,y_train)\n",
    "nb_clf.score(x_test,y_test)"
   ]
  },
  {
   "cell_type": "code",
   "execution_count": 69,
   "id": "ed224edd",
   "metadata": {},
   "outputs": [
    {
     "data": {
      "text/plain": [
       "0.8610774818401937"
      ]
     },
     "execution_count": 69,
     "metadata": {},
     "output_type": "execute_result"
    }
   ],
   "source": [
    "from sklearn.neighbors import KNeighborsClassifier\n",
    "knn = KNeighborsClassifier(n_neighbors=1)\n",
    "knn.fit(x_train,y_train)\n",
    "knn.score(x_test,y_test)"
   ]
  },
  {
   "cell_type": "code",
   "execution_count": 70,
   "id": "2e03b4ea",
   "metadata": {},
   "outputs": [
    {
     "data": {
      "text/plain": [
       "0.722457627118644"
      ]
     },
     "execution_count": 70,
     "metadata": {},
     "output_type": "execute_result"
    }
   ],
   "source": [
    "from sklearn.linear_model import LogisticRegression\n",
    "lr= LogisticRegression()\n",
    "lr.fit(x_train,y_train)\n",
    "lr.score(x_test,y_test)"
   ]
  },
  {
   "cell_type": "code",
   "execution_count": 71,
   "id": "f94a8853",
   "metadata": {},
   "outputs": [
    {
     "data": {
      "text/plain": [
       "0.7363801452784504"
      ]
     },
     "execution_count": 71,
     "metadata": {},
     "output_type": "execute_result"
    }
   ],
   "source": [
    "from sklearn.svm import SVC\n",
    "sv= SVC(probability=True)\n",
    "sv.fit(x_train,y_train)\n",
    "sv.score(x_test,y_test)"
   ]
  },
  {
   "cell_type": "markdown",
   "id": "125bd5ed",
   "metadata": {},
   "source": [
    "# Univariate Selection"
   ]
  },
  {
   "cell_type": "code",
   "execution_count": 72,
   "id": "179d63d9",
   "metadata": {},
   "outputs": [],
   "source": [
    "from sklearn.feature_selection import SelectKBest\n",
    "from sklearn.feature_selection import chi2"
   ]
  },
  {
   "cell_type": "code",
   "execution_count": 73,
   "id": "777fa0e5",
   "metadata": {},
   "outputs": [],
   "source": [
    "ordered_rank_features = SelectKBest(score_func=chi2,k=26)\n",
    "ordered_features=ordered_rank_features.fit(x_train,y_train)"
   ]
  },
  {
   "cell_type": "code",
   "execution_count": 74,
   "id": "dfbb5c94",
   "metadata": {},
   "outputs": [],
   "source": [
    "dfscore=pd.DataFrame(ordered_features.scores_,columns=['score'])\n",
    "dfcolumns=pd.DataFrame(x_train.columns)"
   ]
  },
  {
   "cell_type": "code",
   "execution_count": 75,
   "id": "8f6925f6",
   "metadata": {},
   "outputs": [],
   "source": [
    "features_rank=pd.concat([dfcolumns,dfscore],axis=1)"
   ]
  },
  {
   "cell_type": "code",
   "execution_count": 76,
   "id": "063b3b22",
   "metadata": {},
   "outputs": [
    {
     "data": {
      "text/html": [
       "<div>\n",
       "<style scoped>\n",
       "    .dataframe tbody tr th:only-of-type {\n",
       "        vertical-align: middle;\n",
       "    }\n",
       "\n",
       "    .dataframe tbody tr th {\n",
       "        vertical-align: top;\n",
       "    }\n",
       "\n",
       "    .dataframe thead th {\n",
       "        text-align: right;\n",
       "    }\n",
       "</style>\n",
       "<table border=\"1\" class=\"dataframe\">\n",
       "  <thead>\n",
       "    <tr style=\"text-align: right;\">\n",
       "      <th></th>\n",
       "      <th>features</th>\n",
       "      <th>score</th>\n",
       "    </tr>\n",
       "  </thead>\n",
       "  <tbody>\n",
       "    <tr>\n",
       "      <th>0</th>\n",
       "      <td>age</td>\n",
       "      <td>4290.057445</td>\n",
       "    </tr>\n",
       "    <tr>\n",
       "      <th>1</th>\n",
       "      <td>sex</td>\n",
       "      <td>291.374144</td>\n",
       "    </tr>\n",
       "    <tr>\n",
       "      <th>2</th>\n",
       "      <td>on thyroxine</td>\n",
       "      <td>251.384646</td>\n",
       "    </tr>\n",
       "    <tr>\n",
       "      <th>3</th>\n",
       "      <td>query on thyroxine</td>\n",
       "      <td>6.820488</td>\n",
       "    </tr>\n",
       "    <tr>\n",
       "      <th>4</th>\n",
       "      <td>on antithyroid medication</td>\n",
       "      <td>29.598299</td>\n",
       "    </tr>\n",
       "    <tr>\n",
       "      <th>5</th>\n",
       "      <td>sick</td>\n",
       "      <td>135.377764</td>\n",
       "    </tr>\n",
       "    <tr>\n",
       "      <th>6</th>\n",
       "      <td>pregnant</td>\n",
       "      <td>337.311450</td>\n",
       "    </tr>\n",
       "    <tr>\n",
       "      <th>7</th>\n",
       "      <td>thyroid surgery</td>\n",
       "      <td>54.382125</td>\n",
       "    </tr>\n",
       "    <tr>\n",
       "      <th>8</th>\n",
       "      <td>I131 treatment</td>\n",
       "      <td>19.946734</td>\n",
       "    </tr>\n",
       "    <tr>\n",
       "      <th>9</th>\n",
       "      <td>query hypothyroid</td>\n",
       "      <td>180.550109</td>\n",
       "    </tr>\n",
       "    <tr>\n",
       "      <th>10</th>\n",
       "      <td>query hyperthyroid</td>\n",
       "      <td>823.973091</td>\n",
       "    </tr>\n",
       "    <tr>\n",
       "      <th>11</th>\n",
       "      <td>lithium</td>\n",
       "      <td>8.303917</td>\n",
       "    </tr>\n",
       "    <tr>\n",
       "      <th>12</th>\n",
       "      <td>goitre</td>\n",
       "      <td>35.916074</td>\n",
       "    </tr>\n",
       "    <tr>\n",
       "      <th>13</th>\n",
       "      <td>tumor</td>\n",
       "      <td>499.882126</td>\n",
       "    </tr>\n",
       "    <tr>\n",
       "      <th>14</th>\n",
       "      <td>hypopituitary</td>\n",
       "      <td>25.627590</td>\n",
       "    </tr>\n",
       "    <tr>\n",
       "      <th>15</th>\n",
       "      <td>psych</td>\n",
       "      <td>86.023450</td>\n",
       "    </tr>\n",
       "    <tr>\n",
       "      <th>16</th>\n",
       "      <td>TSH measured</td>\n",
       "      <td>16.931007</td>\n",
       "    </tr>\n",
       "    <tr>\n",
       "      <th>17</th>\n",
       "      <td>TSH</td>\n",
       "      <td>131874.599989</td>\n",
       "    </tr>\n",
       "    <tr>\n",
       "      <th>18</th>\n",
       "      <td>T3 measured</td>\n",
       "      <td>43.809322</td>\n",
       "    </tr>\n",
       "    <tr>\n",
       "      <th>19</th>\n",
       "      <td>T3</td>\n",
       "      <td>3535.876576</td>\n",
       "    </tr>\n",
       "    <tr>\n",
       "      <th>20</th>\n",
       "      <td>TT4 measured</td>\n",
       "      <td>2.668806</td>\n",
       "    </tr>\n",
       "    <tr>\n",
       "      <th>21</th>\n",
       "      <td>TT4</td>\n",
       "      <td>102736.304084</td>\n",
       "    </tr>\n",
       "    <tr>\n",
       "      <th>22</th>\n",
       "      <td>T4U measured</td>\n",
       "      <td>10.939319</td>\n",
       "    </tr>\n",
       "    <tr>\n",
       "      <th>23</th>\n",
       "      <td>T4U</td>\n",
       "      <td>39.884955</td>\n",
       "    </tr>\n",
       "    <tr>\n",
       "      <th>24</th>\n",
       "      <td>FTI measured</td>\n",
       "      <td>10.939319</td>\n",
       "    </tr>\n",
       "    <tr>\n",
       "      <th>25</th>\n",
       "      <td>FTI</td>\n",
       "      <td>100430.330797</td>\n",
       "    </tr>\n",
       "    <tr>\n",
       "      <th>26</th>\n",
       "      <td>referral source</td>\n",
       "      <td>45.645796</td>\n",
       "    </tr>\n",
       "  </tbody>\n",
       "</table>\n",
       "</div>"
      ],
      "text/plain": [
       "                     features          score\n",
       "0                         age    4290.057445\n",
       "1                         sex     291.374144\n",
       "2                on thyroxine     251.384646\n",
       "3          query on thyroxine       6.820488\n",
       "4   on antithyroid medication      29.598299\n",
       "5                        sick     135.377764\n",
       "6                    pregnant     337.311450\n",
       "7             thyroid surgery      54.382125\n",
       "8              I131 treatment      19.946734\n",
       "9           query hypothyroid     180.550109\n",
       "10         query hyperthyroid     823.973091\n",
       "11                    lithium       8.303917\n",
       "12                     goitre      35.916074\n",
       "13                      tumor     499.882126\n",
       "14              hypopituitary      25.627590\n",
       "15                      psych      86.023450\n",
       "16               TSH measured      16.931007\n",
       "17                        TSH  131874.599989\n",
       "18                T3 measured      43.809322\n",
       "19                         T3    3535.876576\n",
       "20               TT4 measured       2.668806\n",
       "21                        TT4  102736.304084\n",
       "22               T4U measured      10.939319\n",
       "23                        T4U      39.884955\n",
       "24               FTI measured      10.939319\n",
       "25                        FTI  100430.330797\n",
       "26            referral source      45.645796"
      ]
     },
     "execution_count": 76,
     "metadata": {},
     "output_type": "execute_result"
    }
   ],
   "source": [
    "features_rank.columns=['features','score']\n",
    "features_rank"
   ]
  },
  {
   "cell_type": "code",
   "execution_count": 77,
   "id": "4627abc6",
   "metadata": {},
   "outputs": [
    {
     "data": {
      "text/html": [
       "<div>\n",
       "<style scoped>\n",
       "    .dataframe tbody tr th:only-of-type {\n",
       "        vertical-align: middle;\n",
       "    }\n",
       "\n",
       "    .dataframe tbody tr th {\n",
       "        vertical-align: top;\n",
       "    }\n",
       "\n",
       "    .dataframe thead th {\n",
       "        text-align: right;\n",
       "    }\n",
       "</style>\n",
       "<table border=\"1\" class=\"dataframe\">\n",
       "  <thead>\n",
       "    <tr style=\"text-align: right;\">\n",
       "      <th></th>\n",
       "      <th>features</th>\n",
       "      <th>score</th>\n",
       "    </tr>\n",
       "  </thead>\n",
       "  <tbody>\n",
       "    <tr>\n",
       "      <th>17</th>\n",
       "      <td>TSH</td>\n",
       "      <td>131874.599989</td>\n",
       "    </tr>\n",
       "    <tr>\n",
       "      <th>21</th>\n",
       "      <td>TT4</td>\n",
       "      <td>102736.304084</td>\n",
       "    </tr>\n",
       "    <tr>\n",
       "      <th>25</th>\n",
       "      <td>FTI</td>\n",
       "      <td>100430.330797</td>\n",
       "    </tr>\n",
       "    <tr>\n",
       "      <th>0</th>\n",
       "      <td>age</td>\n",
       "      <td>4290.057445</td>\n",
       "    </tr>\n",
       "    <tr>\n",
       "      <th>19</th>\n",
       "      <td>T3</td>\n",
       "      <td>3535.876576</td>\n",
       "    </tr>\n",
       "    <tr>\n",
       "      <th>10</th>\n",
       "      <td>query hyperthyroid</td>\n",
       "      <td>823.973091</td>\n",
       "    </tr>\n",
       "    <tr>\n",
       "      <th>13</th>\n",
       "      <td>tumor</td>\n",
       "      <td>499.882126</td>\n",
       "    </tr>\n",
       "    <tr>\n",
       "      <th>6</th>\n",
       "      <td>pregnant</td>\n",
       "      <td>337.311450</td>\n",
       "    </tr>\n",
       "    <tr>\n",
       "      <th>1</th>\n",
       "      <td>sex</td>\n",
       "      <td>291.374144</td>\n",
       "    </tr>\n",
       "    <tr>\n",
       "      <th>2</th>\n",
       "      <td>on thyroxine</td>\n",
       "      <td>251.384646</td>\n",
       "    </tr>\n",
       "    <tr>\n",
       "      <th>9</th>\n",
       "      <td>query hypothyroid</td>\n",
       "      <td>180.550109</td>\n",
       "    </tr>\n",
       "    <tr>\n",
       "      <th>5</th>\n",
       "      <td>sick</td>\n",
       "      <td>135.377764</td>\n",
       "    </tr>\n",
       "    <tr>\n",
       "      <th>15</th>\n",
       "      <td>psych</td>\n",
       "      <td>86.023450</td>\n",
       "    </tr>\n",
       "    <tr>\n",
       "      <th>7</th>\n",
       "      <td>thyroid surgery</td>\n",
       "      <td>54.382125</td>\n",
       "    </tr>\n",
       "    <tr>\n",
       "      <th>26</th>\n",
       "      <td>referral source</td>\n",
       "      <td>45.645796</td>\n",
       "    </tr>\n",
       "    <tr>\n",
       "      <th>18</th>\n",
       "      <td>T3 measured</td>\n",
       "      <td>43.809322</td>\n",
       "    </tr>\n",
       "    <tr>\n",
       "      <th>23</th>\n",
       "      <td>T4U</td>\n",
       "      <td>39.884955</td>\n",
       "    </tr>\n",
       "    <tr>\n",
       "      <th>12</th>\n",
       "      <td>goitre</td>\n",
       "      <td>35.916074</td>\n",
       "    </tr>\n",
       "    <tr>\n",
       "      <th>4</th>\n",
       "      <td>on antithyroid medication</td>\n",
       "      <td>29.598299</td>\n",
       "    </tr>\n",
       "    <tr>\n",
       "      <th>14</th>\n",
       "      <td>hypopituitary</td>\n",
       "      <td>25.627590</td>\n",
       "    </tr>\n",
       "    <tr>\n",
       "      <th>8</th>\n",
       "      <td>I131 treatment</td>\n",
       "      <td>19.946734</td>\n",
       "    </tr>\n",
       "    <tr>\n",
       "      <th>16</th>\n",
       "      <td>TSH measured</td>\n",
       "      <td>16.931007</td>\n",
       "    </tr>\n",
       "    <tr>\n",
       "      <th>22</th>\n",
       "      <td>T4U measured</td>\n",
       "      <td>10.939319</td>\n",
       "    </tr>\n",
       "    <tr>\n",
       "      <th>24</th>\n",
       "      <td>FTI measured</td>\n",
       "      <td>10.939319</td>\n",
       "    </tr>\n",
       "    <tr>\n",
       "      <th>11</th>\n",
       "      <td>lithium</td>\n",
       "      <td>8.303917</td>\n",
       "    </tr>\n",
       "    <tr>\n",
       "      <th>3</th>\n",
       "      <td>query on thyroxine</td>\n",
       "      <td>6.820488</td>\n",
       "    </tr>\n",
       "    <tr>\n",
       "      <th>20</th>\n",
       "      <td>TT4 measured</td>\n",
       "      <td>2.668806</td>\n",
       "    </tr>\n",
       "  </tbody>\n",
       "</table>\n",
       "</div>"
      ],
      "text/plain": [
       "                     features          score\n",
       "17                        TSH  131874.599989\n",
       "21                        TT4  102736.304084\n",
       "25                        FTI  100430.330797\n",
       "0                         age    4290.057445\n",
       "19                         T3    3535.876576\n",
       "10         query hyperthyroid     823.973091\n",
       "13                      tumor     499.882126\n",
       "6                    pregnant     337.311450\n",
       "1                         sex     291.374144\n",
       "2                on thyroxine     251.384646\n",
       "9           query hypothyroid     180.550109\n",
       "5                        sick     135.377764\n",
       "15                      psych      86.023450\n",
       "7             thyroid surgery      54.382125\n",
       "26            referral source      45.645796\n",
       "18                T3 measured      43.809322\n",
       "23                        T4U      39.884955\n",
       "12                     goitre      35.916074\n",
       "4   on antithyroid medication      29.598299\n",
       "14              hypopituitary      25.627590\n",
       "8              I131 treatment      19.946734\n",
       "16               TSH measured      16.931007\n",
       "22               T4U measured      10.939319\n",
       "24               FTI measured      10.939319\n",
       "11                    lithium       8.303917\n",
       "3          query on thyroxine       6.820488\n",
       "20               TT4 measured       2.668806"
      ]
     },
     "execution_count": 77,
     "metadata": {},
     "output_type": "execute_result"
    }
   ],
   "source": [
    "features_rank.nlargest(27,'score')"
   ]
  },
  {
   "cell_type": "code",
   "execution_count": 78,
   "id": "26eeb6fc",
   "metadata": {},
   "outputs": [],
   "source": [
    "col_to_drop=[\"query on thyroxine\",\"on antithyroid medication\",\"I131 treatment\",\"lithium\",\"goitre\",\"hypopituitary\",\"TSH measured\",\"T3 measured\",\"TT4 measured\",\"T4U measured\",\"T4U\",\"FTI measured\",\"referral source\"]"
   ]
  },
  {
   "cell_type": "code",
   "execution_count": 79,
   "id": "1b4da9cc",
   "metadata": {},
   "outputs": [],
   "source": [
    "x_train=x_train.drop(col_to_drop,axis=1)\n",
    "x_test=x_test.drop(col_to_drop,axis=1)"
   ]
  },
  {
   "cell_type": "code",
   "execution_count": 80,
   "id": "6a9739ac",
   "metadata": {},
   "outputs": [
    {
     "data": {
      "text/html": [
       "<div>\n",
       "<style scoped>\n",
       "    .dataframe tbody tr th:only-of-type {\n",
       "        vertical-align: middle;\n",
       "    }\n",
       "\n",
       "    .dataframe tbody tr th {\n",
       "        vertical-align: top;\n",
       "    }\n",
       "\n",
       "    .dataframe thead th {\n",
       "        text-align: right;\n",
       "    }\n",
       "</style>\n",
       "<table border=\"1\" class=\"dataframe\">\n",
       "  <thead>\n",
       "    <tr style=\"text-align: right;\">\n",
       "      <th></th>\n",
       "      <th>age</th>\n",
       "      <th>sex</th>\n",
       "      <th>on thyroxine</th>\n",
       "      <th>sick</th>\n",
       "      <th>pregnant</th>\n",
       "      <th>thyroid surgery</th>\n",
       "      <th>query hypothyroid</th>\n",
       "      <th>query hyperthyroid</th>\n",
       "      <th>tumor</th>\n",
       "      <th>psych</th>\n",
       "      <th>TSH</th>\n",
       "      <th>T3</th>\n",
       "      <th>TT4</th>\n",
       "      <th>FTI</th>\n",
       "    </tr>\n",
       "  </thead>\n",
       "  <tbody>\n",
       "    <tr>\n",
       "      <th>3424</th>\n",
       "      <td>41.0</td>\n",
       "      <td>0</td>\n",
       "      <td>0</td>\n",
       "      <td>0</td>\n",
       "      <td>0</td>\n",
       "      <td>0</td>\n",
       "      <td>0</td>\n",
       "      <td>0</td>\n",
       "      <td>0</td>\n",
       "      <td>0</td>\n",
       "      <td>0.030</td>\n",
       "      <td>2.1</td>\n",
       "      <td>187.0</td>\n",
       "      <td>210.0</td>\n",
       "    </tr>\n",
       "    <tr>\n",
       "      <th>463</th>\n",
       "      <td>73.0</td>\n",
       "      <td>0</td>\n",
       "      <td>0</td>\n",
       "      <td>0</td>\n",
       "      <td>0</td>\n",
       "      <td>0</td>\n",
       "      <td>0</td>\n",
       "      <td>0</td>\n",
       "      <td>1</td>\n",
       "      <td>0</td>\n",
       "      <td>0.005</td>\n",
       "      <td>3.6</td>\n",
       "      <td>119.0</td>\n",
       "      <td>133.0</td>\n",
       "    </tr>\n",
       "    <tr>\n",
       "      <th>1722</th>\n",
       "      <td>35.0</td>\n",
       "      <td>0</td>\n",
       "      <td>0</td>\n",
       "      <td>0</td>\n",
       "      <td>0</td>\n",
       "      <td>0</td>\n",
       "      <td>0</td>\n",
       "      <td>0</td>\n",
       "      <td>0</td>\n",
       "      <td>0</td>\n",
       "      <td>0.150</td>\n",
       "      <td>5.1</td>\n",
       "      <td>167.0</td>\n",
       "      <td>168.0</td>\n",
       "    </tr>\n",
       "    <tr>\n",
       "      <th>6155</th>\n",
       "      <td>71.0</td>\n",
       "      <td>1</td>\n",
       "      <td>0</td>\n",
       "      <td>0</td>\n",
       "      <td>0</td>\n",
       "      <td>0</td>\n",
       "      <td>0</td>\n",
       "      <td>0</td>\n",
       "      <td>0</td>\n",
       "      <td>0</td>\n",
       "      <td>8.000</td>\n",
       "      <td>1.9</td>\n",
       "      <td>66.0</td>\n",
       "      <td>100.0</td>\n",
       "    </tr>\n",
       "    <tr>\n",
       "      <th>6030</th>\n",
       "      <td>68.0</td>\n",
       "      <td>0</td>\n",
       "      <td>0</td>\n",
       "      <td>0</td>\n",
       "      <td>0</td>\n",
       "      <td>0</td>\n",
       "      <td>1</td>\n",
       "      <td>0</td>\n",
       "      <td>0</td>\n",
       "      <td>0</td>\n",
       "      <td>12.000</td>\n",
       "      <td>1.4</td>\n",
       "      <td>111.0</td>\n",
       "      <td>93.0</td>\n",
       "    </tr>\n",
       "  </tbody>\n",
       "</table>\n",
       "</div>"
      ],
      "text/plain": [
       "       age  sex  on thyroxine  sick  pregnant  thyroid surgery  \\\n",
       "3424  41.0    0             0     0         0                0   \n",
       "463   73.0    0             0     0         0                0   \n",
       "1722  35.0    0             0     0         0                0   \n",
       "6155  71.0    1             0     0         0                0   \n",
       "6030  68.0    0             0     0         0                0   \n",
       "\n",
       "      query hypothyroid  query hyperthyroid  tumor  psych     TSH   T3    TT4  \\\n",
       "3424                  0                   0      0      0   0.030  2.1  187.0   \n",
       "463                   0                   0      1      0   0.005  3.6  119.0   \n",
       "1722                  0                   0      0      0   0.150  5.1  167.0   \n",
       "6155                  0                   0      0      0   8.000  1.9   66.0   \n",
       "6030                  1                   0      0      0  12.000  1.4  111.0   \n",
       "\n",
       "        FTI  \n",
       "3424  210.0  \n",
       "463   133.0  \n",
       "1722  168.0  \n",
       "6155  100.0  \n",
       "6030   93.0  "
      ]
     },
     "execution_count": 80,
     "metadata": {},
     "output_type": "execute_result"
    }
   ],
   "source": [
    "x_train.head()"
   ]
  },
  {
   "cell_type": "code",
   "execution_count": 81,
   "id": "4af66fa5",
   "metadata": {},
   "outputs": [
    {
     "data": {
      "text/plain": [
       "((7708, 14), (3304, 14))"
      ]
     },
     "execution_count": 81,
     "metadata": {},
     "output_type": "execute_result"
    }
   ],
   "source": [
    "x_train.shape,x_test.shape"
   ]
  },
  {
   "cell_type": "markdown",
   "id": "5ed9e45d",
   "metadata": {},
   "source": [
    "# Decision tree Classifer"
   ]
  },
  {
   "cell_type": "code",
   "execution_count": 82,
   "id": "e08b3a07",
   "metadata": {},
   "outputs": [
    {
     "data": {
      "text/plain": [
       "0.8976997578692494"
      ]
     },
     "execution_count": 82,
     "metadata": {},
     "output_type": "execute_result"
    }
   ],
   "source": [
    "from sklearn import tree\n",
    "dt = tree.DecisionTreeClassifier(max_depth=5)\n",
    "dt.fit(x_train,y_train)\n",
    "dt.score(x_test,y_test)\n",
    "y_pred=dt.predict(x_test)\n",
    "dt.score(x_test,y_test)"
   ]
  },
  {
   "cell_type": "code",
   "execution_count": 83,
   "id": "4ecbc455",
   "metadata": {},
   "outputs": [
    {
     "data": {
      "text/plain": [
       "array([[844,   0,   0,  17],\n",
       "       [  0, 735,   6,  85],\n",
       "       [ 46,  58, 632,  60],\n",
       "       [ 66,   0,   0, 755]], dtype=int64)"
      ]
     },
     "execution_count": 83,
     "metadata": {},
     "output_type": "execute_result"
    }
   ],
   "source": [
    "y_pred=dt.predict(x_test)\n",
    "from sklearn.metrics import confusion_matrix\n",
    "confusion_matrix(y_test,y_pred)"
   ]
  },
  {
   "cell_type": "code",
   "execution_count": 84,
   "id": "7c939a46",
   "metadata": {},
   "outputs": [
    {
     "data": {
      "image/png": "[encoded data removed]",
      "text/plain": [
       "<Figure size 432x288 with 2 Axes>"
      ]
     },
     "metadata": {
      "needs_background": "light"
     },
     "output_type": "display_data"
    }
   ],
   "source": [
    "from sklearn.metrics import plot_confusion_matrix\n",
    "matrix = plot_confusion_matrix(dt,x_test,y_test,cmap=plt.cm.Reds)\n",
    "matrix.ax_.set_title('confusion Matrix', color='white')\n",
    "plt.xlabel('Predicted Label', color='white')\n",
    "plt.ylabel('True Label', color='white')\n",
    "plt.show()"
   ]
  },
  {
   "cell_type": "code",
   "execution_count": 85,
   "id": "1b6e7ab7",
   "metadata": {},
   "outputs": [
    {
     "name": "stdout",
     "output_type": "stream",
     "text": [
      "              precision    recall  f1-score   support\n",
      "\n",
      "           0       0.88      0.98      0.93       861\n",
      "           1       0.93      0.89      0.91       826\n",
      "           2       0.99      0.79      0.88       796\n",
      "           3       0.82      0.92      0.87       821\n",
      "\n",
      "    accuracy                           0.90      3304\n",
      "   macro avg       0.91      0.90      0.90      3304\n",
      "weighted avg       0.91      0.90      0.90      3304\n",
      "\n"
     ]
    }
   ],
   "source": [
    "from sklearn.metrics import classification_report\n",
    "print(classification_report(y_test,y_pred))"
   ]
  },
  {
   "cell_type": "markdown",
   "id": "d54440e0",
   "metadata": {},
   "source": [
    "# Random Forest Classifer"
   ]
  },
  {
   "cell_type": "code",
   "execution_count": 86,
   "id": "d923d3a0",
   "metadata": {},
   "outputs": [
    {
     "data": {
      "text/plain": [
       "0.9125302663438256"
      ]
     },
     "execution_count": 86,
     "metadata": {},
     "output_type": "execute_result"
    }
   ],
   "source": [
    "from sklearn import ensemble\n",
    "rf = ensemble.RandomForestClassifier(n_estimators=100)\n",
    "rf.fit(x_train,y_train)\n",
    "rf.score(x_test,y_test)"
   ]
  },
  {
   "cell_type": "code",
   "execution_count": 87,
   "id": "b7637e99",
   "metadata": {},
   "outputs": [
    {
     "data": {
      "text/plain": [
       "array([[861,   0,   0,   0],\n",
       "       [  0, 768,   0,  58],\n",
       "       [ 24,  63, 653,  56],\n",
       "       [ 66,  22,   0, 733]], dtype=int64)"
      ]
     },
     "execution_count": 87,
     "metadata": {},
     "output_type": "execute_result"
    }
   ],
   "source": [
    "y_pred=rf.predict(x_test)\n",
    "confusion_matrix(y_test,y_pred)"
   ]
  },
  {
   "cell_type": "code",
   "execution_count": 88,
   "id": "3ea1243a",
   "metadata": {
    "scrolled": true
   },
   "outputs": [
    {
     "data": {
      "image/png": "[encoded data removed]",
      "text/plain": [
       "<Figure size 432x288 with 2 Axes>"
      ]
     },
     "metadata": {
      "needs_background": "light"
     },
     "output_type": "display_data"
    }
   ],
   "source": [
    "matrix = plot_confusion_matrix(rf,x_test,y_test,cmap=plt.cm.Reds)\n",
    "matrix.ax_.set_title('confusion Matrix', color='white')\n",
    "plt.xlabel('Predicted Label', color='white')\n",
    "plt.ylabel('True Label', color='white')\n",
    "plt.show()"
   ]
  },
  {
   "cell_type": "code",
   "execution_count": 89,
   "id": "7bdf9783",
   "metadata": {},
   "outputs": [
    {
     "name": "stdout",
     "output_type": "stream",
     "text": [
      "              precision    recall  f1-score   support\n",
      "\n",
      "           0       0.91      1.00      0.95       861\n",
      "           1       0.90      0.93      0.91       826\n",
      "           2       1.00      0.82      0.90       796\n",
      "           3       0.87      0.89      0.88       821\n",
      "\n",
      "    accuracy                           0.91      3304\n",
      "   macro avg       0.92      0.91      0.91      3304\n",
      "weighted avg       0.92      0.91      0.91      3304\n",
      "\n"
     ]
    }
   ],
   "source": [
    "print(classification_report(y_test,y_pred))"
   ]
  },
  {
   "cell_type": "markdown",
   "id": "c2cd9868",
   "metadata": {},
   "source": [
    "# Gradient Boosting Classifier"
   ]
  },
  {
   "cell_type": "code",
   "execution_count": 90,
   "id": "03aa8538",
   "metadata": {},
   "outputs": [
    {
     "data": {
      "text/plain": [
       "0.8995157384987893"
      ]
     },
     "execution_count": 90,
     "metadata": {},
     "output_type": "execute_result"
    }
   ],
   "source": [
    "from sklearn.ensemble import GradientBoostingClassifier\n",
    "gb = GradientBoostingClassifier(n_estimators=10)\n",
    "gb.fit(x_train,y_train)\n",
    "gb.score(x_test,y_test)"
   ]
  },
  {
   "cell_type": "code",
   "execution_count": 91,
   "id": "ab99cf68",
   "metadata": {},
   "outputs": [
    {
     "data": {
      "text/plain": [
       "array([[861,   0,   0,   0],\n",
       "       [  0, 749,  11,  66],\n",
       "       [ 41,  66, 634,  55],\n",
       "       [ 66,  25,   2, 728]], dtype=int64)"
      ]
     },
     "execution_count": 91,
     "metadata": {},
     "output_type": "execute_result"
    }
   ],
   "source": [
    "y_pred=gb.predict(x_test)\n",
    "confusion_matrix(y_test,y_pred)"
   ]
  },
  {
   "cell_type": "code",
   "execution_count": 92,
   "id": "9bece977",
   "metadata": {},
   "outputs": [
    {
     "data": {
      "image/png": "[encoded data removed]",
      "text/plain": [
       "<Figure size 432x288 with 2 Axes>"
      ]
     },
     "metadata": {
      "needs_background": "light"
     },
     "output_type": "display_data"
    }
   ],
   "source": [
    "matrix = plot_confusion_matrix(gb,x_test,y_test,cmap=plt.cm.Reds)\n",
    "matrix.ax_.set_title('confusion Matrix', color='white')\n",
    "plt.xlabel('Predicted Label', color='white')\n",
    "plt.ylabel('True Label', color='white')\n",
    "plt.show()"
   ]
  },
  {
   "cell_type": "code",
   "execution_count": 93,
   "id": "61e29637",
   "metadata": {},
   "outputs": [
    {
     "name": "stdout",
     "output_type": "stream",
     "text": [
      "              precision    recall  f1-score   support\n",
      "\n",
      "           0       0.89      1.00      0.94       861\n",
      "           1       0.89      0.91      0.90       826\n",
      "           2       0.98      0.80      0.88       796\n",
      "           3       0.86      0.89      0.87       821\n",
      "\n",
      "    accuracy                           0.90      3304\n",
      "   macro avg       0.90      0.90      0.90      3304\n",
      "weighted avg       0.90      0.90      0.90      3304\n",
      "\n"
     ]
    }
   ],
   "source": [
    "print(classification_report(y_test,y_pred))"
   ]
  },
  {
   "cell_type": "markdown",
   "id": "2d823648",
   "metadata": {},
   "source": [
    "# Naive Bayes"
   ]
  },
  {
   "cell_type": "code",
   "execution_count": 94,
   "id": "1e5284ff",
   "metadata": {},
   "outputs": [
    {
     "data": {
      "text/plain": [
       "0.573547215496368"
      ]
     },
     "execution_count": 94,
     "metadata": {},
     "output_type": "execute_result"
    }
   ],
   "source": [
    "from sklearn.naive_bayes import GaussianNB\n",
    "nb_clf= GaussianNB()\n",
    "nb_clf.fit(x_train,y_train)\n",
    "nb_clf.score(x_test,y_test)"
   ]
  },
  {
   "cell_type": "code",
   "execution_count": 95,
   "id": "db990aef",
   "metadata": {},
   "outputs": [
    {
     "data": {
      "text/plain": [
       "array([[838,  11,   0,  12],\n",
       "       [  0, 255,  41, 530],\n",
       "       [182,  34,  76, 504],\n",
       "       [ 76,   9,  10, 726]], dtype=int64)"
      ]
     },
     "execution_count": 95,
     "metadata": {},
     "output_type": "execute_result"
    }
   ],
   "source": [
    "y_pred=nb_clf.predict(x_test)\n",
    "confusion_matrix(y_test,y_pred)"
   ]
  },
  {
   "cell_type": "code",
   "execution_count": 96,
   "id": "56ceab56",
   "metadata": {},
   "outputs": [
    {
     "data": {
      "image/png": "[encoded data removed]",
      "text/plain": [
       "<Figure size 432x288 with 2 Axes>"
      ]
     },
     "metadata": {
      "needs_background": "light"
     },
     "output_type": "display_data"
    }
   ],
   "source": [
    "matrix = plot_confusion_matrix(nb_clf,x_test,y_test,cmap=plt.cm.Reds)\n",
    "matrix.ax_.set_title('confusion Matrix', color='white')\n",
    "plt.xlabel('Predicted Label', color='white')\n",
    "plt.ylabel('True Label', color='white')\n",
    "plt.show()"
   ]
  },
  {
   "cell_type": "code",
   "execution_count": 97,
   "id": "ba8fc103",
   "metadata": {},
   "outputs": [
    {
     "name": "stdout",
     "output_type": "stream",
     "text": [
      "              precision    recall  f1-score   support\n",
      "\n",
      "           0       0.76      0.97      0.86       861\n",
      "           1       0.83      0.31      0.45       826\n",
      "           2       0.60      0.10      0.16       796\n",
      "           3       0.41      0.88      0.56       821\n",
      "\n",
      "    accuracy                           0.57      3304\n",
      "   macro avg       0.65      0.57      0.51      3304\n",
      "weighted avg       0.65      0.57      0.51      3304\n",
      "\n"
     ]
    }
   ],
   "source": [
    "print(classification_report(y_test,y_pred))"
   ]
  },
  {
   "cell_type": "markdown",
   "id": "cb0757db",
   "metadata": {},
   "source": [
    "# K-Nearest Neighbor"
   ]
  },
  {
   "cell_type": "code",
   "execution_count": 98,
   "id": "0bc0aea6",
   "metadata": {},
   "outputs": [
    {
     "data": {
      "text/plain": [
       "0.8465496368038741"
      ]
     },
     "execution_count": 98,
     "metadata": {},
     "output_type": "execute_result"
    }
   ],
   "source": [
    "from sklearn.neighbors import KNeighborsClassifier\n",
    "knn = KNeighborsClassifier(n_neighbors=1)\n",
    "knn.fit(x_train,y_train)\n",
    "knn.score(x_test,y_test)"
   ]
  },
  {
   "cell_type": "code",
   "execution_count": 99,
   "id": "339e3f58",
   "metadata": {},
   "outputs": [
    {
     "data": {
      "text/plain": [
       "array([[791,   0,  12,  58],\n",
       "       [  0, 737,  64,  25],\n",
       "       [ 26,  73, 621,  76],\n",
       "       [ 38,  81,  54, 648]], dtype=int64)"
      ]
     },
     "execution_count": 99,
     "metadata": {},
     "output_type": "execute_result"
    }
   ],
   "source": [
    "y_pred=knn.predict(x_test)\n",
    "confusion_matrix(y_test,y_pred)"
   ]
  },
  {
   "cell_type": "code",
   "execution_count": 100,
   "id": "147d2197",
   "metadata": {},
   "outputs": [
    {
     "data": {
      "image/png": "[encoded data removed]",
      "text/plain": [
       "<Figure size 432x288 with 2 Axes>"
      ]
     },
     "metadata": {
      "needs_background": "light"
     },
     "output_type": "display_data"
    }
   ],
   "source": [
    "matrix = plot_confusion_matrix(knn,x_test,y_test,cmap=plt.cm.Reds)\n",
    "matrix.ax_.set_title('confusion Matrix', color='white')\n",
    "plt.xlabel('Predicted Label', color='white')\n",
    "plt.ylabel('True Label', color='white')\n",
    "plt.show()"
   ]
  },
  {
   "cell_type": "code",
   "execution_count": 101,
   "id": "04a16f50",
   "metadata": {},
   "outputs": [
    {
     "name": "stdout",
     "output_type": "stream",
     "text": [
      "              precision    recall  f1-score   support\n",
      "\n",
      "           0       0.93      0.92      0.92       861\n",
      "           1       0.83      0.89      0.86       826\n",
      "           2       0.83      0.78      0.80       796\n",
      "           3       0.80      0.79      0.80       821\n",
      "\n",
      "    accuracy                           0.85      3304\n",
      "   macro avg       0.85      0.85      0.84      3304\n",
      "weighted avg       0.85      0.85      0.85      3304\n",
      "\n"
     ]
    }
   ],
   "source": [
    "print(classification_report(y_test,y_pred))"
   ]
  },
  {
   "cell_type": "markdown",
   "id": "7f387a3a",
   "metadata": {},
   "source": [
    "# Logistic Regression"
   ]
  },
  {
   "cell_type": "code",
   "execution_count": 102,
   "id": "283adae0",
   "metadata": {},
   "outputs": [
    {
     "data": {
      "text/plain": [
       "0.7269975786924939"
      ]
     },
     "execution_count": 102,
     "metadata": {},
     "output_type": "execute_result"
    }
   ],
   "source": [
    "from sklearn.linear_model import LogisticRegression\n",
    "lr= LogisticRegression()\n",
    "lr.fit(x_train,y_train)\n",
    "lr.score(x_test,y_test)"
   ]
  },
  {
   "cell_type": "code",
   "execution_count": 103,
   "id": "3be942d4",
   "metadata": {},
   "outputs": [
    {
     "data": {
      "text/plain": [
       "array([[791,   0,  12,  58],\n",
       "       [  0, 737,  64,  25],\n",
       "       [ 26,  73, 621,  76],\n",
       "       [ 38,  81,  54, 648]], dtype=int64)"
      ]
     },
     "execution_count": 103,
     "metadata": {},
     "output_type": "execute_result"
    }
   ],
   "source": [
    "y_pred_lr=lr.predict(x_test)\n",
    "confusion_matrix(y_test,y_pred)"
   ]
  },
  {
   "cell_type": "code",
   "execution_count": 104,
   "id": "ae17f3eb",
   "metadata": {},
   "outputs": [
    {
     "data": {
      "image/png": "[encoded data removed]",
      "text/plain": [
       "<Figure size 432x288 with 2 Axes>"
      ]
     },
     "metadata": {
      "needs_background": "light"
     },
     "output_type": "display_data"
    }
   ],
   "source": [
    "matrix = plot_confusion_matrix(lr,x_test,y_test,cmap=plt.cm.Reds)\n",
    "matrix.ax_.set_title('confusion Matrix', color='white')\n",
    "plt.xlabel('Predicted Label', color='white')\n",
    "plt.ylabel('True Label', color='white')\n",
    "plt.show()"
   ]
  },
  {
   "cell_type": "code",
   "execution_count": 105,
   "id": "90a40525",
   "metadata": {},
   "outputs": [
    {
     "name": "stdout",
     "output_type": "stream",
     "text": [
      "              precision    recall  f1-score   support\n",
      "\n",
      "           0       0.93      0.92      0.92       861\n",
      "           1       0.83      0.89      0.86       826\n",
      "           2       0.83      0.78      0.80       796\n",
      "           3       0.80      0.79      0.80       821\n",
      "\n",
      "    accuracy                           0.85      3304\n",
      "   macro avg       0.85      0.85      0.84      3304\n",
      "weighted avg       0.85      0.85      0.85      3304\n",
      "\n"
     ]
    }
   ],
   "source": [
    "print(classification_report(y_test,y_pred))"
   ]
  },
  {
   "cell_type": "markdown",
   "id": "fd02c6d3",
   "metadata": {},
   "source": [
    "# Support Vector Machine"
   ]
  },
  {
   "cell_type": "code",
   "execution_count": 106,
   "id": "5917a954",
   "metadata": {},
   "outputs": [
    {
     "data": {
      "text/plain": [
       "0.7339588377723971"
      ]
     },
     "execution_count": 106,
     "metadata": {},
     "output_type": "execute_result"
    }
   ],
   "source": [
    "from sklearn.svm import SVC\n",
    "sv= SVC(probability=True)\n",
    "sv.fit(x_train,y_train)\n",
    "sv.score(x_test,y_test)"
   ]
  },
  {
   "cell_type": "code",
   "execution_count": 107,
   "id": "00c32e3a",
   "metadata": {},
   "outputs": [
    {
     "data": {
      "text/plain": [
       "array([[674,   0, 156,  31],\n",
       "       [  3, 691,  45,  87],\n",
       "       [ 59,  62, 494, 181],\n",
       "       [ 66,  69, 120, 566]], dtype=int64)"
      ]
     },
     "execution_count": 107,
     "metadata": {},
     "output_type": "execute_result"
    }
   ],
   "source": [
    "y_pred=sv.predict(x_test)\n",
    "confusion_matrix(y_test,y_pred)"
   ]
  },
  {
   "cell_type": "code",
   "execution_count": 108,
   "id": "0cb7a9a8",
   "metadata": {},
   "outputs": [
    {
     "data": {
      "image/png": "[encoded data removed]",
      "text/plain": [
       "<Figure size 432x288 with 2 Axes>"
      ]
     },
     "metadata": {
      "needs_background": "light"
     },
     "output_type": "display_data"
    }
   ],
   "source": [
    "matrix = plot_confusion_matrix(sv,x_test,y_test,cmap=plt.cm.Reds)\n",
    "matrix.ax_.set_title('confusion Matrix', color='white')\n",
    "plt.xlabel('Predicted Label', color='white')\n",
    "plt.ylabel('True Label', color='white')\n",
    "plt.show()"
   ]
  },
  {
   "cell_type": "code",
   "execution_count": 109,
   "id": "5a8fed17",
   "metadata": {},
   "outputs": [
    {
     "name": "stdout",
     "output_type": "stream",
     "text": [
      "              precision    recall  f1-score   support\n",
      "\n",
      "           0       0.84      0.78      0.81       861\n",
      "           1       0.84      0.84      0.84       826\n",
      "           2       0.61      0.62      0.61       796\n",
      "           3       0.65      0.69      0.67       821\n",
      "\n",
      "    accuracy                           0.73      3304\n",
      "   macro avg       0.74      0.73      0.73      3304\n",
      "weighted avg       0.74      0.73      0.74      3304\n",
      "\n"
     ]
    }
   ],
   "source": [
    "print(classification_report(y_test,y_pred))"
   ]
  },
  {
   "cell_type": "markdown",
   "id": "120d8c3a",
   "metadata": {},
   "source": [
    "# Prediction Probabilities"
   ]
  },
  {
   "cell_type": "code",
   "execution_count": 110,
   "id": "74f1675a",
   "metadata": {},
   "outputs": [],
   "source": [
    "r_probs=[0 for _ in range(len(y_test))]\n",
    "dt_probs=dt.predict_proba(x_test)\n",
    "rf_probs=rf.predict_proba(x_test)\n",
    "gb_probs=gb.predict_proba(x_test)\n",
    "nb_probs=nb_clf.predict_proba(x_test)\n",
    "knn_probs=knn.predict_proba(x_test)\n",
    "lr_probs=lr.predict_proba(x_test)\n",
    "sv_probs=sv.predict_proba(x_test)"
   ]
  },
  {
   "cell_type": "code",
   "execution_count": 111,
   "id": "1b71d184",
   "metadata": {},
   "outputs": [],
   "source": [
    "dt_probs=dt_probs[:,1]\n",
    "rf_probs=rf_probs[:,1]\n",
    "gb_probs=gb_probs[:,1]\n",
    "nb_probs=nb_probs[:,1]\n",
    "knn_probs=knn_probs[:,1]\n",
    "lr_probs=lr_probs[:,1]\n",
    "sv_probs=sv_probs[:,1]"
   ]
  },
  {
   "cell_type": "code",
   "execution_count": 112,
   "id": "ea40b891",
   "metadata": {},
   "outputs": [
    {
     "ename": "NameError",
     "evalue": "name 'model1' is not defined",
     "output_type": "error",
     "traceback": [
      "\u001b[1;31m---------------------------------------------------------------------------\u001b[0m",
      "\u001b[1;31mNameError\u001b[0m                                 Traceback (most recent call last)",
      "Input \u001b[1;32mIn [112]\u001b[0m, in \u001b[0;36m<module>\u001b[1;34m\u001b[0m\n\u001b[1;32m----> 1\u001b[0m pred_prob1 \u001b[38;5;241m=\u001b[39m \u001b[43mmodel1\u001b[49m\u001b[38;5;241m.\u001b[39mpredict_proba(X_test)\n\u001b[0;32m      2\u001b[0m pred_prob2 \u001b[38;5;241m=\u001b[39m model2\u001b[38;5;241m.\u001b[39mpredict_proba(X_test)\n\u001b[0;32m      3\u001b[0m \u001b[38;5;28mprint\u001b[39m(\u001b[38;5;124m\"\u001b[39m\u001b[38;5;124mPrediction Probabilities for Logistic Regression\u001b[39m\u001b[38;5;124m\"\u001b[39m) \n",
      "\u001b[1;31mNameError\u001b[0m: name 'model1' is not defined"
     ]
    }
   ],
   "source": [
    "pred_prob1 = model1.predict_proba(X_test)\n",
    "pred_prob2 = model2.predict_proba(X_test)\n",
    "print(\"Prediction Probabilities for Logistic Regression\") \n",
    "print(pred_prob1)\n",
    "input(\"Waiting....\")\n",
    "print(\"Prediction Probabilities for KNN\") \n",
    "print(pred_prob2)\n",
    "input(\"Waiting....\")"
   ]
  },
  {
   "cell_type": "code",
   "execution_count": null,
   "id": "a5b901e1",
   "metadata": {},
   "outputs": [],
   "source": [
    "random_probs = [0 for i in range(len(y_test))]\n",
    "p_fpr, p_tpr, thresh = roc_curve(y_test, random_probs, pos_label=1)"
   ]
  },
  {
   "cell_type": "code",
   "execution_count": null,
   "id": "6c9db12b",
   "metadata": {},
   "outputs": [],
   "source": [
    "#fpr, tpr on different threshold value for our models\n",
    "from sklearn.metrics import roc_curve\n",
    "fpr1, tpr1, thresh1 = roc_curve(y_test, dt_probs[:,1], pos_label=1)\n",
    "fpr2, tpr2, thresh2 = roc_curve(y_test, rf_probs[:,1], pos_label=1)\n",
    "print(\"FPR1 : \",fpr1,\" TPR1 : \",tpr1,\" Threshold 1 : \",thresh1)\n",
    "print(\"FPR2 : \",fpr2,\" TPR2 : \",tpr2,\" Threshold 2 : \",thresh2)\n",
    "print(\"FPR Random : \",p_fpr,\" TPR Random : \",p_tpr,\" Threshold  : \",thresh)"
   ]
  },
  {
   "cell_type": "code",
   "execution_count": null,
   "id": "2087a925",
   "metadata": {},
   "outputs": [],
   "source": [
    "from sklearn.metrics import roc_curve, roc_auc_score\n",
    "r_auc = roc_auc_score(y_test, r_probs,multi_class=\"ovr\",average=None)\n",
    "dt_auc = roc_auc_score(y_test, dt_probs,multi_class=\"ovr\",average=None)"
   ]
  }
 ],
 "metadata": {
  "kernelspec": {
   "display_name": "Python 3 (ipykernel)",
   "language": "python",
   "name": "python3"
  },
  "language_info": {
   "codemirror_mode": {
    "name": "ipython",
    "version": 3
   },
   "file_extension": ".py",
   "mimetype": "text/x-python",
   "name": "python",
   "nbconvert_exporter": "python",
   "pygments_lexer": "ipython3",
   "version": "3.10.0"
  }
 },
 "nbformat": 4,
 "nbformat_minor": 5
}
